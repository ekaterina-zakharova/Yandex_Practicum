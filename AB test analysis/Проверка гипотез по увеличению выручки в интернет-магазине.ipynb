{
 "cells": [
  {
   "cell_type": "markdown",
   "metadata": {},
   "source": [
    "# Проектная работа: Принятие решений в бизнесе"
   ]
  },
  {
   "cell_type": "markdown",
   "metadata": {},
   "source": [
    "Перед нами поставлена задача увеличить выручку интернет-магазина. Совместно с отделом маркетинга был подготовлен список гипотез для увеличения выручки.\n",
    "Необходимо приоритизировать гипотезы, запуститить A/B-тест и проанализировать результаты.\n"
   ]
  },
  {
   "cell_type": "markdown",
   "metadata": {},
   "source": [
    "##  Часть 1. Приоритизация гипотез."
   ]
  },
  {
   "cell_type": "markdown",
   "metadata": {},
   "source": [
    "Загрузим данные о 9 гипотезах по увеличению выручки интернет-магазина с указанными параметрами Reach, Impact, Confidence, Effort. "
   ]
  },
  {
   "cell_type": "code",
   "execution_count": 1,
   "metadata": {},
   "outputs": [],
   "source": [
    "# Импортируем все необходимые библиотеки:\n",
    "\n",
    "import pandas as pd\n",
    "import numpy as np\n",
    "import datetime as dt\n",
    "from matplotlib import pyplot as plt\n",
    "import scipy.stats as stats"
   ]
  },
  {
   "cell_type": "code",
   "execution_count": 2,
   "metadata": {},
   "outputs": [
    {
     "data": {
      "text/html": [
       "<div>\n",
       "<style scoped>\n",
       "    .dataframe tbody tr th:only-of-type {\n",
       "        vertical-align: middle;\n",
       "    }\n",
       "\n",
       "    .dataframe tbody tr th {\n",
       "        vertical-align: top;\n",
       "    }\n",
       "\n",
       "    .dataframe thead th {\n",
       "        text-align: right;\n",
       "    }\n",
       "</style>\n",
       "<table border=\"1\" class=\"dataframe\">\n",
       "  <thead>\n",
       "    <tr style=\"text-align: right;\">\n",
       "      <th></th>\n",
       "      <th>Hypothesis</th>\n",
       "      <th>Reach</th>\n",
       "      <th>Impact</th>\n",
       "      <th>Confidence</th>\n",
       "      <th>Efforts</th>\n",
       "    </tr>\n",
       "  </thead>\n",
       "  <tbody>\n",
       "    <tr>\n",
       "      <th>0</th>\n",
       "      <td>Добавить два новых канала привлечения трафика, что позволит привлекать на 30% больше пользователей</td>\n",
       "      <td>3</td>\n",
       "      <td>10</td>\n",
       "      <td>8</td>\n",
       "      <td>6</td>\n",
       "    </tr>\n",
       "    <tr>\n",
       "      <th>1</th>\n",
       "      <td>Запустить собственную службу доставки, что сократит срок доставки заказов</td>\n",
       "      <td>2</td>\n",
       "      <td>5</td>\n",
       "      <td>4</td>\n",
       "      <td>10</td>\n",
       "    </tr>\n",
       "    <tr>\n",
       "      <th>2</th>\n",
       "      <td>Добавить блоки рекомендаций товаров на сайт интернет магазина, чтобы повысить конверсию и средний чек заказа</td>\n",
       "      <td>8</td>\n",
       "      <td>3</td>\n",
       "      <td>7</td>\n",
       "      <td>3</td>\n",
       "    </tr>\n",
       "    <tr>\n",
       "      <th>3</th>\n",
       "      <td>Изменить структура категорий, что увеличит конверсию, т.к. пользователи быстрее найдут нужный товар</td>\n",
       "      <td>8</td>\n",
       "      <td>3</td>\n",
       "      <td>3</td>\n",
       "      <td>8</td>\n",
       "    </tr>\n",
       "    <tr>\n",
       "      <th>4</th>\n",
       "      <td>Изменить цвет фона главной страницы, чтобы увеличить вовлеченность пользователей</td>\n",
       "      <td>3</td>\n",
       "      <td>1</td>\n",
       "      <td>1</td>\n",
       "      <td>1</td>\n",
       "    </tr>\n",
       "    <tr>\n",
       "      <th>5</th>\n",
       "      <td>Добавить страницу отзывов клиентов о магазине, что позволит увеличить количество заказов</td>\n",
       "      <td>3</td>\n",
       "      <td>2</td>\n",
       "      <td>2</td>\n",
       "      <td>3</td>\n",
       "    </tr>\n",
       "    <tr>\n",
       "      <th>6</th>\n",
       "      <td>Показать на главной странице баннеры с актуальными акциями и распродажами, чтобы увеличить конверсию</td>\n",
       "      <td>5</td>\n",
       "      <td>3</td>\n",
       "      <td>8</td>\n",
       "      <td>3</td>\n",
       "    </tr>\n",
       "    <tr>\n",
       "      <th>7</th>\n",
       "      <td>Добавить форму подписки на все основные страницы, чтобы собрать базу клиентов для email-рассылок</td>\n",
       "      <td>10</td>\n",
       "      <td>7</td>\n",
       "      <td>8</td>\n",
       "      <td>5</td>\n",
       "    </tr>\n",
       "    <tr>\n",
       "      <th>8</th>\n",
       "      <td>Запустить акцию, дающую скидку на товар в день рождения</td>\n",
       "      <td>1</td>\n",
       "      <td>9</td>\n",
       "      <td>9</td>\n",
       "      <td>5</td>\n",
       "    </tr>\n",
       "  </tbody>\n",
       "</table>\n",
       "</div>"
      ],
      "text/plain": [
       "                                                                                                     Hypothesis  \\\n",
       "0  Добавить два новых канала привлечения трафика, что позволит привлекать на 30% больше пользователей             \n",
       "1  Запустить собственную службу доставки, что сократит срок доставки заказов                                      \n",
       "2  Добавить блоки рекомендаций товаров на сайт интернет магазина, чтобы повысить конверсию и средний чек заказа   \n",
       "3  Изменить структура категорий, что увеличит конверсию, т.к. пользователи быстрее найдут нужный товар            \n",
       "4  Изменить цвет фона главной страницы, чтобы увеличить вовлеченность пользователей                               \n",
       "5  Добавить страницу отзывов клиентов о магазине, что позволит увеличить количество заказов                       \n",
       "6  Показать на главной странице баннеры с актуальными акциями и распродажами, чтобы увеличить конверсию           \n",
       "7  Добавить форму подписки на все основные страницы, чтобы собрать базу клиентов для email-рассылок               \n",
       "8  Запустить акцию, дающую скидку на товар в день рождения                                                        \n",
       "\n",
       "   Reach  Impact  Confidence  Efforts  \n",
       "0   3     10       8           6       \n",
       "1   2      5       4          10       \n",
       "2   8      3       7           3       \n",
       "3   8      3       3           8       \n",
       "4   3      1       1           1       \n",
       "5   3      2       2           3       \n",
       "6   5      3       8           3       \n",
       "7  10      7       8           5       \n",
       "8   1      9       9           5       "
      ]
     },
     "execution_count": 2,
     "metadata": {},
     "output_type": "execute_result"
    }
   ],
   "source": [
    "# Прочитаем данные файла\n",
    "pd.set_option('display.max_colwidth', 3)\n",
    "data = pd.read_csv(r'E:\\Analytics\\hypothesis.csv', sep=',')\n",
    "data"
   ]
  },
  {
   "cell_type": "markdown",
   "metadata": {},
   "source": [
    "В полученном файле видим следующую информацию:\n",
    "\n",
    "•\tHypothesis — краткое описание гипотезы;\n",
    "\n",
    "•\tReach — охват пользователей по 10-балльной шкале;\n",
    "\n",
    "•\tImpact — влияние на пользователей по 10-балльной шкале;\n",
    "\n",
    "•\tConfidence — уверенность в гипотезе по 10-балльной шкале;\n",
    "\n",
    "•\tEfforts — затраты ресурсов на проверку гипотезы по 10-балльной шкале. Чем больше значение Efforts, тем дороже проверка гипотезы.\n"
   ]
  },
  {
   "cell_type": "markdown",
   "metadata": {},
   "source": [
    "Проверка гипотез стоит дорого и ресурсов, как правило, не хватает. Чтобы максимизировать ожидаемое улучшение ключевых метрик бизнеса необходимо приоритизировать сформулированные гипотезы. Для этих целей применим одни из самых популярных методов приоритизации задач:  ICE  и RICE.\n"
   ]
  },
  {
   "cell_type": "markdown",
   "metadata": {},
   "source": [
    "### Применим фреймворк ICE для приоритизации гипотез. Отсортируем их по убыванию приоритета."
   ]
  },
  {
   "cell_type": "code",
   "execution_count": 3,
   "metadata": {},
   "outputs": [
    {
     "data": {
      "text/html": [
       "<div>\n",
       "<style scoped>\n",
       "    .dataframe tbody tr th:only-of-type {\n",
       "        vertical-align: middle;\n",
       "    }\n",
       "\n",
       "    .dataframe tbody tr th {\n",
       "        vertical-align: top;\n",
       "    }\n",
       "\n",
       "    .dataframe thead th {\n",
       "        text-align: right;\n",
       "    }\n",
       "</style>\n",
       "<table border=\"1\" class=\"dataframe\">\n",
       "  <thead>\n",
       "    <tr style=\"text-align: right;\">\n",
       "      <th></th>\n",
       "      <th>Hypothesis</th>\n",
       "      <th>ICE</th>\n",
       "    </tr>\n",
       "  </thead>\n",
       "  <tbody>\n",
       "    <tr>\n",
       "      <th>8</th>\n",
       "      <td>Запустить акцию, дающую скидку на товар в день рождения</td>\n",
       "      <td>16.20</td>\n",
       "    </tr>\n",
       "    <tr>\n",
       "      <th>0</th>\n",
       "      <td>Добавить два новых канала привлечения трафика, что позволит привлекать на 30% больше пользователей</td>\n",
       "      <td>13.33</td>\n",
       "    </tr>\n",
       "    <tr>\n",
       "      <th>7</th>\n",
       "      <td>Добавить форму подписки на все основные страницы, чтобы собрать базу клиентов для email-рассылок</td>\n",
       "      <td>11.20</td>\n",
       "    </tr>\n",
       "    <tr>\n",
       "      <th>6</th>\n",
       "      <td>Показать на главной странице баннеры с актуальными акциями и распродажами, чтобы увеличить конверсию</td>\n",
       "      <td>8.00</td>\n",
       "    </tr>\n",
       "    <tr>\n",
       "      <th>2</th>\n",
       "      <td>Добавить блоки рекомендаций товаров на сайт интернет магазина, чтобы повысить конверсию и средний чек заказа</td>\n",
       "      <td>7.00</td>\n",
       "    </tr>\n",
       "    <tr>\n",
       "      <th>1</th>\n",
       "      <td>Запустить собственную службу доставки, что сократит срок доставки заказов</td>\n",
       "      <td>2.00</td>\n",
       "    </tr>\n",
       "    <tr>\n",
       "      <th>5</th>\n",
       "      <td>Добавить страницу отзывов клиентов о магазине, что позволит увеличить количество заказов</td>\n",
       "      <td>1.33</td>\n",
       "    </tr>\n",
       "    <tr>\n",
       "      <th>3</th>\n",
       "      <td>Изменить структура категорий, что увеличит конверсию, т.к. пользователи быстрее найдут нужный товар</td>\n",
       "      <td>1.12</td>\n",
       "    </tr>\n",
       "    <tr>\n",
       "      <th>4</th>\n",
       "      <td>Изменить цвет фона главной страницы, чтобы увеличить вовлеченность пользователей</td>\n",
       "      <td>1.00</td>\n",
       "    </tr>\n",
       "  </tbody>\n",
       "</table>\n",
       "</div>"
      ],
      "text/plain": [
       "                                                                                                     Hypothesis  \\\n",
       "8  Запустить акцию, дающую скидку на товар в день рождения                                                        \n",
       "0  Добавить два новых канала привлечения трафика, что позволит привлекать на 30% больше пользователей             \n",
       "7  Добавить форму подписки на все основные страницы, чтобы собрать базу клиентов для email-рассылок               \n",
       "6  Показать на главной странице баннеры с актуальными акциями и распродажами, чтобы увеличить конверсию           \n",
       "2  Добавить блоки рекомендаций товаров на сайт интернет магазина, чтобы повысить конверсию и средний чек заказа   \n",
       "1  Запустить собственную службу доставки, что сократит срок доставки заказов                                      \n",
       "5  Добавить страницу отзывов клиентов о магазине, что позволит увеличить количество заказов                       \n",
       "3  Изменить структура категорий, что увеличит конверсию, т.к. пользователи быстрее найдут нужный товар            \n",
       "4  Изменить цвет фона главной страницы, чтобы увеличить вовлеченность пользователей                               \n",
       "\n",
       "     ICE  \n",
       "8  16.20  \n",
       "0  13.33  \n",
       "7  11.20  \n",
       "6  8.00   \n",
       "2  7.00   \n",
       "1  2.00   \n",
       "5  1.33   \n",
       "3  1.12   \n",
       "4  1.00   "
      ]
     },
     "execution_count": 3,
     "metadata": {},
     "output_type": "execute_result"
    }
   ],
   "source": [
    "# Добавим столбец ICE к существующей таблице. Расчет произведем по известной формуле: ICE = Impact x Confidence / Efforts\n",
    "\n",
    "data['ICE'] = round(data['Impact']*data['Confidence']/data['Efforts'],2)\n",
    "data[['Hypothesis', 'ICE']].sort_values('ICE', ascending=False)\n"
   ]
  },
  {
   "cell_type": "markdown",
   "metadata": {},
   "source": [
    "Согласно методу ICE первой следует запустить гипотезу №9 - Акция на скидку в день рождения. Гипотезы 1,8 и 7 также в приоритете."
   ]
  },
  {
   "cell_type": "markdown",
   "metadata": {},
   "source": [
    "### Применим фреймворк RICE для приоритизации гипотез. Отсортируем их по убыванию приоритета."
   ]
  },
  {
   "cell_type": "markdown",
   "metadata": {},
   "source": [
    "В отличии от метода ICE  в методе RICE учитываетя также охват пользователей."
   ]
  },
  {
   "cell_type": "code",
   "execution_count": 4,
   "metadata": {},
   "outputs": [
    {
     "data": {
      "text/html": [
       "<div>\n",
       "<style scoped>\n",
       "    .dataframe tbody tr th:only-of-type {\n",
       "        vertical-align: middle;\n",
       "    }\n",
       "\n",
       "    .dataframe tbody tr th {\n",
       "        vertical-align: top;\n",
       "    }\n",
       "\n",
       "    .dataframe thead th {\n",
       "        text-align: right;\n",
       "    }\n",
       "</style>\n",
       "<table border=\"1\" class=\"dataframe\">\n",
       "  <thead>\n",
       "    <tr style=\"text-align: right;\">\n",
       "      <th></th>\n",
       "      <th>Hypothesis</th>\n",
       "      <th>RICE</th>\n",
       "      <th>Reach</th>\n",
       "    </tr>\n",
       "  </thead>\n",
       "  <tbody>\n",
       "    <tr>\n",
       "      <th>7</th>\n",
       "      <td>Добавить форму подписки на все основные страницы, чтобы собрать базу клиентов для email-рассылок</td>\n",
       "      <td>112.0</td>\n",
       "      <td>10</td>\n",
       "    </tr>\n",
       "    <tr>\n",
       "      <th>2</th>\n",
       "      <td>Добавить блоки рекомендаций товаров на сайт интернет магазина, чтобы повысить конверсию и средний чек заказа</td>\n",
       "      <td>56.0</td>\n",
       "      <td>8</td>\n",
       "    </tr>\n",
       "    <tr>\n",
       "      <th>0</th>\n",
       "      <td>Добавить два новых канала привлечения трафика, что позволит привлекать на 30% больше пользователей</td>\n",
       "      <td>40.0</td>\n",
       "      <td>3</td>\n",
       "    </tr>\n",
       "    <tr>\n",
       "      <th>6</th>\n",
       "      <td>Показать на главной странице баннеры с актуальными акциями и распродажами, чтобы увеличить конверсию</td>\n",
       "      <td>40.0</td>\n",
       "      <td>5</td>\n",
       "    </tr>\n",
       "    <tr>\n",
       "      <th>8</th>\n",
       "      <td>Запустить акцию, дающую скидку на товар в день рождения</td>\n",
       "      <td>16.2</td>\n",
       "      <td>1</td>\n",
       "    </tr>\n",
       "    <tr>\n",
       "      <th>3</th>\n",
       "      <td>Изменить структура категорий, что увеличит конверсию, т.к. пользователи быстрее найдут нужный товар</td>\n",
       "      <td>9.0</td>\n",
       "      <td>8</td>\n",
       "    </tr>\n",
       "    <tr>\n",
       "      <th>1</th>\n",
       "      <td>Запустить собственную службу доставки, что сократит срок доставки заказов</td>\n",
       "      <td>4.0</td>\n",
       "      <td>2</td>\n",
       "    </tr>\n",
       "    <tr>\n",
       "      <th>5</th>\n",
       "      <td>Добавить страницу отзывов клиентов о магазине, что позволит увеличить количество заказов</td>\n",
       "      <td>4.0</td>\n",
       "      <td>3</td>\n",
       "    </tr>\n",
       "    <tr>\n",
       "      <th>4</th>\n",
       "      <td>Изменить цвет фона главной страницы, чтобы увеличить вовлеченность пользователей</td>\n",
       "      <td>3.0</td>\n",
       "      <td>3</td>\n",
       "    </tr>\n",
       "  </tbody>\n",
       "</table>\n",
       "</div>"
      ],
      "text/plain": [
       "                                                                                                     Hypothesis  \\\n",
       "7  Добавить форму подписки на все основные страницы, чтобы собрать базу клиентов для email-рассылок               \n",
       "2  Добавить блоки рекомендаций товаров на сайт интернет магазина, чтобы повысить конверсию и средний чек заказа   \n",
       "0  Добавить два новых канала привлечения трафика, что позволит привлекать на 30% больше пользователей             \n",
       "6  Показать на главной странице баннеры с актуальными акциями и распродажами, чтобы увеличить конверсию           \n",
       "8  Запустить акцию, дающую скидку на товар в день рождения                                                        \n",
       "3  Изменить структура категорий, что увеличит конверсию, т.к. пользователи быстрее найдут нужный товар            \n",
       "1  Запустить собственную службу доставки, что сократит срок доставки заказов                                      \n",
       "5  Добавить страницу отзывов клиентов о магазине, что позволит увеличить количество заказов                       \n",
       "4  Изменить цвет фона главной страницы, чтобы увеличить вовлеченность пользователей                               \n",
       "\n",
       "    RICE  Reach  \n",
       "7  112.0  10     \n",
       "2  56.0    8     \n",
       "0  40.0    3     \n",
       "6  40.0    5     \n",
       "8  16.2    1     \n",
       "3  9.0     8     \n",
       "1  4.0     2     \n",
       "5  4.0     3     \n",
       "4  3.0     3     "
      ]
     },
     "execution_count": 4,
     "metadata": {},
     "output_type": "execute_result"
    }
   ],
   "source": [
    "# Добавим столбец RICE к существующей таблице. Расчет произведем по известной формуле: RICE = Reach x Impact x Confidence / Efforts\n",
    "\n",
    "data['RICE'] = data['Reach']*data['Impact']*data['Confidence']/data['Efforts']\n",
    "data[['Hypothesis','RICE','Reach']].sort_values('RICE', ascending=False)"
   ]
  },
  {
   "cell_type": "code",
   "execution_count": 5,
   "metadata": {},
   "outputs": [
    {
     "data": {
      "text/html": [
       "<style  type=\"text/css\" >\n",
       "    #T_8c58c5c6_d61d_11ed_a238_448a5b582ad9row0_col1 {\n",
       "            background-color:  yellowgreen;\n",
       "            : ;\n",
       "        }    #T_8c58c5c6_d61d_11ed_a238_448a5b582ad9row4_col2 {\n",
       "            background-color:  yellowgreen;\n",
       "            : ;\n",
       "        }    #T_8c58c5c6_d61d_11ed_a238_448a5b582ad9row8_col1 {\n",
       "            : ;\n",
       "            background-color:  coral;\n",
       "        }    #T_8c58c5c6_d61d_11ed_a238_448a5b582ad9row8_col2 {\n",
       "            : ;\n",
       "            background-color:  coral;\n",
       "        }</style>  \n",
       "<table id=\"T_8c58c5c6_d61d_11ed_a238_448a5b582ad9\" > \n",
       "<thead>    <tr> \n",
       "        <th class=\"blank level0\" ></th> \n",
       "        <th class=\"col_heading level0 col0\" >Hypothesis</th> \n",
       "        <th class=\"col_heading level0 col1\" >RICE</th> \n",
       "        <th class=\"col_heading level0 col2\" >ICE</th> \n",
       "    </tr></thead> \n",
       "<tbody>    <tr> \n",
       "        <th id=\"T_8c58c5c6_d61d_11ed_a238_448a5b582ad9level0_row0\" class=\"row_heading level0 row0\" >7</th> \n",
       "        <td id=\"T_8c58c5c6_d61d_11ed_a238_448a5b582ad9row0_col0\" class=\"data row0 col0\" >Добавить форму подписки на все основные страницы, чтобы собрать базу клиентов для email-рассылок</td> \n",
       "        <td id=\"T_8c58c5c6_d61d_11ed_a238_448a5b582ad9row0_col1\" class=\"data row0 col1\" >112</td> \n",
       "        <td id=\"T_8c58c5c6_d61d_11ed_a238_448a5b582ad9row0_col2\" class=\"data row0 col2\" >11.2</td> \n",
       "    </tr>    <tr> \n",
       "        <th id=\"T_8c58c5c6_d61d_11ed_a238_448a5b582ad9level0_row1\" class=\"row_heading level0 row1\" >2</th> \n",
       "        <td id=\"T_8c58c5c6_d61d_11ed_a238_448a5b582ad9row1_col0\" class=\"data row1 col0\" >Добавить блоки рекомендаций товаров на сайт интернет магазина, чтобы повысить конверсию и средний чек заказа</td> \n",
       "        <td id=\"T_8c58c5c6_d61d_11ed_a238_448a5b582ad9row1_col1\" class=\"data row1 col1\" >56</td> \n",
       "        <td id=\"T_8c58c5c6_d61d_11ed_a238_448a5b582ad9row1_col2\" class=\"data row1 col2\" >7</td> \n",
       "    </tr>    <tr> \n",
       "        <th id=\"T_8c58c5c6_d61d_11ed_a238_448a5b582ad9level0_row2\" class=\"row_heading level0 row2\" >0</th> \n",
       "        <td id=\"T_8c58c5c6_d61d_11ed_a238_448a5b582ad9row2_col0\" class=\"data row2 col0\" >Добавить два новых канала привлечения трафика, что позволит привлекать на 30% больше пользователей</td> \n",
       "        <td id=\"T_8c58c5c6_d61d_11ed_a238_448a5b582ad9row2_col1\" class=\"data row2 col1\" >40</td> \n",
       "        <td id=\"T_8c58c5c6_d61d_11ed_a238_448a5b582ad9row2_col2\" class=\"data row2 col2\" >13.33</td> \n",
       "    </tr>    <tr> \n",
       "        <th id=\"T_8c58c5c6_d61d_11ed_a238_448a5b582ad9level0_row3\" class=\"row_heading level0 row3\" >6</th> \n",
       "        <td id=\"T_8c58c5c6_d61d_11ed_a238_448a5b582ad9row3_col0\" class=\"data row3 col0\" >Показать на главной странице баннеры с актуальными акциями и распродажами, чтобы увеличить конверсию</td> \n",
       "        <td id=\"T_8c58c5c6_d61d_11ed_a238_448a5b582ad9row3_col1\" class=\"data row3 col1\" >40</td> \n",
       "        <td id=\"T_8c58c5c6_d61d_11ed_a238_448a5b582ad9row3_col2\" class=\"data row3 col2\" >8</td> \n",
       "    </tr>    <tr> \n",
       "        <th id=\"T_8c58c5c6_d61d_11ed_a238_448a5b582ad9level0_row4\" class=\"row_heading level0 row4\" >8</th> \n",
       "        <td id=\"T_8c58c5c6_d61d_11ed_a238_448a5b582ad9row4_col0\" class=\"data row4 col0\" >Запустить акцию, дающую скидку на товар в день рождения</td> \n",
       "        <td id=\"T_8c58c5c6_d61d_11ed_a238_448a5b582ad9row4_col1\" class=\"data row4 col1\" >16.2</td> \n",
       "        <td id=\"T_8c58c5c6_d61d_11ed_a238_448a5b582ad9row4_col2\" class=\"data row4 col2\" >16.2</td> \n",
       "    </tr>    <tr> \n",
       "        <th id=\"T_8c58c5c6_d61d_11ed_a238_448a5b582ad9level0_row5\" class=\"row_heading level0 row5\" >3</th> \n",
       "        <td id=\"T_8c58c5c6_d61d_11ed_a238_448a5b582ad9row5_col0\" class=\"data row5 col0\" >Изменить структура категорий, что увеличит конверсию, т.к. пользователи быстрее найдут нужный товар</td> \n",
       "        <td id=\"T_8c58c5c6_d61d_11ed_a238_448a5b582ad9row5_col1\" class=\"data row5 col1\" >9</td> \n",
       "        <td id=\"T_8c58c5c6_d61d_11ed_a238_448a5b582ad9row5_col2\" class=\"data row5 col2\" >1.12</td> \n",
       "    </tr>    <tr> \n",
       "        <th id=\"T_8c58c5c6_d61d_11ed_a238_448a5b582ad9level0_row6\" class=\"row_heading level0 row6\" >1</th> \n",
       "        <td id=\"T_8c58c5c6_d61d_11ed_a238_448a5b582ad9row6_col0\" class=\"data row6 col0\" >Запустить собственную службу доставки, что сократит срок доставки заказов</td> \n",
       "        <td id=\"T_8c58c5c6_d61d_11ed_a238_448a5b582ad9row6_col1\" class=\"data row6 col1\" >4</td> \n",
       "        <td id=\"T_8c58c5c6_d61d_11ed_a238_448a5b582ad9row6_col2\" class=\"data row6 col2\" >2</td> \n",
       "    </tr>    <tr> \n",
       "        <th id=\"T_8c58c5c6_d61d_11ed_a238_448a5b582ad9level0_row7\" class=\"row_heading level0 row7\" >5</th> \n",
       "        <td id=\"T_8c58c5c6_d61d_11ed_a238_448a5b582ad9row7_col0\" class=\"data row7 col0\" >Добавить страницу отзывов клиентов о магазине, что позволит увеличить количество заказов</td> \n",
       "        <td id=\"T_8c58c5c6_d61d_11ed_a238_448a5b582ad9row7_col1\" class=\"data row7 col1\" >4</td> \n",
       "        <td id=\"T_8c58c5c6_d61d_11ed_a238_448a5b582ad9row7_col2\" class=\"data row7 col2\" >1.33</td> \n",
       "    </tr>    <tr> \n",
       "        <th id=\"T_8c58c5c6_d61d_11ed_a238_448a5b582ad9level0_row8\" class=\"row_heading level0 row8\" >4</th> \n",
       "        <td id=\"T_8c58c5c6_d61d_11ed_a238_448a5b582ad9row8_col0\" class=\"data row8 col0\" >Изменить цвет фона главной страницы, чтобы увеличить вовлеченность пользователей</td> \n",
       "        <td id=\"T_8c58c5c6_d61d_11ed_a238_448a5b582ad9row8_col1\" class=\"data row8 col1\" >3</td> \n",
       "        <td id=\"T_8c58c5c6_d61d_11ed_a238_448a5b582ad9row8_col2\" class=\"data row8 col2\" >1</td> \n",
       "    </tr></tbody> \n",
       "</table> "
      ],
      "text/plain": [
       "<pandas.io.formats.style.Styler at 0x95cc160>"
      ]
     },
     "execution_count": 5,
     "metadata": {},
     "output_type": "execute_result"
    }
   ],
   "source": [
    "hypo_data = data[['Hypothesis','RICE','ICE']].sort_values('RICE', ascending=False)\n",
    "hypo_data.style.highlight_max(color='yellowgreen', subset=['RICE','ICE']).highlight_min(color='coral', subset=['RICE','ICE'])"
   ]
  },
  {
   "cell_type": "markdown",
   "metadata": {},
   "source": [
    "По методу RICE -  следует запускать гипотезы 8, 3, 1 и 7."
   ]
  },
  {
   "cell_type": "markdown",
   "metadata": {},
   "source": [
    "### Укажем, как изменилась приоритизация гипотез при применении RICE вместо ICE. Объясним, почему так произошло."
   ]
  },
  {
   "cell_type": "markdown",
   "metadata": {},
   "source": [
    "Действительно, гипотезы 1 - \"Добавить два новых канала привлечения трафика, что позволит привлекать на 30% больше пользователей\", 3 - \"Добавить блоки рекомендаций товаров на сайт интернет магазина, чтобы повысить конверсию и средний чек заказа\t\" и 7 - \"Показать на главной странице баннеры с актуальными акциями и распродажами, чтобы увеличить конверсию\" в приоритете согласно обоим методам, при этом гипотезы - лидеры в обоих методах различаются. Это связано с математической формулой для каждого метода: результат по методу RICE всегда будет в 'Reach' раз больше. У гипотезы №8 - \"Добавить форму подписки на все основные страницы, чтобы собрать базу клиентов для email-рассылок\" параметр Reach=10, а гипотезы №9 - \"Запустить акцию, дающую скидку на товар в день рождения\" (лидер по методу ICE) - параметр Reach=1. Поэтому, помимо Impact гипотезы следует также учитывать как много пользователей она затронет.\n",
    "\n",
    "Следует запустить А/В тест для гипотезы - \"Добавить форму подписки на все основные страницы, чтобы собрать базу клиентов для email-рассылок\"."
   ]
  },
  {
   "cell_type": "markdown",
   "metadata": {},
   "source": [
    "##  Часть 2. Анализ A/B-теста."
   ]
  },
  {
   "cell_type": "markdown",
   "metadata": {},
   "source": [
    "Согласно условию задачи - мы провели A/B-тест и получили результаты, которые описаны в файлах /datasets/orders.csv и /datasets/visitors.csv. Изучим исходные данные и выполним предобработку. Произведем проверку пропусков и дубликатов. Убедимся, что типы данных во всех колонках соответствуют сохранённым в них значениям. "
   ]
  },
  {
   "cell_type": "code",
   "execution_count": 6,
   "metadata": {},
   "outputs": [
    {
     "name": "stdout",
     "output_type": "stream",
     "text": [
      "<class 'pandas.core.frame.DataFrame'>\n",
      "RangeIndex: 1197 entries, 0 to 1196\n",
      "Data columns (total 5 columns):\n",
      "transactionId    1197 non-null int64\n",
      "visitorId        1197 non-null int64\n",
      "date             1197 non-null object\n",
      "revenue          1197 non-null int64\n",
      "group            1197 non-null object\n",
      "dtypes: int64(3), object(2)\n",
      "memory usage: 46.8+ KB\n"
     ]
    }
   ],
   "source": [
    "# Прочитаем исходные файлы\n",
    "orders = pd.read_csv(r'E:\\Analytics\\orders.csv', sep=',')\n",
    "orders.info()"
   ]
  },
  {
   "cell_type": "code",
   "execution_count": 7,
   "metadata": {},
   "outputs": [
    {
     "name": "stdout",
     "output_type": "stream",
     "text": [
      "<class 'pandas.core.frame.DataFrame'>\n",
      "RangeIndex: 62 entries, 0 to 61\n",
      "Data columns (total 3 columns):\n",
      "date        62 non-null object\n",
      "group       62 non-null object\n",
      "visitors    62 non-null int64\n",
      "dtypes: int64(1), object(2)\n",
      "memory usage: 1.5+ KB\n"
     ]
    }
   ],
   "source": [
    "visitors = pd.read_csv(r'E:\\Analytics\\visitors.csv', sep=',')\n",
    "visitors.info()"
   ]
  },
  {
   "cell_type": "markdown",
   "metadata": {},
   "source": [
    "Перед началом основной работы проверим таблицы на пропуски и дубликаты:"
   ]
  },
  {
   "cell_type": "code",
   "execution_count": 8,
   "metadata": {},
   "outputs": [
    {
     "data": {
      "text/plain": [
       "transactionId    0\n",
       "visitorId        0\n",
       "date             0\n",
       "revenue          0\n",
       "group            0\n",
       "dtype: int64"
      ]
     },
     "execution_count": 8,
     "metadata": {},
     "output_type": "execute_result"
    }
   ],
   "source": [
    "# Пропуски в таблице orders\n",
    "orders.isna().sum()"
   ]
  },
  {
   "cell_type": "code",
   "execution_count": 9,
   "metadata": {},
   "outputs": [
    {
     "data": {
      "text/plain": [
       "0"
      ]
     },
     "execution_count": 9,
     "metadata": {},
     "output_type": "execute_result"
    }
   ],
   "source": [
    "# дубликаты в таблице orders\n",
    "orders.duplicated().sum()"
   ]
  },
  {
   "cell_type": "code",
   "execution_count": 10,
   "metadata": {},
   "outputs": [
    {
     "data": {
      "text/plain": [
       "date        0\n",
       "group       0\n",
       "visitors    0\n",
       "dtype: int64"
      ]
     },
     "execution_count": 10,
     "metadata": {},
     "output_type": "execute_result"
    }
   ],
   "source": [
    "# Пропуски в таблице visitors\n",
    "visitors.isna().sum()"
   ]
  },
  {
   "cell_type": "code",
   "execution_count": 11,
   "metadata": {},
   "outputs": [
    {
     "data": {
      "text/plain": [
       "0"
      ]
     },
     "execution_count": 11,
     "metadata": {},
     "output_type": "execute_result"
    }
   ],
   "source": [
    "# дубликаты в таблице visitors\n",
    "visitors.duplicated().sum()"
   ]
  },
  {
   "cell_type": "markdown",
   "metadata": {},
   "source": [
    "Пропусков и явных дубликатов нет, наименования колонок в нижнем регистре, типы данных соответствуют данным за исключением столбцов с датами. Преобразуем данные дат к нужному типу:"
   ]
  },
  {
   "cell_type": "code",
   "execution_count": 12,
   "metadata": {},
   "outputs": [],
   "source": [
    "orders['date'] = pd.to_datetime(orders['date'])\n",
    "visitors['date'] = pd.to_datetime(visitors['date'])"
   ]
  },
  {
   "cell_type": "markdown",
   "metadata": {},
   "source": [
    "Теперь можно перейти к основной задаче по анализу А/B теста."
   ]
  },
  {
   "cell_type": "markdown",
   "metadata": {},
   "source": [
    "Поскольку мы проводим А/В тест, основной сутью которого является правильное деление пользователей на группы, не лишним будет проверить, что каждый пользователь попал только в одну группу теста:"
   ]
  },
  {
   "cell_type": "code",
   "execution_count": 13,
   "metadata": {},
   "outputs": [
    {
     "data": {
      "text/html": [
       "<div>\n",
       "<style scoped>\n",
       "    .dataframe tbody tr th:only-of-type {\n",
       "        vertical-align: middle;\n",
       "    }\n",
       "\n",
       "    .dataframe tbody tr th {\n",
       "        vertical-align: top;\n",
       "    }\n",
       "\n",
       "    .dataframe thead th {\n",
       "        text-align: right;\n",
       "    }\n",
       "</style>\n",
       "<table border=\"1\" class=\"dataframe\">\n",
       "  <thead>\n",
       "    <tr style=\"text-align: right;\">\n",
       "      <th></th>\n",
       "      <th>group</th>\n",
       "    </tr>\n",
       "    <tr>\n",
       "      <th>visitorId</th>\n",
       "      <th></th>\n",
       "    </tr>\n",
       "  </thead>\n",
       "  <tbody>\n",
       "    <tr>\n",
       "      <th>8300375</th>\n",
       "      <td>2</td>\n",
       "    </tr>\n",
       "    <tr>\n",
       "      <th>232979603</th>\n",
       "      <td>2</td>\n",
       "    </tr>\n",
       "    <tr>\n",
       "      <th>276558944</th>\n",
       "      <td>2</td>\n",
       "    </tr>\n",
       "    <tr>\n",
       "      <th>351125977</th>\n",
       "      <td>2</td>\n",
       "    </tr>\n",
       "    <tr>\n",
       "      <th>366673373</th>\n",
       "      <td>2</td>\n",
       "    </tr>\n",
       "  </tbody>\n",
       "</table>\n",
       "</div>"
      ],
      "text/plain": [
       "           group\n",
       "visitorId       \n",
       "8300375     2   \n",
       "232979603   2   \n",
       "276558944   2   \n",
       "351125977   2   \n",
       "366673373   2   "
      ]
     },
     "execution_count": 13,
     "metadata": {},
     "output_type": "execute_result"
    }
   ],
   "source": [
    "users = orders.groupby('visitorId').agg({'group': 'count'}).query('group==2')\n",
    "users.head()"
   ]
  },
  {
   "cell_type": "code",
   "execution_count": 14,
   "metadata": {},
   "outputs": [
    {
     "data": {
      "text/plain": [
       "group    58\n",
       "dtype: int64"
      ]
     },
     "execution_count": 14,
     "metadata": {},
     "output_type": "execute_result"
    }
   ],
   "source": [
    "orders.groupby('visitorId').agg({'group': 'nunique'}).query('group>1').count()"
   ]
  },
  {
   "cell_type": "markdown",
   "metadata": {},
   "source": [
    "У нас 58 пользователя, которые попали в обе группы. Поскольку, это число не значительно относительно общего количества пользователей, удалять задвоившихся пользователей не будем."
   ]
  },
  {
   "cell_type": "code",
   "execution_count": 15,
   "metadata": {},
   "outputs": [
    {
     "data": {
      "text/plain": [
       "1031"
      ]
     },
     "execution_count": 15,
     "metadata": {},
     "output_type": "execute_result"
    }
   ],
   "source": [
    "orders['visitorId'].nunique()"
   ]
  },
  {
   "cell_type": "markdown",
   "metadata": {},
   "source": [
    "### Построим график кумулятивной выручки по группам. Сделаем выводы и предположения."
   ]
  },
  {
   "cell_type": "markdown",
   "metadata": {},
   "source": [
    "Чтобы построить графики, нужно собрать кумулятивные данные. Объявим датафрейм cumulativeData со столбцами:\n",
    "\n",
    "•\tdate — дата;\n",
    "\n",
    "•\tgroup — группа A/B-теста (A или B);\n",
    "\n",
    "•\torders — кумулятивное количество заказов на указанную дату в указанной группе;\n",
    "\n",
    "•\tbuyers — кумулятивное количество пользователей, совершивших хотя бы один заказ, на указанную дату в указанной группе;\n",
    "\n",
    "•\trevenue — кумулятивная выручка на указанную дату в указанной группе (средний чек);\n",
    "\n",
    "•\tvisitors — кумулятивное количество посетителей интернет-магазина на указанную дату в определённой группе.\n",
    "\n",
    "Создадим массив уникальных пар значений дат и групп теста методом drop_duplicates():\n"
   ]
  },
  {
   "cell_type": "code",
   "execution_count": 16,
   "metadata": {},
   "outputs": [],
   "source": [
    "# создаем массив уникальных пар значений дат и групп теста\n",
    "datesGroups = orders[['date','group']].drop_duplicates() \n"
   ]
  },
  {
   "cell_type": "code",
   "execution_count": 17,
   "metadata": {},
   "outputs": [],
   "source": [
    "#Соберём агрегированные кумулятивные по дням данные о заказах в несколько действий. Получим строки таблицы orders, дата которых меньше или равна дате элемента из datesGroups, а группа теста равна группе из datesGroups:\n",
    "\n",
    "ordersAggregated = datesGroups.apply(lambda x: orders[np.logical_and(orders['date'] <= x['date'], orders['group'] == x['group'])]\\\n",
    ".agg({'date' : 'max', 'group' : 'max', 'transactionId' : 'nunique', 'visitorId' : 'nunique', 'revenue' : 'sum'}), axis=1).sort_values(by=['date','group']) \n"
   ]
  },
  {
   "cell_type": "code",
   "execution_count": 18,
   "metadata": {},
   "outputs": [],
   "source": [
    "# Аналогично получим агрегированные кумулятивные по дням данные о посетителях интернет-магазина:\n",
    "\n",
    "visitorsAggregated = datesGroups.apply(lambda x: visitors[np.logical_and(visitors['date'] <= x['date'], visitors['group'] == x['group'])].agg({'date' : 'max', 'group' : 'max', 'visitors' : 'sum'}), axis=1).sort_values(by=['date','group']) "
   ]
  },
  {
   "cell_type": "code",
   "execution_count": 19,
   "metadata": {},
   "outputs": [
    {
     "data": {
      "text/html": [
       "<div>\n",
       "<style scoped>\n",
       "    .dataframe tbody tr th:only-of-type {\n",
       "        vertical-align: middle;\n",
       "    }\n",
       "\n",
       "    .dataframe tbody tr th {\n",
       "        vertical-align: top;\n",
       "    }\n",
       "\n",
       "    .dataframe thead th {\n",
       "        text-align: right;\n",
       "    }\n",
       "</style>\n",
       "<table border=\"1\" class=\"dataframe\">\n",
       "  <thead>\n",
       "    <tr style=\"text-align: right;\">\n",
       "      <th></th>\n",
       "      <th>date</th>\n",
       "      <th>group</th>\n",
       "      <th>orders</th>\n",
       "      <th>buyers</th>\n",
       "      <th>revenue</th>\n",
       "      <th>visitors</th>\n",
       "    </tr>\n",
       "  </thead>\n",
       "  <tbody>\n",
       "    <tr>\n",
       "      <th>0</th>\n",
       "      <td>2019-08-01</td>\n",
       "      <td>A</td>\n",
       "      <td>24</td>\n",
       "      <td>20</td>\n",
       "      <td>148579</td>\n",
       "      <td>719</td>\n",
       "    </tr>\n",
       "    <tr>\n",
       "      <th>1</th>\n",
       "      <td>2019-08-01</td>\n",
       "      <td>B</td>\n",
       "      <td>21</td>\n",
       "      <td>20</td>\n",
       "      <td>101217</td>\n",
       "      <td>713</td>\n",
       "    </tr>\n",
       "    <tr>\n",
       "      <th>2</th>\n",
       "      <td>2019-08-02</td>\n",
       "      <td>A</td>\n",
       "      <td>44</td>\n",
       "      <td>38</td>\n",
       "      <td>242401</td>\n",
       "      <td>1338</td>\n",
       "    </tr>\n",
       "    <tr>\n",
       "      <th>3</th>\n",
       "      <td>2019-08-02</td>\n",
       "      <td>B</td>\n",
       "      <td>45</td>\n",
       "      <td>43</td>\n",
       "      <td>266748</td>\n",
       "      <td>1294</td>\n",
       "    </tr>\n",
       "    <tr>\n",
       "      <th>4</th>\n",
       "      <td>2019-08-03</td>\n",
       "      <td>A</td>\n",
       "      <td>68</td>\n",
       "      <td>62</td>\n",
       "      <td>354874</td>\n",
       "      <td>1845</td>\n",
       "    </tr>\n",
       "    <tr>\n",
       "      <th>5</th>\n",
       "      <td>2019-08-03</td>\n",
       "      <td>B</td>\n",
       "      <td>61</td>\n",
       "      <td>59</td>\n",
       "      <td>380996</td>\n",
       "      <td>1803</td>\n",
       "    </tr>\n",
       "    <tr>\n",
       "      <th>6</th>\n",
       "      <td>2019-08-04</td>\n",
       "      <td>A</td>\n",
       "      <td>84</td>\n",
       "      <td>77</td>\n",
       "      <td>425699</td>\n",
       "      <td>2562</td>\n",
       "    </tr>\n",
       "    <tr>\n",
       "      <th>7</th>\n",
       "      <td>2019-08-04</td>\n",
       "      <td>B</td>\n",
       "      <td>78</td>\n",
       "      <td>75</td>\n",
       "      <td>489567</td>\n",
       "      <td>2573</td>\n",
       "    </tr>\n",
       "    <tr>\n",
       "      <th>8</th>\n",
       "      <td>2019-08-05</td>\n",
       "      <td>A</td>\n",
       "      <td>109</td>\n",
       "      <td>100</td>\n",
       "      <td>549917</td>\n",
       "      <td>3318</td>\n",
       "    </tr>\n",
       "    <tr>\n",
       "      <th>9</th>\n",
       "      <td>2019-08-05</td>\n",
       "      <td>B</td>\n",
       "      <td>101</td>\n",
       "      <td>98</td>\n",
       "      <td>581995</td>\n",
       "      <td>3280</td>\n",
       "    </tr>\n",
       "    <tr>\n",
       "      <th>10</th>\n",
       "      <td>2019-08-06</td>\n",
       "      <td>A</td>\n",
       "      <td>127</td>\n",
       "      <td>114</td>\n",
       "      <td>598401</td>\n",
       "      <td>3985</td>\n",
       "    </tr>\n",
       "    <tr>\n",
       "      <th>11</th>\n",
       "      <td>2019-08-06</td>\n",
       "      <td>B</td>\n",
       "      <td>129</td>\n",
       "      <td>123</td>\n",
       "      <td>824337</td>\n",
       "      <td>3935</td>\n",
       "    </tr>\n",
       "    <tr>\n",
       "      <th>12</th>\n",
       "      <td>2019-08-07</td>\n",
       "      <td>A</td>\n",
       "      <td>145</td>\n",
       "      <td>131</td>\n",
       "      <td>740818</td>\n",
       "      <td>4629</td>\n",
       "    </tr>\n",
       "    <tr>\n",
       "      <th>13</th>\n",
       "      <td>2019-08-07</td>\n",
       "      <td>B</td>\n",
       "      <td>153</td>\n",
       "      <td>146</td>\n",
       "      <td>1049671</td>\n",
       "      <td>4644</td>\n",
       "    </tr>\n",
       "    <tr>\n",
       "      <th>14</th>\n",
       "      <td>2019-08-08</td>\n",
       "      <td>A</td>\n",
       "      <td>161</td>\n",
       "      <td>146</td>\n",
       "      <td>837097</td>\n",
       "      <td>5239</td>\n",
       "    </tr>\n",
       "    <tr>\n",
       "      <th>15</th>\n",
       "      <td>2019-08-08</td>\n",
       "      <td>B</td>\n",
       "      <td>180</td>\n",
       "      <td>171</td>\n",
       "      <td>1270589</td>\n",
       "      <td>5298</td>\n",
       "    </tr>\n",
       "    <tr>\n",
       "      <th>16</th>\n",
       "      <td>2019-08-09</td>\n",
       "      <td>A</td>\n",
       "      <td>177</td>\n",
       "      <td>159</td>\n",
       "      <td>1025603</td>\n",
       "      <td>5856</td>\n",
       "    </tr>\n",
       "    <tr>\n",
       "      <th>17</th>\n",
       "      <td>2019-08-09</td>\n",
       "      <td>B</td>\n",
       "      <td>205</td>\n",
       "      <td>193</td>\n",
       "      <td>1431401</td>\n",
       "      <td>5908</td>\n",
       "    </tr>\n",
       "    <tr>\n",
       "      <th>18</th>\n",
       "      <td>2019-08-10</td>\n",
       "      <td>A</td>\n",
       "      <td>193</td>\n",
       "      <td>175</td>\n",
       "      <td>1236098</td>\n",
       "      <td>6262</td>\n",
       "    </tr>\n",
       "    <tr>\n",
       "      <th>19</th>\n",
       "      <td>2019-08-10</td>\n",
       "      <td>B</td>\n",
       "      <td>228</td>\n",
       "      <td>215</td>\n",
       "      <td>1539203</td>\n",
       "      <td>6277</td>\n",
       "    </tr>\n",
       "    <tr>\n",
       "      <th>20</th>\n",
       "      <td>2019-08-11</td>\n",
       "      <td>A</td>\n",
       "      <td>206</td>\n",
       "      <td>187</td>\n",
       "      <td>1313683</td>\n",
       "      <td>6980</td>\n",
       "    </tr>\n",
       "    <tr>\n",
       "      <th>21</th>\n",
       "      <td>2019-08-11</td>\n",
       "      <td>B</td>\n",
       "      <td>241</td>\n",
       "      <td>228</td>\n",
       "      <td>1592513</td>\n",
       "      <td>6998</td>\n",
       "    </tr>\n",
       "    <tr>\n",
       "      <th>22</th>\n",
       "      <td>2019-08-12</td>\n",
       "      <td>A</td>\n",
       "      <td>230</td>\n",
       "      <td>210</td>\n",
       "      <td>1562873</td>\n",
       "      <td>7575</td>\n",
       "    </tr>\n",
       "    <tr>\n",
       "      <th>23</th>\n",
       "      <td>2019-08-12</td>\n",
       "      <td>B</td>\n",
       "      <td>264</td>\n",
       "      <td>248</td>\n",
       "      <td>1734067</td>\n",
       "      <td>7541</td>\n",
       "    </tr>\n",
       "    <tr>\n",
       "      <th>24</th>\n",
       "      <td>2019-08-13</td>\n",
       "      <td>A</td>\n",
       "      <td>244</td>\n",
       "      <td>223</td>\n",
       "      <td>1826511</td>\n",
       "      <td>8323</td>\n",
       "    </tr>\n",
       "    <tr>\n",
       "      <th>25</th>\n",
       "      <td>2019-08-13</td>\n",
       "      <td>B</td>\n",
       "      <td>285</td>\n",
       "      <td>268</td>\n",
       "      <td>1853738</td>\n",
       "      <td>8310</td>\n",
       "    </tr>\n",
       "    <tr>\n",
       "      <th>26</th>\n",
       "      <td>2019-08-14</td>\n",
       "      <td>A</td>\n",
       "      <td>268</td>\n",
       "      <td>247</td>\n",
       "      <td>1890852</td>\n",
       "      <td>9058</td>\n",
       "    </tr>\n",
       "    <tr>\n",
       "      <th>27</th>\n",
       "      <td>2019-08-14</td>\n",
       "      <td>B</td>\n",
       "      <td>308</td>\n",
       "      <td>287</td>\n",
       "      <td>2025446</td>\n",
       "      <td>9056</td>\n",
       "    </tr>\n",
       "    <tr>\n",
       "      <th>28</th>\n",
       "      <td>2019-08-15</td>\n",
       "      <td>A</td>\n",
       "      <td>283</td>\n",
       "      <td>259</td>\n",
       "      <td>1979057</td>\n",
       "      <td>9686</td>\n",
       "    </tr>\n",
       "    <tr>\n",
       "      <th>29</th>\n",
       "      <td>2019-08-15</td>\n",
       "      <td>B</td>\n",
       "      <td>339</td>\n",
       "      <td>317</td>\n",
       "      <td>2367945</td>\n",
       "      <td>9600</td>\n",
       "    </tr>\n",
       "    <tr>\n",
       "      <th>...</th>\n",
       "      <td>...</td>\n",
       "      <td>...</td>\n",
       "      <td>...</td>\n",
       "      <td>...</td>\n",
       "      <td>...</td>\n",
       "      <td>...</td>\n",
       "    </tr>\n",
       "    <tr>\n",
       "      <th>32</th>\n",
       "      <td>2019-08-17</td>\n",
       "      <td>A</td>\n",
       "      <td>311</td>\n",
       "      <td>283</td>\n",
       "      <td>2129769</td>\n",
       "      <td>10459</td>\n",
       "    </tr>\n",
       "    <tr>\n",
       "      <th>33</th>\n",
       "      <td>2019-08-17</td>\n",
       "      <td>B</td>\n",
       "      <td>373</td>\n",
       "      <td>349</td>\n",
       "      <td>2620790</td>\n",
       "      <td>10434</td>\n",
       "    </tr>\n",
       "    <tr>\n",
       "      <th>34</th>\n",
       "      <td>2019-08-18</td>\n",
       "      <td>A</td>\n",
       "      <td>328</td>\n",
       "      <td>300</td>\n",
       "      <td>2202167</td>\n",
       "      <td>11127</td>\n",
       "    </tr>\n",
       "    <tr>\n",
       "      <th>35</th>\n",
       "      <td>2019-08-18</td>\n",
       "      <td>B</td>\n",
       "      <td>382</td>\n",
       "      <td>357</td>\n",
       "      <td>2686621</td>\n",
       "      <td>11171</td>\n",
       "    </tr>\n",
       "    <tr>\n",
       "      <th>36</th>\n",
       "      <td>2019-08-19</td>\n",
       "      <td>A</td>\n",
       "      <td>350</td>\n",
       "      <td>320</td>\n",
       "      <td>2391910</td>\n",
       "      <td>11629</td>\n",
       "    </tr>\n",
       "    <tr>\n",
       "      <th>37</th>\n",
       "      <td>2019-08-19</td>\n",
       "      <td>B</td>\n",
       "      <td>403</td>\n",
       "      <td>377</td>\n",
       "      <td>4116541</td>\n",
       "      <td>11658</td>\n",
       "    </tr>\n",
       "    <tr>\n",
       "      <th>38</th>\n",
       "      <td>2019-08-20</td>\n",
       "      <td>A</td>\n",
       "      <td>362</td>\n",
       "      <td>330</td>\n",
       "      <td>2469529</td>\n",
       "      <td>12204</td>\n",
       "    </tr>\n",
       "    <tr>\n",
       "      <th>39</th>\n",
       "      <td>2019-08-20</td>\n",
       "      <td>B</td>\n",
       "      <td>423</td>\n",
       "      <td>396</td>\n",
       "      <td>4263815</td>\n",
       "      <td>12218</td>\n",
       "    </tr>\n",
       "    <tr>\n",
       "      <th>40</th>\n",
       "      <td>2019-08-21</td>\n",
       "      <td>A</td>\n",
       "      <td>385</td>\n",
       "      <td>350</td>\n",
       "      <td>2643838</td>\n",
       "      <td>12850</td>\n",
       "    </tr>\n",
       "    <tr>\n",
       "      <th>41</th>\n",
       "      <td>2019-08-21</td>\n",
       "      <td>B</td>\n",
       "      <td>437</td>\n",
       "      <td>407</td>\n",
       "      <td>4426892</td>\n",
       "      <td>12874</td>\n",
       "    </tr>\n",
       "    <tr>\n",
       "      <th>42</th>\n",
       "      <td>2019-08-22</td>\n",
       "      <td>A</td>\n",
       "      <td>401</td>\n",
       "      <td>361</td>\n",
       "      <td>2756579</td>\n",
       "      <td>13459</td>\n",
       "    </tr>\n",
       "    <tr>\n",
       "      <th>43</th>\n",
       "      <td>2019-08-22</td>\n",
       "      <td>B</td>\n",
       "      <td>462</td>\n",
       "      <td>427</td>\n",
       "      <td>4589247</td>\n",
       "      <td>13524</td>\n",
       "    </tr>\n",
       "    <tr>\n",
       "      <th>44</th>\n",
       "      <td>2019-08-23</td>\n",
       "      <td>A</td>\n",
       "      <td>426</td>\n",
       "      <td>385</td>\n",
       "      <td>2874367</td>\n",
       "      <td>13927</td>\n",
       "    </tr>\n",
       "    <tr>\n",
       "      <th>45</th>\n",
       "      <td>2019-08-23</td>\n",
       "      <td>B</td>\n",
       "      <td>477</td>\n",
       "      <td>440</td>\n",
       "      <td>4703216</td>\n",
       "      <td>14070</td>\n",
       "    </tr>\n",
       "    <tr>\n",
       "      <th>46</th>\n",
       "      <td>2019-08-24</td>\n",
       "      <td>A</td>\n",
       "      <td>441</td>\n",
       "      <td>400</td>\n",
       "      <td>3002070</td>\n",
       "      <td>14322</td>\n",
       "    </tr>\n",
       "    <tr>\n",
       "      <th>47</th>\n",
       "      <td>2019-08-24</td>\n",
       "      <td>B</td>\n",
       "      <td>493</td>\n",
       "      <td>454</td>\n",
       "      <td>4798722</td>\n",
       "      <td>14448</td>\n",
       "    </tr>\n",
       "    <tr>\n",
       "      <th>48</th>\n",
       "      <td>2019-08-25</td>\n",
       "      <td>A</td>\n",
       "      <td>451</td>\n",
       "      <td>409</td>\n",
       "      <td>3070704</td>\n",
       "      <td>14943</td>\n",
       "    </tr>\n",
       "    <tr>\n",
       "      <th>49</th>\n",
       "      <td>2019-08-25</td>\n",
       "      <td>B</td>\n",
       "      <td>507</td>\n",
       "      <td>466</td>\n",
       "      <td>4901584</td>\n",
       "      <td>15127</td>\n",
       "    </tr>\n",
       "    <tr>\n",
       "      <th>50</th>\n",
       "      <td>2019-08-26</td>\n",
       "      <td>A</td>\n",
       "      <td>467</td>\n",
       "      <td>425</td>\n",
       "      <td>3227918</td>\n",
       "      <td>15665</td>\n",
       "    </tr>\n",
       "    <tr>\n",
       "      <th>51</th>\n",
       "      <td>2019-08-26</td>\n",
       "      <td>B</td>\n",
       "      <td>532</td>\n",
       "      <td>490</td>\n",
       "      <td>5084583</td>\n",
       "      <td>15803</td>\n",
       "    </tr>\n",
       "    <tr>\n",
       "      <th>52</th>\n",
       "      <td>2019-08-27</td>\n",
       "      <td>A</td>\n",
       "      <td>495</td>\n",
       "      <td>449</td>\n",
       "      <td>3514698</td>\n",
       "      <td>16376</td>\n",
       "    </tr>\n",
       "    <tr>\n",
       "      <th>53</th>\n",
       "      <td>2019-08-27</td>\n",
       "      <td>B</td>\n",
       "      <td>548</td>\n",
       "      <td>504</td>\n",
       "      <td>5232260</td>\n",
       "      <td>16523</td>\n",
       "    </tr>\n",
       "    <tr>\n",
       "      <th>54</th>\n",
       "      <td>2019-08-28</td>\n",
       "      <td>A</td>\n",
       "      <td>512</td>\n",
       "      <td>464</td>\n",
       "      <td>3615820</td>\n",
       "      <td>16970</td>\n",
       "    </tr>\n",
       "    <tr>\n",
       "      <th>55</th>\n",
       "      <td>2019-08-28</td>\n",
       "      <td>B</td>\n",
       "      <td>576</td>\n",
       "      <td>526</td>\n",
       "      <td>5328268</td>\n",
       "      <td>17177</td>\n",
       "    </tr>\n",
       "    <tr>\n",
       "      <th>56</th>\n",
       "      <td>2019-08-29</td>\n",
       "      <td>A</td>\n",
       "      <td>534</td>\n",
       "      <td>484</td>\n",
       "      <td>3936510</td>\n",
       "      <td>17547</td>\n",
       "    </tr>\n",
       "    <tr>\n",
       "      <th>57</th>\n",
       "      <td>2019-08-29</td>\n",
       "      <td>B</td>\n",
       "      <td>596</td>\n",
       "      <td>544</td>\n",
       "      <td>5559398</td>\n",
       "      <td>17708</td>\n",
       "    </tr>\n",
       "    <tr>\n",
       "      <th>58</th>\n",
       "      <td>2019-08-30</td>\n",
       "      <td>A</td>\n",
       "      <td>545</td>\n",
       "      <td>493</td>\n",
       "      <td>4022970</td>\n",
       "      <td>18037</td>\n",
       "    </tr>\n",
       "    <tr>\n",
       "      <th>59</th>\n",
       "      <td>2019-08-30</td>\n",
       "      <td>B</td>\n",
       "      <td>620</td>\n",
       "      <td>567</td>\n",
       "      <td>5774631</td>\n",
       "      <td>18198</td>\n",
       "    </tr>\n",
       "    <tr>\n",
       "      <th>60</th>\n",
       "      <td>2019-08-31</td>\n",
       "      <td>A</td>\n",
       "      <td>557</td>\n",
       "      <td>503</td>\n",
       "      <td>4084803</td>\n",
       "      <td>18736</td>\n",
       "    </tr>\n",
       "    <tr>\n",
       "      <th>61</th>\n",
       "      <td>2019-08-31</td>\n",
       "      <td>B</td>\n",
       "      <td>640</td>\n",
       "      <td>586</td>\n",
       "      <td>5907760</td>\n",
       "      <td>18916</td>\n",
       "    </tr>\n",
       "  </tbody>\n",
       "</table>\n",
       "<p>62 rows × 6 columns</p>\n",
       "</div>"
      ],
      "text/plain": [
       "         date group  orders  buyers  revenue  visitors\n",
       "0  2019-08-01   A    24      20      148579   719     \n",
       "1  2019-08-01   B    21      20      101217   713     \n",
       "2  2019-08-02   A    44      38      242401   1338    \n",
       "3  2019-08-02   B    45      43      266748   1294    \n",
       "4  2019-08-03   A    68      62      354874   1845    \n",
       "5  2019-08-03   B    61      59      380996   1803    \n",
       "6  2019-08-04   A    84      77      425699   2562    \n",
       "7  2019-08-04   B    78      75      489567   2573    \n",
       "8  2019-08-05   A    109     100     549917   3318    \n",
       "9  2019-08-05   B    101     98      581995   3280    \n",
       "10 2019-08-06   A    127     114     598401   3985    \n",
       "11 2019-08-06   B    129     123     824337   3935    \n",
       "12 2019-08-07   A    145     131     740818   4629    \n",
       "13 2019-08-07   B    153     146     1049671  4644    \n",
       "14 2019-08-08   A    161     146     837097   5239    \n",
       "15 2019-08-08   B    180     171     1270589  5298    \n",
       "16 2019-08-09   A    177     159     1025603  5856    \n",
       "17 2019-08-09   B    205     193     1431401  5908    \n",
       "18 2019-08-10   A    193     175     1236098  6262    \n",
       "19 2019-08-10   B    228     215     1539203  6277    \n",
       "20 2019-08-11   A    206     187     1313683  6980    \n",
       "21 2019-08-11   B    241     228     1592513  6998    \n",
       "22 2019-08-12   A    230     210     1562873  7575    \n",
       "23 2019-08-12   B    264     248     1734067  7541    \n",
       "24 2019-08-13   A    244     223     1826511  8323    \n",
       "25 2019-08-13   B    285     268     1853738  8310    \n",
       "26 2019-08-14   A    268     247     1890852  9058    \n",
       "27 2019-08-14   B    308     287     2025446  9056    \n",
       "28 2019-08-15   A    283     259     1979057  9686    \n",
       "29 2019-08-15   B    339     317     2367945  9600    \n",
       "..        ...  ..    ...     ...         ...   ...    \n",
       "32 2019-08-17   A    311     283     2129769  10459   \n",
       "33 2019-08-17   B    373     349     2620790  10434   \n",
       "34 2019-08-18   A    328     300     2202167  11127   \n",
       "35 2019-08-18   B    382     357     2686621  11171   \n",
       "36 2019-08-19   A    350     320     2391910  11629   \n",
       "37 2019-08-19   B    403     377     4116541  11658   \n",
       "38 2019-08-20   A    362     330     2469529  12204   \n",
       "39 2019-08-20   B    423     396     4263815  12218   \n",
       "40 2019-08-21   A    385     350     2643838  12850   \n",
       "41 2019-08-21   B    437     407     4426892  12874   \n",
       "42 2019-08-22   A    401     361     2756579  13459   \n",
       "43 2019-08-22   B    462     427     4589247  13524   \n",
       "44 2019-08-23   A    426     385     2874367  13927   \n",
       "45 2019-08-23   B    477     440     4703216  14070   \n",
       "46 2019-08-24   A    441     400     3002070  14322   \n",
       "47 2019-08-24   B    493     454     4798722  14448   \n",
       "48 2019-08-25   A    451     409     3070704  14943   \n",
       "49 2019-08-25   B    507     466     4901584  15127   \n",
       "50 2019-08-26   A    467     425     3227918  15665   \n",
       "51 2019-08-26   B    532     490     5084583  15803   \n",
       "52 2019-08-27   A    495     449     3514698  16376   \n",
       "53 2019-08-27   B    548     504     5232260  16523   \n",
       "54 2019-08-28   A    512     464     3615820  16970   \n",
       "55 2019-08-28   B    576     526     5328268  17177   \n",
       "56 2019-08-29   A    534     484     3936510  17547   \n",
       "57 2019-08-29   B    596     544     5559398  17708   \n",
       "58 2019-08-30   A    545     493     4022970  18037   \n",
       "59 2019-08-30   B    620     567     5774631  18198   \n",
       "60 2019-08-31   A    557     503     4084803  18736   \n",
       "61 2019-08-31   B    640     586     5907760  18916   \n",
       "\n",
       "[62 rows x 6 columns]"
      ]
     },
     "execution_count": 19,
     "metadata": {},
     "output_type": "execute_result"
    }
   ],
   "source": [
    "# Объединим кумулятивные данные в одной таблице и присваиваем ее столбцам понятные названия:\n",
    "\n",
    "cumulativeData = ordersAggregated.merge(visitorsAggregated, left_on=['date', 'group'], right_on=['date', 'group'])\n",
    "cumulativeData.columns = ['date', 'group', 'orders', 'buyers', 'revenue', 'visitors']\n",
    "cumulativeData"
   ]
  },
  {
   "cell_type": "markdown",
   "metadata": {},
   "source": [
    "Построим графики кумулятивной выручки по дням и группам A/B-тестирования:"
   ]
  },
  {
   "cell_type": "code",
   "execution_count": 20,
   "metadata": {},
   "outputs": [],
   "source": [
    "# датафрейм с кумулятивным количеством заказов и кумулятивной выручкой по дням в группе А:\n",
    "\n",
    "cumulativeRevenueA = cumulativeData[cumulativeData['group']=='A'][['date','revenue','orders']]"
   ]
  },
  {
   "cell_type": "code",
   "execution_count": 21,
   "metadata": {},
   "outputs": [],
   "source": [
    "# датафрейм с кумулятивным количеством заказов и кумулятивной выручкой по дням в группе B:\n",
    "\n",
    "cumulativeRevenueB = cumulativeData[cumulativeData['group']=='B'][['date','revenue','orders']]"
   ]
  },
  {
   "cell_type": "code",
   "execution_count": 22,
   "metadata": {
    "scrolled": false
   },
   "outputs": [
    {
     "data": {
      "image/png": "[encoded data removed]",
      "text/plain": [
       "<Figure size 1080x360 with 1 Axes>"
      ]
     },
     "metadata": {
      "needs_background": "light"
     },
     "output_type": "display_data"
    }
   ],
   "source": [
    "# Строим график выручки группы А:\n",
    "plt.figure(figsize=(15, 5))\n",
    "plt.plot(cumulativeRevenueA['date'], cumulativeRevenueA['revenue'], label='A')\n",
    "\n",
    "# Строим график выручки группы B:\n",
    "plt.plot(cumulativeRevenueB['date'], cumulativeRevenueB['revenue'], label='B')\n",
    "plt.legend()\n",
    "plt.xlabel('Дата')\n",
    "plt.ylabel('Выручка')\n",
    "plt.suptitle('Графики кумулятивной выручки по дням и группам A/B-тестирования', fontsize= 16)  \n",
    "plt.xticks(rotation=45)\n",
    "\n",
    "plt.annotate('Cкачок', xy=(dt.datetime(2019, 8, 17), 2800000), xytext=(dt.datetime(2019, 8, 10), 3500000),\n",
    "            arrowprops=dict(facecolor='g'))\n",
    "plt.annotate('Отрыв', xy=(dt.datetime(2019, 8, 5), 800000), xytext=(dt.datetime(2019, 8, 5), 2000000),\n",
    "            arrowprops=dict(facecolor='g'))\n",
    "\n",
    "plt.show()\n"
   ]
  },
  {
   "cell_type": "markdown",
   "metadata": {},
   "source": [
    "Выручка почти равномерно увеличивается в течение всего теста. Однако график выручки группы В в одной точке резко растет. Это может сигнализировать о всплеске числа заказов, либо о появлении очень дорогих заказов в выборке. Такие выбросы следует проанализировать."
   ]
  },
  {
   "cell_type": "markdown",
   "metadata": {},
   "source": [
    "### Построим график кумулятивного среднего чека по группам. Сделаем выводы и предположения."
   ]
  },
  {
   "cell_type": "code",
   "execution_count": 23,
   "metadata": {},
   "outputs": [
    {
     "data": {
      "image/png": "[encoded data removed]",
      "text/plain": [
       "<Figure size 1080x360 with 1 Axes>"
      ]
     },
     "metadata": {
      "needs_background": "light"
     },
     "output_type": "display_data"
    }
   ],
   "source": [
    "# Построим графики среднего чека по группам — разделим кумулятивную выручку на кумулятивное число заказов:\n",
    "plt.figure(figsize=(15, 5))\n",
    "plt.plot(cumulativeRevenueA['date'], cumulativeRevenueA['revenue']/cumulativeRevenueA['orders'], label='A')\n",
    "plt.plot(cumulativeRevenueB['date'], cumulativeRevenueB['revenue']/cumulativeRevenueB['orders'], label='B')\n",
    "plt.legend()\n",
    "plt.suptitle('Графики кумулятивного среднего чека по группам A/B-тестирования', fontsize= 16) \n",
    "plt.xticks(rotation=45)\n",
    "plt.xlabel('Дата')\n",
    "plt.ylabel('Величина среднего чека (усл. ед.)')\n",
    "plt.show()\n"
   ]
  },
  {
   "cell_type": "markdown",
   "metadata": {},
   "source": [
    "Средний чек становится равномерным ближе к концу теста для группы А, для группы В наблюдается рост в начале теста, резкий скачок и снижение к концу теста. В группу B 18 августа 2019 года явно попали крупные заказы (резкий всплеск на графике). В этом случае для группы В нужно больше данных, чтобы прийти к реальному среднему чеку и установиться на его уровне."
   ]
  },
  {
   "cell_type": "markdown",
   "metadata": {},
   "source": [
    "### Построим график относительного изменения кумулятивного среднего чека группы B к группе A.  Сделаем выводы и предположения."
   ]
  },
  {
   "cell_type": "code",
   "execution_count": 24,
   "metadata": {},
   "outputs": [
    {
     "data": {
      "image/png": "[encoded data removed]",
      "text/plain": [
       "<Figure size 1080x360 with 1 Axes>"
      ]
     },
     "metadata": {
      "needs_background": "light"
     },
     "output_type": "display_data"
    }
   ],
   "source": [
    "# собираем данные в одном датафрейме\n",
    "mergedCumulativeRevenue = cumulativeRevenueA.merge(cumulativeRevenueB, left_on='date', right_on='date', how='left', suffixes=['A', 'B'])\n",
    "\n",
    "# cтроим отношение средних чеков\n",
    "plt.figure(figsize=(15, 5))\n",
    "plt.plot(mergedCumulativeRevenue['date'], (mergedCumulativeRevenue['revenueB']/mergedCumulativeRevenue['ordersB'])/(mergedCumulativeRevenue['revenueA']/mergedCumulativeRevenue['ordersA'])-1)\n",
    "plt.xticks(rotation=45)\n",
    "# добавляем ось X\n",
    "plt.axhline(y=0, color='black', linestyle='--') \n",
    "plt.suptitle('График относительного изменения кумулятивного среднего чека группы B к группе A', fontsize= 16) \n",
    "plt.xlabel('Дата')\n",
    "plt.ylabel('Кумулятивный средний чек х 100%')\n",
    "plt.show()"
   ]
  },
  {
   "cell_type": "markdown",
   "metadata": {},
   "source": [
    "В нескольких точках график различия между сегментами резко «скачет», что говорит о наличии крупных заказов и выбросов."
   ]
  },
  {
   "cell_type": "markdown",
   "metadata": {},
   "source": [
    "### Построим график кумулятивного среднего количества заказов по группам. Сделаем выводы и предположения."
   ]
  },
  {
   "cell_type": "code",
   "execution_count": 25,
   "metadata": {},
   "outputs": [
    {
     "data": {
      "image/png": "[encoded data removed]",
      "text/plain": [
       "<Figure size 1080x360 with 1 Axes>"
      ]
     },
     "metadata": {
      "needs_background": "light"
     },
     "output_type": "display_data"
    }
   ],
   "source": [
    "# считаем кумулятивную конверсию\n",
    "cumulativeData['conversion'] = cumulativeData['orders']/cumulativeData['visitors']\n",
    "\n",
    "# отделяем данные по группе A\n",
    "cumulativeDataA = cumulativeData[cumulativeData['group']=='A']\n",
    "\n",
    "# отделяем данные по группе B\n",
    "cumulativeDataB = cumulativeData[cumulativeData['group']=='B']\n",
    "\n",
    "# строим графики\n",
    "plt.figure(figsize=(15, 5))\n",
    "plt.suptitle('График кумулятивного среднего количества заказов по группам А/В теста', fontsize= 16) \n",
    "plt.plot(cumulativeDataA['date'], cumulativeDataA['conversion'], label='A')\n",
    "plt.plot(cumulativeDataB['date'], cumulativeDataB['conversion'], label='B')\n",
    "plt.legend()\n",
    "plt.xticks(rotation=45)\n",
    "plt.xlabel('Дата')\n",
    "plt.ylabel('Кумулятивное среднее количество заказов х 100%')\n",
    "plt.show()\n"
   ]
  },
  {
   "cell_type": "markdown",
   "metadata": {},
   "source": [
    "По графику видим следующее: В начале теста группы демонстрируют рост конверсии, а затем ее снижение. Далее графики групп идут симметрично относительно одного значения. Конверсия группы B выросла и зафиксировалась, в то время как конверсия группы А просела и также зафиксировалась."
   ]
  },
  {
   "cell_type": "markdown",
   "metadata": {},
   "source": [
    "### Построим график относительного изменения кумулятивного среднего количества заказов группы B к группе A. Сделаем выводы и предположения."
   ]
  },
  {
   "cell_type": "code",
   "execution_count": 26,
   "metadata": {},
   "outputs": [
    {
     "data": {
      "image/png": "[encoded data removed]",
      "text/plain": [
       "<Figure size 1080x360 with 1 Axes>"
      ]
     },
     "metadata": {
      "needs_background": "light"
     },
     "output_type": "display_data"
    }
   ],
   "source": [
    "mergedCumulativeConversions = cumulativeDataA[['date','conversion']].merge(cumulativeDataB[['date','conversion']], left_on='date', right_on='date', how='left', suffixes=['A', 'B'])\n",
    "\n",
    "plt.figure(figsize=(15, 5))\n",
    "plt.suptitle('График относительного изменения кумулятивного среднего количества заказов группы B к группе A', fontsize= 16) \n",
    "plt.plot(mergedCumulativeConversions['date'], mergedCumulativeConversions['conversionB']/mergedCumulativeConversions['conversionA']-1, label=\"Относительный прирост конверсии группы B относительно группы A\")\n",
    "# plt.legend()\n",
    "\n",
    "plt.axhline(y=0, color='black', linestyle='--')\n",
    "plt.xticks(rotation=45)\n",
    "plt.xlabel('Дата')\n",
    "plt.ylabel('Относительнок кумулятивное среднее количество заказов х 100%')\n",
    "plt.show()\n",
    "\n",
    "#plt.axhline(y=-0.1, color='grey', linestyle='--')\n"
   ]
  },
  {
   "cell_type": "markdown",
   "metadata": {},
   "source": [
    "В начале теста группа B с переменным успехом проигрывала группе A, затем вырвалась вперёд. Вцелом группа B лидирует по конверсии: зафиксировалась около прироста в 10% относительно группы A.\n",
    "Для окончательного вывода по результату А/В теста следует проанализировать аномалии, возможно, они изменят картину. "
   ]
  },
  {
   "cell_type": "markdown",
   "metadata": {},
   "source": [
    "### Построим точечный график количества заказов по пользователям. Сделаем выводы и предположения."
   ]
  },
  {
   "cell_type": "markdown",
   "metadata": {},
   "source": [
    "Пользователи, совершившие много заказов, влияют на числитель формулы конверсии. «Обычный» пользователь совершает не больше двух заказов за короткий срок."
   ]
  },
  {
   "cell_type": "code",
   "execution_count": 27,
   "metadata": {},
   "outputs": [
    {
     "data": {
      "text/html": [
       "<div>\n",
       "<style scoped>\n",
       "    .dataframe tbody tr th:only-of-type {\n",
       "        vertical-align: middle;\n",
       "    }\n",
       "\n",
       "    .dataframe tbody tr th {\n",
       "        vertical-align: top;\n",
       "    }\n",
       "\n",
       "    .dataframe thead th {\n",
       "        text-align: right;\n",
       "    }\n",
       "</style>\n",
       "<table border=\"1\" class=\"dataframe\">\n",
       "  <thead>\n",
       "    <tr style=\"text-align: right;\">\n",
       "      <th></th>\n",
       "      <th>user_id</th>\n",
       "      <th>orders</th>\n",
       "    </tr>\n",
       "  </thead>\n",
       "  <tbody>\n",
       "    <tr>\n",
       "      <th>1023</th>\n",
       "      <td>4256040402</td>\n",
       "      <td>11</td>\n",
       "    </tr>\n",
       "    <tr>\n",
       "      <th>591</th>\n",
       "      <td>2458001652</td>\n",
       "      <td>11</td>\n",
       "    </tr>\n",
       "    <tr>\n",
       "      <th>569</th>\n",
       "      <td>2378935119</td>\n",
       "      <td>9</td>\n",
       "    </tr>\n",
       "    <tr>\n",
       "      <th>487</th>\n",
       "      <td>2038680547</td>\n",
       "      <td>8</td>\n",
       "    </tr>\n",
       "    <tr>\n",
       "      <th>44</th>\n",
       "      <td>199603092</td>\n",
       "      <td>5</td>\n",
       "    </tr>\n",
       "    <tr>\n",
       "      <th>744</th>\n",
       "      <td>3062433592</td>\n",
       "      <td>5</td>\n",
       "    </tr>\n",
       "    <tr>\n",
       "      <th>55</th>\n",
       "      <td>237748145</td>\n",
       "      <td>5</td>\n",
       "    </tr>\n",
       "    <tr>\n",
       "      <th>917</th>\n",
       "      <td>3803269165</td>\n",
       "      <td>5</td>\n",
       "    </tr>\n",
       "    <tr>\n",
       "      <th>299</th>\n",
       "      <td>1230306981</td>\n",
       "      <td>5</td>\n",
       "    </tr>\n",
       "    <tr>\n",
       "      <th>897</th>\n",
       "      <td>3717692402</td>\n",
       "      <td>5</td>\n",
       "    </tr>\n",
       "  </tbody>\n",
       "</table>\n",
       "</div>"
      ],
      "text/plain": [
       "         user_id  orders\n",
       "1023  4256040402  11    \n",
       "591   2458001652  11    \n",
       "569   2378935119   9    \n",
       "487   2038680547   8    \n",
       "44    199603092    5    \n",
       "744   3062433592   5    \n",
       "55    237748145    5    \n",
       "917   3803269165   5    \n",
       "299   1230306981   5    \n",
       "897   3717692402   5    "
      ]
     },
     "execution_count": 27,
     "metadata": {},
     "output_type": "execute_result"
    }
   ],
   "source": [
    "# сгруппирует заказы по пользователям:\n",
    "ordersByUsers = orders.groupby('visitorId',as_index=False).agg({'transactionId': 'nunique'})\n",
    "\n",
    "ordersByUsers.columns = ['user_id', 'orders']\n",
    "\n",
    "ordersByUsers.sort_values(by='orders', ascending=False).head(10)\n"
   ]
  },
  {
   "cell_type": "markdown",
   "metadata": {},
   "source": [
    "Есть пользователи, которые совершали 5, 8, 9 и 11 заказов. Значительно больше, чем обычный пользователь за неделю.\n",
    "Построим гистрограмму распределения количества заказов на одного пользователя.\n"
   ]
  },
  {
   "cell_type": "code",
   "execution_count": 28,
   "metadata": {},
   "outputs": [
    {
     "data": {
      "text/plain": [
       "Text(0,0.5,'Количество заказов')"
      ]
     },
     "execution_count": 28,
     "metadata": {},
     "output_type": "execute_result"
    },
    {
     "data": {
      "image/png": "[encoded data removed]",
      "text/plain": [
       "<Figure size 432x288 with 1 Axes>"
      ]
     },
     "metadata": {
      "needs_background": "light"
     },
     "output_type": "display_data"
    }
   ],
   "source": [
    "plt.hist(ordersByUsers['orders']) \n",
    "plt.suptitle('Гистрограмма распределения количества заказов на одного пользователя.', fontsize= 16) \n",
    "plt.xlabel('Количество заказов на пользователя')\n",
    "plt.ylabel('Количество заказов')"
   ]
  },
  {
   "cell_type": "markdown",
   "metadata": {},
   "source": [
    "Большинство покупателей заказывали только один раз. Однако доля пользователей с 2-4 заказами тоже значительна.\n",
    "Построим точечную диаграмму числа заказов на одного пользователя:\n"
   ]
  },
  {
   "cell_type": "code",
   "execution_count": 29,
   "metadata": {},
   "outputs": [
    {
     "data": {
      "text/plain": [
       "Text(0,0.5,'Количество заказов')"
      ]
     },
     "execution_count": 29,
     "metadata": {},
     "output_type": "execute_result"
    },
    {
     "data": {
      "image/png": "[encoded data removed]",
      "text/plain": [
       "<Figure size 1080x360 with 1 Axes>"
      ]
     },
     "metadata": {
      "needs_background": "light"
     },
     "output_type": "display_data"
    }
   ],
   "source": [
    "plt.figure(figsize=(15, 5))\n",
    "x_values = pd.Series(range(0,len(ordersByUsers)))\n",
    "plt.scatter(x_values, ordersByUsers['orders']) \n",
    "plt.suptitle('Точечный график количества заказов по пользователям', fontsize= 16) \n",
    "plt.xlabel('Пользователи')\n",
    "plt.ylabel('Количество заказов')\n"
   ]
  },
  {
   "cell_type": "markdown",
   "metadata": {},
   "source": [
    "Выводы подтверждаются: много пользователей с 2-4 заказами. Их точная доля не ясна — непонятно, считать их аномалиями или нет."
   ]
  },
  {
   "cell_type": "markdown",
   "metadata": {},
   "source": [
    "### \tПосчитаем 95-й и 99-й перцентили количества заказов на пользователя. Выберем границу для определения аномальных пользователей."
   ]
  },
  {
   "cell_type": "code",
   "execution_count": 30,
   "metadata": {},
   "outputs": [
    {
     "data": {
      "text/plain": [
       "array([1., 2., 4.])"
      ]
     },
     "execution_count": 30,
     "metadata": {},
     "output_type": "execute_result"
    }
   ],
   "source": [
    "np.percentile(ordersByUsers['orders'], [90, 95, 99])"
   ]
  },
  {
   "cell_type": "markdown",
   "metadata": {},
   "source": [
    "Не более 5% пользователей оформляли больше чем 2 заказа. И 10% пользователей заказывали более одного раза.\n",
    "Таким образом, выбираем 2 заказа на одного пользователя за верхнюю границу числа заказов. Остальных пользователей следует отсеять."
   ]
  },
  {
   "cell_type": "markdown",
   "metadata": {},
   "source": [
    "### Построим точечный график стоимостей заказов. Сделаем выводы и предположения"
   ]
  },
  {
   "cell_type": "markdown",
   "metadata": {},
   "source": [
    "Аномально дорогие заказы искажают результаты А\\В теста и делают победителем ту группу, где они оказались. При этом такие покупки — редкость, исключение, которое проявилось не из-за тестирования гипотезы, а случайно.\n",
    "Такие аномально дорогие заказы следует удалять из теста. Слишком маленькие заказы слабо влияют на средний чек, поэтому их удалать не будем.\n",
    "Изучим гистограмму распределения стоимостей заказов:"
   ]
  },
  {
   "cell_type": "code",
   "execution_count": 31,
   "metadata": {},
   "outputs": [
    {
     "data": {
      "image/png": "[encoded data removed]",
      "text/plain": [
       "<Figure size 432x288 with 1 Axes>"
      ]
     },
     "metadata": {
      "needs_background": "light"
     },
     "output_type": "display_data"
    }
   ],
   "source": [
    "plt.hist(orders['revenue']) \n",
    "plt.suptitle('Гистрограмма распределения стоимостей заказов', fontsize= 16) \n",
    "plt.xlabel('Количество заказов')\n",
    "plt.ylabel('Стоимость заказа (усл. ед.)')\n",
    "plt.show()"
   ]
  },
  {
   "cell_type": "markdown",
   "metadata": {},
   "source": [
    "В данных явно есть очень дорогие заказы. Однако большинство всё-таки имеет меньшую выручку.\n",
    "Оценим стоимость заказов точечным графиком:"
   ]
  },
  {
   "cell_type": "code",
   "execution_count": 32,
   "metadata": {},
   "outputs": [
    {
     "data": {
      "image/png": "[encoded data removed]",
      "text/plain": [
       "<Figure size 720x360 with 1 Axes>"
      ]
     },
     "metadata": {
      "needs_background": "light"
     },
     "output_type": "display_data"
    }
   ],
   "source": [
    "plt.figure(figsize=(10, 5))\n",
    "plt.ylim([0, 150000])\n",
    "plt.suptitle('Точечный график количества заказов и их стоимости', fontsize= 16) \n",
    "x_values = pd.Series(range(0,len(orders['revenue'])))\n",
    "plt.scatter(x_values, orders['revenue']) \n",
    "plt.xlabel('Количество заказов')\n",
    "plt.ylabel('Стоимость заказа (усл. ед.)')\n",
    "plt.show()"
   ]
  },
  {
   "cell_type": "markdown",
   "metadata": {},
   "source": [
    "Основная масса заказов на сумму менее 25 000 рублей."
   ]
  },
  {
   "cell_type": "markdown",
   "metadata": {},
   "source": [
    "### \tПосчитаем 95-й и 99-й перцентили стоимости заказов. Выберем границу для определения аномальных заказов."
   ]
  },
  {
   "cell_type": "code",
   "execution_count": 33,
   "metadata": {},
   "outputs": [
    {
     "data": {
      "text/plain": [
       "array([18168. , 28000. , 58233.2])"
      ]
     },
     "execution_count": 33,
     "metadata": {},
     "output_type": "execute_result"
    }
   ],
   "source": [
    "# Определим 90, 95 и 99 перцентили среднего чека в выборке:\n",
    "\n",
    "np.percentile(orders['revenue'], [90, 95, 99])"
   ]
  },
  {
   "cell_type": "markdown",
   "metadata": {},
   "source": [
    "Не более 5% заказов дороже 28 000 рублей и не более 1% дороже 58 233 рублей. Границу по стоимости заказа определим на уровне 28 000 рублей."
   ]
  },
  {
   "cell_type": "markdown",
   "metadata": {},
   "source": [
    "### \tПосчитаем статистическую значимость различий в среднем количестве заказов между группами по «сырым» данным. Сделаем выводы и предположения."
   ]
  },
  {
   "cell_type": "markdown",
   "metadata": {},
   "source": [
    "Нулевая гипотеза: различий в среднем количестве заказов между группами нет. Альтернативная гипотеза: различия в среднем количестве заказов между группами есть."
   ]
  },
  {
   "cell_type": "code",
   "execution_count": 34,
   "metadata": {
    "scrolled": true
   },
   "outputs": [
    {
     "data": {
      "text/html": [
       "<div>\n",
       "<style scoped>\n",
       "    .dataframe tbody tr th:only-of-type {\n",
       "        vertical-align: middle;\n",
       "    }\n",
       "\n",
       "    .dataframe tbody tr th {\n",
       "        vertical-align: top;\n",
       "    }\n",
       "\n",
       "    .dataframe thead th {\n",
       "        text-align: right;\n",
       "    }\n",
       "</style>\n",
       "<table border=\"1\" class=\"dataframe\">\n",
       "  <thead>\n",
       "    <tr style=\"text-align: right;\">\n",
       "      <th></th>\n",
       "      <th>date</th>\n",
       "      <th>ordersPerDateA</th>\n",
       "      <th>revenuePerDateA</th>\n",
       "      <th>ordersPerDateB</th>\n",
       "      <th>revenuePerDateB</th>\n",
       "      <th>ordersCummulativeA</th>\n",
       "      <th>revenueCummulativeA</th>\n",
       "      <th>ordersCummulativeB</th>\n",
       "      <th>revenueCummulativeB</th>\n",
       "      <th>visitorsPerDateA</th>\n",
       "      <th>visitorsPerDateB</th>\n",
       "      <th>visitorsCummulativeA</th>\n",
       "      <th>visitorsCummulativeB</th>\n",
       "    </tr>\n",
       "  </thead>\n",
       "  <tbody>\n",
       "    <tr>\n",
       "      <th>0</th>\n",
       "      <td>2019-08-01</td>\n",
       "      <td>24</td>\n",
       "      <td>148579</td>\n",
       "      <td>21</td>\n",
       "      <td>101217</td>\n",
       "      <td>24</td>\n",
       "      <td>148579</td>\n",
       "      <td>21</td>\n",
       "      <td>101217</td>\n",
       "      <td>719</td>\n",
       "      <td>713</td>\n",
       "      <td>719</td>\n",
       "      <td>713</td>\n",
       "    </tr>\n",
       "    <tr>\n",
       "      <th>1</th>\n",
       "      <td>2019-08-02</td>\n",
       "      <td>20</td>\n",
       "      <td>93822</td>\n",
       "      <td>24</td>\n",
       "      <td>165531</td>\n",
       "      <td>44</td>\n",
       "      <td>242401</td>\n",
       "      <td>45</td>\n",
       "      <td>266748</td>\n",
       "      <td>619</td>\n",
       "      <td>581</td>\n",
       "      <td>1338</td>\n",
       "      <td>1294</td>\n",
       "    </tr>\n",
       "    <tr>\n",
       "      <th>2</th>\n",
       "      <td>2019-08-03</td>\n",
       "      <td>24</td>\n",
       "      <td>112473</td>\n",
       "      <td>16</td>\n",
       "      <td>114248</td>\n",
       "      <td>68</td>\n",
       "      <td>354874</td>\n",
       "      <td>61</td>\n",
       "      <td>380996</td>\n",
       "      <td>507</td>\n",
       "      <td>509</td>\n",
       "      <td>1845</td>\n",
       "      <td>1803</td>\n",
       "    </tr>\n",
       "    <tr>\n",
       "      <th>3</th>\n",
       "      <td>2019-08-04</td>\n",
       "      <td>16</td>\n",
       "      <td>70825</td>\n",
       "      <td>17</td>\n",
       "      <td>108571</td>\n",
       "      <td>84</td>\n",
       "      <td>425699</td>\n",
       "      <td>78</td>\n",
       "      <td>489567</td>\n",
       "      <td>717</td>\n",
       "      <td>770</td>\n",
       "      <td>2562</td>\n",
       "      <td>2573</td>\n",
       "    </tr>\n",
       "    <tr>\n",
       "      <th>4</th>\n",
       "      <td>2019-08-05</td>\n",
       "      <td>25</td>\n",
       "      <td>124218</td>\n",
       "      <td>23</td>\n",
       "      <td>92428</td>\n",
       "      <td>109</td>\n",
       "      <td>549917</td>\n",
       "      <td>101</td>\n",
       "      <td>581995</td>\n",
       "      <td>756</td>\n",
       "      <td>707</td>\n",
       "      <td>3318</td>\n",
       "      <td>3280</td>\n",
       "    </tr>\n",
       "  </tbody>\n",
       "</table>\n",
       "</div>"
      ],
      "text/plain": [
       "        date  ordersPerDateA  revenuePerDateA  ordersPerDateB  \\\n",
       "0 2019-08-01  24              148579           21               \n",
       "1 2019-08-02  20              93822            24               \n",
       "2 2019-08-03  24              112473           16               \n",
       "3 2019-08-04  16              70825            17               \n",
       "4 2019-08-05  25              124218           23               \n",
       "\n",
       "   revenuePerDateB  ordersCummulativeA  revenueCummulativeA  \\\n",
       "0  101217           24                  148579                \n",
       "1  165531           44                  242401                \n",
       "2  114248           68                  354874                \n",
       "3  108571           84                  425699                \n",
       "4  92428            109                 549917                \n",
       "\n",
       "   ordersCummulativeB  revenueCummulativeB  visitorsPerDateA  \\\n",
       "0  21                  101217               719                \n",
       "1  45                  266748               619                \n",
       "2  61                  380996               507                \n",
       "3  78                  489567               717                \n",
       "4  101                 581995               756                \n",
       "\n",
       "   visitorsPerDateB  visitorsCummulativeA  visitorsCummulativeB  \n",
       "0  713               719                   713                   \n",
       "1  581               1338                  1294                  \n",
       "2  509               1845                  1803                  \n",
       "3  770               2562                  2573                  \n",
       "4  707               3318                  3280                  "
      ]
     },
     "metadata": {},
     "output_type": "display_data"
    },
    {
     "data": {
      "text/plain": [
       "'0.00840'"
      ]
     },
     "metadata": {},
     "output_type": "display_data"
    },
    {
     "data": {
      "text/plain": [
       "'0.138'"
      ]
     },
     "metadata": {},
     "output_type": "display_data"
    }
   ],
   "source": [
    "visitorsADaily = visitors[visitors['group'] == 'A'][['date', 'visitors']]\n",
    "visitorsADaily.columns = ['date', 'visitorsPerDateA']\n",
    "\n",
    "visitorsACummulative = visitorsADaily.apply(\n",
    "    lambda x: visitorsADaily[visitorsADaily['date'] <= x['date']].agg(\n",
    "        {'date': 'max', 'visitorsPerDateA': 'sum'}\n",
    "    ),\n",
    "    axis=1,\n",
    ")\n",
    "visitorsACummulative.columns = ['date', 'visitorsCummulativeA']\n",
    "\n",
    "visitorsBDaily = visitors[visitors['group'] == 'B'][['date', 'visitors']]\n",
    "visitorsBDaily.columns = ['date', 'visitorsPerDateB']\n",
    "\n",
    "visitorsBCummulative = visitorsBDaily.apply(\n",
    "    lambda x: visitorsBDaily[visitorsBDaily['date'] <= x['date']].agg(\n",
    "        {'date': 'max', 'visitorsPerDateB': 'sum'}\n",
    "    ),\n",
    "    axis=1,\n",
    ")\n",
    "visitorsBCummulative.columns = ['date', 'visitorsCummulativeB']\n",
    "\n",
    "ordersADaily = (\n",
    "    orders[orders['group'] == 'A'][['date', 'transactionId', 'visitorId', 'revenue']]\n",
    "    .groupby('date', as_index=False)\n",
    "    .agg({'transactionId': pd.Series.nunique, 'revenue': 'sum'})\n",
    ")\n",
    "ordersADaily.columns = ['date', 'ordersPerDateA', 'revenuePerDateA']\n",
    "\n",
    "ordersACummulative = ordersADaily.apply(\n",
    "    lambda x: ordersADaily[ordersADaily['date'] <= x['date']].agg(\n",
    "        {'date': 'max', 'ordersPerDateA': 'sum', 'revenuePerDateA': 'sum'}\n",
    "    ),\n",
    "    axis=1,\n",
    ").sort_values(by=['date'])\n",
    "ordersACummulative.columns = [\n",
    "    'date',\n",
    "    'ordersCummulativeA',\n",
    "    'revenueCummulativeA',\n",
    "]\n",
    "\n",
    "ordersBDaily = (\n",
    "    orders[orders['group'] == 'B'][['date', 'transactionId', 'visitorId', 'revenue']]\n",
    "    .groupby('date', as_index=False)\n",
    "    .agg({'transactionId': pd.Series.nunique, 'revenue': 'sum'})\n",
    ")\n",
    "ordersBDaily.columns = ['date', 'ordersPerDateB', 'revenuePerDateB']\n",
    "\n",
    "ordersBCummulative = ordersBDaily.apply(\n",
    "    lambda x: ordersBDaily[ordersBDaily['date'] <= x['date']].agg(\n",
    "        {'date': 'max', 'ordersPerDateB': 'sum', 'revenuePerDateB': 'sum'}\n",
    "    ),\n",
    "    axis=1,\n",
    ").sort_values(by=['date'])\n",
    "ordersBCummulative.columns = [\n",
    "    'date',\n",
    "    'ordersCummulativeB',\n",
    "    'revenueCummulativeB',\n",
    "]\n",
    "\n",
    "data = (\n",
    "    ordersADaily.merge(\n",
    "        ordersBDaily, left_on='date', right_on='date', how='left'\n",
    "    )\n",
    "    .merge(ordersACummulative, left_on='date', right_on='date', how='left')\n",
    "    .merge(ordersBCummulative, left_on='date', right_on='date', how='left')\n",
    "    .merge(visitorsADaily, left_on='date', right_on='date', how='left')\n",
    "    .merge(visitorsBDaily, left_on='date', right_on='date', how='left')\n",
    "    .merge(visitorsACummulative, left_on='date', right_on='date', how='left')\n",
    "    .merge(visitorsBCummulative, left_on='date', right_on='date', how='left')\n",
    ")\n",
    "\n",
    "display(data.head(5))\n",
    "\n",
    "# Создадим переменные ordersByUsersA и ordersByUsersB со столбцами ['user_id', 'orders']. В них для пользователей, которые заказывали\n",
    "# хотя бы 1 раз, укажем число совершённых заказов.\n",
    "ordersByUsersA = (\n",
    "    orders[orders['group'] == 'A']\n",
    "    .groupby('visitorId', as_index=False)\n",
    "    .agg({'transactionId': pd.Series.nunique})\n",
    ")\n",
    "ordersByUsersA.columns = ['user_id', 'orders']\n",
    "\n",
    "ordersByUsersB = (\n",
    "    orders[orders['group'] == 'B']\n",
    "    .groupby('visitorId', as_index=False)\n",
    "    .agg({'transactionId': pd.Series.nunique})\n",
    ")\n",
    "ordersByUsersB.columns = ['user_id', 'orders'] \n",
    "\n",
    "# Объявим переменные sampleA и sampleB, в которых пользователям из разных групп будет соответствовать количество заказов. \n",
    "# Тем, кто ничего не заказал, будут соответствовать нули. Это нужно, чтобы подготовить выборки к проверке критерием Манна-Уитни.\n",
    "\n",
    "sampleA = pd.concat([ordersByUsersA['orders'],pd.Series(0, index=np.arange(data['visitorsPerDateA'].sum() - len(ordersByUsersA['orders'])), name='orders')],axis=0)\n",
    "\n",
    "sampleB = pd.concat([ordersByUsersB['orders'],pd.Series(0, index=np.arange(data['visitorsPerDateB'].sum() - len(ordersByUsersB['orders'])), name='orders')],axis=0)\n",
    "\n",
    "display(\"{0:.5f}\".format(stats.mannwhitneyu(sampleA, sampleB)[1]))\n",
    "\n",
    "display(\"{0:.3f}\".format(sampleB.mean() / sampleA.mean() - 1))"
   ]
  },
  {
   "cell_type": "markdown",
   "metadata": {},
   "source": [
    "Вывод: По «сырым» данным различия в среднем числе заказов групп A и B есть.\n",
    "Первое число — p-value = 0.00840 меньше 0.05. Значит, нулевую гипотезу о том, что статистически значимых различий в среднем числе заказов между группами нет, отвергаем. Относительный выйгрыш группы B равен 13.8%.\n"
   ]
  },
  {
   "cell_type": "markdown",
   "metadata": {},
   "source": [
    "### \tПосчитаем статистическую значимость различий в среднем чеке заказа между группами по «сырым» данным. Сделаем выводы и предположения."
   ]
  },
  {
   "cell_type": "markdown",
   "metadata": {},
   "source": [
    "Нулевая гипотеза: различий в среднем чеке между группами нет. Альтернативная гипотеза: различия в среднем чеке между группами есть.\n",
    "Чтобы рассчитать статистическую значимость различий в среднем чеке, передадим критерию mannwhitneyu() данные о выручке с заказов.\n",
    "А ещё найдём относительные различия в среднем чеке между группами:\n"
   ]
  },
  {
   "cell_type": "code",
   "execution_count": 35,
   "metadata": {},
   "outputs": [
    {
     "data": {
      "text/plain": [
       "'0.365'"
      ]
     },
     "metadata": {},
     "output_type": "display_data"
    },
    {
     "data": {
      "text/plain": [
       "'0.259'"
      ]
     },
     "metadata": {},
     "output_type": "display_data"
    }
   ],
   "source": [
    "display('{0:.3f}'.format(stats.mannwhitneyu(orders[orders['group']=='A']['revenue'], orders[orders['group']=='B']['revenue'])[1]))\n",
    "display('{0:.3f}'.format(orders[orders['group']=='B']['revenue'].mean()/orders[orders['group']=='A']['revenue'].mean()-1)) \n"
   ]
  },
  {
   "cell_type": "markdown",
   "metadata": {},
   "source": [
    "P-value значительно больше 0.05. Значит, нулевую гипотезу не отвергаем и считаем, что в среднем чеке различий нет. Впрочем, средний чек группы B значительно выше среднего чека группы A."
   ]
  },
  {
   "cell_type": "markdown",
   "metadata": {},
   "source": [
    "### \tПосчитаем статистическую значимость различий в среднем количестве заказов между группами по «очищенным» данным. Сделаем выводы и предположения."
   ]
  },
  {
   "cell_type": "markdown",
   "metadata": {},
   "source": [
    "Примем за аномальных пользователей тех, кто совершил от 2 заказов или совершил заказ дороже 28 000 рублей. Так мы уберём 5% пользователей с наибольшим числом заказов и от 1% до 5% пользователей с дорогими заказами. Сделаем срезы пользователей с числом заказов больше 2 — usersWithManyOrders и пользователей, совершивших заказы дороже 28 000 — usersWithExpensiveOrders. Объединим их в таблице abnormalUsers.\n",
    "Узнаем, сколько всего аномальных пользователей атрибутом shape."
   ]
  },
  {
   "cell_type": "code",
   "execution_count": 36,
   "metadata": {},
   "outputs": [
    {
     "data": {
      "text/plain": [
       "1099    148427295\n",
       "18      199603092\n",
       "928     204675465\n",
       "23      237748145\n",
       "37      249864742\n",
       "dtype: int64"
      ]
     },
     "metadata": {},
     "output_type": "display_data"
    },
    {
     "data": {
      "text/plain": [
       "74"
      ]
     },
     "metadata": {},
     "output_type": "display_data"
    }
   ],
   "source": [
    "usersWithManyOrders = pd.concat([\n",
    "        ordersByUsersA[ordersByUsersA['orders'] > 2]['user_id'],\n",
    "        ordersByUsersB[ordersByUsersB['orders'] > 2]['user_id'],\n",
    "    ],\n",
    "    axis=0,)\n",
    "\n",
    "usersWithExpensiveOrders = orders[orders['revenue'] > 28000]['visitorId']\n",
    "abnormalUsers = (\n",
    "    pd.concat([usersWithManyOrders, usersWithExpensiveOrders], axis=0)\n",
    "    .drop_duplicates()\n",
    "    .sort_values()\n",
    ")\n",
    "display(abnormalUsers.head(5))\n",
    "display(abnormalUsers.shape[0]) \n"
   ]
  },
  {
   "cell_type": "markdown",
   "metadata": {},
   "source": [
    "У нас 74 аномальных пользователя."
   ]
  },
  {
   "cell_type": "markdown",
   "metadata": {},
   "source": [
    "Узнаем, как их действия повлияли на результаты теста. Посчитаем статистическую значимость различий в среднем количестве заказов между группами теста по очищенным данным. Сначала подготовим выборки количества заказов по пользователям по группам теста:"
   ]
  },
  {
   "cell_type": "code",
   "execution_count": 37,
   "metadata": {},
   "outputs": [],
   "source": [
    "sampleAFiltered = pd.concat(\n",
    "    [\n",
    "        ordersByUsersA[\n",
    "            np.logical_not(ordersByUsersA['user_id'].isin(abnormalUsers))\n",
    "        ]['orders'],\n",
    "        pd.Series(\n",
    "            0, index=np.arange(data['visitorsPerDateA'].sum() - len(ordersByUsersA['orders'])), name='orders', ), ], axis=0,)\n",
    "\n",
    "\n",
    "sampleBFiltered = pd.concat(\n",
    "    [\n",
    "        ordersByUsersB[\n",
    "            np.logical_not(ordersByUsersB['user_id'].isin(abnormalUsers))\n",
    "        ]['orders'],\n",
    "        pd.Series(\n",
    "            0,index=np.arange(data['visitorsPerDateB'].sum() - len(ordersByUsersB['orders'])), name='orders',),] , axis=0,) "
   ]
  },
  {
   "cell_type": "markdown",
   "metadata": {},
   "source": [
    "Применим статистический критерий Манна-Уитни к полученным выборкам:"
   ]
  },
  {
   "cell_type": "code",
   "execution_count": 38,
   "metadata": {},
   "outputs": [
    {
     "data": {
      "text/plain": [
       "'0.007'"
      ]
     },
     "metadata": {},
     "output_type": "display_data"
    },
    {
     "data": {
      "text/plain": [
       "'0.173'"
      ]
     },
     "metadata": {},
     "output_type": "display_data"
    }
   ],
   "source": [
    "display('{0:.3f}'.format(stats.mannwhitneyu(sampleAFiltered, sampleBFiltered)[1]))\n",
    "display('{0:.3f}'.format(sampleBFiltered.mean()/sampleAFiltered.mean()-1)) \n"
   ]
  },
  {
   "cell_type": "markdown",
   "metadata": {},
   "source": [
    "Результаты по среднему количеству заказов практически не изменились. "
   ]
  },
  {
   "cell_type": "markdown",
   "metadata": {},
   "source": [
    "### \tПосчитаем статистическую значимость различий в среднем чеке заказа между группами по «очищенным» данным. Сделаем выводы и предположения."
   ]
  },
  {
   "cell_type": "code",
   "execution_count": 39,
   "metadata": {},
   "outputs": [
    {
     "data": {
      "text/plain": [
       "'0.369'"
      ]
     },
     "metadata": {},
     "output_type": "display_data"
    },
    {
     "data": {
      "text/plain": [
       "'-0.020'"
      ]
     },
     "metadata": {},
     "output_type": "display_data"
    }
   ],
   "source": [
    "display('{0:.3f}'.format(stats.mannwhitneyu(orders[np.logical_and(orders['group'] == 'A',\n",
    "                    np.logical_not(orders['visitorId'].isin(abnormalUsers)),)]['revenue'],orders[np.logical_and(\n",
    "                    orders['group'] == 'B',\n",
    "                    np.logical_not(orders['visitorId'].isin(abnormalUsers)),)]['revenue'],)[1]))\n",
    "\n",
    "display(\"{0:.3f}\".format(orders[np.logical_and(orders['group'] == 'B',\n",
    "                np.logical_not(orders['visitorId'].isin(abnormalUsers)),)]['revenue'].mean()/ orders[np.logical_and(\n",
    "                orders['group'] == 'A',\n",
    "                np.logical_not(orders['visitorId'].isin(abnormalUsers)),)]['revenue'].mean()- 1)) \n"
   ]
  },
  {
   "cell_type": "markdown",
   "metadata": {},
   "source": [
    "P-value практически не изменился (было 0,365), но разница между сегментами сократилась с 26% до 2%."
   ]
  },
  {
   "cell_type": "markdown",
   "metadata": {},
   "source": [
    "### \tПримим решение по результатам теста и объясним его. Варианты решений: 1. Остановить тест, зафиксировать победу одной из групп. 2. Остановить тест, зафиксировать отсутствие различий между группами. 3. Продолжить тест."
   ]
  },
  {
   "cell_type": "markdown",
   "metadata": {},
   "source": [
    "По заверешении работы имеем следубщие факты:\n",
    "\n",
    "•\tЕсть статистически значимое различие по среднему количеству заказов между группами по «сырым», ни по данным после фильтрации аномалий;\n",
    "\n",
    "•\tНет статистически значимого различия по среднему чеку между группами ни по «сырым», ни по данным после фильтрации аномалий;\n",
    "\n",
    "•\tГрафик различия конверсии между группами сообщает, что результаты группы B лучше группы A:\n"
   ]
  },
  {
   "cell_type": "code",
   "execution_count": 40,
   "metadata": {},
   "outputs": [
    {
     "data": {
      "image/png": "[encoded data removed]",
      "text/plain": [
       "<Figure size 1080x360 with 1 Axes>"
      ]
     },
     "metadata": {
      "needs_background": "light"
     },
     "output_type": "display_data"
    }
   ],
   "source": [
    "plt.figure(figsize=(15, 5))\n",
    "plt.suptitle('График относительного изменения кумулятивного среднего количества заказов группы B к группе A', fontsize= 16) \n",
    "plt.plot(mergedCumulativeConversions['date'], mergedCumulativeConversions['conversionB']/mergedCumulativeConversions['conversionA']-1, label=\"Относительный прирост конверсии группы B относительно группы A\")\n",
    "\n",
    "\n",
    "plt.axhline(y=0, color='black', linestyle='--')\n",
    "plt.xticks(rotation=45)\n",
    "plt.xlabel('Дата')\n",
    "plt.ylabel('Относительное кумулятивное среднее количество заказов х 100%')\n",
    "plt.show()"
   ]
  },
  {
   "cell_type": "markdown",
   "metadata": {},
   "source": [
    " •\tГрафик различия среднего чека говорит о том, что результаты группы B колебались и сейчас почти на 20% лучше первоначального:"
   ]
  },
  {
   "cell_type": "code",
   "execution_count": 41,
   "metadata": {},
   "outputs": [
    {
     "data": {
      "image/png": "[encoded data removed]",
      "text/plain": [
       "<Figure size 1080x360 with 1 Axes>"
      ]
     },
     "metadata": {
      "needs_background": "light"
     },
     "output_type": "display_data"
    }
   ],
   "source": [
    "plt.figure(figsize=(15, 5))\n",
    "plt.plot(mergedCumulativeRevenue['date'], (mergedCumulativeRevenue['revenueB']/mergedCumulativeRevenue['ordersB'])/(mergedCumulativeRevenue['revenueA']/mergedCumulativeRevenue['ordersA'])-1)\n",
    "plt.xticks(rotation=45)\n",
    "plt.axhline(y=0, color='black', linestyle='--') \n",
    "plt.suptitle('График относительного изменения кумулятивного среднего чека группы B к группе A', fontsize= 16) \n",
    "plt.xlabel('Дата')\n",
    "plt.ylabel('Относительный кумулятивный средний чек х 100%')\n",
    "plt.show()"
   ]
  },
  {
   "cell_type": "markdown",
   "metadata": {},
   "source": [
    "Таким образом, можно сделать вывод о том, что тест можно остановить: победила группа B."
   ]
  },
  {
   "cell_type": "markdown",
   "metadata": {},
   "source": [
    "В ходе работы был проведен А/В тест выбранной гипотезы: Добавить форму подписки на все основные страницы, чтобы собрать базу клиентов для email-рассылок.\n",
    "\n",
    "- Прежде всего были проверены данные на предмет корректности А/В теста, а именно, что каждый пользователь попал исключительно в одну группу тесирования. Оказалось, что имеется 58 пользователей, которые видели оба варианта лендинга. Ввиду незначительного их количества (менее 6% от общего количества пользователей) этих пользователей решено оставить в исследовании.\n",
    "\n",
    "- Построив графики кумулятивной выручки по группам A/B-тестирования видим следующее: Выручки по обеим группам растут одинаково - линии графика слились в одну. Далее 5 августа линия группы В отрывается вверх от линии группы А. Выручки продолжают равномерно расти. Однако график выручки группы В имеет резкий скачок 18 августа 2019 года. Это может сигнализировать о всплеске числа заказов, либо о появлении очень дорогих заказов в выборке. Такие выбросы далее будут проанализированы.\n",
    "\n",
    "- Построив графики кумулятивного срднего чека по группам A/B-тестирования видим следующее: Средний чек становится равномерным ближе к концу теста для группы А, для группы В наблюдается рост в начале теста, резкий скачок (более, чем на 3000 усл. ед.) и снижение к концу теста до уровня около 9000 усл. ед. В группу B 18 августа 2019 года явно попали крупные заказы (резкий всплеск на графике). Для группы В нужно больше данных, чтобы прийти к реальному среднему чеку и установиться на его уровне.\n",
    "\n",
    "- Далее изучили График относительного изменения кумулятивного среднего чека группы B к группе A. В нескольких точках график различия между сегментами резко «скачет», что говорит о наличии крупных заказов и выбросов в эти даты.\n",
    "\n",
    "- Далее был построен График кумулятивного среднего количества заказов по группам А/В теста'. По графику видим следующее: В начале теста группы демонстрируют рост конверсии, а затем ее снижение. Далее графики групп идут симметрично относительно одного значения. Конверсия группы B выросла и зафиксировалась, в то время как конверсия группы А просела и также зафиксировалась.\n",
    "\n",
    "- График относительного изменения кумулятивного среднего количества заказов группы B к группе A сообщает следующее: В начале теста группа B с переменным успехом проигрывала группе A, затем вырвалась вперёд. Вцелом, группа B лидирует по конверсии: зафиксировалась около прироста в 10% относительно группы A.\n",
    "\n",
    "- После очистки данных от выбросов общая картина не изменилась: Средний чек в группе В вырос на 50%, Конверсия в группе В выросла на 20%. \n",
    "\n",
    "Таким образом можно принять А/В тест состоявшимся и завершившимся успехом группы В с гипотезой - Добавить форму подписки на все основные страницы, чтобы собрать базу клиентов для email-рассылок."
   ]
  }
 ],
 "metadata": {
  "ExecuteTimeLog": [
   {
    "duration": 4,
    "start_time": "2022-10-21T17:02:44.208Z"
   },
   {
    "duration": 777,
    "start_time": "2022-10-21T17:10:12.350Z"
   },
   {
    "duration": 3,
    "start_time": "2022-10-21T17:10:47.883Z"
   },
   {
    "duration": 80,
    "start_time": "2022-10-21T17:14:49.734Z"
   },
   {
    "duration": 37,
    "start_time": "2022-10-21T17:14:58.840Z"
   },
   {
    "duration": 33,
    "start_time": "2022-10-21T17:16:36.826Z"
   },
   {
    "duration": 74,
    "start_time": "2022-10-21T20:04:42.641Z"
   },
   {
    "duration": 11,
    "start_time": "2022-10-21T20:04:50.910Z"
   },
   {
    "duration": 12,
    "start_time": "2022-10-21T20:05:39.030Z"
   },
   {
    "duration": 10,
    "start_time": "2022-10-21T20:05:48.166Z"
   },
   {
    "duration": 5,
    "start_time": "2022-10-21T20:06:36.151Z"
   },
   {
    "duration": 4,
    "start_time": "2022-10-21T20:07:08.544Z"
   },
   {
    "duration": 30,
    "start_time": "2022-10-21T20:10:16.389Z"
   },
   {
    "duration": 10,
    "start_time": "2022-10-21T20:10:30.355Z"
   },
   {
    "duration": 31,
    "start_time": "2022-10-21T20:11:38.280Z"
   },
   {
    "duration": 10,
    "start_time": "2022-10-21T20:11:49.740Z"
   },
   {
    "duration": 6,
    "start_time": "2022-10-21T20:11:50.568Z"
   },
   {
    "duration": 5,
    "start_time": "2022-10-21T20:12:28.254Z"
   },
   {
    "duration": 31,
    "start_time": "2022-10-21T20:12:51.798Z"
   },
   {
    "duration": 30,
    "start_time": "2022-10-21T20:13:12.204Z"
   },
   {
    "duration": 31,
    "start_time": "2022-10-21T20:14:27.816Z"
   },
   {
    "duration": 30,
    "start_time": "2022-10-21T20:14:40.007Z"
   },
   {
    "duration": 30,
    "start_time": "2022-10-21T20:14:45.729Z"
   },
   {
    "duration": 34,
    "start_time": "2022-10-21T20:15:06.925Z"
   },
   {
    "duration": 10,
    "start_time": "2022-10-21T20:15:09.501Z"
   },
   {
    "duration": 10,
    "start_time": "2022-10-21T20:23:02.282Z"
   },
   {
    "duration": 11,
    "start_time": "2022-10-21T20:23:42.944Z"
   },
   {
    "duration": 56,
    "start_time": "2022-10-21T21:00:57.023Z"
   },
   {
    "duration": 104,
    "start_time": "2022-10-21T21:01:04.916Z"
   },
   {
    "duration": 134,
    "start_time": "2022-10-21T21:01:17.351Z"
   },
   {
    "duration": 369,
    "start_time": "2022-10-21T21:03:19.986Z"
   },
   {
    "duration": 461,
    "start_time": "2022-10-21T21:04:08.284Z"
   },
   {
    "duration": 361,
    "start_time": "2022-10-21T21:04:13.855Z"
   },
   {
    "duration": 133,
    "start_time": "2022-10-21T21:04:44.825Z"
   },
   {
    "duration": 1187,
    "start_time": "2022-10-22T18:16:03.236Z"
   },
   {
    "duration": 103,
    "start_time": "2022-10-22T18:16:04.425Z"
   },
   {
    "duration": 13,
    "start_time": "2022-10-22T18:16:04.531Z"
   },
   {
    "duration": 34,
    "start_time": "2022-10-22T18:16:04.546Z"
   },
   {
    "duration": 120,
    "start_time": "2022-10-22T18:16:04.582Z"
   },
   {
    "duration": 88,
    "start_time": "2022-10-22T18:17:57.880Z"
   },
   {
    "duration": 43,
    "start_time": "2022-10-22T18:24:25.173Z"
   },
   {
    "duration": 55,
    "start_time": "2022-10-22T18:24:43.797Z"
   },
   {
    "duration": 6,
    "start_time": "2022-10-22T18:28:23.506Z"
   },
   {
    "duration": 6,
    "start_time": "2022-10-22T18:29:42.103Z"
   },
   {
    "duration": 7,
    "start_time": "2022-10-22T18:30:11.609Z"
   },
   {
    "duration": 5,
    "start_time": "2022-10-22T18:31:05.420Z"
   },
   {
    "duration": 6,
    "start_time": "2022-10-22T18:34:35.109Z"
   },
   {
    "duration": 11,
    "start_time": "2022-10-22T18:34:46.312Z"
   },
   {
    "duration": 2,
    "start_time": "2022-10-22T19:46:53.956Z"
   },
   {
    "duration": 3,
    "start_time": "2022-10-22T19:46:56.933Z"
   },
   {
    "duration": 4,
    "start_time": "2022-10-22T20:02:08.036Z"
   },
   {
    "duration": 6,
    "start_time": "2022-10-22T20:02:20.002Z"
   },
   {
    "duration": 4,
    "start_time": "2022-10-22T20:02:41.520Z"
   },
   {
    "duration": 4,
    "start_time": "2022-10-22T20:02:57.804Z"
   },
   {
    "duration": 6,
    "start_time": "2022-10-22T20:05:10.312Z"
   },
   {
    "duration": 71,
    "start_time": "2022-10-22T20:06:13.803Z"
   },
   {
    "duration": 87,
    "start_time": "2022-10-22T20:06:19.401Z"
   },
   {
    "duration": 28,
    "start_time": "2022-10-22T20:07:01.782Z"
   },
   {
    "duration": 22,
    "start_time": "2022-10-22T20:08:32.833Z"
   },
   {
    "duration": 210,
    "start_time": "2022-10-22T20:09:06.986Z"
   },
   {
    "duration": 115,
    "start_time": "2022-10-22T20:10:05.527Z"
   },
   {
    "duration": 7,
    "start_time": "2022-10-22T20:11:19.330Z"
   },
   {
    "duration": 15,
    "start_time": "2022-10-22T20:11:27.970Z"
   },
   {
    "duration": 8,
    "start_time": "2022-10-22T20:12:32.989Z"
   },
   {
    "duration": 9,
    "start_time": "2022-10-22T20:12:51.694Z"
   },
   {
    "duration": 4,
    "start_time": "2022-10-22T20:13:06.043Z"
   },
   {
    "duration": 5,
    "start_time": "2022-10-22T20:13:06.448Z"
   },
   {
    "duration": 203,
    "start_time": "2022-10-22T20:13:42.053Z"
   },
   {
    "duration": 147,
    "start_time": "2022-10-22T20:13:53.126Z"
   },
   {
    "duration": 204,
    "start_time": "2022-10-22T20:15:04.060Z"
   },
   {
    "duration": 166,
    "start_time": "2022-10-22T20:15:17.873Z"
   },
   {
    "duration": 157,
    "start_time": "2022-10-22T20:15:25.815Z"
   },
   {
    "duration": 158,
    "start_time": "2022-10-22T20:15:53.288Z"
   },
   {
    "duration": 144,
    "start_time": "2022-10-22T20:16:07.797Z"
   },
   {
    "duration": 179,
    "start_time": "2022-10-22T20:17:10.041Z"
   },
   {
    "duration": 10,
    "start_time": "2022-10-22T20:17:32.230Z"
   },
   {
    "duration": 10,
    "start_time": "2022-10-22T20:17:40.455Z"
   },
   {
    "duration": 216,
    "start_time": "2022-10-22T20:17:48.353Z"
   },
   {
    "duration": 181,
    "start_time": "2022-10-22T20:18:13.440Z"
   },
   {
    "duration": 213,
    "start_time": "2022-10-22T20:20:23.689Z"
   },
   {
    "duration": 196,
    "start_time": "2022-10-22T20:20:40.651Z"
   },
   {
    "duration": 268,
    "start_time": "2022-10-22T20:21:57.098Z"
   },
   {
    "duration": 197,
    "start_time": "2022-10-22T20:22:20.110Z"
   },
   {
    "duration": 147,
    "start_time": "2022-10-22T20:22:49.227Z"
   },
   {
    "duration": 210,
    "start_time": "2022-10-22T20:23:18.924Z"
   },
   {
    "duration": 2,
    "start_time": "2022-10-22T20:26:49.902Z"
   },
   {
    "duration": 153,
    "start_time": "2022-10-22T20:27:51.844Z"
   },
   {
    "duration": 163,
    "start_time": "2022-10-22T20:28:06.068Z"
   },
   {
    "duration": 171,
    "start_time": "2022-10-22T20:28:12.473Z"
   },
   {
    "duration": 183,
    "start_time": "2022-10-22T20:28:18.700Z"
   },
   {
    "duration": 260,
    "start_time": "2022-10-22T20:28:25.958Z"
   },
   {
    "duration": 197,
    "start_time": "2022-10-22T20:29:05.777Z"
   },
   {
    "duration": 303,
    "start_time": "2022-10-22T20:35:01.396Z"
   },
   {
    "duration": 270,
    "start_time": "2022-10-22T20:35:17.927Z"
   },
   {
    "duration": 306,
    "start_time": "2022-10-22T20:36:14.489Z"
   },
   {
    "duration": 304,
    "start_time": "2022-10-22T20:36:22.705Z"
   },
   {
    "duration": 210,
    "start_time": "2022-10-22T20:42:01.877Z"
   },
   {
    "duration": 182,
    "start_time": "2022-10-22T20:42:19.005Z"
   },
   {
    "duration": 196,
    "start_time": "2022-10-22T20:42:23.296Z"
   },
   {
    "duration": 165,
    "start_time": "2022-10-22T20:43:10.138Z"
   },
   {
    "duration": 203,
    "start_time": "2022-10-22T20:44:02.363Z"
   },
   {
    "duration": 232,
    "start_time": "2022-10-22T20:44:09.776Z"
   },
   {
    "duration": 203,
    "start_time": "2022-10-22T20:44:26.516Z"
   },
   {
    "duration": 58,
    "start_time": "2022-10-22T21:06:08.184Z"
   },
   {
    "duration": 22,
    "start_time": "2022-10-22T21:06:08.375Z"
   },
   {
    "duration": 7,
    "start_time": "2022-10-22T21:06:08.734Z"
   },
   {
    "duration": 6,
    "start_time": "2022-10-22T21:06:08.906Z"
   },
   {
    "duration": 7,
    "start_time": "2022-10-22T21:06:09.132Z"
   },
   {
    "duration": 5,
    "start_time": "2022-10-22T21:06:09.256Z"
   },
   {
    "duration": 6,
    "start_time": "2022-10-22T21:06:09.594Z"
   },
   {
    "duration": 7,
    "start_time": "2022-10-22T21:06:10.276Z"
   },
   {
    "duration": 165,
    "start_time": "2022-10-22T21:06:10.436Z"
   },
   {
    "duration": 123,
    "start_time": "2022-10-22T21:06:10.615Z"
   },
   {
    "duration": 16,
    "start_time": "2022-10-22T21:06:10.771Z"
   },
   {
    "duration": 5,
    "start_time": "2022-10-22T21:06:11.112Z"
   },
   {
    "duration": 4,
    "start_time": "2022-10-22T21:06:11.315Z"
   },
   {
    "duration": 234,
    "start_time": "2022-10-22T21:06:11.479Z"
   },
   {
    "duration": 292,
    "start_time": "2022-10-22T21:06:11.995Z"
   },
   {
    "duration": 295,
    "start_time": "2022-10-22T21:06:12.485Z"
   },
   {
    "duration": 206,
    "start_time": "2022-10-22T21:06:13.016Z"
   },
   {
    "duration": 258,
    "start_time": "2022-10-22T21:07:02.034Z"
   },
   {
    "duration": 299,
    "start_time": "2022-10-22T21:08:07.511Z"
   },
   {
    "duration": 1226,
    "start_time": "2022-10-23T10:04:23.878Z"
   },
   {
    "duration": 48,
    "start_time": "2022-10-23T10:04:25.109Z"
   },
   {
    "duration": 12,
    "start_time": "2022-10-23T10:04:25.158Z"
   },
   {
    "duration": 10,
    "start_time": "2022-10-23T10:04:25.172Z"
   },
   {
    "duration": 55,
    "start_time": "2022-10-23T10:04:25.184Z"
   },
   {
    "duration": 38,
    "start_time": "2022-10-23T10:04:25.241Z"
   },
   {
    "duration": 5,
    "start_time": "2022-10-23T10:04:25.281Z"
   },
   {
    "duration": 7,
    "start_time": "2022-10-23T10:04:25.288Z"
   },
   {
    "duration": 6,
    "start_time": "2022-10-23T10:04:25.297Z"
   },
   {
    "duration": 9,
    "start_time": "2022-10-23T10:04:25.305Z"
   },
   {
    "duration": 9,
    "start_time": "2022-10-23T10:04:25.315Z"
   },
   {
    "duration": 24,
    "start_time": "2022-10-23T10:04:25.326Z"
   },
   {
    "duration": 161,
    "start_time": "2022-10-23T10:04:25.351Z"
   },
   {
    "duration": 126,
    "start_time": "2022-10-23T10:04:25.514Z"
   },
   {
    "duration": 27,
    "start_time": "2022-10-23T10:04:25.641Z"
   },
   {
    "duration": 5,
    "start_time": "2022-10-23T10:04:25.670Z"
   },
   {
    "duration": 13,
    "start_time": "2022-10-23T10:04:25.677Z"
   },
   {
    "duration": 319,
    "start_time": "2022-10-23T10:04:25.692Z"
   },
   {
    "duration": 210,
    "start_time": "2022-10-23T10:04:26.013Z"
   },
   {
    "duration": 346,
    "start_time": "2022-10-23T10:04:26.225Z"
   },
   {
    "duration": 236,
    "start_time": "2022-10-23T10:04:26.572Z"
   },
   {
    "duration": 367,
    "start_time": "2022-10-23T10:04:26.810Z"
   },
   {
    "duration": 226,
    "start_time": "2022-10-23T10:05:32.247Z"
   },
   {
    "duration": 233,
    "start_time": "2022-10-23T10:05:40.267Z"
   },
   {
    "duration": 324,
    "start_time": "2022-10-23T10:21:16.140Z"
   },
   {
    "duration": 236,
    "start_time": "2022-10-23T10:27:13.159Z"
   },
   {
    "duration": 142,
    "start_time": "2022-10-23T10:29:52.541Z"
   },
   {
    "duration": 199,
    "start_time": "2022-10-23T10:30:12.661Z"
   },
   {
    "duration": 326,
    "start_time": "2022-10-23T10:30:32.781Z"
   },
   {
    "duration": 194,
    "start_time": "2022-10-23T10:30:43.001Z"
   },
   {
    "duration": 204,
    "start_time": "2022-10-23T10:34:14.459Z"
   },
   {
    "duration": 137,
    "start_time": "2022-10-23T10:34:56.054Z"
   },
   {
    "duration": 154,
    "start_time": "2022-10-23T10:35:07.751Z"
   },
   {
    "duration": 197,
    "start_time": "2022-10-23T10:35:20.321Z"
   },
   {
    "duration": 152,
    "start_time": "2022-10-23T10:35:28.256Z"
   },
   {
    "duration": 157,
    "start_time": "2022-10-23T10:35:39.584Z"
   },
   {
    "duration": 154,
    "start_time": "2022-10-23T10:53:03.952Z"
   },
   {
    "duration": 5,
    "start_time": "2022-10-23T10:57:19.149Z"
   },
   {
    "duration": 6,
    "start_time": "2022-10-23T10:57:25.315Z"
   },
   {
    "duration": 335,
    "start_time": "2022-10-23T11:04:22.922Z"
   },
   {
    "duration": 202,
    "start_time": "2022-10-23T11:04:34.454Z"
   },
   {
    "duration": 199,
    "start_time": "2022-10-23T11:06:17.682Z"
   },
   {
    "duration": 194,
    "start_time": "2022-10-23T11:09:19.515Z"
   },
   {
    "duration": 1131,
    "start_time": "2022-10-23T11:09:32.534Z"
   },
   {
    "duration": 24,
    "start_time": "2022-10-23T11:09:33.667Z"
   },
   {
    "duration": 12,
    "start_time": "2022-10-23T11:09:33.693Z"
   },
   {
    "duration": 20,
    "start_time": "2022-10-23T11:09:33.706Z"
   },
   {
    "duration": 35,
    "start_time": "2022-10-23T11:09:33.728Z"
   },
   {
    "duration": 19,
    "start_time": "2022-10-23T11:09:33.765Z"
   },
   {
    "duration": 6,
    "start_time": "2022-10-23T11:09:33.786Z"
   },
   {
    "duration": 13,
    "start_time": "2022-10-23T11:09:33.794Z"
   },
   {
    "duration": 16,
    "start_time": "2022-10-23T11:09:33.809Z"
   },
   {
    "duration": 6,
    "start_time": "2022-10-23T11:09:33.829Z"
   },
   {
    "duration": 8,
    "start_time": "2022-10-23T11:09:33.837Z"
   },
   {
    "duration": 10,
    "start_time": "2022-10-23T11:09:33.847Z"
   },
   {
    "duration": 197,
    "start_time": "2022-10-23T11:09:33.859Z"
   },
   {
    "duration": 118,
    "start_time": "2022-10-23T11:09:34.058Z"
   },
   {
    "duration": 16,
    "start_time": "2022-10-23T11:09:34.178Z"
   },
   {
    "duration": 6,
    "start_time": "2022-10-23T11:09:34.196Z"
   },
   {
    "duration": 5,
    "start_time": "2022-10-23T11:09:34.222Z"
   },
   {
    "duration": 300,
    "start_time": "2022-10-23T11:09:34.230Z"
   },
   {
    "duration": 207,
    "start_time": "2022-10-23T11:09:34.532Z"
   },
   {
    "duration": 304,
    "start_time": "2022-10-23T11:09:34.741Z"
   },
   {
    "duration": 235,
    "start_time": "2022-10-23T11:09:35.048Z"
   },
   {
    "duration": 356,
    "start_time": "2022-10-23T11:09:35.286Z"
   },
   {
    "duration": 142,
    "start_time": "2022-10-23T11:09:35.644Z"
   },
   {
    "duration": 158,
    "start_time": "2022-10-23T11:09:35.788Z"
   },
   {
    "duration": 5,
    "start_time": "2022-10-23T11:09:35.948Z"
   },
   {
    "duration": 272,
    "start_time": "2022-10-23T11:09:35.955Z"
   },
   {
    "duration": 6,
    "start_time": "2022-10-23T11:12:26.509Z"
   },
   {
    "duration": 11,
    "start_time": "2022-10-23T11:12:39.610Z"
   },
   {
    "duration": 195,
    "start_time": "2022-10-23T11:13:36.424Z"
   },
   {
    "duration": 13,
    "start_time": "2022-10-23T11:14:45.244Z"
   },
   {
    "duration": 390,
    "start_time": "2022-10-23T11:15:38.455Z"
   },
   {
    "duration": 20,
    "start_time": "2022-10-23T11:16:06.189Z"
   },
   {
    "duration": 7,
    "start_time": "2022-10-23T11:16:51.987Z"
   },
   {
    "duration": 15,
    "start_time": "2022-10-23T11:17:04.521Z"
   },
   {
    "duration": 15,
    "start_time": "2022-10-23T11:17:36.811Z"
   },
   {
    "duration": 15,
    "start_time": "2022-10-23T11:17:59.947Z"
   },
   {
    "duration": 162,
    "start_time": "2022-10-23T11:18:10.750Z"
   },
   {
    "duration": 205,
    "start_time": "2022-10-23T11:18:42.722Z"
   },
   {
    "duration": 12,
    "start_time": "2022-10-23T11:19:02.501Z"
   },
   {
    "duration": 655,
    "start_time": "2022-10-23T11:19:19.508Z"
   },
   {
    "duration": 13,
    "start_time": "2022-10-23T11:21:27.674Z"
   },
   {
    "duration": 11,
    "start_time": "2022-10-23T11:21:38.370Z"
   },
   {
    "duration": 110,
    "start_time": "2022-10-23T11:21:43.724Z"
   },
   {
    "duration": 268,
    "start_time": "2022-10-23T11:22:19.603Z"
   },
   {
    "duration": 68,
    "start_time": "2022-10-23T11:26:05.432Z"
   },
   {
    "duration": 10,
    "start_time": "2022-10-23T11:31:34.729Z"
   },
   {
    "duration": 13,
    "start_time": "2022-10-23T11:32:14.146Z"
   },
   {
    "duration": 6,
    "start_time": "2022-10-23T11:33:30.515Z"
   },
   {
    "duration": 12,
    "start_time": "2022-10-23T11:33:36.994Z"
   },
   {
    "duration": 11,
    "start_time": "2022-10-23T11:34:18.318Z"
   },
   {
    "duration": 10,
    "start_time": "2022-10-23T11:35:26.561Z"
   },
   {
    "duration": 10,
    "start_time": "2022-10-23T11:36:33.251Z"
   },
   {
    "duration": 13,
    "start_time": "2022-10-23T11:39:31.546Z"
   },
   {
    "duration": 732,
    "start_time": "2022-10-23T11:42:02.332Z"
   },
   {
    "duration": 11,
    "start_time": "2022-10-23T11:42:19.537Z"
   },
   {
    "duration": 5,
    "start_time": "2022-10-23T11:42:26.749Z"
   },
   {
    "duration": 5,
    "start_time": "2022-10-23T11:42:52.098Z"
   },
   {
    "duration": 14,
    "start_time": "2022-10-23T11:43:03.061Z"
   },
   {
    "duration": 8,
    "start_time": "2022-10-23T11:43:19.391Z"
   },
   {
    "duration": 6,
    "start_time": "2022-10-23T11:43:43.125Z"
   },
   {
    "duration": 13,
    "start_time": "2022-10-23T11:44:05.134Z"
   },
   {
    "duration": 8,
    "start_time": "2022-10-23T11:44:25.373Z"
   },
   {
    "duration": 10,
    "start_time": "2022-10-23T11:44:34.519Z"
   },
   {
    "duration": 5,
    "start_time": "2022-10-23T11:44:50.252Z"
   },
   {
    "duration": 745,
    "start_time": "2022-10-23T11:46:07.697Z"
   },
   {
    "duration": 5,
    "start_time": "2022-10-23T11:46:18.048Z"
   },
   {
    "duration": 4,
    "start_time": "2022-10-23T12:58:47.228Z"
   },
   {
    "duration": 5,
    "start_time": "2022-10-23T12:59:31.228Z"
   },
   {
    "duration": 10,
    "start_time": "2022-10-23T13:03:00.450Z"
   },
   {
    "duration": 1069,
    "start_time": "2022-10-23T13:04:20.418Z"
   },
   {
    "duration": 22,
    "start_time": "2022-10-23T13:04:21.489Z"
   },
   {
    "duration": 13,
    "start_time": "2022-10-23T13:04:21.513Z"
   },
   {
    "duration": 10,
    "start_time": "2022-10-23T13:04:21.528Z"
   },
   {
    "duration": 29,
    "start_time": "2022-10-23T13:04:21.541Z"
   },
   {
    "duration": 14,
    "start_time": "2022-10-23T13:04:21.572Z"
   },
   {
    "duration": 5,
    "start_time": "2022-10-23T13:04:21.587Z"
   },
   {
    "duration": 9,
    "start_time": "2022-10-23T13:04:21.593Z"
   },
   {
    "duration": 6,
    "start_time": "2022-10-23T13:04:21.603Z"
   },
   {
    "duration": 13,
    "start_time": "2022-10-23T13:04:21.610Z"
   },
   {
    "duration": 3,
    "start_time": "2022-10-23T13:04:21.627Z"
   },
   {
    "duration": 39,
    "start_time": "2022-10-23T13:04:21.631Z"
   },
   {
    "duration": 4,
    "start_time": "2022-10-23T13:04:21.671Z"
   },
   {
    "duration": 5,
    "start_time": "2022-10-23T13:04:21.677Z"
   },
   {
    "duration": 155,
    "start_time": "2022-10-23T13:04:21.684Z"
   },
   {
    "duration": 119,
    "start_time": "2022-10-23T13:04:21.840Z"
   },
   {
    "duration": 15,
    "start_time": "2022-10-23T13:04:21.960Z"
   },
   {
    "duration": 4,
    "start_time": "2022-10-23T13:04:21.977Z"
   },
   {
    "duration": 9,
    "start_time": "2022-10-23T13:04:21.983Z"
   },
   {
    "duration": 310,
    "start_time": "2022-10-23T13:04:21.993Z"
   },
   {
    "duration": 295,
    "start_time": "2022-10-23T13:04:22.304Z"
   },
   {
    "duration": 402,
    "start_time": "2022-10-23T13:04:22.601Z"
   },
   {
    "duration": 322,
    "start_time": "2022-10-23T13:04:23.005Z"
   },
   {
    "duration": 440,
    "start_time": "2022-10-23T13:04:23.329Z"
   },
   {
    "duration": 134,
    "start_time": "2022-10-23T13:04:23.770Z"
   },
   {
    "duration": 158,
    "start_time": "2022-10-23T13:04:23.906Z"
   },
   {
    "duration": 5,
    "start_time": "2022-10-23T13:04:24.066Z"
   },
   {
    "duration": 15,
    "start_time": "2022-10-23T13:04:24.072Z"
   },
   {
    "duration": 133,
    "start_time": "2022-10-23T13:04:24.089Z"
   },
   {
    "duration": 137,
    "start_time": "2022-10-23T13:04:24.224Z"
   },
   {
    "duration": 9,
    "start_time": "2022-10-23T13:04:24.363Z"
   },
   {
    "duration": 11,
    "start_time": "2022-10-23T13:04:24.374Z"
   },
   {
    "duration": 13,
    "start_time": "2022-10-23T13:04:24.386Z"
   },
   {
    "duration": 30,
    "start_time": "2022-10-23T13:04:24.400Z"
   },
   {
    "duration": 274,
    "start_time": "2022-10-23T13:05:48.064Z"
   },
   {
    "duration": 213,
    "start_time": "2022-10-23T13:05:59.982Z"
   },
   {
    "duration": 1160,
    "start_time": "2022-10-23T13:07:38.366Z"
   },
   {
    "duration": 37,
    "start_time": "2022-10-23T13:07:39.529Z"
   },
   {
    "duration": 11,
    "start_time": "2022-10-23T13:07:39.568Z"
   },
   {
    "duration": 11,
    "start_time": "2022-10-23T13:07:39.580Z"
   },
   {
    "duration": 42,
    "start_time": "2022-10-23T13:07:39.593Z"
   },
   {
    "duration": 20,
    "start_time": "2022-10-23T13:07:39.636Z"
   },
   {
    "duration": 5,
    "start_time": "2022-10-23T13:07:39.657Z"
   },
   {
    "duration": 22,
    "start_time": "2022-10-23T13:07:39.664Z"
   },
   {
    "duration": 18,
    "start_time": "2022-10-23T13:07:39.688Z"
   },
   {
    "duration": 23,
    "start_time": "2022-10-23T13:07:39.707Z"
   },
   {
    "duration": 18,
    "start_time": "2022-10-23T13:07:39.732Z"
   },
   {
    "duration": 27,
    "start_time": "2022-10-23T13:07:39.751Z"
   },
   {
    "duration": 4,
    "start_time": "2022-10-23T13:07:39.779Z"
   },
   {
    "duration": 16,
    "start_time": "2022-10-23T13:07:39.785Z"
   },
   {
    "duration": 167,
    "start_time": "2022-10-23T13:07:39.803Z"
   },
   {
    "duration": 118,
    "start_time": "2022-10-23T13:07:39.972Z"
   },
   {
    "duration": 14,
    "start_time": "2022-10-23T13:07:40.092Z"
   },
   {
    "duration": 24,
    "start_time": "2022-10-23T13:07:40.107Z"
   },
   {
    "duration": 11,
    "start_time": "2022-10-23T13:07:40.132Z"
   },
   {
    "duration": 294,
    "start_time": "2022-10-23T13:07:40.145Z"
   },
   {
    "duration": 285,
    "start_time": "2022-10-23T13:07:40.441Z"
   },
   {
    "duration": 402,
    "start_time": "2022-10-23T13:07:40.728Z"
   },
   {
    "duration": 332,
    "start_time": "2022-10-23T13:07:41.132Z"
   },
   {
    "duration": 402,
    "start_time": "2022-10-23T13:07:41.466Z"
   },
   {
    "duration": 130,
    "start_time": "2022-10-23T13:07:41.869Z"
   },
   {
    "duration": 164,
    "start_time": "2022-10-23T13:07:42.001Z"
   },
   {
    "duration": 5,
    "start_time": "2022-10-23T13:07:42.166Z"
   },
   {
    "duration": 282,
    "start_time": "2022-10-23T13:07:42.172Z"
   },
   {
    "duration": 0,
    "start_time": "2022-10-23T13:07:42.456Z"
   },
   {
    "duration": 0,
    "start_time": "2022-10-23T13:07:42.458Z"
   },
   {
    "duration": 0,
    "start_time": "2022-10-23T13:07:42.459Z"
   },
   {
    "duration": 0,
    "start_time": "2022-10-23T13:07:42.460Z"
   },
   {
    "duration": 0,
    "start_time": "2022-10-23T13:07:42.462Z"
   },
   {
    "duration": 0,
    "start_time": "2022-10-23T13:07:42.463Z"
   },
   {
    "duration": 195,
    "start_time": "2022-10-23T13:07:52.797Z"
   },
   {
    "duration": 263,
    "start_time": "2022-10-23T13:08:12.374Z"
   },
   {
    "duration": 11,
    "start_time": "2022-10-23T13:09:55.313Z"
   },
   {
    "duration": 10,
    "start_time": "2022-10-23T13:10:42.746Z"
   },
   {
    "duration": 111,
    "start_time": "2022-10-23T13:10:42.758Z"
   },
   {
    "duration": 109,
    "start_time": "2022-10-23T13:10:42.871Z"
   },
   {
    "duration": 10,
    "start_time": "2022-10-23T13:10:44.325Z"
   },
   {
    "duration": 12,
    "start_time": "2022-10-23T13:10:44.753Z"
   },
   {
    "duration": 482,
    "start_time": "2022-10-23T13:14:22.295Z"
   },
   {
    "duration": 403,
    "start_time": "2022-10-23T13:14:32.398Z"
   },
   {
    "duration": 382,
    "start_time": "2022-10-23T13:14:55.037Z"
   },
   {
    "duration": 423,
    "start_time": "2022-10-23T13:15:15.471Z"
   },
   {
    "duration": 371,
    "start_time": "2022-10-23T13:16:26.643Z"
   },
   {
    "duration": 4,
    "start_time": "2022-10-23T13:17:24.752Z"
   },
   {
    "duration": 420,
    "start_time": "2022-10-23T13:17:31.296Z"
   },
   {
    "duration": 388,
    "start_time": "2022-10-23T13:18:23.881Z"
   },
   {
    "duration": 402,
    "start_time": "2022-10-23T13:19:24.713Z"
   },
   {
    "duration": 392,
    "start_time": "2022-10-23T13:20:56.193Z"
   },
   {
    "duration": 399,
    "start_time": "2022-10-23T13:21:18.524Z"
   },
   {
    "duration": 394,
    "start_time": "2022-10-23T13:22:54.748Z"
   },
   {
    "duration": 365,
    "start_time": "2022-10-23T13:23:47.133Z"
   },
   {
    "duration": 453,
    "start_time": "2022-10-23T13:23:57.634Z"
   },
   {
    "duration": 384,
    "start_time": "2022-10-23T13:24:13.605Z"
   },
   {
    "duration": 261,
    "start_time": "2022-10-23T13:24:24.245Z"
   },
   {
    "duration": 277,
    "start_time": "2022-10-23T13:24:29.850Z"
   },
   {
    "duration": 1046,
    "start_time": "2022-10-23T13:24:40.412Z"
   },
   {
    "duration": 23,
    "start_time": "2022-10-23T13:24:41.459Z"
   },
   {
    "duration": 12,
    "start_time": "2022-10-23T13:24:41.483Z"
   },
   {
    "duration": 17,
    "start_time": "2022-10-23T13:24:41.496Z"
   },
   {
    "duration": 30,
    "start_time": "2022-10-23T13:24:41.515Z"
   },
   {
    "duration": 16,
    "start_time": "2022-10-23T13:24:41.546Z"
   },
   {
    "duration": 6,
    "start_time": "2022-10-23T13:24:41.564Z"
   },
   {
    "duration": 9,
    "start_time": "2022-10-23T13:24:41.572Z"
   },
   {
    "duration": 8,
    "start_time": "2022-10-23T13:24:41.583Z"
   },
   {
    "duration": 8,
    "start_time": "2022-10-23T13:24:41.592Z"
   },
   {
    "duration": 12,
    "start_time": "2022-10-23T13:24:41.602Z"
   },
   {
    "duration": 19,
    "start_time": "2022-10-23T13:24:41.615Z"
   },
   {
    "duration": 5,
    "start_time": "2022-10-23T13:24:41.636Z"
   },
   {
    "duration": 6,
    "start_time": "2022-10-23T13:24:41.644Z"
   },
   {
    "duration": 209,
    "start_time": "2022-10-23T13:24:41.652Z"
   },
   {
    "duration": 124,
    "start_time": "2022-10-23T13:24:41.863Z"
   },
   {
    "duration": 20,
    "start_time": "2022-10-23T13:24:41.988Z"
   },
   {
    "duration": 17,
    "start_time": "2022-10-23T13:24:42.010Z"
   },
   {
    "duration": 7,
    "start_time": "2022-10-23T13:24:42.028Z"
   },
   {
    "duration": 304,
    "start_time": "2022-10-23T13:24:42.037Z"
   },
   {
    "duration": 288,
    "start_time": "2022-10-23T13:24:42.344Z"
   },
   {
    "duration": 368,
    "start_time": "2022-10-23T13:24:42.633Z"
   },
   {
    "duration": 313,
    "start_time": "2022-10-23T13:24:43.003Z"
   },
   {
    "duration": 408,
    "start_time": "2022-10-23T13:24:43.318Z"
   },
   {
    "duration": 129,
    "start_time": "2022-10-23T13:24:43.728Z"
   },
   {
    "duration": 140,
    "start_time": "2022-10-23T13:24:43.858Z"
   },
   {
    "duration": 4,
    "start_time": "2022-10-23T13:24:44.000Z"
   },
   {
    "duration": 22,
    "start_time": "2022-10-23T13:24:44.006Z"
   },
   {
    "duration": 109,
    "start_time": "2022-10-23T13:24:44.030Z"
   },
   {
    "duration": 109,
    "start_time": "2022-10-23T13:24:44.141Z"
   },
   {
    "duration": 10,
    "start_time": "2022-10-23T13:24:44.251Z"
   },
   {
    "duration": 11,
    "start_time": "2022-10-23T13:24:44.263Z"
   },
   {
    "duration": 10,
    "start_time": "2022-10-23T13:24:44.276Z"
   },
   {
    "duration": 8,
    "start_time": "2022-10-23T13:24:44.288Z"
   },
   {
    "duration": 161,
    "start_time": "2022-10-23T13:27:10.440Z"
   },
   {
    "duration": 4,
    "start_time": "2022-10-23T13:28:19.615Z"
   },
   {
    "duration": 111,
    "start_time": "2022-10-23T13:29:18.731Z"
   },
   {
    "duration": 3,
    "start_time": "2022-10-23T13:30:04.812Z"
   },
   {
    "duration": 4,
    "start_time": "2022-10-23T13:30:58.821Z"
   },
   {
    "duration": 2,
    "start_time": "2022-10-23T13:33:09.145Z"
   },
   {
    "duration": 271,
    "start_time": "2022-10-23T13:34:47.594Z"
   },
   {
    "duration": 14,
    "start_time": "2022-10-23T13:35:04.151Z"
   },
   {
    "duration": 10,
    "start_time": "2022-10-23T13:36:01.298Z"
   },
   {
    "duration": 11,
    "start_time": "2022-10-23T13:38:24.902Z"
   },
   {
    "duration": 97,
    "start_time": "2022-10-23T13:40:54.546Z"
   },
   {
    "duration": 121,
    "start_time": "2022-10-23T13:41:39.971Z"
   },
   {
    "duration": 168,
    "start_time": "2022-10-23T13:42:28.879Z"
   },
   {
    "duration": 125,
    "start_time": "2022-10-23T13:42:49.189Z"
   },
   {
    "duration": 143,
    "start_time": "2022-10-23T13:44:01.399Z"
   },
   {
    "duration": 5,
    "start_time": "2022-10-23T13:45:26.540Z"
   },
   {
    "duration": 126,
    "start_time": "2022-10-23T13:48:37.444Z"
   },
   {
    "duration": 128,
    "start_time": "2022-10-23T13:49:22.671Z"
   },
   {
    "duration": 5,
    "start_time": "2022-10-23T13:52:30.389Z"
   },
   {
    "duration": 156,
    "start_time": "2022-10-23T13:57:24.210Z"
   },
   {
    "duration": 5,
    "start_time": "2022-10-23T13:59:47.998Z"
   },
   {
    "duration": 1008,
    "start_time": "2022-10-23T13:59:53.348Z"
   },
   {
    "duration": 23,
    "start_time": "2022-10-23T13:59:54.357Z"
   },
   {
    "duration": 10,
    "start_time": "2022-10-23T13:59:54.381Z"
   },
   {
    "duration": 10,
    "start_time": "2022-10-23T13:59:54.393Z"
   },
   {
    "duration": 27,
    "start_time": "2022-10-23T13:59:54.405Z"
   },
   {
    "duration": 13,
    "start_time": "2022-10-23T13:59:54.434Z"
   },
   {
    "duration": 5,
    "start_time": "2022-10-23T13:59:54.448Z"
   },
   {
    "duration": 6,
    "start_time": "2022-10-23T13:59:54.455Z"
   },
   {
    "duration": 5,
    "start_time": "2022-10-23T13:59:54.462Z"
   },
   {
    "duration": 6,
    "start_time": "2022-10-23T13:59:54.470Z"
   },
   {
    "duration": 10,
    "start_time": "2022-10-23T13:59:54.477Z"
   },
   {
    "duration": 15,
    "start_time": "2022-10-23T13:59:54.488Z"
   },
   {
    "duration": 18,
    "start_time": "2022-10-23T13:59:54.505Z"
   },
   {
    "duration": 7,
    "start_time": "2022-10-23T13:59:54.525Z"
   },
   {
    "duration": 161,
    "start_time": "2022-10-23T13:59:54.533Z"
   },
   {
    "duration": 114,
    "start_time": "2022-10-23T13:59:54.695Z"
   },
   {
    "duration": 21,
    "start_time": "2022-10-23T13:59:54.810Z"
   },
   {
    "duration": 5,
    "start_time": "2022-10-23T13:59:54.832Z"
   },
   {
    "duration": 16,
    "start_time": "2022-10-23T13:59:54.839Z"
   },
   {
    "duration": 277,
    "start_time": "2022-10-23T13:59:54.857Z"
   },
   {
    "duration": 201,
    "start_time": "2022-10-23T13:59:55.136Z"
   },
   {
    "duration": 309,
    "start_time": "2022-10-23T13:59:55.338Z"
   },
   {
    "duration": 223,
    "start_time": "2022-10-23T13:59:55.650Z"
   },
   {
    "duration": 315,
    "start_time": "2022-10-23T13:59:55.875Z"
   },
   {
    "duration": 10,
    "start_time": "2022-10-23T13:59:56.191Z"
   },
   {
    "duration": 125,
    "start_time": "2022-10-23T13:59:56.202Z"
   },
   {
    "duration": 143,
    "start_time": "2022-10-23T13:59:56.329Z"
   },
   {
    "duration": 5,
    "start_time": "2022-10-23T13:59:56.475Z"
   },
   {
    "duration": 149,
    "start_time": "2022-10-23T13:59:56.481Z"
   },
   {
    "duration": 224,
    "start_time": "2022-10-23T13:59:56.632Z"
   },
   {
    "duration": 5,
    "start_time": "2022-10-23T13:59:56.858Z"
   },
   {
    "duration": 145,
    "start_time": "2022-10-23T14:00:12.412Z"
   },
   {
    "duration": 339,
    "start_time": "2022-10-23T14:07:52.285Z"
   },
   {
    "duration": 344,
    "start_time": "2022-10-23T14:14:23.172Z"
   },
   {
    "duration": 405,
    "start_time": "2022-10-23T14:14:40.989Z"
   },
   {
    "duration": 342,
    "start_time": "2022-10-23T14:15:37.401Z"
   },
   {
    "duration": 15,
    "start_time": "2022-10-23T14:21:33.092Z"
   },
   {
    "duration": 11,
    "start_time": "2022-10-23T14:43:58.037Z"
   },
   {
    "duration": 11,
    "start_time": "2022-10-23T14:44:23.527Z"
   },
   {
    "duration": 12,
    "start_time": "2022-10-23T14:44:46.019Z"
   },
   {
    "duration": 1275,
    "start_time": "2022-10-23T15:06:47.012Z"
   },
   {
    "duration": 8,
    "start_time": "2022-10-23T15:08:02.217Z"
   },
   {
    "duration": 23,
    "start_time": "2022-10-23T15:08:05.567Z"
   },
   {
    "duration": 9,
    "start_time": "2022-10-23T15:09:59.003Z"
   },
   {
    "duration": 22,
    "start_time": "2022-10-23T15:10:00.948Z"
   },
   {
    "duration": 666,
    "start_time": "2022-10-23T15:21:10.255Z"
   },
   {
    "duration": 14,
    "start_time": "2022-10-23T15:22:42.532Z"
   },
   {
    "duration": 44,
    "start_time": "2022-10-23T15:29:11.490Z"
   },
   {
    "duration": 297,
    "start_time": "2022-10-23T15:47:25.189Z"
   },
   {
    "duration": 351,
    "start_time": "2022-10-23T15:48:14.917Z"
   },
   {
    "duration": 265,
    "start_time": "2022-10-23T15:51:02.366Z"
   },
   {
    "duration": 304,
    "start_time": "2022-10-23T15:52:54.861Z"
   },
   {
    "duration": 80,
    "start_time": "2022-10-23T15:54:28.396Z"
   },
   {
    "duration": 1201,
    "start_time": "2022-10-23T17:19:41.170Z"
   },
   {
    "duration": 93,
    "start_time": "2022-10-23T17:19:42.373Z"
   },
   {
    "duration": 10,
    "start_time": "2022-10-23T17:19:42.468Z"
   },
   {
    "duration": 31,
    "start_time": "2022-10-23T17:19:42.479Z"
   },
   {
    "duration": 103,
    "start_time": "2022-10-23T17:19:42.512Z"
   },
   {
    "duration": 73,
    "start_time": "2022-10-23T17:19:42.616Z"
   },
   {
    "duration": 5,
    "start_time": "2022-10-23T17:19:42.690Z"
   },
   {
    "duration": 21,
    "start_time": "2022-10-23T17:19:42.697Z"
   },
   {
    "duration": 21,
    "start_time": "2022-10-23T17:19:42.720Z"
   },
   {
    "duration": 14,
    "start_time": "2022-10-23T17:19:42.742Z"
   },
   {
    "duration": 20,
    "start_time": "2022-10-23T17:19:42.758Z"
   },
   {
    "duration": 23,
    "start_time": "2022-10-23T17:19:42.780Z"
   },
   {
    "duration": 10,
    "start_time": "2022-10-23T17:19:42.804Z"
   },
   {
    "duration": 11,
    "start_time": "2022-10-23T17:19:42.817Z"
   },
   {
    "duration": 162,
    "start_time": "2022-10-23T17:19:42.829Z"
   },
   {
    "duration": 109,
    "start_time": "2022-10-23T17:19:42.993Z"
   },
   {
    "duration": 22,
    "start_time": "2022-10-23T17:19:43.103Z"
   },
   {
    "duration": 14,
    "start_time": "2022-10-23T17:19:43.126Z"
   },
   {
    "duration": 10,
    "start_time": "2022-10-23T17:19:43.141Z"
   },
   {
    "duration": 301,
    "start_time": "2022-10-23T17:19:43.152Z"
   },
   {
    "duration": 189,
    "start_time": "2022-10-23T17:19:43.454Z"
   },
   {
    "duration": 314,
    "start_time": "2022-10-23T17:19:43.644Z"
   },
   {
    "duration": 204,
    "start_time": "2022-10-23T17:19:43.960Z"
   },
   {
    "duration": 281,
    "start_time": "2022-10-23T17:19:44.165Z"
   },
   {
    "duration": 10,
    "start_time": "2022-10-23T17:19:44.447Z"
   },
   {
    "duration": 120,
    "start_time": "2022-10-23T17:19:44.458Z"
   },
   {
    "duration": 143,
    "start_time": "2022-10-23T17:19:44.580Z"
   },
   {
    "duration": 5,
    "start_time": "2022-10-23T17:19:44.724Z"
   },
   {
    "duration": 134,
    "start_time": "2022-10-23T17:19:44.730Z"
   },
   {
    "duration": 202,
    "start_time": "2022-10-23T17:19:44.865Z"
   },
   {
    "duration": 5,
    "start_time": "2022-10-23T17:19:45.069Z"
   },
   {
    "duration": 332,
    "start_time": "2022-10-23T17:19:45.076Z"
   },
   {
    "duration": 17,
    "start_time": "2022-10-23T17:19:45.409Z"
   },
   {
    "duration": 9,
    "start_time": "2022-10-23T17:19:45.428Z"
   },
   {
    "duration": 31,
    "start_time": "2022-10-23T17:19:45.439Z"
   },
   {
    "duration": 46,
    "start_time": "2022-10-23T17:19:45.471Z"
   },
   {
    "duration": 13,
    "start_time": "2022-10-23T17:19:45.518Z"
   },
   {
    "duration": 315,
    "start_time": "2022-10-23T17:19:45.533Z"
   },
   {
    "duration": 317,
    "start_time": "2022-10-23T17:19:45.849Z"
   },
   {
    "duration": 7,
    "start_time": "2022-10-23T17:22:50.264Z"
   },
   {
    "duration": 87,
    "start_time": "2022-10-23T17:23:00.098Z"
   },
   {
    "duration": 6,
    "start_time": "2022-10-23T17:23:23.368Z"
   },
   {
    "duration": 6,
    "start_time": "2022-10-23T17:23:30.328Z"
   },
   {
    "duration": 43,
    "start_time": "2022-10-23T17:41:02.991Z"
   },
   {
    "duration": 1218,
    "start_time": "2022-10-23T17:41:15.457Z"
   },
   {
    "duration": 92,
    "start_time": "2022-10-23T17:41:16.677Z"
   },
   {
    "duration": 1096,
    "start_time": "2022-10-23T17:41:25.534Z"
   },
   {
    "duration": 35,
    "start_time": "2022-10-23T17:41:26.632Z"
   },
   {
    "duration": 17,
    "start_time": "2022-10-23T17:41:26.669Z"
   },
   {
    "duration": 10,
    "start_time": "2022-10-23T17:41:26.688Z"
   },
   {
    "duration": 23,
    "start_time": "2022-10-23T17:41:26.700Z"
   },
   {
    "duration": 118,
    "start_time": "2022-10-23T17:41:26.725Z"
   },
   {
    "duration": 73,
    "start_time": "2022-10-23T17:41:26.845Z"
   },
   {
    "duration": 8,
    "start_time": "2022-10-23T17:41:26.920Z"
   },
   {
    "duration": 36,
    "start_time": "2022-10-23T17:41:26.929Z"
   },
   {
    "duration": 40,
    "start_time": "2022-10-23T17:41:26.967Z"
   },
   {
    "duration": 48,
    "start_time": "2022-10-23T17:41:27.009Z"
   },
   {
    "duration": 25,
    "start_time": "2022-10-23T17:41:27.059Z"
   },
   {
    "duration": 28,
    "start_time": "2022-10-23T17:41:27.086Z"
   },
   {
    "duration": 5,
    "start_time": "2022-10-23T17:41:27.119Z"
   },
   {
    "duration": 29,
    "start_time": "2022-10-23T17:41:27.127Z"
   },
   {
    "duration": 221,
    "start_time": "2022-10-23T17:41:27.158Z"
   },
   {
    "duration": 136,
    "start_time": "2022-10-23T17:41:27.380Z"
   },
   {
    "duration": 51,
    "start_time": "2022-10-23T17:41:27.517Z"
   },
   {
    "duration": 9,
    "start_time": "2022-10-23T17:41:27.570Z"
   },
   {
    "duration": 12,
    "start_time": "2022-10-23T17:41:27.581Z"
   },
   {
    "duration": 365,
    "start_time": "2022-10-23T17:41:27.595Z"
   },
   {
    "duration": 225,
    "start_time": "2022-10-23T17:41:27.962Z"
   },
   {
    "duration": 355,
    "start_time": "2022-10-23T17:41:28.189Z"
   },
   {
    "duration": 249,
    "start_time": "2022-10-23T17:41:28.546Z"
   },
   {
    "duration": 375,
    "start_time": "2022-10-23T17:41:28.796Z"
   },
   {
    "duration": 29,
    "start_time": "2022-10-23T17:41:29.173Z"
   },
   {
    "duration": 145,
    "start_time": "2022-10-23T17:41:29.204Z"
   },
   {
    "duration": 164,
    "start_time": "2022-10-23T17:41:29.350Z"
   },
   {
    "duration": 5,
    "start_time": "2022-10-23T17:41:29.515Z"
   },
   {
    "duration": 156,
    "start_time": "2022-10-23T17:41:29.521Z"
   },
   {
    "duration": 234,
    "start_time": "2022-10-23T17:41:29.688Z"
   },
   {
    "duration": 6,
    "start_time": "2022-10-23T17:41:29.924Z"
   },
   {
    "duration": 399,
    "start_time": "2022-10-23T17:41:29.931Z"
   },
   {
    "duration": 13,
    "start_time": "2022-10-23T17:41:30.333Z"
   },
   {
    "duration": 23,
    "start_time": "2022-10-23T17:41:30.348Z"
   },
   {
    "duration": 48,
    "start_time": "2022-10-23T17:41:30.372Z"
   },
   {
    "duration": 36,
    "start_time": "2022-10-23T17:41:30.422Z"
   },
   {
    "duration": 14,
    "start_time": "2022-10-23T17:41:30.460Z"
   },
   {
    "duration": 362,
    "start_time": "2022-10-23T17:41:30.476Z"
   },
   {
    "duration": 322,
    "start_time": "2022-10-23T17:41:30.840Z"
   },
   {
    "duration": 92,
    "start_time": "2022-10-23T17:45:07.635Z"
   },
   {
    "duration": 1063,
    "start_time": "2022-10-23T17:45:32.265Z"
   },
   {
    "duration": 3,
    "start_time": "2022-10-23T17:45:45.967Z"
   },
   {
    "duration": 30,
    "start_time": "2022-10-23T17:45:46.767Z"
   },
   {
    "duration": 10,
    "start_time": "2022-10-23T17:45:51.551Z"
   },
   {
    "duration": 9,
    "start_time": "2022-10-23T17:45:55.502Z"
   },
   {
    "duration": 11,
    "start_time": "2022-10-23T17:45:58.351Z"
   },
   {
    "duration": 10,
    "start_time": "2022-10-23T17:46:03.764Z"
   },
   {
    "duration": 68,
    "start_time": "2022-10-23T17:46:31.816Z"
   },
   {
    "duration": 192,
    "start_time": "2022-10-23T17:58:49.188Z"
   },
   {
    "duration": 199,
    "start_time": "2022-10-23T17:59:04.229Z"
   },
   {
    "duration": 346,
    "start_time": "2022-10-23T17:59:16.880Z"
   },
   {
    "duration": 216,
    "start_time": "2022-10-23T17:59:23.782Z"
   },
   {
    "duration": 282,
    "start_time": "2022-10-23T17:59:31.841Z"
   },
   {
    "duration": 354,
    "start_time": "2022-10-23T18:00:58.744Z"
   },
   {
    "duration": 322,
    "start_time": "2022-10-23T18:01:26.001Z"
   },
   {
    "duration": 331,
    "start_time": "2022-10-23T18:01:40.426Z"
   },
   {
    "duration": 395,
    "start_time": "2022-10-23T18:02:06.878Z"
   },
   {
    "duration": 297,
    "start_time": "2022-10-23T18:02:33.750Z"
   },
   {
    "duration": 309,
    "start_time": "2022-10-23T18:02:43.583Z"
   },
   {
    "duration": 70,
    "start_time": "2022-10-23T18:07:39.748Z"
   },
   {
    "duration": 11,
    "start_time": "2022-10-23T18:07:47.602Z"
   },
   {
    "duration": 11,
    "start_time": "2022-10-23T18:08:28.939Z"
   },
   {
    "duration": 17,
    "start_time": "2022-10-23T18:09:04.174Z"
   },
   {
    "duration": 11,
    "start_time": "2022-10-23T18:10:29.405Z"
   },
   {
    "duration": 17,
    "start_time": "2022-10-23T18:11:29.380Z"
   },
   {
    "duration": 12,
    "start_time": "2022-10-23T18:12:28.534Z"
   },
   {
    "duration": 17,
    "start_time": "2022-10-23T18:13:46.653Z"
   },
   {
    "duration": 13,
    "start_time": "2022-10-23T18:14:00.460Z"
   },
   {
    "duration": 12,
    "start_time": "2022-10-23T18:14:13.105Z"
   },
   {
    "duration": 1193,
    "start_time": "2022-10-23T18:14:29.553Z"
   },
   {
    "duration": 12,
    "start_time": "2022-10-23T18:14:33.087Z"
   },
   {
    "duration": 1098,
    "start_time": "2022-10-23T18:14:44.479Z"
   },
   {
    "duration": 34,
    "start_time": "2022-10-23T18:14:45.579Z"
   },
   {
    "duration": 11,
    "start_time": "2022-10-23T18:14:45.615Z"
   },
   {
    "duration": 9,
    "start_time": "2022-10-23T18:14:45.628Z"
   },
   {
    "duration": 16,
    "start_time": "2022-10-23T18:14:45.639Z"
   },
   {
    "duration": 20,
    "start_time": "2022-10-23T18:14:45.657Z"
   },
   {
    "duration": 49,
    "start_time": "2022-10-23T18:14:45.684Z"
   },
   {
    "duration": 20,
    "start_time": "2022-10-23T18:14:45.735Z"
   },
   {
    "duration": 5,
    "start_time": "2022-10-23T18:14:45.757Z"
   },
   {
    "duration": 7,
    "start_time": "2022-10-23T18:14:45.766Z"
   },
   {
    "duration": 12,
    "start_time": "2022-10-23T18:14:45.775Z"
   },
   {
    "duration": 10,
    "start_time": "2022-10-23T18:14:45.789Z"
   },
   {
    "duration": 14,
    "start_time": "2022-10-23T18:14:45.800Z"
   },
   {
    "duration": 17,
    "start_time": "2022-10-23T18:14:45.815Z"
   },
   {
    "duration": 4,
    "start_time": "2022-10-23T18:14:45.834Z"
   },
   {
    "duration": 19,
    "start_time": "2022-10-23T18:14:45.840Z"
   },
   {
    "duration": 165,
    "start_time": "2022-10-23T18:14:45.861Z"
   },
   {
    "duration": 112,
    "start_time": "2022-10-23T18:14:46.028Z"
   },
   {
    "duration": 16,
    "start_time": "2022-10-23T18:14:46.141Z"
   },
   {
    "duration": 6,
    "start_time": "2022-10-23T18:14:46.159Z"
   },
   {
    "duration": 19,
    "start_time": "2022-10-23T18:14:46.167Z"
   },
   {
    "duration": 297,
    "start_time": "2022-10-23T18:14:46.188Z"
   },
   {
    "duration": 213,
    "start_time": "2022-10-23T18:14:46.487Z"
   },
   {
    "duration": 309,
    "start_time": "2022-10-23T18:14:46.701Z"
   },
   {
    "duration": 262,
    "start_time": "2022-10-23T18:14:47.012Z"
   },
   {
    "duration": 333,
    "start_time": "2022-10-23T18:14:47.276Z"
   },
   {
    "duration": 11,
    "start_time": "2022-10-23T18:14:47.611Z"
   },
   {
    "duration": 136,
    "start_time": "2022-10-23T18:14:47.625Z"
   },
   {
    "duration": 155,
    "start_time": "2022-10-23T18:14:47.763Z"
   },
   {
    "duration": 5,
    "start_time": "2022-10-23T18:14:47.919Z"
   },
   {
    "duration": 144,
    "start_time": "2022-10-23T18:14:47.925Z"
   },
   {
    "duration": 248,
    "start_time": "2022-10-23T18:14:48.070Z"
   },
   {
    "duration": 5,
    "start_time": "2022-10-23T18:14:48.320Z"
   },
   {
    "duration": 362,
    "start_time": "2022-10-23T18:14:48.327Z"
   },
   {
    "duration": 11,
    "start_time": "2022-10-23T18:14:48.691Z"
   },
   {
    "duration": 10,
    "start_time": "2022-10-23T18:14:48.703Z"
   },
   {
    "duration": 7,
    "start_time": "2022-10-23T18:14:48.714Z"
   },
   {
    "duration": 20,
    "start_time": "2022-10-23T18:14:48.723Z"
   },
   {
    "duration": 51,
    "start_time": "2022-10-23T18:14:48.745Z"
   },
   {
    "duration": 327,
    "start_time": "2022-10-23T18:14:48.798Z"
   },
   {
    "duration": 280,
    "start_time": "2022-10-23T18:14:49.127Z"
   },
   {
    "duration": 103,
    "start_time": "2022-10-23T18:15:10.974Z"
   },
   {
    "duration": 96,
    "start_time": "2022-10-23T18:15:15.860Z"
   },
   {
    "duration": 1356,
    "start_time": "2022-10-23T18:15:22.895Z"
   },
   {
    "duration": 1070,
    "start_time": "2022-10-23T18:15:31.743Z"
   },
   {
    "duration": 3,
    "start_time": "2022-10-23T18:15:42.438Z"
   },
   {
    "duration": 37,
    "start_time": "2022-10-23T18:15:43.065Z"
   },
   {
    "duration": 11,
    "start_time": "2022-10-23T18:15:46.275Z"
   },
   {
    "duration": 11,
    "start_time": "2022-10-23T18:15:50.466Z"
   },
   {
    "duration": 12,
    "start_time": "2022-10-23T18:15:55.973Z"
   },
   {
    "duration": 52,
    "start_time": "2022-10-23T18:15:59.642Z"
   },
   {
    "duration": 13,
    "start_time": "2022-10-23T18:16:19.238Z"
   },
   {
    "duration": 11,
    "start_time": "2022-10-23T18:16:49.738Z"
   },
   {
    "duration": 16,
    "start_time": "2022-10-23T18:17:00.651Z"
   },
   {
    "duration": 19,
    "start_time": "2022-10-23T18:17:42.683Z"
   },
   {
    "duration": 24,
    "start_time": "2022-10-23T18:27:39.909Z"
   },
   {
    "duration": 15,
    "start_time": "2022-10-23T18:27:56.136Z"
   },
   {
    "duration": 106,
    "start_time": "2022-10-23T18:31:35.457Z"
   },
   {
    "duration": 160,
    "start_time": "2022-10-23T19:27:54.250Z"
   },
   {
    "duration": 10,
    "start_time": "2022-10-23T19:29:22.617Z"
   },
   {
    "duration": 82,
    "start_time": "2022-10-23T19:32:36.394Z"
   },
   {
    "duration": 227,
    "start_time": "2022-10-23T19:32:42.553Z"
   },
   {
    "duration": 69,
    "start_time": "2022-10-23T19:33:25.802Z"
   },
   {
    "duration": 216,
    "start_time": "2022-10-23T19:34:11.843Z"
   },
   {
    "duration": 265,
    "start_time": "2022-10-23T19:35:10.000Z"
   },
   {
    "duration": 224,
    "start_time": "2022-10-23T19:43:06.583Z"
   },
   {
    "duration": 93,
    "start_time": "2022-10-23T19:43:19.913Z"
   },
   {
    "duration": 253,
    "start_time": "2022-10-23T19:49:37.226Z"
   },
   {
    "duration": 184,
    "start_time": "2022-10-23T19:54:27.640Z"
   },
   {
    "duration": 90,
    "start_time": "2022-10-23T19:56:36.821Z"
   },
   {
    "duration": 78,
    "start_time": "2022-10-23T19:57:10.956Z"
   },
   {
    "duration": 107,
    "start_time": "2022-10-23T19:57:26.917Z"
   },
   {
    "duration": 224,
    "start_time": "2022-10-23T19:58:59.300Z"
   },
   {
    "duration": 4,
    "start_time": "2022-10-23T20:01:04.680Z"
   },
   {
    "duration": 1065,
    "start_time": "2022-10-23T20:01:11.012Z"
   },
   {
    "duration": 45,
    "start_time": "2022-10-23T20:01:12.079Z"
   },
   {
    "duration": 10,
    "start_time": "2022-10-23T20:01:12.125Z"
   },
   {
    "duration": 8,
    "start_time": "2022-10-23T20:01:12.137Z"
   },
   {
    "duration": 15,
    "start_time": "2022-10-23T20:01:12.146Z"
   },
   {
    "duration": 55,
    "start_time": "2022-10-23T20:01:12.163Z"
   },
   {
    "duration": 44,
    "start_time": "2022-10-23T20:01:12.219Z"
   },
   {
    "duration": 26,
    "start_time": "2022-10-23T20:01:12.264Z"
   },
   {
    "duration": 6,
    "start_time": "2022-10-23T20:01:12.295Z"
   },
   {
    "duration": 8,
    "start_time": "2022-10-23T20:01:12.304Z"
   },
   {
    "duration": 12,
    "start_time": "2022-10-23T20:01:12.314Z"
   },
   {
    "duration": 7,
    "start_time": "2022-10-23T20:01:12.327Z"
   },
   {
    "duration": 9,
    "start_time": "2022-10-23T20:01:12.335Z"
   },
   {
    "duration": 17,
    "start_time": "2022-10-23T20:01:12.345Z"
   },
   {
    "duration": 15,
    "start_time": "2022-10-23T20:01:12.364Z"
   },
   {
    "duration": 14,
    "start_time": "2022-10-23T20:01:12.381Z"
   },
   {
    "duration": 6,
    "start_time": "2022-10-23T20:01:12.401Z"
   },
   {
    "duration": 156,
    "start_time": "2022-10-23T20:01:12.409Z"
   },
   {
    "duration": 131,
    "start_time": "2022-10-23T20:01:12.567Z"
   },
   {
    "duration": 26,
    "start_time": "2022-10-23T20:01:12.701Z"
   },
   {
    "duration": 6,
    "start_time": "2022-10-23T20:01:12.729Z"
   },
   {
    "duration": 20,
    "start_time": "2022-10-23T20:01:12.737Z"
   },
   {
    "duration": 356,
    "start_time": "2022-10-23T20:01:12.758Z"
   },
   {
    "duration": 213,
    "start_time": "2022-10-23T20:01:13.116Z"
   },
   {
    "duration": 299,
    "start_time": "2022-10-23T20:01:13.331Z"
   },
   {
    "duration": 227,
    "start_time": "2022-10-23T20:01:13.632Z"
   },
   {
    "duration": 354,
    "start_time": "2022-10-23T20:01:13.861Z"
   },
   {
    "duration": 11,
    "start_time": "2022-10-23T20:01:14.218Z"
   },
   {
    "duration": 145,
    "start_time": "2022-10-23T20:01:14.230Z"
   },
   {
    "duration": 158,
    "start_time": "2022-10-23T20:01:14.377Z"
   },
   {
    "duration": 5,
    "start_time": "2022-10-23T20:01:14.536Z"
   },
   {
    "duration": 237,
    "start_time": "2022-10-23T20:01:14.543Z"
   },
   {
    "duration": 163,
    "start_time": "2022-10-23T20:01:14.781Z"
   },
   {
    "duration": 5,
    "start_time": "2022-10-23T20:01:14.945Z"
   },
   {
    "duration": 386,
    "start_time": "2022-10-23T20:01:14.952Z"
   },
   {
    "duration": 12,
    "start_time": "2022-10-23T20:01:15.339Z"
   },
   {
    "duration": 16,
    "start_time": "2022-10-23T20:01:15.352Z"
   },
   {
    "duration": 35,
    "start_time": "2022-10-23T20:01:15.370Z"
   },
   {
    "duration": 25,
    "start_time": "2022-10-23T20:01:15.406Z"
   },
   {
    "duration": 14,
    "start_time": "2022-10-23T20:01:15.432Z"
   },
   {
    "duration": 362,
    "start_time": "2022-10-23T20:01:15.447Z"
   },
   {
    "duration": 324,
    "start_time": "2022-10-23T20:01:15.811Z"
   },
   {
    "duration": 269,
    "start_time": "2022-10-23T20:04:18.110Z"
   },
   {
    "duration": 260,
    "start_time": "2022-10-23T20:05:13.304Z"
   },
   {
    "duration": 298,
    "start_time": "2022-10-23T20:05:25.572Z"
   },
   {
    "duration": 268,
    "start_time": "2022-10-23T20:05:31.903Z"
   },
   {
    "duration": 221,
    "start_time": "2022-10-23T20:09:58.836Z"
   },
   {
    "duration": 323,
    "start_time": "2022-10-23T20:11:22.231Z"
   },
   {
    "duration": 82,
    "start_time": "2022-10-23T20:12:59.323Z"
   },
   {
    "duration": 247,
    "start_time": "2022-10-23T20:13:17.111Z"
   },
   {
    "duration": 420,
    "start_time": "2022-10-23T20:14:13.182Z"
   },
   {
    "duration": 330,
    "start_time": "2022-10-23T20:15:37.529Z"
   },
   {
    "duration": 138,
    "start_time": "2022-10-23T20:16:39.830Z"
   },
   {
    "duration": 152,
    "start_time": "2022-10-23T20:17:40.475Z"
   },
   {
    "duration": 158,
    "start_time": "2022-10-23T20:18:29.144Z"
   },
   {
    "duration": 175,
    "start_time": "2022-10-23T20:18:45.251Z"
   },
   {
    "duration": 162,
    "start_time": "2022-10-23T20:19:18.086Z"
   },
   {
    "duration": 281,
    "start_time": "2022-10-23T20:20:21.924Z"
   },
   {
    "duration": 349,
    "start_time": "2022-10-23T20:20:49.073Z"
   },
   {
    "duration": 296,
    "start_time": "2022-10-23T20:21:10.237Z"
   },
   {
    "duration": 317,
    "start_time": "2022-10-23T20:21:30.802Z"
   },
   {
    "duration": 5,
    "start_time": "2022-10-23T20:46:12.199Z"
   },
   {
    "duration": 174,
    "start_time": "2022-10-23T21:16:02.928Z"
   },
   {
    "duration": 261,
    "start_time": "2022-10-23T21:16:10.864Z"
   },
   {
    "duration": 149,
    "start_time": "2022-10-23T21:16:26.019Z"
   },
   {
    "duration": 155,
    "start_time": "2022-10-23T21:16:43.009Z"
   },
   {
    "duration": 190,
    "start_time": "2022-10-23T21:17:01.780Z"
   },
   {
    "duration": 985,
    "start_time": "2022-10-24T17:11:53.341Z"
   },
   {
    "duration": 35,
    "start_time": "2022-10-24T17:11:54.328Z"
   },
   {
    "duration": 11,
    "start_time": "2022-10-24T17:11:54.365Z"
   },
   {
    "duration": 8,
    "start_time": "2022-10-24T17:11:54.378Z"
   },
   {
    "duration": 13,
    "start_time": "2022-10-24T17:11:54.389Z"
   },
   {
    "duration": 49,
    "start_time": "2022-10-24T17:11:54.403Z"
   },
   {
    "duration": 45,
    "start_time": "2022-10-24T17:11:54.453Z"
   },
   {
    "duration": 24,
    "start_time": "2022-10-24T17:11:54.499Z"
   },
   {
    "duration": 6,
    "start_time": "2022-10-24T17:11:54.525Z"
   },
   {
    "duration": 7,
    "start_time": "2022-10-24T17:11:54.533Z"
   },
   {
    "duration": 6,
    "start_time": "2022-10-24T17:11:54.541Z"
   },
   {
    "duration": 9,
    "start_time": "2022-10-24T17:11:54.548Z"
   },
   {
    "duration": 7,
    "start_time": "2022-10-24T17:11:54.559Z"
   },
   {
    "duration": 13,
    "start_time": "2022-10-24T17:11:54.570Z"
   },
   {
    "duration": 30,
    "start_time": "2022-10-24T17:11:54.585Z"
   },
   {
    "duration": 5,
    "start_time": "2022-10-24T17:11:54.616Z"
   },
   {
    "duration": 7,
    "start_time": "2022-10-24T17:11:54.622Z"
   },
   {
    "duration": 168,
    "start_time": "2022-10-24T17:11:54.631Z"
   },
   {
    "duration": 122,
    "start_time": "2022-10-24T17:11:54.801Z"
   },
   {
    "duration": 16,
    "start_time": "2022-10-24T17:11:54.925Z"
   },
   {
    "duration": 5,
    "start_time": "2022-10-24T17:11:54.942Z"
   },
   {
    "duration": 8,
    "start_time": "2022-10-24T17:11:54.949Z"
   },
   {
    "duration": 349,
    "start_time": "2022-10-24T17:11:54.959Z"
   },
   {
    "duration": 203,
    "start_time": "2022-10-24T17:11:55.310Z"
   },
   {
    "duration": 317,
    "start_time": "2022-10-24T17:11:55.515Z"
   },
   {
    "duration": 225,
    "start_time": "2022-10-24T17:11:55.833Z"
   },
   {
    "duration": 318,
    "start_time": "2022-10-24T17:11:56.059Z"
   },
   {
    "duration": 10,
    "start_time": "2022-10-24T17:11:56.379Z"
   },
   {
    "duration": 142,
    "start_time": "2022-10-24T17:11:56.390Z"
   },
   {
    "duration": 144,
    "start_time": "2022-10-24T17:11:56.533Z"
   },
   {
    "duration": 4,
    "start_time": "2022-10-24T17:11:56.679Z"
   },
   {
    "duration": 191,
    "start_time": "2022-10-24T17:11:56.685Z"
   },
   {
    "duration": 142,
    "start_time": "2022-10-24T17:11:56.877Z"
   },
   {
    "duration": 5,
    "start_time": "2022-10-24T17:11:57.020Z"
   },
   {
    "duration": 407,
    "start_time": "2022-10-24T17:11:57.027Z"
   },
   {
    "duration": 13,
    "start_time": "2022-10-24T17:11:57.436Z"
   },
   {
    "duration": 22,
    "start_time": "2022-10-24T17:11:57.451Z"
   },
   {
    "duration": 10,
    "start_time": "2022-10-24T17:11:57.475Z"
   },
   {
    "duration": 38,
    "start_time": "2022-10-24T17:11:57.487Z"
   },
   {
    "duration": 20,
    "start_time": "2022-10-24T17:11:57.527Z"
   },
   {
    "duration": 279,
    "start_time": "2022-10-24T17:11:57.550Z"
   },
   {
    "duration": 307,
    "start_time": "2022-10-24T17:11:57.831Z"
   },
   {
    "duration": 53,
    "start_time": "2022-10-25T18:08:24.777Z"
   },
   {
    "duration": 8,
    "start_time": "2022-10-25T18:08:55.569Z"
   },
   {
    "duration": 1105,
    "start_time": "2022-10-25T18:08:58.402Z"
   },
   {
    "duration": 77,
    "start_time": "2022-10-25T18:08:59.509Z"
   },
   {
    "duration": 1164,
    "start_time": "2022-10-25T19:27:50.465Z"
   },
   {
    "duration": 40,
    "start_time": "2022-10-25T19:27:51.632Z"
   },
   {
    "duration": 16,
    "start_time": "2022-10-25T19:27:51.674Z"
   },
   {
    "duration": 14,
    "start_time": "2022-10-25T19:27:51.692Z"
   },
   {
    "duration": 16,
    "start_time": "2022-10-25T19:27:51.709Z"
   },
   {
    "duration": 74,
    "start_time": "2022-10-25T19:27:51.726Z"
   },
   {
    "duration": 93,
    "start_time": "2022-10-25T19:27:51.802Z"
   },
   {
    "duration": 61,
    "start_time": "2022-10-25T19:27:51.897Z"
   },
   {
    "duration": 6,
    "start_time": "2022-10-25T19:27:51.960Z"
   },
   {
    "duration": 7,
    "start_time": "2022-10-25T19:27:51.968Z"
   },
   {
    "duration": 7,
    "start_time": "2022-10-25T19:27:51.976Z"
   },
   {
    "duration": 6,
    "start_time": "2022-10-25T19:27:51.984Z"
   },
   {
    "duration": 21,
    "start_time": "2022-10-25T19:27:51.992Z"
   },
   {
    "duration": 11,
    "start_time": "2022-10-25T19:27:52.017Z"
   },
   {
    "duration": 28,
    "start_time": "2022-10-25T19:27:52.030Z"
   },
   {
    "duration": 5,
    "start_time": "2022-10-25T19:27:52.059Z"
   },
   {
    "duration": 9,
    "start_time": "2022-10-25T19:27:52.065Z"
   },
   {
    "duration": 186,
    "start_time": "2022-10-25T19:27:52.075Z"
   },
   {
    "duration": 131,
    "start_time": "2022-10-25T19:27:52.262Z"
   },
   {
    "duration": 17,
    "start_time": "2022-10-25T19:27:52.395Z"
   },
   {
    "duration": 10,
    "start_time": "2022-10-25T19:27:52.413Z"
   },
   {
    "duration": 7,
    "start_time": "2022-10-25T19:27:52.425Z"
   },
   {
    "duration": 386,
    "start_time": "2022-10-25T19:27:52.433Z"
   },
   {
    "duration": 261,
    "start_time": "2022-10-25T19:27:52.821Z"
   },
   {
    "duration": 318,
    "start_time": "2022-10-25T19:27:53.084Z"
   },
   {
    "duration": 255,
    "start_time": "2022-10-25T19:27:53.404Z"
   },
   {
    "duration": 350,
    "start_time": "2022-10-25T19:27:53.661Z"
   },
   {
    "duration": 11,
    "start_time": "2022-10-25T19:27:54.012Z"
   },
   {
    "duration": 158,
    "start_time": "2022-10-25T19:27:54.025Z"
   },
   {
    "duration": 169,
    "start_time": "2022-10-25T19:27:54.185Z"
   },
   {
    "duration": 5,
    "start_time": "2022-10-25T19:27:54.355Z"
   },
   {
    "duration": 242,
    "start_time": "2022-10-25T19:27:54.361Z"
   },
   {
    "duration": 169,
    "start_time": "2022-10-25T19:27:54.605Z"
   },
   {
    "duration": 5,
    "start_time": "2022-10-25T19:27:54.775Z"
   },
   {
    "duration": 388,
    "start_time": "2022-10-25T19:27:54.782Z"
   },
   {
    "duration": 13,
    "start_time": "2022-10-25T19:27:55.171Z"
   },
   {
    "duration": 11,
    "start_time": "2022-10-25T19:27:55.185Z"
   },
   {
    "duration": 7,
    "start_time": "2022-10-25T19:27:55.198Z"
   },
   {
    "duration": 52,
    "start_time": "2022-10-25T19:27:55.207Z"
   },
   {
    "duration": 15,
    "start_time": "2022-10-25T19:27:55.260Z"
   },
   {
    "duration": 330,
    "start_time": "2022-10-25T19:27:55.279Z"
   },
   {
    "duration": 350,
    "start_time": "2022-10-25T19:27:55.611Z"
   }
  ],
  "kernelspec": {
   "display_name": "Python 3",
   "language": "python",
   "name": "python3"
  },
  "language_info": {
   "codemirror_mode": {
    "name": "ipython",
    "version": 3
   },
   "file_extension": ".py",
   "mimetype": "text/x-python",
   "name": "python",
   "nbconvert_exporter": "python",
   "pygments_lexer": "ipython3",
   "version": "3.7.0"
  },
  "toc": {
   "base_numbering": 1,
   "nav_menu": {},
   "number_sections": true,
   "sideBar": true,
   "skip_h1_title": true,
   "title_cell": "Table of Contents",
   "title_sidebar": "Contents",
   "toc_cell": false,
   "toc_position": {},
   "toc_section_display": true,
   "toc_window_display": false
  }
 },
 "nbformat": 4,
 "nbformat_minor": 2
}
