{
 "cells": [
  {
   "cell_type": "markdown",
   "metadata": {
    "deletable": false,
    "id": "c81daeeb"
   },
   "source": [
    "# Исследование надежности заемщиков банка\n"
   ]
  },
  {
   "cell_type": "markdown",
   "metadata": {},
   "source": [
    "## Описание проекта"
   ]
  },
  {
   "cell_type": "markdown",
   "metadata": {},
   "source": [
    "Заказчик — кредитный отдел банка. Заказчика интересует, влияет ли семейное положение и количество детей клиента на факт погашения кредита в срок. Входные данные от банка — статистика о платёжеспособности клиентов.\n",
    "Результаты исследования будут учтены при построении модели кредитного скоринга — специальной системы, которая оценивает способность потенциального заёмщика вернуть кредит банку."
   ]
  },
  {
   "cell_type": "markdown",
   "metadata": {
    "deletable": false,
    "id": "744d7639"
   },
   "source": [
    "## Откроем таблицу и изучим общую информацию о данных"
   ]
  },
  {
   "cell_type": "markdown",
   "metadata": {
    "deletable": false,
    "id": "e7a14c31"
   },
   "source": [
    "**Задание 1. Импортируем библиотеку pandas. Считайем данные из csv-файла в датафрейм и сохраним в переменную `data`.**"
   ]
  },
  {
   "cell_type": "code",
   "execution_count": 2,
   "metadata": {
    "deletable": false,
    "id": "7bcf75c9"
   },
   "outputs": [],
   "source": [
    "import pandas as pd\n",
    "data = pd.read_csv(r'E:\\Analytics\\data.csv')"
   ]
  },
  {
   "cell_type": "markdown",
   "metadata": {
    "deletable": false,
    "id": "b8038fe3"
   },
   "source": [
    "**Задание 2. Выведем первые 20 строчек датафрейма `data` на экран.**"
   ]
  },
  {
   "cell_type": "code",
   "execution_count": 3,
   "metadata": {
    "deletable": false,
    "id": "2a7cab99",
    "outputId": "1a8f3ef2-d323-4ec2-ddf7-89670b5944c4"
   },
   "outputs": [
    {
     "data": {
      "text/html": [
       "<div>\n",
       "<style scoped>\n",
       "    .dataframe tbody tr th:only-of-type {\n",
       "        vertical-align: middle;\n",
       "    }\n",
       "\n",
       "    .dataframe tbody tr th {\n",
       "        vertical-align: top;\n",
       "    }\n",
       "\n",
       "    .dataframe thead th {\n",
       "        text-align: right;\n",
       "    }\n",
       "</style>\n",
       "<table border=\"1\" class=\"dataframe\">\n",
       "  <thead>\n",
       "    <tr style=\"text-align: right;\">\n",
       "      <th></th>\n",
       "      <th>children</th>\n",
       "      <th>days_employed</th>\n",
       "      <th>dob_years</th>\n",
       "      <th>education</th>\n",
       "      <th>education_id</th>\n",
       "      <th>family_status</th>\n",
       "      <th>family_status_id</th>\n",
       "      <th>gender</th>\n",
       "      <th>income_type</th>\n",
       "      <th>debt</th>\n",
       "      <th>total_income</th>\n",
       "      <th>purpose</th>\n",
       "    </tr>\n",
       "  </thead>\n",
       "  <tbody>\n",
       "    <tr>\n",
       "      <th>0</th>\n",
       "      <td>1</td>\n",
       "      <td>-8437.673028</td>\n",
       "      <td>42</td>\n",
       "      <td>высшее</td>\n",
       "      <td>0</td>\n",
       "      <td>женат / замужем</td>\n",
       "      <td>0</td>\n",
       "      <td>F</td>\n",
       "      <td>сотрудник</td>\n",
       "      <td>0</td>\n",
       "      <td>253875.639453</td>\n",
       "      <td>покупка жилья</td>\n",
       "    </tr>\n",
       "    <tr>\n",
       "      <th>1</th>\n",
       "      <td>1</td>\n",
       "      <td>-4024.803754</td>\n",
       "      <td>36</td>\n",
       "      <td>среднее</td>\n",
       "      <td>1</td>\n",
       "      <td>женат / замужем</td>\n",
       "      <td>0</td>\n",
       "      <td>F</td>\n",
       "      <td>сотрудник</td>\n",
       "      <td>0</td>\n",
       "      <td>112080.014102</td>\n",
       "      <td>приобретение автомобиля</td>\n",
       "    </tr>\n",
       "    <tr>\n",
       "      <th>2</th>\n",
       "      <td>0</td>\n",
       "      <td>-5623.422610</td>\n",
       "      <td>33</td>\n",
       "      <td>Среднее</td>\n",
       "      <td>1</td>\n",
       "      <td>женат / замужем</td>\n",
       "      <td>0</td>\n",
       "      <td>M</td>\n",
       "      <td>сотрудник</td>\n",
       "      <td>0</td>\n",
       "      <td>145885.952297</td>\n",
       "      <td>покупка жилья</td>\n",
       "    </tr>\n",
       "    <tr>\n",
       "      <th>3</th>\n",
       "      <td>3</td>\n",
       "      <td>-4124.747207</td>\n",
       "      <td>32</td>\n",
       "      <td>среднее</td>\n",
       "      <td>1</td>\n",
       "      <td>женат / замужем</td>\n",
       "      <td>0</td>\n",
       "      <td>M</td>\n",
       "      <td>сотрудник</td>\n",
       "      <td>0</td>\n",
       "      <td>267628.550329</td>\n",
       "      <td>дополнительное образование</td>\n",
       "    </tr>\n",
       "    <tr>\n",
       "      <th>4</th>\n",
       "      <td>0</td>\n",
       "      <td>340266.072047</td>\n",
       "      <td>53</td>\n",
       "      <td>среднее</td>\n",
       "      <td>1</td>\n",
       "      <td>гражданский брак</td>\n",
       "      <td>1</td>\n",
       "      <td>F</td>\n",
       "      <td>пенсионер</td>\n",
       "      <td>0</td>\n",
       "      <td>158616.077870</td>\n",
       "      <td>сыграть свадьбу</td>\n",
       "    </tr>\n",
       "    <tr>\n",
       "      <th>5</th>\n",
       "      <td>0</td>\n",
       "      <td>-926.185831</td>\n",
       "      <td>27</td>\n",
       "      <td>высшее</td>\n",
       "      <td>0</td>\n",
       "      <td>гражданский брак</td>\n",
       "      <td>1</td>\n",
       "      <td>M</td>\n",
       "      <td>компаньон</td>\n",
       "      <td>0</td>\n",
       "      <td>255763.565419</td>\n",
       "      <td>покупка жилья</td>\n",
       "    </tr>\n",
       "    <tr>\n",
       "      <th>6</th>\n",
       "      <td>0</td>\n",
       "      <td>-2879.202052</td>\n",
       "      <td>43</td>\n",
       "      <td>высшее</td>\n",
       "      <td>0</td>\n",
       "      <td>женат / замужем</td>\n",
       "      <td>0</td>\n",
       "      <td>F</td>\n",
       "      <td>компаньон</td>\n",
       "      <td>0</td>\n",
       "      <td>240525.971920</td>\n",
       "      <td>операции с жильем</td>\n",
       "    </tr>\n",
       "    <tr>\n",
       "      <th>7</th>\n",
       "      <td>0</td>\n",
       "      <td>-152.779569</td>\n",
       "      <td>50</td>\n",
       "      <td>СРЕДНЕЕ</td>\n",
       "      <td>1</td>\n",
       "      <td>женат / замужем</td>\n",
       "      <td>0</td>\n",
       "      <td>M</td>\n",
       "      <td>сотрудник</td>\n",
       "      <td>0</td>\n",
       "      <td>135823.934197</td>\n",
       "      <td>образование</td>\n",
       "    </tr>\n",
       "    <tr>\n",
       "      <th>8</th>\n",
       "      <td>2</td>\n",
       "      <td>-6929.865299</td>\n",
       "      <td>35</td>\n",
       "      <td>ВЫСШЕЕ</td>\n",
       "      <td>0</td>\n",
       "      <td>гражданский брак</td>\n",
       "      <td>1</td>\n",
       "      <td>F</td>\n",
       "      <td>сотрудник</td>\n",
       "      <td>0</td>\n",
       "      <td>95856.832424</td>\n",
       "      <td>на проведение свадьбы</td>\n",
       "    </tr>\n",
       "    <tr>\n",
       "      <th>9</th>\n",
       "      <td>0</td>\n",
       "      <td>-2188.756445</td>\n",
       "      <td>41</td>\n",
       "      <td>среднее</td>\n",
       "      <td>1</td>\n",
       "      <td>женат / замужем</td>\n",
       "      <td>0</td>\n",
       "      <td>M</td>\n",
       "      <td>сотрудник</td>\n",
       "      <td>0</td>\n",
       "      <td>144425.938277</td>\n",
       "      <td>покупка жилья для семьи</td>\n",
       "    </tr>\n",
       "  </tbody>\n",
       "</table>\n",
       "</div>"
      ],
      "text/plain": [
       "   children  days_employed  dob_years education  education_id  \\\n",
       "0         1   -8437.673028         42    высшее             0   \n",
       "1         1   -4024.803754         36   среднее             1   \n",
       "2         0   -5623.422610         33   Среднее             1   \n",
       "3         3   -4124.747207         32   среднее             1   \n",
       "4         0  340266.072047         53   среднее             1   \n",
       "5         0    -926.185831         27    высшее             0   \n",
       "6         0   -2879.202052         43    высшее             0   \n",
       "7         0    -152.779569         50   СРЕДНЕЕ             1   \n",
       "8         2   -6929.865299         35    ВЫСШЕЕ             0   \n",
       "9         0   -2188.756445         41   среднее             1   \n",
       "\n",
       "      family_status  family_status_id gender income_type  debt   total_income  \\\n",
       "0   женат / замужем                 0      F   сотрудник     0  253875.639453   \n",
       "1   женат / замужем                 0      F   сотрудник     0  112080.014102   \n",
       "2   женат / замужем                 0      M   сотрудник     0  145885.952297   \n",
       "3   женат / замужем                 0      M   сотрудник     0  267628.550329   \n",
       "4  гражданский брак                 1      F   пенсионер     0  158616.077870   \n",
       "5  гражданский брак                 1      M   компаньон     0  255763.565419   \n",
       "6   женат / замужем                 0      F   компаньон     0  240525.971920   \n",
       "7   женат / замужем                 0      M   сотрудник     0  135823.934197   \n",
       "8  гражданский брак                 1      F   сотрудник     0   95856.832424   \n",
       "9   женат / замужем                 0      M   сотрудник     0  144425.938277   \n",
       "\n",
       "                      purpose  \n",
       "0               покупка жилья  \n",
       "1     приобретение автомобиля  \n",
       "2               покупка жилья  \n",
       "3  дополнительное образование  \n",
       "4             сыграть свадьбу  \n",
       "5               покупка жилья  \n",
       "6           операции с жильем  \n",
       "7                 образование  \n",
       "8       на проведение свадьбы  \n",
       "9     покупка жилья для семьи  "
      ]
     },
     "execution_count": 3,
     "metadata": {},
     "output_type": "execute_result"
    }
   ],
   "source": [
    "data.head(10)"
   ]
  },
  {
   "cell_type": "markdown",
   "metadata": {
    "deletable": false,
    "id": "1c12e233"
   },
   "source": [
    "**Задание 3. Выведем основную информацию о датафрейме с помощью метода `info()`.**"
   ]
  },
  {
   "cell_type": "code",
   "execution_count": 4,
   "metadata": {
    "deletable": false,
    "id": "2b757bca",
    "outputId": "15376089-8dad-46c9-b520-c05248d43158"
   },
   "outputs": [
    {
     "name": "stdout",
     "output_type": "stream",
     "text": [
      "<class 'pandas.core.frame.DataFrame'>\n",
      "RangeIndex: 21525 entries, 0 to 21524\n",
      "Data columns (total 12 columns):\n",
      "children            21525 non-null int64\n",
      "days_employed       19351 non-null float64\n",
      "dob_years           21525 non-null int64\n",
      "education           21525 non-null object\n",
      "education_id        21525 non-null int64\n",
      "family_status       21525 non-null object\n",
      "family_status_id    21525 non-null int64\n",
      "gender              21525 non-null object\n",
      "income_type         21525 non-null object\n",
      "debt                21525 non-null int64\n",
      "total_income        19351 non-null float64\n",
      "purpose             21525 non-null object\n",
      "dtypes: float64(2), int64(5), object(5)\n",
      "memory usage: 2.0+ MB\n"
     ]
    }
   ],
   "source": [
    "data.info()"
   ]
  },
  {
   "cell_type": "markdown",
   "metadata": {
    "deletable": false,
    "id": "333ec665"
   },
   "source": [
    "## Предобработка данных"
   ]
  },
  {
   "cell_type": "markdown",
   "metadata": {
    "deletable": false,
    "id": "02d92d53"
   },
   "source": [
    "### Удаление пропусков"
   ]
  },
  {
   "cell_type": "markdown",
   "metadata": {
    "deletable": false,
    "id": "cd84967c"
   },
   "source": [
    "**Задание 4. Выведем количество пропущенных значений для каждого столбца. Используем комбинацию двух методов.**"
   ]
  },
  {
   "cell_type": "code",
   "execution_count": 4,
   "metadata": {
    "deletable": false,
    "id": "7f9b2309",
    "outputId": "81f4d817-781c-465c-ed15-91ce4446810d"
   },
   "outputs": [
    {
     "data": {
      "text/plain": [
       "children               0\n",
       "days_employed       2174\n",
       "dob_years              0\n",
       "education              0\n",
       "education_id           0\n",
       "family_status          0\n",
       "family_status_id       0\n",
       "gender                 0\n",
       "income_type            0\n",
       "debt                   0\n",
       "total_income        2174\n",
       "purpose                0\n",
       "dtype: int64"
      ]
     },
     "execution_count": 4,
     "metadata": {},
     "output_type": "execute_result"
    }
   ],
   "source": [
    "data.isna().sum()"
   ]
  },
  {
   "cell_type": "markdown",
   "metadata": {
    "deletable": false,
    "id": "db86e27b"
   },
   "source": [
    "**Задание 5. В двух столбцах есть пропущенные значения. Один из них — `days_employed`. Пропуски в этом столбце мы обработаем на следующем этапе. Другой столбец с пропущенными значениями — `total_income` — хранит данные о доходах. На сумму дохода сильнее всего влияет тип занятости, поэтому заполнить пропуски в этом столбце нужно медианным значением по каждому типу из столбца `income_type`. Например, у человека с типом занятости `сотрудник` пропуск в столбце `total_income` должен быть заполнен медианным доходом среди всех записей с тем же типом.**"
   ]
  },
  {
   "cell_type": "code",
   "execution_count": 5,
   "metadata": {
    "deletable": false,
    "id": "42006a93"
   },
   "outputs": [],
   "source": [
    "for t in data['income_type'].unique():\n",
    "    data.loc[(data['income_type'] == t) & (data['total_income'].isna()), 'total_income'] = \\\n",
    "    data.loc[(data['income_type'] == t), 'total_income'].median()"
   ]
  },
  {
   "cell_type": "markdown",
   "metadata": {
    "deletable": false,
    "id": "89da5ece"
   },
   "source": [
    "### Обработка аномальных значений"
   ]
  },
  {
   "cell_type": "markdown",
   "metadata": {
    "deletable": false,
    "id": "57964554"
   },
   "source": [
    "**Задание 6. В данных могут встречаться артефакты (аномалии) — значения, которые не отражают действительность и появились по какой-то ошибке. Таким артефактом будет отрицательное количество дней трудового стажа в столбце `days_employed`. Для реальных данных это нормально. Обработаем значения в этом столбце: заменим все отрицательные значения положительными с помощью метода `abs()`.**"
   ]
  },
  {
   "cell_type": "code",
   "execution_count": 6,
   "metadata": {
    "deletable": false,
    "id": "f6f055bf"
   },
   "outputs": [],
   "source": [
    "data['days_employed'] = data['days_employed'].abs()"
   ]
  },
  {
   "cell_type": "markdown",
   "metadata": {
    "deletable": false,
    "id": "6107dd2f"
   },
   "source": [
    "**Задание 7. Для каждого типа занятости выведем медианное значение трудового стажа `days_employed` в днях.**"
   ]
  },
  {
   "cell_type": "code",
   "execution_count": 7,
   "metadata": {
    "deletable": false,
    "id": "85a5faf6",
    "outputId": "801ef80e-522b-4668-f34e-565af7432bcf"
   },
   "outputs": [
    {
     "data": {
      "text/plain": [
       "income_type\n",
       "безработный        366413.652744\n",
       "в декрете            3296.759962\n",
       "госслужащий          2689.368353\n",
       "компаньон            1547.382223\n",
       "пенсионер          365213.306266\n",
       "предприниматель       520.848083\n",
       "сотрудник            1574.202821\n",
       "студент               578.751554\n",
       "Name: days_employed, dtype: float64"
      ]
     },
     "execution_count": 7,
     "metadata": {},
     "output_type": "execute_result"
    }
   ],
   "source": [
    "data.groupby('income_type')['days_employed'].agg('median')"
   ]
  },
  {
   "cell_type": "markdown",
   "metadata": {
    "deletable": false,
    "id": "38d1a030"
   },
   "source": [
    "У двух типов (безработные и пенсионеры) получаются аномально большие значения. Исправить такие значения сложно, поэтому оставим их как есть. Тем более этот столбец не понадобится нам для исследования."
   ]
  },
  {
   "cell_type": "markdown",
   "metadata": {
    "deletable": false,
    "id": "d8a9f147"
   },
   "source": [
    "**Задание 8. Выведем перечень уникальных значений столбца `children`.**"
   ]
  },
  {
   "cell_type": "code",
   "execution_count": 8,
   "metadata": {
    "deletable": false,
    "id": "ef5056eb",
    "outputId": "6975b15c-7f95-4697-d16d-a0c79b657b03"
   },
   "outputs": [
    {
     "data": {
      "text/plain": [
       "array([ 1,  0,  3,  2, -1,  4, 20,  5], dtype=int64)"
      ]
     },
     "execution_count": 8,
     "metadata": {},
     "output_type": "execute_result"
    }
   ],
   "source": [
    "data['children'].unique()"
   ]
  },
  {
   "cell_type": "markdown",
   "metadata": {
    "deletable": false,
    "id": "40b9ebf2"
   },
   "source": [
    "**Задание 9. В столбце `children` есть два аномальных значения. Удалим строки, в которых встречаются такие аномальные значения из датафрейма `data`.**"
   ]
  },
  {
   "cell_type": "code",
   "execution_count": 9,
   "metadata": {
    "deletable": false,
    "id": "3ff9801d"
   },
   "outputs": [],
   "source": [
    "data = data[(data['children'] != -1) & (data['children'] != 20)]"
   ]
  },
  {
   "cell_type": "markdown",
   "metadata": {
    "deletable": false,
    "id": "bbc4d0ce"
   },
   "source": [
    "**Задание 10. Ещё раз выведем перечень уникальных значений столбца `children`, чтобы убедиться, что артефакты удалены.**"
   ]
  },
  {
   "cell_type": "code",
   "execution_count": 10,
   "metadata": {
    "deletable": false,
    "id": "ad4fa8b7",
    "outputId": "b2097101-d49d-44d9-901b-32a65c9463d1"
   },
   "outputs": [
    {
     "data": {
      "text/plain": [
       "array([1, 0, 3, 2, 4, 5], dtype=int64)"
      ]
     },
     "execution_count": 10,
     "metadata": {},
     "output_type": "execute_result"
    }
   ],
   "source": [
    "data['children'].unique()"
   ]
  },
  {
   "cell_type": "markdown",
   "metadata": {
    "deletable": false,
    "id": "75440b63"
   },
   "source": [
    "### Удаление пропусков (продолжение)"
   ]
  },
  {
   "cell_type": "markdown",
   "metadata": {
    "deletable": false,
    "id": "f4ea573f"
   },
   "source": [
    "**Задание 11. Заполним пропуски в столбце `days_employed` медианными значениями по каждого типа занятости `income_type`.**"
   ]
  },
  {
   "cell_type": "code",
   "execution_count": 11,
   "metadata": {
    "deletable": false,
    "id": "af6b1a7e"
   },
   "outputs": [],
   "source": [
    "for t in data['income_type'].unique():\n",
    "    data.loc[(data['income_type'] == t) & (data['days_employed'].isna()), 'days_employed'] = \\\n",
    "    data.loc[(data['income_type'] == t), 'days_employed'].median()"
   ]
  },
  {
   "cell_type": "markdown",
   "metadata": {
    "deletable": false,
    "id": "2753f40d"
   },
   "source": [
    "**Задание 12. Убедимся, что все пропуски заполнены. Проверим себя и ещё раз выведем количество пропущенных значений для каждого столбца с помощью двух методов.**"
   ]
  },
  {
   "cell_type": "code",
   "execution_count": 12,
   "metadata": {
    "deletable": false,
    "id": "55f78bc2",
    "outputId": "8da1e4e1-358e-4e87-98c9-f261bce0a7b2"
   },
   "outputs": [
    {
     "data": {
      "text/plain": [
       "children            0\n",
       "days_employed       0\n",
       "dob_years           0\n",
       "education           0\n",
       "education_id        0\n",
       "family_status       0\n",
       "family_status_id    0\n",
       "gender              0\n",
       "income_type         0\n",
       "debt                0\n",
       "total_income        0\n",
       "purpose             0\n",
       "dtype: int64"
      ]
     },
     "execution_count": 12,
     "metadata": {},
     "output_type": "execute_result"
    }
   ],
   "source": [
    "data.isna().sum()"
   ]
  },
  {
   "cell_type": "markdown",
   "metadata": {
    "deletable": false,
    "id": "ddc81e43"
   },
   "source": [
    "### Изменение типов данных"
   ]
  },
  {
   "cell_type": "markdown",
   "metadata": {
    "deletable": false,
    "id": "42d19d24"
   },
   "source": [
    "**Задание 13. Заменим вещественный тип данных в столбце `total_income` на целочисленный с помощью метода `astype()`.**"
   ]
  },
  {
   "cell_type": "code",
   "execution_count": 13,
   "metadata": {
    "deletable": false,
    "id": "920b65ad"
   },
   "outputs": [],
   "source": [
    "data['total_income'] = data['total_income'].astype(int)"
   ]
  },
  {
   "cell_type": "markdown",
   "metadata": {
    "deletable": false,
    "id": "80c420ba"
   },
   "source": [
    "### Обработка дубликатов"
   ]
  },
  {
   "cell_type": "markdown",
   "metadata": {
    "deletable": false,
    "id": "dc587695"
   },
   "source": [
    "**Задание 14. Выведем на экран количество строк-дубликатов в данных. Если такие строки присутствуют, удалим их.**"
   ]
  },
  {
   "cell_type": "code",
   "execution_count": 14,
   "metadata": {
    "deletable": false,
    "id": "3ee445e4",
    "outputId": "9684deba-1934-42d1-99e1-cda61740f822"
   },
   "outputs": [
    {
     "data": {
      "text/plain": [
       "54"
      ]
     },
     "execution_count": 14,
     "metadata": {},
     "output_type": "execute_result"
    }
   ],
   "source": [
    "data.duplicated().sum()"
   ]
  },
  {
   "cell_type": "code",
   "execution_count": 15,
   "metadata": {
    "deletable": false,
    "id": "8575fe05"
   },
   "outputs": [],
   "source": [
    "data = data.drop_duplicates()"
   ]
  },
  {
   "cell_type": "markdown",
   "metadata": {
    "deletable": false,
    "id": "9771a76c"
   },
   "source": [
    "**Задание 15. Обработаем неявные дубликаты в столбце `education`. В этом столбце есть одни и те же значения, но записанные по-разному: с использованием заглавных и строчных букв. Приведем их к нижнему регистру. Проверим остальные столбцы.**"
   ]
  },
  {
   "cell_type": "code",
   "execution_count": 16,
   "metadata": {
    "deletable": false,
    "id": "a9f8e2bf"
   },
   "outputs": [],
   "source": [
    "data['education'] = data['education'].str.lower()"
   ]
  },
  {
   "cell_type": "markdown",
   "metadata": {
    "deletable": false,
    "id": "9904cf55"
   },
   "source": [
    "### Категоризация данных"
   ]
  },
  {
   "cell_type": "markdown",
   "metadata": {
    "deletable": false,
    "id": "72fcc8a2"
   },
   "source": [
    "**Задание 16. На основании диапазонов, указанных ниже, создадим в датафрейме `data` столбец `total_income_category` с категориями:**\n",
    "\n",
    "- 0–30000 — `'E'`;\n",
    "- 30001–50000 — `'D'`;\n",
    "- 50001–200000 — `'C'`;\n",
    "- 200001–1000000 — `'B'`;\n",
    "- 1000001 и выше — `'A'`.\n",
    "\n",
    "\n",
    "**Например, кредитополучателю с доходом 25000 нужно назначить категорию `'E'`, а клиенту, получающему 235000, — `'B'`. Используем собственную функцию с именем `categorize_income()` и метод `apply()`.**"
   ]
  },
  {
   "cell_type": "code",
   "execution_count": 17,
   "metadata": {
    "deletable": false,
    "id": "e1771346"
   },
   "outputs": [],
   "source": [
    "def categorize_income(income):\n",
    "    try:\n",
    "        if 0 <= income <= 30000:\n",
    "            return 'E'\n",
    "        elif 30001 <= income <= 50000:\n",
    "            return 'D'\n",
    "        elif 50001 <= income <= 200000:\n",
    "            return 'C'\n",
    "        elif 200001 <= income <= 1000000:\n",
    "            return 'B'\n",
    "        elif income >= 1000001:\n",
    "            return 'A'\n",
    "    except:\n",
    "        pass"
   ]
  },
  {
   "cell_type": "code",
   "execution_count": 18,
   "metadata": {
    "deletable": false,
    "id": "d5f3586d"
   },
   "outputs": [],
   "source": [
    "data['total_income_category'] = data['total_income'].apply(categorize_income)"
   ]
  },
  {
   "cell_type": "markdown",
   "metadata": {
    "deletable": false,
    "id": "dde49b5c"
   },
   "source": [
    "**Задание 17. Выведем на экран перечень уникальных целей взятия кредита из столбца `purpose`.**"
   ]
  },
  {
   "cell_type": "code",
   "execution_count": 19,
   "metadata": {
    "deletable": false,
    "id": "f67ce9b3",
    "outputId": "673c12d9-7d7e-4ae0-9812-c622c89dd244"
   },
   "outputs": [
    {
     "data": {
      "text/plain": [
       "array(['покупка жилья', 'приобретение автомобиля',\n",
       "       'дополнительное образование', 'сыграть свадьбу',\n",
       "       'операции с жильем', 'образование', 'на проведение свадьбы',\n",
       "       'покупка жилья для семьи', 'покупка недвижимости',\n",
       "       'покупка коммерческой недвижимости', 'покупка жилой недвижимости',\n",
       "       'строительство собственной недвижимости', 'недвижимость',\n",
       "       'строительство недвижимости', 'на покупку подержанного автомобиля',\n",
       "       'на покупку своего автомобиля',\n",
       "       'операции с коммерческой недвижимостью',\n",
       "       'строительство жилой недвижимости', 'жилье',\n",
       "       'операции со своей недвижимостью', 'автомобили',\n",
       "       'заняться образованием', 'сделка с подержанным автомобилем',\n",
       "       'получение образования', 'автомобиль', 'свадьба',\n",
       "       'получение дополнительного образования', 'покупка своего жилья',\n",
       "       'операции с недвижимостью', 'получение высшего образования',\n",
       "       'свой автомобиль', 'сделка с автомобилем',\n",
       "       'профильное образование', 'высшее образование',\n",
       "       'покупка жилья для сдачи', 'на покупку автомобиля', 'ремонт жилью',\n",
       "       'заняться высшим образованием'], dtype=object)"
      ]
     },
     "execution_count": 19,
     "metadata": {},
     "output_type": "execute_result"
    }
   ],
   "source": [
    "data['purpose'].unique()"
   ]
  },
  {
   "cell_type": "markdown",
   "metadata": {
    "deletable": false,
    "id": "85d0aef0"
   },
   "source": [
    "**Задание 18. Создадим функцию, которая на основании данных из столбца `purpose` сформирует новый столбец `purpose_category`, в который войдут следующие категории:**\n",
    "\n",
    "- `'операции с автомобилем'`,\n",
    "- `'операции с недвижимостью'`,\n",
    "- `'проведение свадьбы'`,\n",
    "- `'получение образования'`.\n",
    "\n",
    "**Например, если в столбце `purpose` находится подстрока `'на покупку автомобиля'`, то в столбце `purpose_category` должна появиться строка `'операции с автомобилем'`.**\n",
    "\n",
    "**Используем собственную функцию с именем `categorize_purpose()` и метод `apply()`. Изучим данные в столбце `purpose` и определим, какие подстроки помогут вам правильно определить категорию.**"
   ]
  },
  {
   "cell_type": "code",
   "execution_count": 20,
   "metadata": {
    "deletable": false,
    "id": "e149fab4"
   },
   "outputs": [],
   "source": [
    "def categorize_purpose(row):\n",
    "    try:\n",
    "        if 'автом' in row:\n",
    "            return 'операции с автомобилем'\n",
    "        elif 'жил' in row or 'недвиж' in row:\n",
    "            return 'операции с недвижимостью'\n",
    "        elif 'свад' in row:\n",
    "            return 'проведение свадьбы'\n",
    "        elif 'образов' in row:\n",
    "            return 'получение образования'\n",
    "    except:\n",
    "        return 'нет категории'"
   ]
  },
  {
   "cell_type": "code",
   "execution_count": 21,
   "metadata": {
    "deletable": false,
    "id": "bf36e69b"
   },
   "outputs": [],
   "source": [
    "data['purpose_category'] = data['purpose'].apply(categorize_purpose)"
   ]
  },
  {
   "cell_type": "markdown",
   "metadata": {
    "deletable": false,
    "editable": false,
    "id": "09b242bf"
   },
   "source": [
    "## Исследуйте данные и ответьте на вопросы"
   ]
  },
  {
   "cell_type": "markdown",
   "metadata": {
    "deletable": false,
    "editable": false,
    "id": "c5d66278"
   },
   "source": [
    "**Задание 19. Есть ли зависимость между количеством детей и возвратом кредита в срок?**"
   ]
  },
  {
   "cell_type": "code",
   "execution_count": 22,
   "metadata": {
    "id": "2cacfc4a"
   },
   "outputs": [],
   "source": [
    "debt_in_time = data.groupby('children').agg({'debt': ['count','sum']})\n",
    "debt_in_time['share_%'] = ((debt_in_time['debt']['sum']/debt_in_time['debt']['count'])*100).round(1)"
   ]
  },
  {
   "cell_type": "code",
   "execution_count": 23,
   "metadata": {},
   "outputs": [
    {
     "data": {
      "text/html": [
       "<div>\n",
       "<style scoped>\n",
       "    .dataframe tbody tr th:only-of-type {\n",
       "        vertical-align: middle;\n",
       "    }\n",
       "\n",
       "    .dataframe tbody tr th {\n",
       "        vertical-align: top;\n",
       "    }\n",
       "\n",
       "    .dataframe thead tr th {\n",
       "        text-align: left;\n",
       "    }\n",
       "\n",
       "    .dataframe thead tr:last-of-type th {\n",
       "        text-align: right;\n",
       "    }\n",
       "</style>\n",
       "<table border=\"1\" class=\"dataframe\">\n",
       "  <thead>\n",
       "    <tr>\n",
       "      <th></th>\n",
       "      <th colspan=\"2\" halign=\"left\">debt</th>\n",
       "      <th>Процент задолженностей</th>\n",
       "    </tr>\n",
       "    <tr>\n",
       "      <th></th>\n",
       "      <th>Общее кол-во кредитов</th>\n",
       "      <th>Кол-во задолженностей</th>\n",
       "      <th></th>\n",
       "    </tr>\n",
       "    <tr>\n",
       "      <th>children</th>\n",
       "      <th></th>\n",
       "      <th></th>\n",
       "      <th></th>\n",
       "    </tr>\n",
       "  </thead>\n",
       "  <tbody>\n",
       "    <tr>\n",
       "      <th>0</th>\n",
       "      <td>14107</td>\n",
       "      <td>1063</td>\n",
       "      <td>7.5</td>\n",
       "    </tr>\n",
       "    <tr>\n",
       "      <th>1</th>\n",
       "      <td>4809</td>\n",
       "      <td>444</td>\n",
       "      <td>9.2</td>\n",
       "    </tr>\n",
       "    <tr>\n",
       "      <th>2</th>\n",
       "      <td>2052</td>\n",
       "      <td>194</td>\n",
       "      <td>9.5</td>\n",
       "    </tr>\n",
       "    <tr>\n",
       "      <th>3</th>\n",
       "      <td>330</td>\n",
       "      <td>27</td>\n",
       "      <td>8.2</td>\n",
       "    </tr>\n",
       "    <tr>\n",
       "      <th>4</th>\n",
       "      <td>41</td>\n",
       "      <td>4</td>\n",
       "      <td>9.8</td>\n",
       "    </tr>\n",
       "    <tr>\n",
       "      <th>5</th>\n",
       "      <td>9</td>\n",
       "      <td>0</td>\n",
       "      <td>0.0</td>\n",
       "    </tr>\n",
       "  </tbody>\n",
       "</table>\n",
       "</div>"
      ],
      "text/plain": [
       "                          debt                       Процент задолженностей\n",
       "         Общее кол-во кредитов Кол-во задолженностей                       \n",
       "children                                                                   \n",
       "0                        14107                  1063                    7.5\n",
       "1                         4809                   444                    9.2\n",
       "2                         2052                   194                    9.5\n",
       "3                          330                    27                    8.2\n",
       "4                           41                     4                    9.8\n",
       "5                            9                     0                    0.0"
      ]
     },
     "execution_count": 23,
     "metadata": {},
     "output_type": "execute_result"
    }
   ],
   "source": [
    "#Для удобства чтения таблицы переименуем столбцы:\n",
    "debt_in_time_share = debt_in_time.rename(columns={'count':'Общее кол-во кредитов', 'sum':'Кол-во задолженностей','share_%':'Процент задолженностей'}) \n",
    "debt_in_time_share"
   ]
  },
  {
   "cell_type": "markdown",
   "metadata": {
    "deletable": false,
    "id": "3a6b99ec"
   },
   "source": [
    "**Вывод:** Как видно из полученной таблицы - утверждение \"между количеством детей в семье и возвратом кредита в срок есть зависимость\" - не верно. Количество детей при их наличии не влияет на возврат кредита в срок. Физические лица без детей возвращают кредит в срок чаще, чем физ.лица с детьми. С появлением детей и с увеличением их количества в семье - кредитов берут меньше."
   ]
  },
  {
   "cell_type": "markdown",
   "metadata": {
    "deletable": false,
    "editable": false,
    "id": "97be82ca"
   },
   "source": [
    "**Задание 20. Есть ли зависимость между семейным положением и возвратом кредита в срок?**"
   ]
  },
  {
   "cell_type": "code",
   "execution_count": 31,
   "metadata": {
    "id": "dc3f7ee8",
    "scrolled": true
   },
   "outputs": [],
   "source": [
    "debt_family = data.groupby('family_status').agg({'debt': ['count','sum']})\n",
    "debt_family['share_%'] = ((debt_family['debt']['sum']/debt_family['debt']['count'])*100).round(1)"
   ]
  },
  {
   "cell_type": "code",
   "execution_count": 32,
   "metadata": {},
   "outputs": [],
   "source": [
    "#Для удобства чтения таблицы переименуем столбцы:\n",
    "debt_family = debt_family.rename(columns={'count':'Общее кол-во кредитов', 'sum':'Кол-во задолженностей','share_%':'Процент задолженностей'}) "
   ]
  },
  {
   "cell_type": "code",
   "execution_count": 33,
   "metadata": {},
   "outputs": [
    {
     "data": {
      "text/html": [
       "<div>\n",
       "<style scoped>\n",
       "    .dataframe tbody tr th:only-of-type {\n",
       "        vertical-align: middle;\n",
       "    }\n",
       "\n",
       "    .dataframe tbody tr th {\n",
       "        vertical-align: top;\n",
       "    }\n",
       "\n",
       "    .dataframe thead tr th {\n",
       "        text-align: left;\n",
       "    }\n",
       "\n",
       "    .dataframe thead tr:last-of-type th {\n",
       "        text-align: right;\n",
       "    }\n",
       "</style>\n",
       "<table border=\"1\" class=\"dataframe\">\n",
       "  <thead>\n",
       "    <tr>\n",
       "      <th></th>\n",
       "      <th colspan=\"2\" halign=\"left\">debt</th>\n",
       "      <th>Процент задолженностей</th>\n",
       "    </tr>\n",
       "    <tr>\n",
       "      <th></th>\n",
       "      <th>Общее кол-во кредитов</th>\n",
       "      <th>Кол-во задолженностей</th>\n",
       "      <th></th>\n",
       "    </tr>\n",
       "    <tr>\n",
       "      <th>family_status</th>\n",
       "      <th></th>\n",
       "      <th></th>\n",
       "      <th></th>\n",
       "    </tr>\n",
       "  </thead>\n",
       "  <tbody>\n",
       "    <tr>\n",
       "      <th>Не женат / не замужем</th>\n",
       "      <td>2796</td>\n",
       "      <td>273</td>\n",
       "      <td>9.8</td>\n",
       "    </tr>\n",
       "    <tr>\n",
       "      <th>гражданский брак</th>\n",
       "      <td>4146</td>\n",
       "      <td>385</td>\n",
       "      <td>9.3</td>\n",
       "    </tr>\n",
       "    <tr>\n",
       "      <th>женат / замужем</th>\n",
       "      <td>12266</td>\n",
       "      <td>927</td>\n",
       "      <td>7.6</td>\n",
       "    </tr>\n",
       "    <tr>\n",
       "      <th>в разводе</th>\n",
       "      <td>1189</td>\n",
       "      <td>84</td>\n",
       "      <td>7.1</td>\n",
       "    </tr>\n",
       "    <tr>\n",
       "      <th>вдовец / вдова</th>\n",
       "      <td>951</td>\n",
       "      <td>63</td>\n",
       "      <td>6.6</td>\n",
       "    </tr>\n",
       "  </tbody>\n",
       "</table>\n",
       "</div>"
      ],
      "text/plain": [
       "                                       debt                        \\\n",
       "                      Общее кол-во кредитов Кол-во задолженностей   \n",
       "family_status                                                       \n",
       "Не женат / не замужем                  2796                   273   \n",
       "гражданский брак                       4146                   385   \n",
       "женат / замужем                       12266                   927   \n",
       "в разводе                              1189                    84   \n",
       "вдовец / вдова                          951                    63   \n",
       "\n",
       "                      Процент задолженностей  \n",
       "                                              \n",
       "family_status                                 \n",
       "Не женат / не замужем                    9.8  \n",
       "гражданский брак                         9.3  \n",
       "женат / замужем                          7.6  \n",
       "в разводе                                7.1  \n",
       "вдовец / вдова                           6.6  "
      ]
     },
     "execution_count": 33,
     "metadata": {},
     "output_type": "execute_result"
    }
   ],
   "source": [
    "#рассортируем таблицу по убыванию процента долгов:\n",
    "debt_family = debt_family.sort_values(by='Процент задолженностей', ascending=False)\n",
    "debt_family"
   ]
  },
  {
   "cell_type": "markdown",
   "metadata": {},
   "source": [
    "**Проделаем тоже самое методом pivot_table():**"
   ]
  },
  {
   "cell_type": "code",
   "execution_count": 34,
   "metadata": {},
   "outputs": [],
   "source": [
    "debt_family_table = data.pivot_table(index='family_status', values='debt',aggfunc={'debt':['sum','count']})\n",
    "debt_family_table['share_%'] = ((debt_family_table['sum']/debt_family_table['count'])*100).round(1)"
   ]
  },
  {
   "cell_type": "code",
   "execution_count": 35,
   "metadata": {},
   "outputs": [
    {
     "data": {
      "text/html": [
       "<div>\n",
       "<style scoped>\n",
       "    .dataframe tbody tr th:only-of-type {\n",
       "        vertical-align: middle;\n",
       "    }\n",
       "\n",
       "    .dataframe tbody tr th {\n",
       "        vertical-align: top;\n",
       "    }\n",
       "\n",
       "    .dataframe thead th {\n",
       "        text-align: right;\n",
       "    }\n",
       "</style>\n",
       "<table border=\"1\" class=\"dataframe\">\n",
       "  <thead>\n",
       "    <tr style=\"text-align: right;\">\n",
       "      <th></th>\n",
       "      <th>count</th>\n",
       "      <th>sum</th>\n",
       "      <th>share_%</th>\n",
       "    </tr>\n",
       "    <tr>\n",
       "      <th>family_status</th>\n",
       "      <th></th>\n",
       "      <th></th>\n",
       "      <th></th>\n",
       "    </tr>\n",
       "  </thead>\n",
       "  <tbody>\n",
       "    <tr>\n",
       "      <th>Не женат / не замужем</th>\n",
       "      <td>2796</td>\n",
       "      <td>273</td>\n",
       "      <td>9.8</td>\n",
       "    </tr>\n",
       "    <tr>\n",
       "      <th>гражданский брак</th>\n",
       "      <td>4146</td>\n",
       "      <td>385</td>\n",
       "      <td>9.3</td>\n",
       "    </tr>\n",
       "    <tr>\n",
       "      <th>женат / замужем</th>\n",
       "      <td>12266</td>\n",
       "      <td>927</td>\n",
       "      <td>7.6</td>\n",
       "    </tr>\n",
       "    <tr>\n",
       "      <th>в разводе</th>\n",
       "      <td>1189</td>\n",
       "      <td>84</td>\n",
       "      <td>7.1</td>\n",
       "    </tr>\n",
       "    <tr>\n",
       "      <th>вдовец / вдова</th>\n",
       "      <td>951</td>\n",
       "      <td>63</td>\n",
       "      <td>6.6</td>\n",
       "    </tr>\n",
       "  </tbody>\n",
       "</table>\n",
       "</div>"
      ],
      "text/plain": [
       "                       count  sum  share_%\n",
       "family_status                             \n",
       "Не женат / не замужем   2796  273      9.8\n",
       "гражданский брак        4146  385      9.3\n",
       "женат / замужем        12266  927      7.6\n",
       "в разводе               1189   84      7.1\n",
       "вдовец / вдова           951   63      6.6"
      ]
     },
     "execution_count": 35,
     "metadata": {},
     "output_type": "execute_result"
    }
   ],
   "source": [
    "#рассортируем таблицу по убыванию процента долгов:\n",
    "debt_family_table = debt_family_table.sort_values(by='share_%', ascending=False)\n",
    "debt_family_table"
   ]
  },
  {
   "cell_type": "markdown",
   "metadata": {
    "deletable": false,
    "id": "1cef7837"
   },
   "source": [
    "**Вывод:** Как видно из полученной таблицы - семейное положение незначительно влияет на возврат кредита в срок. Наибольший процент должников приходится на категорию людей \"Не женат / не замужем\". Заемщики, находящиеся в браке, возвращают кредит в срок на 22% чаще, чем заемщики категории \"Не женат / не замужем\".Разведенные заемщики возвращают кредит в срок на 28% чаще, чем неженатые/незамужние. Вдовец/вдова возвращают кредит в срок на 33% чаще, чем неженатые/незамужние заемщики.\n",
    "Наибольшее количество кредитов берут заемщики, состоящие в браке. Меньше всего кредитов берут вдовцы и вдовы."
   ]
  },
  {
   "cell_type": "markdown",
   "metadata": {},
   "source": [
    "Чем меньше социальной ответсвенности - тем больше процент долгов. Люди, не обремененные социальными обязательствами, занимаются удовлетворением своих \"хотелок\" - машина поновее, сумочка из последней коллекции дизайнера, новый айфон и тд...  \"Хотелок\" много, денег меньше, штраф по кредиту - не смертельный.\n",
    "    Люди, состоящие в браке, мыслят иначе. У них скорее всего есть ребенок(дети). Скорее всего у них есть цель так или иначе изменить жилищные условия, повысить качество жизни для себя и детей, образование, здравохранение... Все это повышает ответственность и мотивацию к финансовой грамотности. Покупки - как правило, обдуманные и запланированные, а значит люди рассчитывают свои финансовые возможности и, как следствие, процент по долгам снижается.\n",
    "    Категория заемщиков - \"в разводе\" - точной статистики у меня нет, но полагаю, что эти люди уже имеют какое-то \"имущество\", часть проблем решена, часть проблем - связана с изменением социального статуса. Имеется понимание своих возможностей и понимание отношений с финансами. Отсюда меньше процент долгов.\n",
    "    Касательно категории \"вдовец/вдова\" - как правило, это уже не молодые люди. Возможно - у них взрослые дети или внуки. Их финансовые притязания не высоки (поэтому и количество кредитов в этой категории наименьшее). Они рассчитывают на себя. С учетом того, что эти люди сформировались в период, когда кредитов не было - у них самое ответственное отношение к деньгам. Поэтому тут и самый низкий процент долгов. "
   ]
  },
  {
   "cell_type": "markdown",
   "metadata": {
    "deletable": false,
    "editable": false,
    "id": "1e8b2fca"
   },
   "source": [
    "**Задание 21. Есть ли зависимость между уровнем дохода и возвратом кредита в срок?**"
   ]
  },
  {
   "cell_type": "code",
   "execution_count": 36,
   "metadata": {},
   "outputs": [],
   "source": [
    "debt_income = data.pivot_table(index='total_income_category', values='debt',aggfunc={'debt':['sum','count']})\n",
    "debt_income['share_%'] = ((debt_income['sum']/debt_income['count'])*100).round(1)"
   ]
  },
  {
   "cell_type": "code",
   "execution_count": 37,
   "metadata": {
    "id": "cd7e3720"
   },
   "outputs": [
    {
     "data": {
      "text/html": [
       "<div>\n",
       "<style scoped>\n",
       "    .dataframe tbody tr th:only-of-type {\n",
       "        vertical-align: middle;\n",
       "    }\n",
       "\n",
       "    .dataframe tbody tr th {\n",
       "        vertical-align: top;\n",
       "    }\n",
       "\n",
       "    .dataframe thead th {\n",
       "        text-align: right;\n",
       "    }\n",
       "</style>\n",
       "<table border=\"1\" class=\"dataframe\">\n",
       "  <thead>\n",
       "    <tr style=\"text-align: right;\">\n",
       "      <th></th>\n",
       "      <th>count</th>\n",
       "      <th>sum</th>\n",
       "      <th>share_%</th>\n",
       "    </tr>\n",
       "    <tr>\n",
       "      <th>total_income_category</th>\n",
       "      <th></th>\n",
       "      <th></th>\n",
       "      <th></th>\n",
       "    </tr>\n",
       "  </thead>\n",
       "  <tbody>\n",
       "    <tr>\n",
       "      <th>E</th>\n",
       "      <td>22</td>\n",
       "      <td>2</td>\n",
       "      <td>9.1</td>\n",
       "    </tr>\n",
       "    <tr>\n",
       "      <th>C</th>\n",
       "      <td>15938</td>\n",
       "      <td>1353</td>\n",
       "      <td>8.5</td>\n",
       "    </tr>\n",
       "    <tr>\n",
       "      <th>A</th>\n",
       "      <td>25</td>\n",
       "      <td>2</td>\n",
       "      <td>8.0</td>\n",
       "    </tr>\n",
       "    <tr>\n",
       "      <th>B</th>\n",
       "      <td>5014</td>\n",
       "      <td>354</td>\n",
       "      <td>7.1</td>\n",
       "    </tr>\n",
       "    <tr>\n",
       "      <th>D</th>\n",
       "      <td>349</td>\n",
       "      <td>21</td>\n",
       "      <td>6.0</td>\n",
       "    </tr>\n",
       "  </tbody>\n",
       "</table>\n",
       "</div>"
      ],
      "text/plain": [
       "                       count   sum  share_%\n",
       "total_income_category                      \n",
       "E                         22     2      9.1\n",
       "C                      15938  1353      8.5\n",
       "A                         25     2      8.0\n",
       "B                       5014   354      7.1\n",
       "D                        349    21      6.0"
      ]
     },
     "execution_count": 37,
     "metadata": {},
     "output_type": "execute_result"
    }
   ],
   "source": [
    "#рассортируем таблицу по убыванию процента долгов:\n",
    "debt_income_sorted = debt_income.sort_values(by='share_%', ascending=False)\n",
    "debt_income_sorted"
   ]
  },
  {
   "cell_type": "markdown",
   "metadata": {
    "deletable": false,
    "id": "e8593def"
   },
   "source": [
    "**Вывод:** Чаще всего долг по кредиту имеют заемщики с доходом менее 30000 рублей (категория заемщиков 'E'). Реже всего долг по кредиту имеют Заемщики с уровнем дохода от 30001 до 50000 рублей (категория 'D'), а именно на 34% реже заемщиков категории 'Е'. Заемщики категории 'А' с доходом более 1000000 рублей находятся в середине выборки по долгам и возвращают кредит в срок на 12% чаще заемщиков с самым низким доходом.\n",
    "Таким образом, можно сделать вывод, что чаще всего долг по кредитам имеют имеют заемщики с самым низким доходом. Далее нет линейной зависимости доходов и долга по кредиту.  "
   ]
  },
  {
   "cell_type": "markdown",
   "metadata": {
    "deletable": false,
    "editable": false,
    "id": "99ecbd1f"
   },
   "source": [
    "**Задание 22. Как разные цели кредита влияют на его возврат в срок?**"
   ]
  },
  {
   "cell_type": "code",
   "execution_count": 29,
   "metadata": {
    "id": "2b687290"
   },
   "outputs": [],
   "source": [
    "debt_purpose = data.pivot_table(index='purpose_category', values='debt',aggfunc={'debt':['sum','count']})\n",
    "debt_purpose['share_%'] = ((debt_purpose['sum']/debt_purpose['count'])*100).round(1)"
   ]
  },
  {
   "cell_type": "code",
   "execution_count": 30,
   "metadata": {},
   "outputs": [
    {
     "data": {
      "text/html": [
       "<div>\n",
       "<style scoped>\n",
       "    .dataframe tbody tr th:only-of-type {\n",
       "        vertical-align: middle;\n",
       "    }\n",
       "\n",
       "    .dataframe tbody tr th {\n",
       "        vertical-align: top;\n",
       "    }\n",
       "\n",
       "    .dataframe thead th {\n",
       "        text-align: right;\n",
       "    }\n",
       "</style>\n",
       "<table border=\"1\" class=\"dataframe\">\n",
       "  <thead>\n",
       "    <tr style=\"text-align: right;\">\n",
       "      <th></th>\n",
       "      <th>count</th>\n",
       "      <th>sum</th>\n",
       "      <th>share_%</th>\n",
       "    </tr>\n",
       "    <tr>\n",
       "      <th>purpose_category</th>\n",
       "      <th></th>\n",
       "      <th></th>\n",
       "      <th></th>\n",
       "    </tr>\n",
       "  </thead>\n",
       "  <tbody>\n",
       "    <tr>\n",
       "      <th>операции с автомобилем</th>\n",
       "      <td>4281</td>\n",
       "      <td>400</td>\n",
       "      <td>9.3</td>\n",
       "    </tr>\n",
       "    <tr>\n",
       "      <th>получение образования</th>\n",
       "      <td>3989</td>\n",
       "      <td>369</td>\n",
       "      <td>9.3</td>\n",
       "    </tr>\n",
       "    <tr>\n",
       "      <th>проведение свадьбы</th>\n",
       "      <td>2324</td>\n",
       "      <td>183</td>\n",
       "      <td>7.9</td>\n",
       "    </tr>\n",
       "    <tr>\n",
       "      <th>операции с недвижимостью</th>\n",
       "      <td>10754</td>\n",
       "      <td>780</td>\n",
       "      <td>7.3</td>\n",
       "    </tr>\n",
       "  </tbody>\n",
       "</table>\n",
       "</div>"
      ],
      "text/plain": [
       "                          count  sum  share_%\n",
       "purpose_category                             \n",
       "операции с автомобилем     4281  400      9.3\n",
       "получение образования      3989  369      9.3\n",
       "проведение свадьбы         2324  183      7.9\n",
       "операции с недвижимостью  10754  780      7.3"
      ]
     },
     "execution_count": 30,
     "metadata": {},
     "output_type": "execute_result"
    }
   ],
   "source": [
    "#рассортируем по убыванию процента долгов:\n",
    "debt_purpose_sorted = debt_purpose.sort_values(by='share_%', ascending=False)\n",
    "debt_purpose_sorted"
   ]
  },
  {
   "cell_type": "markdown",
   "metadata": {
    "deletable": false,
    "id": "b4bb2ce6"
   },
   "source": [
    "**Вывод:** Чаще всего долг по кредиту возникает у заемщиков, целью которых являются операции с автомобилем. Реже всего долгов при операциях с недвижимостью, а именно на 22%. "
   ]
  },
  {
   "cell_type": "markdown",
   "metadata": {},
   "source": [
    " Как известно, автомобиль теряет 30% своей стоимости, как только он выезжает из автосалона. Поскольку автомобиль - это средство передвижения (надеюсь, в связи с известными событиями, так оно и останется, и машина не станет снова роскошью), его активно эксплуатируют. Отсюда - ремонт, запчасти, расходники, ТО, ДТП и тд и тп. Не выплатив один кредит, человек, оставшийся без авто, вынужден брать новый кредит на другое авто. Порочный круг замкнулся... \n",
    "    По образованию - хорошее образование стоит денег. Чаще всего кредит на образование берут заемщики с невысокой зарплатой (как раз с целью найти в дальнейшем высокооплачиваемую работу). Выполнить свои обязательства перед банком в таких условиях не просто.\n",
    "    По свадьбам - когда \"свежепостроенный корабль семьи\" начинает свой путь в \"океан жизни\" с долгов - это печально. Радует, что для этой цели кредитов берут меньше всего. Но если есть традиция пригласить на свадьбу несколько соседних деревень - никуда не денешься. В будущем - это потенциальные должники.\n",
    "    Категория \"операции с недвижимостью\" - как правильно это взвешенное решение. На эту категорию приходится самое большое число кредитов и наименьший процент долгов. Люди здраво подходят к оценке рисков, возможных последствий в виде потере этого самого жилья и стараются выполнять свои обязательства."
   ]
  },
  {
   "cell_type": "markdown",
   "metadata": {
    "deletable": false,
    "editable": false,
    "id": "09c3ac4c"
   },
   "source": [
    "**Задание 23. Приведите возможные причины появления пропусков в исходных данных.**"
   ]
  },
  {
   "cell_type": "markdown",
   "metadata": {
    "deletable": false,
    "id": "9da2ceda"
   },
   "source": [
    "*Ответ:* Причин появления пропусков в исходных данных несколько:\n",
    "- люди могут не вносить или скрыть свои данные \n",
    "- ошибки и пропуски могут возникать при первичной обработке данных (объединение таблиц)\n",
    "- ошибки и пропуски могут возникнуть по причине технического свойства - некорректная ссылка на данные или файл, неверный путь..."
   ]
  },
  {
   "cell_type": "markdown",
   "metadata": {
    "deletable": false,
    "editable": false,
    "id": "7b0487d6"
   },
   "source": [
    "**Задание 24. Объясните, почему заполнить пропуски медианным значением — лучшее решение для количественных переменных.**"
   ]
  },
  {
   "cell_type": "markdown",
   "metadata": {
    "deletable": false,
    "id": "7ecf2b8e"
   },
   "source": [
    "*Ответ:* При операциях с количественными переменными нужно заполнять пропуски медианным значением по следующей причине: часто количественные данные могут иметь экстремальные значения, сильно отличающиеся от остальных. Заполнив пропуски средним арифметическим значением мы можем сильно исказить данные, что повлечет не верный вывод в решении задачи. Такой проблемы не возникнет, если заполнить пропуски медианным значением. Искажение данных будет минимальным и недостаточным для верного вывода по гепотезе."
   ]
  },
  {
   "cell_type": "markdown",
   "metadata": {
    "deletable": false,
    "editable": false,
    "id": "6db5255a"
   },
   "source": [
    "## Общий вывод."
   ]
  },
  {
   "cell_type": "markdown",
   "metadata": {
    "id": "bad65432"
   },
   "source": [
    "Проведя исследование по платежеспособности заемщиков можно сдеать вывод о том, что самыми надежными заемщиками являются вдовы/вдовцы с пятью детьми, чей доход находится в пределах от 30001 до 50000 рублей и берущие кредит для операций с недвижимостью.\n",
    "Самые ненадежные заемщики - это неженатые/незамужние заемщики с доходом менее 30000 рублей и берущие кредит на операции с автомобилем.\n",
    "Касательно количества кредитов и их возврата в срок - можно сделать вывод, что самые надежные категории заемщиков это люди со средним и высоким доходом, семейные и с детьми. Они обладают бОльшей финансовой грамотностью и ответственностью, основная цель кредита - операции с недвижимостью."
   ]
  }
 ],
 "metadata": {
  "ExecuteTimeLog": [
   {
    "duration": 4,
    "start_time": "2022-07-11T20:47:06.158Z"
   },
   {
    "duration": 43,
    "start_time": "2022-07-11T20:47:41.986Z"
   },
   {
    "duration": 519,
    "start_time": "2022-07-11T20:47:53.413Z"
   },
   {
    "duration": 35,
    "start_time": "2022-07-11T20:47:53.934Z"
   },
   {
    "duration": 18,
    "start_time": "2022-07-11T20:47:53.970Z"
   },
   {
    "duration": 15,
    "start_time": "2022-07-11T20:47:54.002Z"
   },
   {
    "duration": 48,
    "start_time": "2022-07-11T20:47:54.019Z"
   },
   {
    "duration": 4,
    "start_time": "2022-07-11T20:47:54.069Z"
   },
   {
    "duration": 13,
    "start_time": "2022-07-11T20:47:54.074Z"
   },
   {
    "duration": 21,
    "start_time": "2022-07-11T20:47:54.089Z"
   },
   {
    "duration": 9,
    "start_time": "2022-07-11T20:47:54.112Z"
   },
   {
    "duration": 19,
    "start_time": "2022-07-11T20:47:54.124Z"
   },
   {
    "duration": 35,
    "start_time": "2022-07-11T20:47:54.145Z"
   },
   {
    "duration": 10,
    "start_time": "2022-07-11T20:47:54.182Z"
   },
   {
    "duration": 8,
    "start_time": "2022-07-11T20:47:54.194Z"
   },
   {
    "duration": 28,
    "start_time": "2022-07-11T20:47:54.204Z"
   },
   {
    "duration": 20,
    "start_time": "2022-07-11T20:47:54.234Z"
   },
   {
    "duration": 11,
    "start_time": "2022-07-11T20:47:54.256Z"
   },
   {
    "duration": 17,
    "start_time": "2022-07-11T20:47:54.269Z"
   },
   {
    "duration": 34,
    "start_time": "2022-07-11T20:47:54.288Z"
   },
   {
    "duration": 28,
    "start_time": "2022-07-11T20:47:54.324Z"
   },
   {
    "duration": 530,
    "start_time": "2022-07-11T20:51:45.137Z"
   },
   {
    "duration": 21,
    "start_time": "2022-07-11T20:51:45.669Z"
   },
   {
    "duration": 15,
    "start_time": "2022-07-11T20:51:45.691Z"
   },
   {
    "duration": 9,
    "start_time": "2022-07-11T20:51:45.708Z"
   },
   {
    "duration": 33,
    "start_time": "2022-07-11T20:51:45.719Z"
   },
   {
    "duration": 3,
    "start_time": "2022-07-11T20:51:45.754Z"
   },
   {
    "duration": 13,
    "start_time": "2022-07-11T20:51:45.759Z"
   },
   {
    "duration": 29,
    "start_time": "2022-07-11T20:51:45.774Z"
   },
   {
    "duration": 10,
    "start_time": "2022-07-11T20:51:45.804Z"
   },
   {
    "duration": 5,
    "start_time": "2022-07-11T20:51:45.815Z"
   },
   {
    "duration": 32,
    "start_time": "2022-07-11T20:51:45.821Z"
   },
   {
    "duration": 8,
    "start_time": "2022-07-11T20:51:45.855Z"
   },
   {
    "duration": 6,
    "start_time": "2022-07-11T20:51:45.865Z"
   },
   {
    "duration": 40,
    "start_time": "2022-07-11T20:51:45.873Z"
   },
   {
    "duration": 16,
    "start_time": "2022-07-11T20:51:45.914Z"
   },
   {
    "duration": 11,
    "start_time": "2022-07-11T20:51:45.931Z"
   },
   {
    "duration": 9,
    "start_time": "2022-07-11T20:51:45.943Z"
   },
   {
    "duration": 10,
    "start_time": "2022-07-11T20:51:45.954Z"
   },
   {
    "duration": 7,
    "start_time": "2022-07-11T20:51:45.966Z"
   },
   {
    "duration": 27,
    "start_time": "2022-07-11T20:51:45.975Z"
   },
   {
    "duration": 19,
    "start_time": "2022-07-11T20:51:46.003Z"
   },
   {
    "duration": 27,
    "start_time": "2022-07-11T20:51:46.024Z"
   },
   {
    "duration": 8,
    "start_time": "2022-07-11T20:51:46.052Z"
   },
   {
    "duration": 6,
    "start_time": "2022-07-11T20:51:46.061Z"
   },
   {
    "duration": 6,
    "start_time": "2022-07-11T20:51:46.068Z"
   },
   {
    "duration": 37,
    "start_time": "2022-07-11T20:57:57.699Z"
   },
   {
    "duration": 6,
    "start_time": "2022-07-11T20:59:10.215Z"
   },
   {
    "duration": 5,
    "start_time": "2022-07-11T21:00:30.571Z"
   },
   {
    "duration": 407,
    "start_time": "2022-07-11T21:01:30.450Z"
   },
   {
    "duration": 27,
    "start_time": "2022-07-11T21:01:30.859Z"
   },
   {
    "duration": 38,
    "start_time": "2022-07-11T21:01:30.888Z"
   },
   {
    "duration": 20,
    "start_time": "2022-07-11T21:01:30.929Z"
   },
   {
    "duration": 57,
    "start_time": "2022-07-11T21:01:30.951Z"
   },
   {
    "duration": 13,
    "start_time": "2022-07-11T21:01:31.010Z"
   },
   {
    "duration": 29,
    "start_time": "2022-07-11T21:01:31.025Z"
   },
   {
    "duration": 20,
    "start_time": "2022-07-11T21:01:31.056Z"
   },
   {
    "duration": 52,
    "start_time": "2022-07-11T21:01:31.077Z"
   },
   {
    "duration": 53,
    "start_time": "2022-07-11T21:01:31.131Z"
   },
   {
    "duration": 78,
    "start_time": "2022-07-11T21:01:31.186Z"
   },
   {
    "duration": 9,
    "start_time": "2022-07-11T21:01:31.266Z"
   },
   {
    "duration": 20,
    "start_time": "2022-07-11T21:01:31.276Z"
   },
   {
    "duration": 76,
    "start_time": "2022-07-11T21:01:31.298Z"
   },
   {
    "duration": 40,
    "start_time": "2022-07-11T21:01:31.376Z"
   },
   {
    "duration": 20,
    "start_time": "2022-07-11T21:01:31.418Z"
   },
   {
    "duration": 31,
    "start_time": "2022-07-11T21:01:31.440Z"
   },
   {
    "duration": 33,
    "start_time": "2022-07-11T21:01:31.473Z"
   },
   {
    "duration": 16,
    "start_time": "2022-07-11T21:01:31.508Z"
   },
   {
    "duration": 7,
    "start_time": "2022-07-11T21:01:31.526Z"
   },
   {
    "duration": 22,
    "start_time": "2022-07-11T21:01:31.535Z"
   },
   {
    "duration": 64,
    "start_time": "2022-07-11T21:01:31.559Z"
   },
   {
    "duration": 21,
    "start_time": "2022-07-11T21:01:31.624Z"
   },
   {
    "duration": 16,
    "start_time": "2022-07-11T21:01:31.646Z"
   },
   {
    "duration": 11,
    "start_time": "2022-07-11T21:01:31.664Z"
   },
   {
    "duration": 7,
    "start_time": "2022-07-11T21:02:13.964Z"
   },
   {
    "duration": 25,
    "start_time": "2022-07-11T21:02:41.894Z"
   },
   {
    "duration": 21,
    "start_time": "2022-07-11T21:03:32.594Z"
   },
   {
    "duration": 10,
    "start_time": "2022-07-11T21:04:17.994Z"
   },
   {
    "duration": 7,
    "start_time": "2022-07-11T21:04:58.033Z"
   },
   {
    "duration": 484,
    "start_time": "2022-07-12T19:57:34.397Z"
   },
   {
    "duration": 20,
    "start_time": "2022-07-12T19:57:34.883Z"
   },
   {
    "duration": 18,
    "start_time": "2022-07-12T19:57:34.905Z"
   },
   {
    "duration": 9,
    "start_time": "2022-07-12T19:57:34.925Z"
   },
   {
    "duration": 37,
    "start_time": "2022-07-12T19:57:34.935Z"
   },
   {
    "duration": 3,
    "start_time": "2022-07-12T19:57:34.974Z"
   },
   {
    "duration": 9,
    "start_time": "2022-07-12T19:57:34.978Z"
   },
   {
    "duration": 4,
    "start_time": "2022-07-12T19:57:34.988Z"
   },
   {
    "duration": 9,
    "start_time": "2022-07-12T19:57:34.993Z"
   },
   {
    "duration": 4,
    "start_time": "2022-07-12T19:57:35.006Z"
   },
   {
    "duration": 67,
    "start_time": "2022-07-12T19:57:35.012Z"
   },
   {
    "duration": 9,
    "start_time": "2022-07-12T19:57:35.081Z"
   },
   {
    "duration": 7,
    "start_time": "2022-07-12T19:57:35.091Z"
   },
   {
    "duration": 18,
    "start_time": "2022-07-12T19:57:35.099Z"
   },
   {
    "duration": 15,
    "start_time": "2022-07-12T19:57:35.118Z"
   },
   {
    "duration": 10,
    "start_time": "2022-07-12T19:57:35.135Z"
   },
   {
    "duration": 20,
    "start_time": "2022-07-12T19:57:35.146Z"
   },
   {
    "duration": 22,
    "start_time": "2022-07-12T19:57:35.168Z"
   },
   {
    "duration": 13,
    "start_time": "2022-07-12T19:57:35.191Z"
   },
   {
    "duration": 5,
    "start_time": "2022-07-12T19:57:35.205Z"
   },
   {
    "duration": 16,
    "start_time": "2022-07-12T19:57:35.211Z"
   },
   {
    "duration": 9,
    "start_time": "2022-07-12T19:57:35.228Z"
   },
   {
    "duration": 14,
    "start_time": "2022-07-12T19:57:35.239Z"
   },
   {
    "duration": 23,
    "start_time": "2022-07-12T19:57:35.255Z"
   },
   {
    "duration": 10,
    "start_time": "2022-07-12T19:57:35.279Z"
   },
   {
    "duration": 980,
    "start_time": "2022-07-12T20:02:28.969Z"
   },
   {
    "duration": 25,
    "start_time": "2022-07-12T20:06:16.341Z"
   },
   {
    "duration": 18,
    "start_time": "2022-07-12T20:06:46.679Z"
   },
   {
    "duration": 16,
    "start_time": "2022-07-12T20:07:14.643Z"
   },
   {
    "duration": 6,
    "start_time": "2022-07-12T20:07:27.523Z"
   },
   {
    "duration": 2,
    "start_time": "2022-07-12T20:07:39.316Z"
   },
   {
    "duration": 6,
    "start_time": "2022-07-12T20:07:42.152Z"
   },
   {
    "duration": 8,
    "start_time": "2022-07-12T20:07:49.332Z"
   },
   {
    "duration": 704,
    "start_time": "2022-07-12T20:10:42.836Z"
   },
   {
    "duration": 7,
    "start_time": "2022-07-12T20:11:22.652Z"
   },
   {
    "duration": 11,
    "start_time": "2022-07-12T20:12:01.553Z"
   },
   {
    "duration": 11,
    "start_time": "2022-07-12T20:12:28.630Z"
   },
   {
    "duration": 11,
    "start_time": "2022-07-12T20:14:24.878Z"
   },
   {
    "duration": 23,
    "start_time": "2022-07-12T20:21:38.810Z"
   },
   {
    "duration": 6,
    "start_time": "2022-07-12T20:22:25.664Z"
   },
   {
    "duration": 10,
    "start_time": "2022-07-12T20:22:49.803Z"
   },
   {
    "duration": 8,
    "start_time": "2022-07-12T20:24:07.552Z"
   },
   {
    "duration": 15,
    "start_time": "2022-07-12T20:26:30.419Z"
   },
   {
    "duration": 31,
    "start_time": "2022-07-12T20:28:01.991Z"
   },
   {
    "duration": 12,
    "start_time": "2022-07-12T20:28:28.285Z"
   },
   {
    "duration": 21,
    "start_time": "2022-07-12T20:39:56.792Z"
   },
   {
    "duration": 23,
    "start_time": "2022-07-12T20:42:04.546Z"
   },
   {
    "duration": 17,
    "start_time": "2022-07-12T20:42:45.068Z"
   },
   {
    "duration": 8,
    "start_time": "2022-07-12T20:44:54.696Z"
   },
   {
    "duration": 14,
    "start_time": "2022-07-12T20:46:17.103Z"
   },
   {
    "duration": 26,
    "start_time": "2022-07-12T20:46:32.159Z"
   },
   {
    "duration": 19,
    "start_time": "2022-07-12T20:47:23.503Z"
   },
   {
    "duration": 26,
    "start_time": "2022-07-12T20:48:49.542Z"
   },
   {
    "duration": 14,
    "start_time": "2022-07-12T20:49:41.974Z"
   },
   {
    "duration": 15,
    "start_time": "2022-07-12T20:49:46.497Z"
   },
   {
    "duration": 19,
    "start_time": "2022-07-12T20:50:14.316Z"
   },
   {
    "duration": 30,
    "start_time": "2022-07-12T20:52:10.111Z"
   },
   {
    "duration": 11,
    "start_time": "2022-07-12T20:54:22.433Z"
   },
   {
    "duration": 24,
    "start_time": "2022-07-12T20:54:32.881Z"
   },
   {
    "duration": 213,
    "start_time": "2022-07-12T20:55:47.619Z"
   },
   {
    "duration": 91,
    "start_time": "2022-07-12T20:59:15.726Z"
   },
   {
    "duration": 52,
    "start_time": "2022-07-12T20:59:46.343Z"
   },
   {
    "duration": 48,
    "start_time": "2022-07-12T20:59:56.315Z"
   },
   {
    "duration": 14,
    "start_time": "2022-07-12T21:00:16.233Z"
   },
   {
    "duration": 32,
    "start_time": "2022-07-12T21:00:52.216Z"
   },
   {
    "duration": 18,
    "start_time": "2022-07-12T21:02:19.463Z"
   },
   {
    "duration": 11,
    "start_time": "2022-07-12T21:02:52.494Z"
   },
   {
    "duration": 17,
    "start_time": "2022-07-12T21:04:19.705Z"
   },
   {
    "duration": 9,
    "start_time": "2022-07-12T21:05:26.889Z"
   },
   {
    "duration": 18,
    "start_time": "2022-07-12T21:09:44.131Z"
   },
   {
    "duration": 13,
    "start_time": "2022-07-12T21:10:19.900Z"
   },
   {
    "duration": 13,
    "start_time": "2022-07-12T21:10:28.515Z"
   },
   {
    "duration": 8,
    "start_time": "2022-07-12T21:11:55.073Z"
   },
   {
    "duration": 7,
    "start_time": "2022-07-12T21:18:33.432Z"
   },
   {
    "duration": 7,
    "start_time": "2022-07-12T21:18:44.636Z"
   },
   {
    "duration": 6,
    "start_time": "2022-07-12T21:19:16.769Z"
   },
   {
    "duration": 7,
    "start_time": "2022-07-12T21:19:56.709Z"
   },
   {
    "duration": 11,
    "start_time": "2022-07-12T21:28:37.542Z"
   },
   {
    "duration": 12,
    "start_time": "2022-07-12T21:29:01.182Z"
   },
   {
    "duration": 11,
    "start_time": "2022-07-12T21:30:29.566Z"
   },
   {
    "duration": 51,
    "start_time": "2022-07-12T21:35:48.988Z"
   },
   {
    "duration": 913,
    "start_time": "2022-07-12T21:35:55.812Z"
   },
   {
    "duration": 9,
    "start_time": "2022-07-12T21:37:43.767Z"
   },
   {
    "duration": 17,
    "start_time": "2022-07-12T21:37:57.595Z"
   },
   {
    "duration": 14,
    "start_time": "2022-07-12T21:39:09.554Z"
   },
   {
    "duration": 14,
    "start_time": "2022-07-12T21:39:25.975Z"
   },
   {
    "duration": 54,
    "start_time": "2022-07-12T21:41:13.076Z"
   },
   {
    "duration": 15,
    "start_time": "2022-07-12T21:45:29.021Z"
   },
   {
    "duration": 10,
    "start_time": "2022-07-12T21:46:54.100Z"
   },
   {
    "duration": 11,
    "start_time": "2022-07-12T21:53:27.438Z"
   },
   {
    "duration": 11,
    "start_time": "2022-07-12T21:54:35.132Z"
   },
   {
    "duration": 10,
    "start_time": "2022-07-12T21:55:48.930Z"
   },
   {
    "duration": 14,
    "start_time": "2022-07-12T21:55:56.477Z"
   },
   {
    "duration": 21,
    "start_time": "2022-07-12T21:56:06.281Z"
   },
   {
    "duration": 13,
    "start_time": "2022-07-12T21:56:31.425Z"
   },
   {
    "duration": 13,
    "start_time": "2022-07-12T21:57:01.712Z"
   },
   {
    "duration": 11,
    "start_time": "2022-07-12T21:57:42.437Z"
   },
   {
    "duration": 11,
    "start_time": "2022-07-12T21:57:59.463Z"
   },
   {
    "duration": 11,
    "start_time": "2022-07-12T22:12:44.711Z"
   },
   {
    "duration": 13,
    "start_time": "2022-07-12T22:13:32.562Z"
   },
   {
    "duration": 16,
    "start_time": "2022-07-12T22:14:05.663Z"
   },
   {
    "duration": 15,
    "start_time": "2022-07-12T22:15:49.101Z"
   },
   {
    "duration": 59,
    "start_time": "2022-07-12T22:17:30.554Z"
   },
   {
    "duration": 16,
    "start_time": "2022-07-12T22:17:37.977Z"
   },
   {
    "duration": 12,
    "start_time": "2022-07-12T22:18:51.044Z"
   },
   {
    "duration": 9,
    "start_time": "2022-07-12T22:18:57.387Z"
   },
   {
    "duration": 11,
    "start_time": "2022-07-12T22:19:00.498Z"
   },
   {
    "duration": 516,
    "start_time": "2022-07-13T08:32:13.180Z"
   },
   {
    "duration": 33,
    "start_time": "2022-07-13T08:32:13.698Z"
   },
   {
    "duration": 14,
    "start_time": "2022-07-13T08:32:13.732Z"
   },
   {
    "duration": 8,
    "start_time": "2022-07-13T08:32:13.748Z"
   },
   {
    "duration": 54,
    "start_time": "2022-07-13T08:32:13.757Z"
   },
   {
    "duration": 5,
    "start_time": "2022-07-13T08:32:13.813Z"
   },
   {
    "duration": 14,
    "start_time": "2022-07-13T08:32:13.819Z"
   },
   {
    "duration": 4,
    "start_time": "2022-07-13T08:32:13.836Z"
   },
   {
    "duration": 14,
    "start_time": "2022-07-13T08:32:13.841Z"
   },
   {
    "duration": 4,
    "start_time": "2022-07-13T08:32:13.860Z"
   },
   {
    "duration": 50,
    "start_time": "2022-07-13T08:32:13.866Z"
   },
   {
    "duration": 10,
    "start_time": "2022-07-13T08:32:13.918Z"
   },
   {
    "duration": 16,
    "start_time": "2022-07-13T08:32:13.929Z"
   },
   {
    "duration": 37,
    "start_time": "2022-07-13T08:32:13.947Z"
   },
   {
    "duration": 27,
    "start_time": "2022-07-13T08:32:13.986Z"
   },
   {
    "duration": 14,
    "start_time": "2022-07-13T08:32:14.015Z"
   },
   {
    "duration": 7,
    "start_time": "2022-07-13T08:32:14.031Z"
   },
   {
    "duration": 20,
    "start_time": "2022-07-13T08:32:14.040Z"
   },
   {
    "duration": 11,
    "start_time": "2022-07-13T08:32:14.061Z"
   },
   {
    "duration": 4,
    "start_time": "2022-07-13T08:32:14.074Z"
   },
   {
    "duration": 16,
    "start_time": "2022-07-13T08:32:14.080Z"
   },
   {
    "duration": 21,
    "start_time": "2022-07-13T08:32:14.098Z"
   },
   {
    "duration": 11,
    "start_time": "2022-07-13T08:32:14.120Z"
   },
   {
    "duration": 12,
    "start_time": "2022-07-13T08:32:14.132Z"
   },
   {
    "duration": 10,
    "start_time": "2022-07-13T08:32:14.145Z"
   },
   {
    "duration": 13,
    "start_time": "2022-07-13T08:32:14.156Z"
   },
   {
    "duration": 8,
    "start_time": "2022-07-13T08:32:14.170Z"
   },
   {
    "duration": 17,
    "start_time": "2022-07-13T09:12:46.448Z"
   },
   {
    "duration": 57,
    "start_time": "2022-07-13T09:17:33.323Z"
   },
   {
    "duration": 55,
    "start_time": "2022-07-13T09:18:05.131Z"
   },
   {
    "duration": 16,
    "start_time": "2022-07-13T09:19:12.376Z"
   },
   {
    "duration": 21,
    "start_time": "2022-07-13T09:19:42.129Z"
   },
   {
    "duration": 17,
    "start_time": "2022-07-13T09:20:08.659Z"
   },
   {
    "duration": 1038,
    "start_time": "2022-07-13T09:21:28.355Z"
   },
   {
    "duration": 19,
    "start_time": "2022-07-13T09:21:57.272Z"
   },
   {
    "duration": 14,
    "start_time": "2022-07-13T09:22:40.908Z"
   },
   {
    "duration": 18,
    "start_time": "2022-07-13T09:23:04.822Z"
   },
   {
    "duration": 21,
    "start_time": "2022-07-13T09:30:27.088Z"
   },
   {
    "duration": 28,
    "start_time": "2022-07-13T10:41:41.820Z"
   },
   {
    "duration": 20,
    "start_time": "2022-07-13T10:44:07.274Z"
   },
   {
    "duration": 22,
    "start_time": "2022-07-13T10:46:16.271Z"
   },
   {
    "duration": 575,
    "start_time": "2022-07-13T17:36:16.197Z"
   },
   {
    "duration": 28,
    "start_time": "2022-07-13T17:36:16.774Z"
   },
   {
    "duration": 23,
    "start_time": "2022-07-13T17:36:16.804Z"
   },
   {
    "duration": 13,
    "start_time": "2022-07-13T17:36:16.831Z"
   },
   {
    "duration": 40,
    "start_time": "2022-07-13T17:36:16.846Z"
   },
   {
    "duration": 4,
    "start_time": "2022-07-13T17:36:16.888Z"
   },
   {
    "duration": 12,
    "start_time": "2022-07-13T17:36:16.924Z"
   },
   {
    "duration": 6,
    "start_time": "2022-07-13T17:36:16.938Z"
   },
   {
    "duration": 17,
    "start_time": "2022-07-13T17:36:16.946Z"
   },
   {
    "duration": 6,
    "start_time": "2022-07-13T17:36:16.967Z"
   },
   {
    "duration": 69,
    "start_time": "2022-07-13T17:36:16.975Z"
   },
   {
    "duration": 10,
    "start_time": "2022-07-13T17:36:17.046Z"
   },
   {
    "duration": 4,
    "start_time": "2022-07-13T17:36:17.058Z"
   },
   {
    "duration": 25,
    "start_time": "2022-07-13T17:36:17.065Z"
   },
   {
    "duration": 47,
    "start_time": "2022-07-13T17:36:17.092Z"
   },
   {
    "duration": 13,
    "start_time": "2022-07-13T17:36:17.141Z"
   },
   {
    "duration": 5,
    "start_time": "2022-07-13T17:36:17.156Z"
   },
   {
    "duration": 17,
    "start_time": "2022-07-13T17:36:17.163Z"
   },
   {
    "duration": 10,
    "start_time": "2022-07-13T17:36:17.182Z"
   },
   {
    "duration": 5,
    "start_time": "2022-07-13T17:36:17.194Z"
   },
   {
    "duration": 14,
    "start_time": "2022-07-13T17:36:17.224Z"
   },
   {
    "duration": 14,
    "start_time": "2022-07-13T17:36:17.241Z"
   },
   {
    "duration": 13,
    "start_time": "2022-07-13T17:36:17.257Z"
   },
   {
    "duration": 19,
    "start_time": "2022-07-13T17:36:17.273Z"
   },
   {
    "duration": 32,
    "start_time": "2022-07-13T17:36:17.294Z"
   },
   {
    "duration": 32,
    "start_time": "2022-07-13T17:36:17.328Z"
   },
   {
    "duration": 24,
    "start_time": "2022-07-13T17:36:17.362Z"
   },
   {
    "duration": 54,
    "start_time": "2022-07-13T17:36:17.389Z"
   },
   {
    "duration": 76,
    "start_time": "2022-07-13T19:24:08.190Z"
   },
   {
    "duration": 16,
    "start_time": "2022-07-13T19:24:39.469Z"
   },
   {
    "duration": 485,
    "start_time": "2022-07-14T04:33:26.924Z"
   },
   {
    "duration": 21,
    "start_time": "2022-07-14T04:33:27.411Z"
   },
   {
    "duration": 14,
    "start_time": "2022-07-14T04:33:27.434Z"
   },
   {
    "duration": 9,
    "start_time": "2022-07-14T04:33:27.449Z"
   },
   {
    "duration": 65,
    "start_time": "2022-07-14T04:33:27.459Z"
   },
   {
    "duration": 4,
    "start_time": "2022-07-14T04:33:27.525Z"
   },
   {
    "duration": 11,
    "start_time": "2022-07-14T04:33:27.530Z"
   },
   {
    "duration": 4,
    "start_time": "2022-07-14T04:33:27.542Z"
   },
   {
    "duration": 9,
    "start_time": "2022-07-14T04:33:27.547Z"
   },
   {
    "duration": 8,
    "start_time": "2022-07-14T04:33:27.557Z"
   },
   {
    "duration": 52,
    "start_time": "2022-07-14T04:33:27.567Z"
   },
   {
    "duration": 10,
    "start_time": "2022-07-14T04:33:27.621Z"
   },
   {
    "duration": 15,
    "start_time": "2022-07-14T04:33:27.632Z"
   },
   {
    "duration": 21,
    "start_time": "2022-07-14T04:33:27.649Z"
   },
   {
    "duration": 15,
    "start_time": "2022-07-14T04:33:27.671Z"
   },
   {
    "duration": 10,
    "start_time": "2022-07-14T04:33:27.701Z"
   },
   {
    "duration": 6,
    "start_time": "2022-07-14T04:33:27.712Z"
   },
   {
    "duration": 19,
    "start_time": "2022-07-14T04:33:27.719Z"
   },
   {
    "duration": 5,
    "start_time": "2022-07-14T04:33:27.739Z"
   },
   {
    "duration": 5,
    "start_time": "2022-07-14T04:33:27.746Z"
   },
   {
    "duration": 22,
    "start_time": "2022-07-14T04:33:27.752Z"
   },
   {
    "duration": 8,
    "start_time": "2022-07-14T04:33:27.775Z"
   },
   {
    "duration": 16,
    "start_time": "2022-07-14T04:33:27.785Z"
   },
   {
    "duration": 20,
    "start_time": "2022-07-14T04:33:27.803Z"
   },
   {
    "duration": 16,
    "start_time": "2022-07-14T04:33:27.824Z"
   },
   {
    "duration": 25,
    "start_time": "2022-07-14T04:33:27.842Z"
   },
   {
    "duration": 17,
    "start_time": "2022-07-14T04:33:27.869Z"
   },
   {
    "duration": 19,
    "start_time": "2022-07-14T04:33:27.900Z"
   },
   {
    "duration": 410,
    "start_time": "2022-07-14T04:45:12.653Z"
   },
   {
    "duration": 21,
    "start_time": "2022-07-14T04:45:13.066Z"
   },
   {
    "duration": 15,
    "start_time": "2022-07-14T04:45:13.088Z"
   },
   {
    "duration": 9,
    "start_time": "2022-07-14T04:45:13.105Z"
   },
   {
    "duration": 37,
    "start_time": "2022-07-14T04:45:13.115Z"
   },
   {
    "duration": 3,
    "start_time": "2022-07-14T04:45:13.154Z"
   },
   {
    "duration": 18,
    "start_time": "2022-07-14T04:45:13.158Z"
   },
   {
    "duration": 6,
    "start_time": "2022-07-14T04:45:13.177Z"
   },
   {
    "duration": 12,
    "start_time": "2022-07-14T04:45:13.201Z"
   },
   {
    "duration": 5,
    "start_time": "2022-07-14T04:45:13.216Z"
   },
   {
    "duration": 41,
    "start_time": "2022-07-14T04:45:13.222Z"
   },
   {
    "duration": 8,
    "start_time": "2022-07-14T04:45:13.265Z"
   },
   {
    "duration": 9,
    "start_time": "2022-07-14T04:45:13.275Z"
   },
   {
    "duration": 30,
    "start_time": "2022-07-14T04:45:13.285Z"
   },
   {
    "duration": 16,
    "start_time": "2022-07-14T04:45:13.316Z"
   },
   {
    "duration": 10,
    "start_time": "2022-07-14T04:45:13.334Z"
   },
   {
    "duration": 3,
    "start_time": "2022-07-14T04:45:13.345Z"
   },
   {
    "duration": 13,
    "start_time": "2022-07-14T04:45:13.350Z"
   },
   {
    "duration": 9,
    "start_time": "2022-07-14T04:45:13.364Z"
   },
   {
    "duration": 29,
    "start_time": "2022-07-14T04:45:13.374Z"
   },
   {
    "duration": 11,
    "start_time": "2022-07-14T04:45:13.404Z"
   },
   {
    "duration": 11,
    "start_time": "2022-07-14T04:45:13.417Z"
   },
   {
    "duration": 10,
    "start_time": "2022-07-14T04:45:13.430Z"
   },
   {
    "duration": 12,
    "start_time": "2022-07-14T04:45:13.441Z"
   },
   {
    "duration": 14,
    "start_time": "2022-07-14T04:45:13.455Z"
   },
   {
    "duration": 49,
    "start_time": "2022-07-14T04:45:13.471Z"
   },
   {
    "duration": 20,
    "start_time": "2022-07-14T04:45:13.522Z"
   },
   {
    "duration": 20,
    "start_time": "2022-07-14T04:45:13.545Z"
   },
   {
    "duration": 453,
    "start_time": "2022-07-14T05:18:54.724Z"
   },
   {
    "duration": 34,
    "start_time": "2022-07-14T05:18:55.180Z"
   },
   {
    "duration": 33,
    "start_time": "2022-07-14T05:18:55.217Z"
   },
   {
    "duration": 15,
    "start_time": "2022-07-14T05:18:55.252Z"
   },
   {
    "duration": 56,
    "start_time": "2022-07-14T05:18:55.270Z"
   },
   {
    "duration": 4,
    "start_time": "2022-07-14T05:18:55.328Z"
   },
   {
    "duration": 27,
    "start_time": "2022-07-14T05:18:55.334Z"
   },
   {
    "duration": 8,
    "start_time": "2022-07-14T05:18:55.363Z"
   },
   {
    "duration": 17,
    "start_time": "2022-07-14T05:18:55.374Z"
   },
   {
    "duration": 40,
    "start_time": "2022-07-14T05:18:55.394Z"
   },
   {
    "duration": 53,
    "start_time": "2022-07-14T05:18:55.436Z"
   },
   {
    "duration": 13,
    "start_time": "2022-07-14T05:18:55.491Z"
   },
   {
    "duration": 14,
    "start_time": "2022-07-14T05:18:55.507Z"
   },
   {
    "duration": 22,
    "start_time": "2022-07-14T05:18:55.526Z"
   },
   {
    "duration": 17,
    "start_time": "2022-07-14T05:18:55.550Z"
   },
   {
    "duration": 13,
    "start_time": "2022-07-14T05:18:55.569Z"
   },
   {
    "duration": 18,
    "start_time": "2022-07-14T05:18:55.585Z"
   },
   {
    "duration": 25,
    "start_time": "2022-07-14T05:18:55.606Z"
   },
   {
    "duration": 9,
    "start_time": "2022-07-14T05:18:55.632Z"
   },
   {
    "duration": 4,
    "start_time": "2022-07-14T05:18:55.643Z"
   },
   {
    "duration": 16,
    "start_time": "2022-07-14T05:18:55.649Z"
   },
   {
    "duration": 15,
    "start_time": "2022-07-14T05:18:55.667Z"
   },
   {
    "duration": 35,
    "start_time": "2022-07-14T05:18:55.684Z"
   },
   {
    "duration": 23,
    "start_time": "2022-07-14T05:18:55.721Z"
   },
   {
    "duration": 14,
    "start_time": "2022-07-14T05:18:55.746Z"
   },
   {
    "duration": 41,
    "start_time": "2022-07-14T05:18:55.762Z"
   },
   {
    "duration": 27,
    "start_time": "2022-07-14T05:18:55.805Z"
   },
   {
    "duration": 21,
    "start_time": "2022-07-14T05:18:55.833Z"
   },
   {
    "duration": 47,
    "start_time": "2022-07-15T09:20:58.223Z"
   },
   {
    "duration": 749,
    "start_time": "2022-07-15T09:21:05.690Z"
   },
   {
    "duration": 28,
    "start_time": "2022-07-15T09:21:06.441Z"
   },
   {
    "duration": 29,
    "start_time": "2022-07-15T09:21:06.471Z"
   },
   {
    "duration": 39,
    "start_time": "2022-07-15T09:21:06.502Z"
   },
   {
    "duration": 46,
    "start_time": "2022-07-15T09:21:06.543Z"
   },
   {
    "duration": 3,
    "start_time": "2022-07-15T09:21:06.590Z"
   },
   {
    "duration": 28,
    "start_time": "2022-07-15T09:21:06.594Z"
   },
   {
    "duration": 22,
    "start_time": "2022-07-15T09:21:06.624Z"
   },
   {
    "duration": 31,
    "start_time": "2022-07-15T09:21:06.648Z"
   },
   {
    "duration": 27,
    "start_time": "2022-07-15T09:21:06.682Z"
   },
   {
    "duration": 73,
    "start_time": "2022-07-15T09:21:06.711Z"
   },
   {
    "duration": 10,
    "start_time": "2022-07-15T09:21:06.786Z"
   },
   {
    "duration": 29,
    "start_time": "2022-07-15T09:21:06.797Z"
   },
   {
    "duration": 40,
    "start_time": "2022-07-15T09:21:06.827Z"
   },
   {
    "duration": 27,
    "start_time": "2022-07-15T09:21:06.869Z"
   },
   {
    "duration": 21,
    "start_time": "2022-07-15T09:21:06.897Z"
   },
   {
    "duration": 28,
    "start_time": "2022-07-15T09:21:06.919Z"
   },
   {
    "duration": 35,
    "start_time": "2022-07-15T09:21:06.949Z"
   },
   {
    "duration": 21,
    "start_time": "2022-07-15T09:21:06.985Z"
   },
   {
    "duration": 26,
    "start_time": "2022-07-15T09:21:07.008Z"
   },
   {
    "duration": 41,
    "start_time": "2022-07-15T09:21:07.036Z"
   },
   {
    "duration": 31,
    "start_time": "2022-07-15T09:21:07.079Z"
   },
   {
    "duration": 24,
    "start_time": "2022-07-15T09:21:07.112Z"
   },
   {
    "duration": 28,
    "start_time": "2022-07-15T09:21:07.138Z"
   },
   {
    "duration": 43,
    "start_time": "2022-07-15T09:21:07.167Z"
   },
   {
    "duration": 29,
    "start_time": "2022-07-15T09:21:07.212Z"
   },
   {
    "duration": 37,
    "start_time": "2022-07-15T09:21:07.242Z"
   },
   {
    "duration": 28,
    "start_time": "2022-07-15T09:21:07.281Z"
   },
   {
    "duration": 626,
    "start_time": "2022-07-15T15:22:19.732Z"
   },
   {
    "duration": 34,
    "start_time": "2022-07-15T15:22:20.359Z"
   },
   {
    "duration": 20,
    "start_time": "2022-07-15T15:22:20.395Z"
   },
   {
    "duration": 9,
    "start_time": "2022-07-15T15:22:20.418Z"
   },
   {
    "duration": 53,
    "start_time": "2022-07-15T15:22:20.428Z"
   },
   {
    "duration": 16,
    "start_time": "2022-07-15T15:22:20.482Z"
   },
   {
    "duration": 16,
    "start_time": "2022-07-15T15:22:20.500Z"
   },
   {
    "duration": 8,
    "start_time": "2022-07-15T15:22:20.518Z"
   },
   {
    "duration": 11,
    "start_time": "2022-07-15T15:22:20.527Z"
   },
   {
    "duration": 5,
    "start_time": "2022-07-15T15:22:20.542Z"
   },
   {
    "duration": 87,
    "start_time": "2022-07-15T15:22:20.549Z"
   },
   {
    "duration": 11,
    "start_time": "2022-07-15T15:22:20.638Z"
   },
   {
    "duration": 39,
    "start_time": "2022-07-15T15:22:20.651Z"
   },
   {
    "duration": 26,
    "start_time": "2022-07-15T15:22:20.692Z"
   },
   {
    "duration": 19,
    "start_time": "2022-07-15T15:22:20.720Z"
   },
   {
    "duration": 14,
    "start_time": "2022-07-15T15:22:20.741Z"
   },
   {
    "duration": 46,
    "start_time": "2022-07-15T15:22:20.760Z"
   },
   {
    "duration": 17,
    "start_time": "2022-07-15T15:22:20.808Z"
   },
   {
    "duration": 18,
    "start_time": "2022-07-15T15:22:20.827Z"
   },
   {
    "duration": 43,
    "start_time": "2022-07-15T15:22:20.846Z"
   },
   {
    "duration": 23,
    "start_time": "2022-07-15T15:22:20.891Z"
   },
   {
    "duration": 22,
    "start_time": "2022-07-15T15:22:20.916Z"
   },
   {
    "duration": 25,
    "start_time": "2022-07-15T15:22:20.939Z"
   },
   {
    "duration": 32,
    "start_time": "2022-07-15T15:22:20.966Z"
   },
   {
    "duration": 23,
    "start_time": "2022-07-15T15:22:21.000Z"
   },
   {
    "duration": 27,
    "start_time": "2022-07-15T15:22:21.025Z"
   },
   {
    "duration": 33,
    "start_time": "2022-07-15T15:22:21.053Z"
   },
   {
    "duration": 29,
    "start_time": "2022-07-15T15:22:21.091Z"
   },
   {
    "duration": 491,
    "start_time": "2022-07-15T15:37:56.073Z"
   },
   {
    "duration": 29,
    "start_time": "2022-07-15T15:37:56.566Z"
   },
   {
    "duration": 26,
    "start_time": "2022-07-15T15:37:56.597Z"
   },
   {
    "duration": 11,
    "start_time": "2022-07-15T15:37:56.625Z"
   },
   {
    "duration": 56,
    "start_time": "2022-07-15T15:37:56.638Z"
   },
   {
    "duration": 4,
    "start_time": "2022-07-15T15:37:56.696Z"
   },
   {
    "duration": 10,
    "start_time": "2022-07-15T15:37:56.702Z"
   },
   {
    "duration": 5,
    "start_time": "2022-07-15T15:37:56.714Z"
   },
   {
    "duration": 9,
    "start_time": "2022-07-15T15:37:56.720Z"
   },
   {
    "duration": 28,
    "start_time": "2022-07-15T15:37:56.730Z"
   },
   {
    "duration": 64,
    "start_time": "2022-07-15T15:37:56.760Z"
   },
   {
    "duration": 8,
    "start_time": "2022-07-15T15:37:56.826Z"
   },
   {
    "duration": 4,
    "start_time": "2022-07-15T15:37:56.836Z"
   },
   {
    "duration": 39,
    "start_time": "2022-07-15T15:37:56.844Z"
   },
   {
    "duration": 26,
    "start_time": "2022-07-15T15:37:56.889Z"
   },
   {
    "duration": 15,
    "start_time": "2022-07-15T15:37:56.917Z"
   },
   {
    "duration": 6,
    "start_time": "2022-07-15T15:37:56.935Z"
   },
   {
    "duration": 19,
    "start_time": "2022-07-15T15:37:56.943Z"
   },
   {
    "duration": 31,
    "start_time": "2022-07-15T15:37:56.963Z"
   },
   {
    "duration": 6,
    "start_time": "2022-07-15T15:37:56.996Z"
   },
   {
    "duration": 30,
    "start_time": "2022-07-15T15:37:57.003Z"
   },
   {
    "duration": 23,
    "start_time": "2022-07-15T15:37:57.036Z"
   },
   {
    "duration": 16,
    "start_time": "2022-07-15T15:37:57.063Z"
   },
   {
    "duration": 27,
    "start_time": "2022-07-15T15:37:57.081Z"
   },
   {
    "duration": 16,
    "start_time": "2022-07-15T15:37:57.110Z"
   },
   {
    "duration": 49,
    "start_time": "2022-07-15T15:37:57.128Z"
   },
   {
    "duration": 34,
    "start_time": "2022-07-15T15:37:57.179Z"
   },
   {
    "duration": 24,
    "start_time": "2022-07-15T15:37:57.215Z"
   }
  ],
  "colab": {
   "name": "dpp_template_part2.ipynb",
   "provenance": []
  },
  "kernelspec": {
   "display_name": "Python 3",
   "language": "python",
   "name": "python3"
  },
  "language_info": {
   "codemirror_mode": {
    "name": "ipython",
    "version": 3
   },
   "file_extension": ".py",
   "mimetype": "text/x-python",
   "name": "python",
   "nbconvert_exporter": "python",
   "pygments_lexer": "ipython3",
   "version": "3.7.0"
  },
  "toc": {
   "base_numbering": 1,
   "nav_menu": {},
   "number_sections": true,
   "sideBar": true,
   "skip_h1_title": true,
   "title_cell": "Table of Contents",
   "title_sidebar": "Contents",
   "toc_cell": false,
   "toc_position": {},
   "toc_section_display": true,
   "toc_window_display": false
  }
 },
 "nbformat": 4,
 "nbformat_minor": 5
}
