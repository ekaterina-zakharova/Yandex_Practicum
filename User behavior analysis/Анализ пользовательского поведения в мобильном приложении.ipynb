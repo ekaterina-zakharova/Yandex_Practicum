{
 "cells": [
  {
   "cell_type": "markdown",
   "metadata": {},
   "source": [
    "# Сборный проект №2"
   ]
  },
  {
   "cell_type": "markdown",
   "metadata": {},
   "source": [
    "#  Анализ пользовательского поведения в мобильном приложении"
   ]
  },
  {
   "cell_type": "markdown",
   "metadata": {},
   "source": [
    "Цель работы - необходимо разобраться как ведут себя пользователи мобильного приложения для продажи продуктов питания. \n",
    "Следует изучить воронку продаж. Узнать, как пользователи доходят до покупки. Сколько пользователей доходит до покупки, и сколько — «застревает» на предыдущих шагах. На каких именно?\n",
    "Далее необходимо исследовать результаты A/A/B-эксперимента, так как дизайнеры захотели поменять шрифты во всём приложении.\n"
   ]
  },
  {
   "cell_type": "markdown",
   "metadata": {},
   "source": [
    "# Описание данных\n",
    "\n",
    "Данные в проекте описывают действия пользователей мобильного приложения продуктов питания.\n",
    "\n",
    "Основные задачи:\n",
    "\n",
    "1. Изучить воронку продаж;\n",
    "2. Узнать, как пользователи доходят до покупки;\n",
    "3. Выяснить, сколько пользователей доходит до покупки, а сколько — «застревает» на предыдущих шагах;\n",
    "4. Исследовать результаты A/A/B-эксперимента, где пользователей разбили на 3 группы: 2 контрольные со старыми шрифтами и одну экспериментальную — с новыми;\n",
    "5. Выяснить, какой шрифт лучше;\n",
    "\n",
    "Каждая запись в логе — это действие пользователя, или событие.\n",
    "\n",
    "* EventName — название события;\n",
    "* DeviceIDHash — уникальный идентификатор пользователя;\n",
    "* EventTimestamp — время события;\n",
    "* ExpId — номер эксперимента: 246 и 247 — контрольные группы, а 248 — экспериментальная."
   ]
  },
  {
   "cell_type": "markdown",
   "metadata": {},
   "source": [
    "## Откроем файл с данными и изучим общую информацию"
   ]
  },
  {
   "cell_type": "code",
   "execution_count": 1,
   "metadata": {},
   "outputs": [],
   "source": [
    "# импортируем все необходимые библиотеки:\n",
    "\n",
    "import pandas as pd\n",
    "import numpy as np\n",
    "from datetime import datetime as dt\n",
    "from matplotlib import pyplot as plt\n",
    "import scipy.stats as st\n",
    "import math as mth\n",
    "import plotly.express as px "
   ]
  },
  {
   "cell_type": "code",
   "execution_count": 2,
   "metadata": {},
   "outputs": [
    {
     "data": {
      "text/html": [
       "<div>\n",
       "<style scoped>\n",
       "    .dataframe tbody tr th:only-of-type {\n",
       "        vertical-align: middle;\n",
       "    }\n",
       "\n",
       "    .dataframe tbody tr th {\n",
       "        vertical-align: top;\n",
       "    }\n",
       "\n",
       "    .dataframe thead th {\n",
       "        text-align: right;\n",
       "    }\n",
       "</style>\n",
       "<table border=\"1\" class=\"dataframe\">\n",
       "  <thead>\n",
       "    <tr style=\"text-align: right;\">\n",
       "      <th></th>\n",
       "      <th>EventName</th>\n",
       "      <th>DeviceIDHash</th>\n",
       "      <th>EventTimestamp</th>\n",
       "      <th>ExpId</th>\n",
       "    </tr>\n",
       "  </thead>\n",
       "  <tbody>\n",
       "    <tr>\n",
       "      <th>0</th>\n",
       "      <td>MainScreenAppear</td>\n",
       "      <td>4575588528974610257</td>\n",
       "      <td>1564029816</td>\n",
       "      <td>246</td>\n",
       "    </tr>\n",
       "    <tr>\n",
       "      <th>1</th>\n",
       "      <td>MainScreenAppear</td>\n",
       "      <td>7416695313311560658</td>\n",
       "      <td>1564053102</td>\n",
       "      <td>246</td>\n",
       "    </tr>\n",
       "    <tr>\n",
       "      <th>2</th>\n",
       "      <td>PaymentScreenSuccessful</td>\n",
       "      <td>3518123091307005509</td>\n",
       "      <td>1564054127</td>\n",
       "      <td>248</td>\n",
       "    </tr>\n",
       "    <tr>\n",
       "      <th>3</th>\n",
       "      <td>CartScreenAppear</td>\n",
       "      <td>3518123091307005509</td>\n",
       "      <td>1564054127</td>\n",
       "      <td>248</td>\n",
       "    </tr>\n",
       "    <tr>\n",
       "      <th>4</th>\n",
       "      <td>PaymentScreenSuccessful</td>\n",
       "      <td>6217807653094995999</td>\n",
       "      <td>1564055322</td>\n",
       "      <td>248</td>\n",
       "    </tr>\n",
       "  </tbody>\n",
       "</table>\n",
       "</div>"
      ],
      "text/plain": [
       "                 EventName         DeviceIDHash  EventTimestamp  ExpId\n",
       "0         MainScreenAppear  4575588528974610257      1564029816    246\n",
       "1         MainScreenAppear  7416695313311560658      1564053102    246\n",
       "2  PaymentScreenSuccessful  3518123091307005509      1564054127    248\n",
       "3         CartScreenAppear  3518123091307005509      1564054127    248\n",
       "4  PaymentScreenSuccessful  6217807653094995999      1564055322    248"
      ]
     },
     "execution_count": 2,
     "metadata": {},
     "output_type": "execute_result"
    }
   ],
   "source": [
    "# Прочитаем данные файла\n",
    "\n",
    "#pd.set_option('display.max_colwidth', None)\n",
    "data = pd.read_csv(r'E:\\Analytics\\logs_exp.csv', sep='\\t')\n",
    "data.head()"
   ]
  },
  {
   "cell_type": "code",
   "execution_count": 3,
   "metadata": {},
   "outputs": [
    {
     "name": "stdout",
     "output_type": "stream",
     "text": [
      "<class 'pandas.core.frame.DataFrame'>\n",
      "RangeIndex: 244126 entries, 0 to 244125\n",
      "Data columns (total 4 columns):\n",
      " #   Column          Non-Null Count   Dtype \n",
      "---  ------          --------------   ----- \n",
      " 0   EventName       244126 non-null  object\n",
      " 1   DeviceIDHash    244126 non-null  int64 \n",
      " 2   EventTimestamp  244126 non-null  int64 \n",
      " 3   ExpId           244126 non-null  int64 \n",
      "dtypes: int64(3), object(1)\n",
      "memory usage: 7.5+ MB\n"
     ]
    }
   ],
   "source": [
    "data.info()"
   ]
  },
  {
   "cell_type": "markdown",
   "metadata": {},
   "source": [
    "Анализируя исходные данные, видим, что следует изменить имена столбцов и изменить тип данных времени события."
   ]
  },
  {
   "cell_type": "markdown",
   "metadata": {},
   "source": [
    "## Подготовим данные к работе"
   ]
  },
  {
   "cell_type": "markdown",
   "metadata": {},
   "source": [
    "### Заменим названия столбцов на удобные для нас"
   ]
  },
  {
   "cell_type": "code",
   "execution_count": 4,
   "metadata": {},
   "outputs": [
    {
     "data": {
      "text/html": [
       "<div>\n",
       "<style scoped>\n",
       "    .dataframe tbody tr th:only-of-type {\n",
       "        vertical-align: middle;\n",
       "    }\n",
       "\n",
       "    .dataframe tbody tr th {\n",
       "        vertical-align: top;\n",
       "    }\n",
       "\n",
       "    .dataframe thead th {\n",
       "        text-align: right;\n",
       "    }\n",
       "</style>\n",
       "<table border=\"1\" class=\"dataframe\">\n",
       "  <thead>\n",
       "    <tr style=\"text-align: right;\">\n",
       "      <th></th>\n",
       "      <th>event_name</th>\n",
       "      <th>user_id</th>\n",
       "      <th>timestamp</th>\n",
       "      <th>exp_id</th>\n",
       "    </tr>\n",
       "  </thead>\n",
       "  <tbody>\n",
       "    <tr>\n",
       "      <th>0</th>\n",
       "      <td>MainScreenAppear</td>\n",
       "      <td>4575588528974610257</td>\n",
       "      <td>1564029816</td>\n",
       "      <td>246</td>\n",
       "    </tr>\n",
       "    <tr>\n",
       "      <th>1</th>\n",
       "      <td>MainScreenAppear</td>\n",
       "      <td>7416695313311560658</td>\n",
       "      <td>1564053102</td>\n",
       "      <td>246</td>\n",
       "    </tr>\n",
       "    <tr>\n",
       "      <th>2</th>\n",
       "      <td>PaymentScreenSuccessful</td>\n",
       "      <td>3518123091307005509</td>\n",
       "      <td>1564054127</td>\n",
       "      <td>248</td>\n",
       "    </tr>\n",
       "    <tr>\n",
       "      <th>3</th>\n",
       "      <td>CartScreenAppear</td>\n",
       "      <td>3518123091307005509</td>\n",
       "      <td>1564054127</td>\n",
       "      <td>248</td>\n",
       "    </tr>\n",
       "    <tr>\n",
       "      <th>4</th>\n",
       "      <td>PaymentScreenSuccessful</td>\n",
       "      <td>6217807653094995999</td>\n",
       "      <td>1564055322</td>\n",
       "      <td>248</td>\n",
       "    </tr>\n",
       "  </tbody>\n",
       "</table>\n",
       "</div>"
      ],
      "text/plain": [
       "                event_name              user_id   timestamp  exp_id\n",
       "0         MainScreenAppear  4575588528974610257  1564029816     246\n",
       "1         MainScreenAppear  7416695313311560658  1564053102     246\n",
       "2  PaymentScreenSuccessful  3518123091307005509  1564054127     248\n",
       "3         CartScreenAppear  3518123091307005509  1564054127     248\n",
       "4  PaymentScreenSuccessful  6217807653094995999  1564055322     248"
      ]
     },
     "execution_count": 4,
     "metadata": {},
     "output_type": "execute_result"
    }
   ],
   "source": [
    "# Приведем имена столбцов к нижнему регистру и добавим пробелы:\n",
    "\n",
    "data = data.rename(columns={'EventName':'event_name', 'DeviceIDHash':'user_id', 'EventTimestamp':'timestamp', 'ExpId':'exp_id'})\n",
    "data.head()"
   ]
  },
  {
   "cell_type": "markdown",
   "metadata": {},
   "source": [
    "### Проверим пропуски и типы данных"
   ]
  },
  {
   "cell_type": "code",
   "execution_count": 5,
   "metadata": {},
   "outputs": [
    {
     "data": {
      "text/plain": [
       "event_name    0\n",
       "user_id       0\n",
       "timestamp     0\n",
       "exp_id        0\n",
       "dtype: int64"
      ]
     },
     "execution_count": 5,
     "metadata": {},
     "output_type": "execute_result"
    }
   ],
   "source": [
    "# Проверим на пропуски:\n",
    "\n",
    "data.isna().sum()"
   ]
  },
  {
   "cell_type": "markdown",
   "metadata": {},
   "source": [
    "Пропусков нет"
   ]
  },
  {
   "cell_type": "code",
   "execution_count": 6,
   "metadata": {},
   "outputs": [
    {
     "data": {
      "text/plain": [
       "413"
      ]
     },
     "execution_count": 6,
     "metadata": {},
     "output_type": "execute_result"
    }
   ],
   "source": [
    "# Проверим на явные дубликаты:\n",
    "data.duplicated().sum()"
   ]
  },
  {
   "cell_type": "markdown",
   "metadata": {},
   "source": [
    "413 явных дубликата - это менее 1 % данных, можем удалить:"
   ]
  },
  {
   "cell_type": "code",
   "execution_count": 7,
   "metadata": {},
   "outputs": [
    {
     "data": {
      "text/plain": [
       "0"
      ]
     },
     "execution_count": 7,
     "metadata": {},
     "output_type": "execute_result"
    }
   ],
   "source": [
    "data = data.drop_duplicates()\n",
    "data.duplicated().sum()"
   ]
  },
  {
   "cell_type": "markdown",
   "metadata": {},
   "source": [
    "От явных дубликатов избавились.\n",
    "Далее необходимо откорректировать тип данных в столбце времени события:"
   ]
  },
  {
   "cell_type": "code",
   "execution_count": 8,
   "metadata": {},
   "outputs": [],
   "source": [
    "data['timestamp'] = pd.to_datetime(data['timestamp'], unit='s')"
   ]
  },
  {
   "cell_type": "code",
   "execution_count": 9,
   "metadata": {},
   "outputs": [
    {
     "data": {
      "text/html": [
       "<div>\n",
       "<style scoped>\n",
       "    .dataframe tbody tr th:only-of-type {\n",
       "        vertical-align: middle;\n",
       "    }\n",
       "\n",
       "    .dataframe tbody tr th {\n",
       "        vertical-align: top;\n",
       "    }\n",
       "\n",
       "    .dataframe thead th {\n",
       "        text-align: right;\n",
       "    }\n",
       "</style>\n",
       "<table border=\"1\" class=\"dataframe\">\n",
       "  <thead>\n",
       "    <tr style=\"text-align: right;\">\n",
       "      <th></th>\n",
       "      <th>event_name</th>\n",
       "      <th>user_id</th>\n",
       "      <th>timestamp</th>\n",
       "      <th>exp_id</th>\n",
       "    </tr>\n",
       "  </thead>\n",
       "  <tbody>\n",
       "    <tr>\n",
       "      <th>0</th>\n",
       "      <td>MainScreenAppear</td>\n",
       "      <td>4575588528974610257</td>\n",
       "      <td>2019-07-25 04:43:36</td>\n",
       "      <td>246</td>\n",
       "    </tr>\n",
       "    <tr>\n",
       "      <th>1</th>\n",
       "      <td>MainScreenAppear</td>\n",
       "      <td>7416695313311560658</td>\n",
       "      <td>2019-07-25 11:11:42</td>\n",
       "      <td>246</td>\n",
       "    </tr>\n",
       "    <tr>\n",
       "      <th>2</th>\n",
       "      <td>PaymentScreenSuccessful</td>\n",
       "      <td>3518123091307005509</td>\n",
       "      <td>2019-07-25 11:28:47</td>\n",
       "      <td>248</td>\n",
       "    </tr>\n",
       "    <tr>\n",
       "      <th>3</th>\n",
       "      <td>CartScreenAppear</td>\n",
       "      <td>3518123091307005509</td>\n",
       "      <td>2019-07-25 11:28:47</td>\n",
       "      <td>248</td>\n",
       "    </tr>\n",
       "    <tr>\n",
       "      <th>4</th>\n",
       "      <td>PaymentScreenSuccessful</td>\n",
       "      <td>6217807653094995999</td>\n",
       "      <td>2019-07-25 11:48:42</td>\n",
       "      <td>248</td>\n",
       "    </tr>\n",
       "  </tbody>\n",
       "</table>\n",
       "</div>"
      ],
      "text/plain": [
       "                event_name              user_id           timestamp  exp_id\n",
       "0         MainScreenAppear  4575588528974610257 2019-07-25 04:43:36     246\n",
       "1         MainScreenAppear  7416695313311560658 2019-07-25 11:11:42     246\n",
       "2  PaymentScreenSuccessful  3518123091307005509 2019-07-25 11:28:47     248\n",
       "3         CartScreenAppear  3518123091307005509 2019-07-25 11:28:47     248\n",
       "4  PaymentScreenSuccessful  6217807653094995999 2019-07-25 11:48:42     248"
      ]
     },
     "execution_count": 9,
     "metadata": {},
     "output_type": "execute_result"
    }
   ],
   "source": [
    "data.head()"
   ]
  },
  {
   "cell_type": "markdown",
   "metadata": {},
   "source": [
    "### Добавим столбец даты и времени, а также отдельный столбец дат;"
   ]
  },
  {
   "cell_type": "code",
   "execution_count": 10,
   "metadata": {},
   "outputs": [],
   "source": [
    "# По условию задания необходимо добавить столбец с датой и временем. Столбец с такими данными уже есть в таблице. Но  - надо, так надо...\n",
    "data['date_time'] = data['timestamp']"
   ]
  },
  {
   "cell_type": "code",
   "execution_count": 11,
   "metadata": {},
   "outputs": [
    {
     "data": {
      "text/html": [
       "<div>\n",
       "<style scoped>\n",
       "    .dataframe tbody tr th:only-of-type {\n",
       "        vertical-align: middle;\n",
       "    }\n",
       "\n",
       "    .dataframe tbody tr th {\n",
       "        vertical-align: top;\n",
       "    }\n",
       "\n",
       "    .dataframe thead th {\n",
       "        text-align: right;\n",
       "    }\n",
       "</style>\n",
       "<table border=\"1\" class=\"dataframe\">\n",
       "  <thead>\n",
       "    <tr style=\"text-align: right;\">\n",
       "      <th></th>\n",
       "      <th>event_name</th>\n",
       "      <th>user_id</th>\n",
       "      <th>timestamp</th>\n",
       "      <th>exp_id</th>\n",
       "      <th>date_time</th>\n",
       "      <th>date</th>\n",
       "    </tr>\n",
       "  </thead>\n",
       "  <tbody>\n",
       "    <tr>\n",
       "      <th>0</th>\n",
       "      <td>MainScreenAppear</td>\n",
       "      <td>4575588528974610257</td>\n",
       "      <td>2019-07-25 04:43:36</td>\n",
       "      <td>246</td>\n",
       "      <td>2019-07-25 04:43:36</td>\n",
       "      <td>2019-07-25</td>\n",
       "    </tr>\n",
       "    <tr>\n",
       "      <th>1</th>\n",
       "      <td>MainScreenAppear</td>\n",
       "      <td>7416695313311560658</td>\n",
       "      <td>2019-07-25 11:11:42</td>\n",
       "      <td>246</td>\n",
       "      <td>2019-07-25 11:11:42</td>\n",
       "      <td>2019-07-25</td>\n",
       "    </tr>\n",
       "    <tr>\n",
       "      <th>2</th>\n",
       "      <td>PaymentScreenSuccessful</td>\n",
       "      <td>3518123091307005509</td>\n",
       "      <td>2019-07-25 11:28:47</td>\n",
       "      <td>248</td>\n",
       "      <td>2019-07-25 11:28:47</td>\n",
       "      <td>2019-07-25</td>\n",
       "    </tr>\n",
       "    <tr>\n",
       "      <th>3</th>\n",
       "      <td>CartScreenAppear</td>\n",
       "      <td>3518123091307005509</td>\n",
       "      <td>2019-07-25 11:28:47</td>\n",
       "      <td>248</td>\n",
       "      <td>2019-07-25 11:28:47</td>\n",
       "      <td>2019-07-25</td>\n",
       "    </tr>\n",
       "    <tr>\n",
       "      <th>4</th>\n",
       "      <td>PaymentScreenSuccessful</td>\n",
       "      <td>6217807653094995999</td>\n",
       "      <td>2019-07-25 11:48:42</td>\n",
       "      <td>248</td>\n",
       "      <td>2019-07-25 11:48:42</td>\n",
       "      <td>2019-07-25</td>\n",
       "    </tr>\n",
       "  </tbody>\n",
       "</table>\n",
       "</div>"
      ],
      "text/plain": [
       "                event_name              user_id           timestamp  exp_id  \\\n",
       "0         MainScreenAppear  4575588528974610257 2019-07-25 04:43:36     246   \n",
       "1         MainScreenAppear  7416695313311560658 2019-07-25 11:11:42     246   \n",
       "2  PaymentScreenSuccessful  3518123091307005509 2019-07-25 11:28:47     248   \n",
       "3         CartScreenAppear  3518123091307005509 2019-07-25 11:28:47     248   \n",
       "4  PaymentScreenSuccessful  6217807653094995999 2019-07-25 11:48:42     248   \n",
       "\n",
       "            date_time        date  \n",
       "0 2019-07-25 04:43:36  2019-07-25  \n",
       "1 2019-07-25 11:11:42  2019-07-25  \n",
       "2 2019-07-25 11:28:47  2019-07-25  \n",
       "3 2019-07-25 11:28:47  2019-07-25  \n",
       "4 2019-07-25 11:48:42  2019-07-25  "
      ]
     },
     "execution_count": 11,
     "metadata": {},
     "output_type": "execute_result"
    }
   ],
   "source": [
    "# Столбец с датой:\n",
    "data['date'] = data['timestamp'].dt.date\n",
    "data.head()"
   ]
  },
  {
   "cell_type": "markdown",
   "metadata": {},
   "source": [
    "## Изучим и проверим данные"
   ]
  },
  {
   "cell_type": "markdown",
   "metadata": {},
   "source": [
    "### Сколько всего событий в логе?"
   ]
  },
  {
   "cell_type": "code",
   "execution_count": 12,
   "metadata": {},
   "outputs": [
    {
     "data": {
      "text/plain": [
       "array(['MainScreenAppear', 'PaymentScreenSuccessful', 'CartScreenAppear',\n",
       "       'OffersScreenAppear', 'Tutorial'], dtype=object)"
      ]
     },
     "execution_count": 12,
     "metadata": {},
     "output_type": "execute_result"
    }
   ],
   "source": [
    "# Посмотрим, какие события есть в логе и сколько их:\n",
    "data['event_name'].unique()"
   ]
  },
  {
   "cell_type": "markdown",
   "metadata": {},
   "source": [
    "5 событий, которые заносятся в метрику."
   ]
  },
  {
   "cell_type": "code",
   "execution_count": 13,
   "metadata": {},
   "outputs": [
    {
     "data": {
      "text/plain": [
       "'В логе 243713 событий'"
      ]
     },
     "metadata": {},
     "output_type": "display_data"
    }
   ],
   "source": [
    "# Посмотрим сколько всего событий в таблице:\n",
    "ev_q = data['event_name'].count()\n",
    "display(f'В логе {(ev_q)} событий')"
   ]
  },
  {
   "cell_type": "code",
   "execution_count": 14,
   "metadata": {},
   "outputs": [
    {
     "data": {
      "text/html": [
       "<style  type=\"text/css\" >\n",
       "#T_e3c4f6a4_d626_11ed_9917_448a5b582ad9row0_col1{\n",
       "            background-color:  yellowgreen;\n",
       "        }#T_e3c4f6a4_d626_11ed_9917_448a5b582ad9row4_col1{\n",
       "            background-color:  coral;\n",
       "        }</style><table id=\"T_e3c4f6a4_d626_11ed_9917_448a5b582ad9\" ><thead>    <tr>        <th class=\"blank level0\" ></th>        <th class=\"col_heading level0 col0\" >event_name</th>        <th class=\"col_heading level0 col1\" >events_qty</th>    </tr></thead><tbody>\n",
       "                <tr>\n",
       "                        <th id=\"T_e3c4f6a4_d626_11ed_9917_448a5b582ad9level0_row0\" class=\"row_heading level0 row0\" >0</th>\n",
       "                        <td id=\"T_e3c4f6a4_d626_11ed_9917_448a5b582ad9row0_col0\" class=\"data row0 col0\" >MainScreenAppear</td>\n",
       "                        <td id=\"T_e3c4f6a4_d626_11ed_9917_448a5b582ad9row0_col1\" class=\"data row0 col1\" >119101</td>\n",
       "            </tr>\n",
       "            <tr>\n",
       "                        <th id=\"T_e3c4f6a4_d626_11ed_9917_448a5b582ad9level0_row1\" class=\"row_heading level0 row1\" >1</th>\n",
       "                        <td id=\"T_e3c4f6a4_d626_11ed_9917_448a5b582ad9row1_col0\" class=\"data row1 col0\" >OffersScreenAppear</td>\n",
       "                        <td id=\"T_e3c4f6a4_d626_11ed_9917_448a5b582ad9row1_col1\" class=\"data row1 col1\" >46808</td>\n",
       "            </tr>\n",
       "            <tr>\n",
       "                        <th id=\"T_e3c4f6a4_d626_11ed_9917_448a5b582ad9level0_row2\" class=\"row_heading level0 row2\" >2</th>\n",
       "                        <td id=\"T_e3c4f6a4_d626_11ed_9917_448a5b582ad9row2_col0\" class=\"data row2 col0\" >CartScreenAppear</td>\n",
       "                        <td id=\"T_e3c4f6a4_d626_11ed_9917_448a5b582ad9row2_col1\" class=\"data row2 col1\" >42668</td>\n",
       "            </tr>\n",
       "            <tr>\n",
       "                        <th id=\"T_e3c4f6a4_d626_11ed_9917_448a5b582ad9level0_row3\" class=\"row_heading level0 row3\" >3</th>\n",
       "                        <td id=\"T_e3c4f6a4_d626_11ed_9917_448a5b582ad9row3_col0\" class=\"data row3 col0\" >PaymentScreenSuccessful</td>\n",
       "                        <td id=\"T_e3c4f6a4_d626_11ed_9917_448a5b582ad9row3_col1\" class=\"data row3 col1\" >34118</td>\n",
       "            </tr>\n",
       "            <tr>\n",
       "                        <th id=\"T_e3c4f6a4_d626_11ed_9917_448a5b582ad9level0_row4\" class=\"row_heading level0 row4\" >4</th>\n",
       "                        <td id=\"T_e3c4f6a4_d626_11ed_9917_448a5b582ad9row4_col0\" class=\"data row4 col0\" >Tutorial</td>\n",
       "                        <td id=\"T_e3c4f6a4_d626_11ed_9917_448a5b582ad9row4_col1\" class=\"data row4 col1\" >1018</td>\n",
       "            </tr>\n",
       "    </tbody></table>"
      ],
      "text/plain": [
       "<pandas.io.formats.style.Styler at 0x13427a58>"
      ]
     },
     "execution_count": 14,
     "metadata": {},
     "output_type": "execute_result"
    }
   ],
   "source": [
    "# Интересно, как много каждого из событий из списка выше в таблице:\n",
    "events = data.pivot_table(index='event_name', values ='date_time', aggfunc='count')\n",
    "events.columns=['events_qty']\n",
    "events = events.sort_values('events_qty', ascending=False).reset_index()\n",
    "events.style.highlight_max(color='yellowgreen', subset=['events_qty']).highlight_min(color='coral', subset=['events_qty'])"
   ]
  },
  {
   "cell_type": "markdown",
   "metadata": {},
   "source": [
    "Событие \"MainScreenAppear\" появляется чаще всего. Реже всего - \"Tutorial\"."
   ]
  },
  {
   "cell_type": "markdown",
   "metadata": {},
   "source": [
    "### Сколько всего пользователей в логе?"
   ]
  },
  {
   "cell_type": "code",
   "execution_count": 15,
   "metadata": {},
   "outputs": [
    {
     "data": {
      "text/plain": [
       "7551"
      ]
     },
     "execution_count": 15,
     "metadata": {},
     "output_type": "execute_result"
    }
   ],
   "source": [
    "us_n = data['user_id'].nunique()\n",
    "us_n"
   ]
  },
  {
   "cell_type": "markdown",
   "metadata": {},
   "source": [
    " В таблице отражены данные о 7551 пользователе."
   ]
  },
  {
   "cell_type": "markdown",
   "metadata": {},
   "source": [
    "Согласно теории А/В тестов - для корректиности теста необходимо, чтобы количество пользователей в каждой группе было одинковым. Проверим наши данные на данный аспект:"
   ]
  },
  {
   "cell_type": "code",
   "execution_count": 17,
   "metadata": {},
   "outputs": [
    {
     "data": {
      "text/html": [
       "<style  type=\"text/css\" >\n",
       "#T_eea9b7b6_d626_11ed_a4e7_448a5b582ad9row0_col1{\n",
       "            background-color:  yellowgreen;\n",
       "        }#T_eea9b7b6_d626_11ed_a4e7_448a5b582ad9row2_col1{\n",
       "            background-color:  coral;\n",
       "        }</style><table id=\"T_eea9b7b6_d626_11ed_a4e7_448a5b582ad9\" ><thead>    <tr>        <th class=\"blank level0\" ></th>        <th class=\"col_heading level0 col0\" >exp_id</th>        <th class=\"col_heading level0 col1\" >user_qty</th>    </tr></thead><tbody>\n",
       "                <tr>\n",
       "                        <th id=\"T_eea9b7b6_d626_11ed_a4e7_448a5b582ad9level0_row0\" class=\"row_heading level0 row0\" >0</th>\n",
       "                        <td id=\"T_eea9b7b6_d626_11ed_a4e7_448a5b582ad9row0_col0\" class=\"data row0 col0\" >248</td>\n",
       "                        <td id=\"T_eea9b7b6_d626_11ed_a4e7_448a5b582ad9row0_col1\" class=\"data row0 col1\" >2542</td>\n",
       "            </tr>\n",
       "            <tr>\n",
       "                        <th id=\"T_eea9b7b6_d626_11ed_a4e7_448a5b582ad9level0_row1\" class=\"row_heading level0 row1\" >1</th>\n",
       "                        <td id=\"T_eea9b7b6_d626_11ed_a4e7_448a5b582ad9row1_col0\" class=\"data row1 col0\" >247</td>\n",
       "                        <td id=\"T_eea9b7b6_d626_11ed_a4e7_448a5b582ad9row1_col1\" class=\"data row1 col1\" >2520</td>\n",
       "            </tr>\n",
       "            <tr>\n",
       "                        <th id=\"T_eea9b7b6_d626_11ed_a4e7_448a5b582ad9level0_row2\" class=\"row_heading level0 row2\" >2</th>\n",
       "                        <td id=\"T_eea9b7b6_d626_11ed_a4e7_448a5b582ad9row2_col0\" class=\"data row2 col0\" >246</td>\n",
       "                        <td id=\"T_eea9b7b6_d626_11ed_a4e7_448a5b582ad9row2_col1\" class=\"data row2 col1\" >2489</td>\n",
       "            </tr>\n",
       "    </tbody></table>"
      ],
      "text/plain": [
       "<pandas.io.formats.style.Styler at 0x142b2c50>"
      ]
     },
     "execution_count": 17,
     "metadata": {},
     "output_type": "execute_result"
    }
   ],
   "source": [
    "user_sh = data.pivot_table(index = 'exp_id', values = 'user_id', aggfunc = 'nunique')\n",
    "user_sh.columns=['user_qty']\n",
    "user_sh = user_sh.sort_values(by = 'user_qty', ascending=False).reset_index()\n",
    "user_sh.style.highlight_max(color='yellowgreen', subset=['user_qty']).highlight_min(color='coral', subset=['user_qty'])"
   ]
  },
  {
   "cell_type": "markdown",
   "metadata": {},
   "source": [
    "Пользователи распределены по группам неравномерно."
   ]
  },
  {
   "cell_type": "markdown",
   "metadata": {},
   "source": [
    "Также, для корректности А/В теста необходимо, чтобы каждый пользователь состоял только в одной группе. Проверим:"
   ]
  },
  {
   "cell_type": "code",
   "execution_count": 18,
   "metadata": {},
   "outputs": [
    {
     "data": {
      "text/html": [
       "<div>\n",
       "<style scoped>\n",
       "    .dataframe tbody tr th:only-of-type {\n",
       "        vertical-align: middle;\n",
       "    }\n",
       "\n",
       "    .dataframe tbody tr th {\n",
       "        vertical-align: top;\n",
       "    }\n",
       "\n",
       "    .dataframe thead th {\n",
       "        text-align: right;\n",
       "    }\n",
       "</style>\n",
       "<table border=\"1\" class=\"dataframe\">\n",
       "  <thead>\n",
       "    <tr style=\"text-align: right;\">\n",
       "      <th></th>\n",
       "      <th>events</th>\n",
       "    </tr>\n",
       "    <tr>\n",
       "      <th>user_id</th>\n",
       "      <th></th>\n",
       "    </tr>\n",
       "  </thead>\n",
       "  <tbody>\n",
       "    <tr>\n",
       "      <th>6888746892508752</th>\n",
       "      <td>1</td>\n",
       "    </tr>\n",
       "    <tr>\n",
       "      <th>6909561520679493</th>\n",
       "      <td>1</td>\n",
       "    </tr>\n",
       "    <tr>\n",
       "      <th>6922444491712477</th>\n",
       "      <td>1</td>\n",
       "    </tr>\n",
       "    <tr>\n",
       "      <th>7435777799948366</th>\n",
       "      <td>1</td>\n",
       "    </tr>\n",
       "    <tr>\n",
       "      <th>7702139951469979</th>\n",
       "      <td>1</td>\n",
       "    </tr>\n",
       "  </tbody>\n",
       "</table>\n",
       "</div>"
      ],
      "text/plain": [
       "                  events\n",
       "user_id                 \n",
       "6888746892508752       1\n",
       "6909561520679493       1\n",
       "6922444491712477       1\n",
       "7435777799948366       1\n",
       "7702139951469979       1"
      ]
     },
     "execution_count": 18,
     "metadata": {},
     "output_type": "execute_result"
    }
   ],
   "source": [
    "test_group = data.pivot_table(index='user_id', values='exp_id', aggfunc='nunique')\n",
    "test_group.columns = ['events']\n",
    "test_group.sort_values(by ='events',ascending = False)\n",
    "test_group.head()"
   ]
  },
  {
   "cell_type": "markdown",
   "metadata": {},
   "source": [
    "Каждый пользователь состоит только в одной группе."
   ]
  },
  {
   "cell_type": "markdown",
   "metadata": {},
   "source": [
    "### Сколько в среднем событий приходится на пользователя?"
   ]
  },
  {
   "cell_type": "code",
   "execution_count": 19,
   "metadata": {},
   "outputs": [
    {
     "data": {
      "text/html": [
       "<div>\n",
       "<style scoped>\n",
       "    .dataframe tbody tr th:only-of-type {\n",
       "        vertical-align: middle;\n",
       "    }\n",
       "\n",
       "    .dataframe tbody tr th {\n",
       "        vertical-align: top;\n",
       "    }\n",
       "\n",
       "    .dataframe thead th {\n",
       "        text-align: right;\n",
       "    }\n",
       "</style>\n",
       "<table border=\"1\" class=\"dataframe\">\n",
       "  <thead>\n",
       "    <tr style=\"text-align: right;\">\n",
       "      <th></th>\n",
       "      <th>user_id</th>\n",
       "      <th>event_qty</th>\n",
       "    </tr>\n",
       "  </thead>\n",
       "  <tbody>\n",
       "    <tr>\n",
       "      <th>0</th>\n",
       "      <td>6304868067479728361</td>\n",
       "      <td>2307</td>\n",
       "    </tr>\n",
       "    <tr>\n",
       "      <th>1</th>\n",
       "      <td>197027893265565660</td>\n",
       "      <td>1998</td>\n",
       "    </tr>\n",
       "    <tr>\n",
       "      <th>2</th>\n",
       "      <td>4623191541214045580</td>\n",
       "      <td>1768</td>\n",
       "    </tr>\n",
       "    <tr>\n",
       "      <th>3</th>\n",
       "      <td>6932517045703054087</td>\n",
       "      <td>1439</td>\n",
       "    </tr>\n",
       "    <tr>\n",
       "      <th>4</th>\n",
       "      <td>1754140665440434215</td>\n",
       "      <td>1221</td>\n",
       "    </tr>\n",
       "    <tr>\n",
       "      <th>...</th>\n",
       "      <td>...</td>\n",
       "      <td>...</td>\n",
       "    </tr>\n",
       "    <tr>\n",
       "      <th>7546</th>\n",
       "      <td>7399061063341528729</td>\n",
       "      <td>1</td>\n",
       "    </tr>\n",
       "    <tr>\n",
       "      <th>7547</th>\n",
       "      <td>2968164493349205501</td>\n",
       "      <td>1</td>\n",
       "    </tr>\n",
       "    <tr>\n",
       "      <th>7548</th>\n",
       "      <td>8071397669512236988</td>\n",
       "      <td>1</td>\n",
       "    </tr>\n",
       "    <tr>\n",
       "      <th>7549</th>\n",
       "      <td>425817683219936619</td>\n",
       "      <td>1</td>\n",
       "    </tr>\n",
       "    <tr>\n",
       "      <th>7550</th>\n",
       "      <td>6888746892508752</td>\n",
       "      <td>1</td>\n",
       "    </tr>\n",
       "  </tbody>\n",
       "</table>\n",
       "<p>7551 rows × 2 columns</p>\n",
       "</div>"
      ],
      "text/plain": [
       "                  user_id  event_qty\n",
       "0     6304868067479728361       2307\n",
       "1      197027893265565660       1998\n",
       "2     4623191541214045580       1768\n",
       "3     6932517045703054087       1439\n",
       "4     1754140665440434215       1221\n",
       "...                   ...        ...\n",
       "7546  7399061063341528729          1\n",
       "7547  2968164493349205501          1\n",
       "7548  8071397669512236988          1\n",
       "7549   425817683219936619          1\n",
       "7550     6888746892508752          1\n",
       "\n",
       "[7551 rows x 2 columns]"
      ]
     },
     "execution_count": 19,
     "metadata": {},
     "output_type": "execute_result"
    }
   ],
   "source": [
    "# Сперва сформируем таблицу с id пользователей и количеством событий на каждого:\n",
    "\n",
    "events_per_user = data.pivot_table(index='user_id', values='event_name', aggfunc = 'count')\n",
    "events_per_user.columns = ['event_qty']\n",
    "events_per_user = events_per_user.sort_values('event_qty', ascending=False).reset_index()\n",
    "events_per_user"
   ]
  },
  {
   "cell_type": "code",
   "execution_count": 24,
   "metadata": {},
   "outputs": [
    {
     "data": {
      "text/plain": [
       "32.27559263673685"
      ]
     },
     "execution_count": 24,
     "metadata": {},
     "output_type": "execute_result"
    }
   ],
   "source": [
    "# Среднее количество событий на пользователя:\n",
    "\n",
    "events_per_user['event_qty'].mean()"
   ]
  },
  {
   "cell_type": "markdown",
   "metadata": {},
   "source": [
    "В среднем, на пользователя приходится 32 события, хотя есть и рекордсмены с числом событий около 2000."
   ]
  },
  {
   "cell_type": "markdown",
   "metadata": {},
   "source": [
    "Если построить гистограмму числа событий на одного пользователя и проанализировать ее на выбросы, то можно определить, что лучше использовать, среднее или медиану."
   ]
  },
  {
   "cell_type": "code",
   "execution_count": 25,
   "metadata": {},
   "outputs": [
    {
     "data": {
      "text/plain": [
       "<matplotlib.axes._subplots.AxesSubplot at 0x14300b70>"
      ]
     },
     "execution_count": 25,
     "metadata": {},
     "output_type": "execute_result"
    },
    {
     "data": {
      "image/png": "[encoded data removed]",
      "text/plain": [
       "<Figure size 432x288 with 1 Axes>"
      ]
     },
     "metadata": {
      "needs_background": "light"
     },
     "output_type": "display_data"
    }
   ],
   "source": [
    "events_per_user['event_qty'].hist()"
   ]
  },
  {
   "cell_type": "markdown",
   "metadata": {},
   "source": [
    "По гистограмме видно, что для расчета среднего количества событий на пользователя корректнее использовать медиану:"
   ]
  },
  {
   "cell_type": "code",
   "execution_count": 27,
   "metadata": {},
   "outputs": [
    {
     "data": {
      "text/plain": [
       "20.0"
      ]
     },
     "execution_count": 27,
     "metadata": {},
     "output_type": "execute_result"
    }
   ],
   "source": [
    "events_per_user['event_qty'].median()"
   ]
  },
  {
   "cell_type": "markdown",
   "metadata": {},
   "source": [
    "По медиане в среднем, на пользователя приходится 20 событий."
   ]
  },
  {
   "cell_type": "markdown",
   "metadata": {},
   "source": [
    "###  Изучим период времени, данными о котором мы располагаем. Найдем максимальную и минимальную дату. Построим гистограмму по дате и времени"
   ]
  },
  {
   "cell_type": "code",
   "execution_count": 28,
   "metadata": {},
   "outputs": [
    {
     "data": {
      "text/plain": [
       "Timestamp('2019-07-25 04:43:36')"
      ]
     },
     "execution_count": 28,
     "metadata": {},
     "output_type": "execute_result"
    }
   ],
   "source": [
    "data['date_time'].min()"
   ]
  },
  {
   "cell_type": "code",
   "execution_count": 29,
   "metadata": {},
   "outputs": [
    {
     "data": {
      "text/plain": [
       "Timestamp('2019-08-07 21:15:17')"
      ]
     },
     "execution_count": 29,
     "metadata": {},
     "output_type": "execute_result"
    }
   ],
   "source": [
    "data['date_time'].max()"
   ]
  },
  {
   "cell_type": "markdown",
   "metadata": {},
   "source": [
    "В исходной таблице отражены данные с 25 июля 2019 года по 7 августа 2019 года. "
   ]
  },
  {
   "cell_type": "code",
   "execution_count": 30,
   "metadata": {},
   "outputs": [
    {
     "data": {
      "image/png": "[encoded data removed]",
      "text/plain": [
       "<Figure size 1080x360 with 1 Axes>"
      ]
     },
     "metadata": {
      "needs_background": "light"
     },
     "output_type": "display_data"
    }
   ],
   "source": [
    "# Гистограмма по дате и времени:\n",
    "\n",
    "plt.figure(figsize=(15, 5))\n",
    "data['date_time'].hist()\n",
    "plt.suptitle('Гистрограмма распределения количества событий на дату', fontsize= 16) \n",
    "plt.xlabel('Дата')\n",
    "plt.ylabel('Количество событий')\n",
    "plt.show()"
   ]
  },
  {
   "cell_type": "markdown",
   "metadata": {},
   "source": [
    "По гистограмме видим, что данные за весь период непольные. Только начиная с 1 августа данных достаточно много. Решаем отбросить данные за даты ранее 1 августа. Таким образом, мы располагаем данными с 1 по 7 августа."
   ]
  },
  {
   "cell_type": "code",
   "execution_count": 31,
   "metadata": {},
   "outputs": [],
   "source": [
    "# Обновим таблицу с учетом уточненных дат:\n",
    "data['date'] = pd.to_datetime(data['date'])\n",
    "data_new = data[data['date']>='2019-08-01'] "
   ]
  },
  {
   "cell_type": "markdown",
   "metadata": {},
   "source": [
    "### Оценим, как много данных (событий и пользователей) мы потеряли, отбросив старые данные"
   ]
  },
  {
   "cell_type": "code",
   "execution_count": 32,
   "metadata": {},
   "outputs": [
    {
     "data": {
      "text/plain": [
       "'В логе после фильтра 240887 событий'"
      ]
     },
     "metadata": {},
     "output_type": "display_data"
    }
   ],
   "source": [
    "# Посмотрим сколько всего событий в таблице:\n",
    "ev_q_new = data_new['event_name'].count()\n",
    "display(f'В логе после фильтра {(ev_q_new)} событий')"
   ]
  },
  {
   "cell_type": "code",
   "execution_count": 33,
   "metadata": {},
   "outputs": [
    {
     "data": {
      "text/plain": [
       "7534"
      ]
     },
     "execution_count": 33,
     "metadata": {},
     "output_type": "execute_result"
    }
   ],
   "source": [
    "# Оценка количества пользователей после фильтра по дате:\n",
    "\n",
    "user_number_new = data_new['user_id'].nunique()\n",
    "user_number_new"
   ]
  },
  {
   "cell_type": "code",
   "execution_count": 34,
   "metadata": {},
   "outputs": [
    {
     "data": {
      "text/plain": [
       "'После применения фильтра по дате было потеряно 0.988404393692581 событий, что составляет 1.16 % событий'"
      ]
     },
     "metadata": {},
     "output_type": "display_data"
    },
    {
     "data": {
      "text/plain": [
       "'После применения фильтра по дате было потеряно 0.9977486425638988, что составляет 0.23 % пользователей'"
      ]
     },
     "metadata": {},
     "output_type": "display_data"
    }
   ],
   "source": [
    "display(f'После применения фильтра по дате было потеряно {(ev_q_new/ev_q)} событий, что составляет {(round(100-(ev_q_new*100/ev_q),2))} % событий')\n",
    "display(f'После применения фильтра по дате было потеряно {(user_number_new/us_n)}, что составляет {(round(100-(user_number_new*100/us_n),2))} % пользователей')\n"
   ]
  },
  {
   "cell_type": "markdown",
   "metadata": {},
   "source": [
    "Потери назначительные."
   ]
  },
  {
   "cell_type": "markdown",
   "metadata": {},
   "source": [
    "### Проверим, что у нас есть пользователи из всех трёх экспериментальных групп"
   ]
  },
  {
   "cell_type": "code",
   "execution_count": 35,
   "metadata": {},
   "outputs": [
    {
     "data": {
      "text/html": [
       "<style  type=\"text/css\" >\n",
       "#T_ab9112ec_d627_11ed_9cf3_448a5b582ad9row0_col1{\n",
       "            background-color:  yellowgreen;\n",
       "        }#T_ab9112ec_d627_11ed_9cf3_448a5b582ad9row2_col1{\n",
       "            background-color:  coral;\n",
       "        }</style><table id=\"T_ab9112ec_d627_11ed_9cf3_448a5b582ad9\" ><thead>    <tr>        <th class=\"blank level0\" ></th>        <th class=\"col_heading level0 col0\" >exp_id</th>        <th class=\"col_heading level0 col1\" >user_qty</th>    </tr></thead><tbody>\n",
       "                <tr>\n",
       "                        <th id=\"T_ab9112ec_d627_11ed_9cf3_448a5b582ad9level0_row0\" class=\"row_heading level0 row0\" >0</th>\n",
       "                        <td id=\"T_ab9112ec_d627_11ed_9cf3_448a5b582ad9row0_col0\" class=\"data row0 col0\" >248</td>\n",
       "                        <td id=\"T_ab9112ec_d627_11ed_9cf3_448a5b582ad9row0_col1\" class=\"data row0 col1\" >2537</td>\n",
       "            </tr>\n",
       "            <tr>\n",
       "                        <th id=\"T_ab9112ec_d627_11ed_9cf3_448a5b582ad9level0_row1\" class=\"row_heading level0 row1\" >1</th>\n",
       "                        <td id=\"T_ab9112ec_d627_11ed_9cf3_448a5b582ad9row1_col0\" class=\"data row1 col0\" >247</td>\n",
       "                        <td id=\"T_ab9112ec_d627_11ed_9cf3_448a5b582ad9row1_col1\" class=\"data row1 col1\" >2513</td>\n",
       "            </tr>\n",
       "            <tr>\n",
       "                        <th id=\"T_ab9112ec_d627_11ed_9cf3_448a5b582ad9level0_row2\" class=\"row_heading level0 row2\" >2</th>\n",
       "                        <td id=\"T_ab9112ec_d627_11ed_9cf3_448a5b582ad9row2_col0\" class=\"data row2 col0\" >246</td>\n",
       "                        <td id=\"T_ab9112ec_d627_11ed_9cf3_448a5b582ad9row2_col1\" class=\"data row2 col1\" >2484</td>\n",
       "            </tr>\n",
       "    </tbody></table>"
      ],
      "text/plain": [
       "<pandas.io.formats.style.Styler at 0x12e670b8>"
      ]
     },
     "execution_count": 35,
     "metadata": {},
     "output_type": "execute_result"
    }
   ],
   "source": [
    "user_sh_new = data_new.pivot_table(index = 'exp_id', values = 'user_id', aggfunc = 'nunique')\n",
    "user_sh_new.columns=['user_qty']\n",
    "user_sh_new = user_sh_new.sort_values('user_qty', ascending=False).reset_index()\n",
    "user_sh_new.style.highlight_max(color='yellowgreen', subset=['user_qty']).highlight_min(color='coral', subset=['user_qty'])"
   ]
  },
  {
   "cell_type": "markdown",
   "metadata": {},
   "source": [
    "Во всех трех группах пользователи есть."
   ]
  },
  {
   "cell_type": "markdown",
   "metadata": {},
   "source": [
    "## Изучим воронку событий"
   ]
  },
  {
   "cell_type": "markdown",
   "metadata": {},
   "source": [
    "### Посмотрим, какие события есть в логах, как часто они встречаются. Отсортируем события по частоте"
   ]
  },
  {
   "cell_type": "code",
   "execution_count": 36,
   "metadata": {},
   "outputs": [
    {
     "data": {
      "text/html": [
       "<style  type=\"text/css\" >\n",
       "#T_b22f9b9e_d627_11ed_8ba7_448a5b582ad9row0_col1{\n",
       "            background-color:  yellowgreen;\n",
       "        }#T_b22f9b9e_d627_11ed_8ba7_448a5b582ad9row4_col1{\n",
       "            background-color:  coral;\n",
       "        }</style><table id=\"T_b22f9b9e_d627_11ed_8ba7_448a5b582ad9\" ><thead>    <tr>        <th class=\"blank level0\" ></th>        <th class=\"col_heading level0 col0\" >event_name</th>        <th class=\"col_heading level0 col1\" >events_qty</th>    </tr></thead><tbody>\n",
       "                <tr>\n",
       "                        <th id=\"T_b22f9b9e_d627_11ed_8ba7_448a5b582ad9level0_row0\" class=\"row_heading level0 row0\" >0</th>\n",
       "                        <td id=\"T_b22f9b9e_d627_11ed_8ba7_448a5b582ad9row0_col0\" class=\"data row0 col0\" >MainScreenAppear</td>\n",
       "                        <td id=\"T_b22f9b9e_d627_11ed_8ba7_448a5b582ad9row0_col1\" class=\"data row0 col1\" >117328</td>\n",
       "            </tr>\n",
       "            <tr>\n",
       "                        <th id=\"T_b22f9b9e_d627_11ed_8ba7_448a5b582ad9level0_row1\" class=\"row_heading level0 row1\" >1</th>\n",
       "                        <td id=\"T_b22f9b9e_d627_11ed_8ba7_448a5b582ad9row1_col0\" class=\"data row1 col0\" >OffersScreenAppear</td>\n",
       "                        <td id=\"T_b22f9b9e_d627_11ed_8ba7_448a5b582ad9row1_col1\" class=\"data row1 col1\" >46333</td>\n",
       "            </tr>\n",
       "            <tr>\n",
       "                        <th id=\"T_b22f9b9e_d627_11ed_8ba7_448a5b582ad9level0_row2\" class=\"row_heading level0 row2\" >2</th>\n",
       "                        <td id=\"T_b22f9b9e_d627_11ed_8ba7_448a5b582ad9row2_col0\" class=\"data row2 col0\" >CartScreenAppear</td>\n",
       "                        <td id=\"T_b22f9b9e_d627_11ed_8ba7_448a5b582ad9row2_col1\" class=\"data row2 col1\" >42303</td>\n",
       "            </tr>\n",
       "            <tr>\n",
       "                        <th id=\"T_b22f9b9e_d627_11ed_8ba7_448a5b582ad9level0_row3\" class=\"row_heading level0 row3\" >3</th>\n",
       "                        <td id=\"T_b22f9b9e_d627_11ed_8ba7_448a5b582ad9row3_col0\" class=\"data row3 col0\" >PaymentScreenSuccessful</td>\n",
       "                        <td id=\"T_b22f9b9e_d627_11ed_8ba7_448a5b582ad9row3_col1\" class=\"data row3 col1\" >33918</td>\n",
       "            </tr>\n",
       "            <tr>\n",
       "                        <th id=\"T_b22f9b9e_d627_11ed_8ba7_448a5b582ad9level0_row4\" class=\"row_heading level0 row4\" >4</th>\n",
       "                        <td id=\"T_b22f9b9e_d627_11ed_8ba7_448a5b582ad9row4_col0\" class=\"data row4 col0\" >Tutorial</td>\n",
       "                        <td id=\"T_b22f9b9e_d627_11ed_8ba7_448a5b582ad9row4_col1\" class=\"data row4 col1\" >1005</td>\n",
       "            </tr>\n",
       "    </tbody></table>"
      ],
      "text/plain": [
       "<pandas.io.formats.style.Styler at 0x142b9550>"
      ]
     },
     "execution_count": 36,
     "metadata": {},
     "output_type": "execute_result"
    }
   ],
   "source": [
    "# Сведем таблицу из обновленных данных:\n",
    "events_new = data_new.pivot_table(index='event_name', values ='date_time', aggfunc='count')\n",
    "events_new.columns=['events_qty']\n",
    "events_new = events_new.sort_values('events_qty', ascending=False).reset_index()\n",
    "events_new.style.highlight_max(color='yellowgreen', subset=['events_qty']).highlight_min(color='coral', subset=['events_qty'])"
   ]
  },
  {
   "cell_type": "markdown",
   "metadata": {},
   "source": [
    "По-прежнему событие \"MainScreenAppear\" появляется чаще всего. Реже всего - \"Tutorial\"."
   ]
  },
  {
   "cell_type": "markdown",
   "metadata": {},
   "source": [
    "### Посчитаем, сколько пользователей совершали каждое из этих событий. Отсортируем события по числу пользователей. Посчитаем долю пользователей, которые хоть раз совершали событие. "
   ]
  },
  {
   "cell_type": "code",
   "execution_count": 37,
   "metadata": {},
   "outputs": [
    {
     "data": {
      "text/html": [
       "<style  type=\"text/css\" >\n",
       "#T_c1ce7f90_d627_11ed_a8c9_448a5b582ad9row0_col1{\n",
       "            background-color:  yellowgreen;\n",
       "        }#T_c1ce7f90_d627_11ed_a8c9_448a5b582ad9row4_col1{\n",
       "            background-color:  coral;\n",
       "        }</style><table id=\"T_c1ce7f90_d627_11ed_a8c9_448a5b582ad9\" ><thead>    <tr>        <th class=\"blank level0\" ></th>        <th class=\"col_heading level0 col0\" >event_name</th>        <th class=\"col_heading level0 col1\" >user_qty</th>    </tr></thead><tbody>\n",
       "                <tr>\n",
       "                        <th id=\"T_c1ce7f90_d627_11ed_a8c9_448a5b582ad9level0_row0\" class=\"row_heading level0 row0\" >0</th>\n",
       "                        <td id=\"T_c1ce7f90_d627_11ed_a8c9_448a5b582ad9row0_col0\" class=\"data row0 col0\" >MainScreenAppear</td>\n",
       "                        <td id=\"T_c1ce7f90_d627_11ed_a8c9_448a5b582ad9row0_col1\" class=\"data row0 col1\" >7419</td>\n",
       "            </tr>\n",
       "            <tr>\n",
       "                        <th id=\"T_c1ce7f90_d627_11ed_a8c9_448a5b582ad9level0_row1\" class=\"row_heading level0 row1\" >1</th>\n",
       "                        <td id=\"T_c1ce7f90_d627_11ed_a8c9_448a5b582ad9row1_col0\" class=\"data row1 col0\" >OffersScreenAppear</td>\n",
       "                        <td id=\"T_c1ce7f90_d627_11ed_a8c9_448a5b582ad9row1_col1\" class=\"data row1 col1\" >4593</td>\n",
       "            </tr>\n",
       "            <tr>\n",
       "                        <th id=\"T_c1ce7f90_d627_11ed_a8c9_448a5b582ad9level0_row2\" class=\"row_heading level0 row2\" >2</th>\n",
       "                        <td id=\"T_c1ce7f90_d627_11ed_a8c9_448a5b582ad9row2_col0\" class=\"data row2 col0\" >CartScreenAppear</td>\n",
       "                        <td id=\"T_c1ce7f90_d627_11ed_a8c9_448a5b582ad9row2_col1\" class=\"data row2 col1\" >3734</td>\n",
       "            </tr>\n",
       "            <tr>\n",
       "                        <th id=\"T_c1ce7f90_d627_11ed_a8c9_448a5b582ad9level0_row3\" class=\"row_heading level0 row3\" >3</th>\n",
       "                        <td id=\"T_c1ce7f90_d627_11ed_a8c9_448a5b582ad9row3_col0\" class=\"data row3 col0\" >PaymentScreenSuccessful</td>\n",
       "                        <td id=\"T_c1ce7f90_d627_11ed_a8c9_448a5b582ad9row3_col1\" class=\"data row3 col1\" >3539</td>\n",
       "            </tr>\n",
       "            <tr>\n",
       "                        <th id=\"T_c1ce7f90_d627_11ed_a8c9_448a5b582ad9level0_row4\" class=\"row_heading level0 row4\" >4</th>\n",
       "                        <td id=\"T_c1ce7f90_d627_11ed_a8c9_448a5b582ad9row4_col0\" class=\"data row4 col0\" >Tutorial</td>\n",
       "                        <td id=\"T_c1ce7f90_d627_11ed_a8c9_448a5b582ad9row4_col1\" class=\"data row4 col1\" >840</td>\n",
       "            </tr>\n",
       "    </tbody></table>"
      ],
      "text/plain": [
       "<pandas.io.formats.style.Styler at 0x53c7c88>"
      ]
     },
     "execution_count": 37,
     "metadata": {},
     "output_type": "execute_result"
    }
   ],
   "source": [
    "# Сведем таблицу из обновленных данных:\n",
    "user_events = data_new.pivot_table(index='event_name', values ='user_id', aggfunc='nunique')\n",
    "user_events.columns=['user_qty']\n",
    "user_events = user_events.sort_values('user_qty', ascending=False).reset_index()\n",
    "user_events.style.highlight_max(color='yellowgreen', subset=['user_qty']).highlight_min(color='coral', subset=['user_qty'])"
   ]
  },
  {
   "cell_type": "markdown",
   "metadata": {},
   "source": [
    "Теперь расчитаем долю пользователей, которые хоть раз совершали событие:"
   ]
  },
  {
   "cell_type": "code",
   "execution_count": 38,
   "metadata": {},
   "outputs": [
    {
     "data": {
      "text/html": [
       "<div>\n",
       "<style scoped>\n",
       "    .dataframe tbody tr th:only-of-type {\n",
       "        vertical-align: middle;\n",
       "    }\n",
       "\n",
       "    .dataframe tbody tr th {\n",
       "        vertical-align: top;\n",
       "    }\n",
       "\n",
       "    .dataframe thead th {\n",
       "        text-align: right;\n",
       "    }\n",
       "</style>\n",
       "<table border=\"1\" class=\"dataframe\">\n",
       "  <thead>\n",
       "    <tr style=\"text-align: right;\">\n",
       "      <th></th>\n",
       "      <th>event_name</th>\n",
       "      <th>user_qty</th>\n",
       "      <th>user_share</th>\n",
       "    </tr>\n",
       "  </thead>\n",
       "  <tbody>\n",
       "    <tr>\n",
       "      <th>0</th>\n",
       "      <td>MainScreenAppear</td>\n",
       "      <td>7419</td>\n",
       "      <td>98.47</td>\n",
       "    </tr>\n",
       "    <tr>\n",
       "      <th>1</th>\n",
       "      <td>OffersScreenAppear</td>\n",
       "      <td>4593</td>\n",
       "      <td>60.96</td>\n",
       "    </tr>\n",
       "    <tr>\n",
       "      <th>2</th>\n",
       "      <td>CartScreenAppear</td>\n",
       "      <td>3734</td>\n",
       "      <td>49.56</td>\n",
       "    </tr>\n",
       "    <tr>\n",
       "      <th>3</th>\n",
       "      <td>PaymentScreenSuccessful</td>\n",
       "      <td>3539</td>\n",
       "      <td>46.97</td>\n",
       "    </tr>\n",
       "    <tr>\n",
       "      <th>4</th>\n",
       "      <td>Tutorial</td>\n",
       "      <td>840</td>\n",
       "      <td>11.15</td>\n",
       "    </tr>\n",
       "  </tbody>\n",
       "</table>\n",
       "</div>"
      ],
      "text/plain": [
       "                event_name  user_qty  user_share\n",
       "0         MainScreenAppear      7419       98.47\n",
       "1       OffersScreenAppear      4593       60.96\n",
       "2         CartScreenAppear      3734       49.56\n",
       "3  PaymentScreenSuccessful      3539       46.97\n",
       "4                 Tutorial       840       11.15"
      ]
     },
     "execution_count": 38,
     "metadata": {},
     "output_type": "execute_result"
    }
   ],
   "source": [
    "user_events['user_share'] = round((user_events['user_qty']/user_number_new*100),2)\n",
    "user_events"
   ]
  },
  {
   "cell_type": "markdown",
   "metadata": {},
   "source": [
    "Почти каждый пользователь видел главный экран, до корзины добрались меньше половины пользователей."
   ]
  },
  {
   "cell_type": "markdown",
   "metadata": {},
   "source": [
    "### Сделаем предположение, в каком порядке происходят события. Все ли они выстраиваются в последовательную цепочку? Не будем учитывать их при расчёте воронки"
   ]
  },
  {
   "cell_type": "markdown",
   "metadata": {},
   "source": [
    "Поскольку, мы работаем в интерент-магазине по продаже продуктов питания, пользователи становятся нашими клиентами по-разному: есть \"органики\" - тогда они в первую очередь увидят главный экран. Пользователи, зашедшие по рассылкам - погут попасть сразу на страницу предложения. Также, могут быть пользователи, которые сохранили заказ в корзине и остановились на этом шаге, и далее вернулись во вкладку Приложения сразу на страницу корзины. На экран с обучением, попадают пользователи реже всего, что объяснимо: у всех есть опыт использования приложения интернет-магазина. Всем нужен товар, обучение - нет.\n",
    "\n",
    "Касательно последовательной цепочки: на экран с успешной оплатой нельзя попасть не оплатив заказ. Прежде, чем оплатить заказ - его нужно сформировать - это можно сделать двумя способами: накидав нужные единицы продукции в корзину, или через \"быстрый заказ\" на карточке товара или предложения (если такая опция есть). Главный экран и экран с предложением также участвуют в воронке продаж (для органиков - точно). Таким образрм - Обучение стоит исключить и расчетов воронки, этот экран просматривают 1/10 всех пользователей.\n"
   ]
  },
  {
   "cell_type": "markdown",
   "metadata": {},
   "source": [
    "### По воронке событий посчитаем, какая доля пользователей проходит на следующий шаг воронки (от числа пользователей на предыдущем)"
   ]
  },
  {
   "cell_type": "markdown",
   "metadata": {},
   "source": [
    "Из таблицы с событиями уберем строку с событием \"Tutorial\":"
   ]
  },
  {
   "cell_type": "code",
   "execution_count": 39,
   "metadata": {},
   "outputs": [
    {
     "data": {
      "text/html": [
       "<div>\n",
       "<style scoped>\n",
       "    .dataframe tbody tr th:only-of-type {\n",
       "        vertical-align: middle;\n",
       "    }\n",
       "\n",
       "    .dataframe tbody tr th {\n",
       "        vertical-align: top;\n",
       "    }\n",
       "\n",
       "    .dataframe thead th {\n",
       "        text-align: right;\n",
       "    }\n",
       "</style>\n",
       "<table border=\"1\" class=\"dataframe\">\n",
       "  <thead>\n",
       "    <tr style=\"text-align: right;\">\n",
       "      <th></th>\n",
       "      <th>event_name</th>\n",
       "      <th>user_qty</th>\n",
       "      <th>user_share</th>\n",
       "    </tr>\n",
       "  </thead>\n",
       "  <tbody>\n",
       "    <tr>\n",
       "      <th>0</th>\n",
       "      <td>MainScreenAppear</td>\n",
       "      <td>7419</td>\n",
       "      <td>98.47</td>\n",
       "    </tr>\n",
       "    <tr>\n",
       "      <th>1</th>\n",
       "      <td>OffersScreenAppear</td>\n",
       "      <td>4593</td>\n",
       "      <td>60.96</td>\n",
       "    </tr>\n",
       "    <tr>\n",
       "      <th>2</th>\n",
       "      <td>CartScreenAppear</td>\n",
       "      <td>3734</td>\n",
       "      <td>49.56</td>\n",
       "    </tr>\n",
       "    <tr>\n",
       "      <th>3</th>\n",
       "      <td>PaymentScreenSuccessful</td>\n",
       "      <td>3539</td>\n",
       "      <td>46.97</td>\n",
       "    </tr>\n",
       "  </tbody>\n",
       "</table>\n",
       "</div>"
      ],
      "text/plain": [
       "                event_name  user_qty  user_share\n",
       "0         MainScreenAppear      7419       98.47\n",
       "1       OffersScreenAppear      4593       60.96\n",
       "2         CartScreenAppear      3734       49.56\n",
       "3  PaymentScreenSuccessful      3539       46.97"
      ]
     },
     "execution_count": 39,
     "metadata": {},
     "output_type": "execute_result"
    }
   ],
   "source": [
    "user_events = user_events.iloc[:-1,:]\n",
    "user_events\n",
    "# актуальная воронка событий имеет вид:"
   ]
  },
  {
   "cell_type": "code",
   "execution_count": 40,
   "metadata": {},
   "outputs": [
    {
     "data": {
      "text/html": [
       "<style  type=\"text/css\" >\n",
       "#T_ccb01480_d627_11ed_931e_448a5b582ad9row0_col4{\n",
       "            background-color:  #b40426;\n",
       "            color:  #f1f1f1;\n",
       "        }#T_ccb01480_d627_11ed_931e_448a5b582ad9row1_col4{\n",
       "            background-color:  #3b4cc0;\n",
       "            color:  #f1f1f1;\n",
       "        }#T_ccb01480_d627_11ed_931e_448a5b582ad9row2_col4{\n",
       "            background-color:  #e4d9d2;\n",
       "            color:  #000000;\n",
       "        }#T_ccb01480_d627_11ed_931e_448a5b582ad9row3_col4{\n",
       "            background-color:  #d65244;\n",
       "            color:  #000000;\n",
       "        }</style><table id=\"T_ccb01480_d627_11ed_931e_448a5b582ad9\" ><thead>    <tr>        <th class=\"blank level0\" ></th>        <th class=\"col_heading level0 col0\" >index</th>        <th class=\"col_heading level0 col1\" >event_name</th>        <th class=\"col_heading level0 col2\" >user_qty</th>        <th class=\"col_heading level0 col3\" >user_share</th>        <th class=\"col_heading level0 col4\" >user_next_step</th>    </tr></thead><tbody>\n",
       "                <tr>\n",
       "                        <th id=\"T_ccb01480_d627_11ed_931e_448a5b582ad9level0_row0\" class=\"row_heading level0 row0\" >0</th>\n",
       "                        <td id=\"T_ccb01480_d627_11ed_931e_448a5b582ad9row0_col0\" class=\"data row0 col0\" >0</td>\n",
       "                        <td id=\"T_ccb01480_d627_11ed_931e_448a5b582ad9row0_col1\" class=\"data row0 col1\" >MainScreenAppear</td>\n",
       "                        <td id=\"T_ccb01480_d627_11ed_931e_448a5b582ad9row0_col2\" class=\"data row0 col2\" >7419</td>\n",
       "                        <td id=\"T_ccb01480_d627_11ed_931e_448a5b582ad9row0_col3\" class=\"data row0 col3\" >98.470000</td>\n",
       "                        <td id=\"T_ccb01480_d627_11ed_931e_448a5b582ad9row0_col4\" class=\"data row0 col4\" >98.500000</td>\n",
       "            </tr>\n",
       "            <tr>\n",
       "                        <th id=\"T_ccb01480_d627_11ed_931e_448a5b582ad9level0_row1\" class=\"row_heading level0 row1\" >1</th>\n",
       "                        <td id=\"T_ccb01480_d627_11ed_931e_448a5b582ad9row1_col0\" class=\"data row1 col0\" >1</td>\n",
       "                        <td id=\"T_ccb01480_d627_11ed_931e_448a5b582ad9row1_col1\" class=\"data row1 col1\" >OffersScreenAppear</td>\n",
       "                        <td id=\"T_ccb01480_d627_11ed_931e_448a5b582ad9row1_col2\" class=\"data row1 col2\" >4593</td>\n",
       "                        <td id=\"T_ccb01480_d627_11ed_931e_448a5b582ad9row1_col3\" class=\"data row1 col3\" >60.960000</td>\n",
       "                        <td id=\"T_ccb01480_d627_11ed_931e_448a5b582ad9row1_col4\" class=\"data row1 col4\" >61.900000</td>\n",
       "            </tr>\n",
       "            <tr>\n",
       "                        <th id=\"T_ccb01480_d627_11ed_931e_448a5b582ad9level0_row2\" class=\"row_heading level0 row2\" >2</th>\n",
       "                        <td id=\"T_ccb01480_d627_11ed_931e_448a5b582ad9row2_col0\" class=\"data row2 col0\" >2</td>\n",
       "                        <td id=\"T_ccb01480_d627_11ed_931e_448a5b582ad9row2_col1\" class=\"data row2 col1\" >CartScreenAppear</td>\n",
       "                        <td id=\"T_ccb01480_d627_11ed_931e_448a5b582ad9row2_col2\" class=\"data row2 col2\" >3734</td>\n",
       "                        <td id=\"T_ccb01480_d627_11ed_931e_448a5b582ad9row2_col3\" class=\"data row2 col3\" >49.560000</td>\n",
       "                        <td id=\"T_ccb01480_d627_11ed_931e_448a5b582ad9row2_col4\" class=\"data row2 col4\" >81.300000</td>\n",
       "            </tr>\n",
       "            <tr>\n",
       "                        <th id=\"T_ccb01480_d627_11ed_931e_448a5b582ad9level0_row3\" class=\"row_heading level0 row3\" >3</th>\n",
       "                        <td id=\"T_ccb01480_d627_11ed_931e_448a5b582ad9row3_col0\" class=\"data row3 col0\" >3</td>\n",
       "                        <td id=\"T_ccb01480_d627_11ed_931e_448a5b582ad9row3_col1\" class=\"data row3 col1\" >PaymentScreenSuccessful</td>\n",
       "                        <td id=\"T_ccb01480_d627_11ed_931e_448a5b582ad9row3_col2\" class=\"data row3 col2\" >3539</td>\n",
       "                        <td id=\"T_ccb01480_d627_11ed_931e_448a5b582ad9row3_col3\" class=\"data row3 col3\" >46.970000</td>\n",
       "                        <td id=\"T_ccb01480_d627_11ed_931e_448a5b582ad9row3_col4\" class=\"data row3 col4\" >94.800000</td>\n",
       "            </tr>\n",
       "    </tbody></table>"
      ],
      "text/plain": [
       "<pandas.io.formats.style.Styler at 0x540cc50>"
      ]
     },
     "execution_count": 40,
     "metadata": {},
     "output_type": "execute_result"
    }
   ],
   "source": [
    "# Вычислим долю пользователей в следующем шаге относительно текущего шага:\n",
    "user_events = user_events.reset_index()\n",
    "user_events['user_next_step'] = round(user_events['user_qty'] / user_events['user_qty'].shift()*100,1)\n",
    "\n",
    "# Для пользователей первого шага вычислим долю относительно общего количества пользователей:\n",
    "user_events.loc[0, 'user_next_step'] = round(user_events.loc[0,'user_qty'] / user_number_new*100,1)\n",
    "user_events.style.background_gradient('coolwarm', subset=['user_next_step'])"
   ]
  },
  {
   "cell_type": "markdown",
   "metadata": {},
   "source": [
    "Итого: от общего количества пользователей - доходят до \"Главного экрана\" - 98,5%. От тех, кто дошел до \"Главного экрана\" - доходят до экрана \"Предложения\" - почти 62% пользователей. От Пользователей с \" Экрана Предложения\" - до \"Корзины\" доходят 81,3% пользователей. В итоге - успешно оплативших заказ почти 95% пользователей. "
   ]
  },
  {
   "cell_type": "markdown",
   "metadata": {},
   "source": [
    "Для наглядности посторим график воронки:"
   ]
  },
  {
   "cell_type": "code",
   "execution_count": 44,
   "metadata": {},
   "outputs": [
    {
     "data": {
      "application/vnd.plotly.v1+json": {
       "config": {
        "plotlyServerURL": "https://plot.ly"
       },
       "data": [
        {
         "hovertemplate": "number=%{x}<br>stage=%{y}<extra></extra>",
         "legendgroup": "",
         "marker": {
          "color": "#636efa"
         },
         "name": "",
         "orientation": "h",
         "showlegend": false,
         "type": "funnel",
         "x": [
          98.5,
          61.9,
          81.3,
          94.8
         ],
         "xaxis": "x",
         "y": [
          "MainScreenAppear",
          "OffersScreenAppear",
          "CartScreenAppear",
          "PaymentScreenSuccessful"
         ],
         "yaxis": "y"
        }
       ],
       "layout": {
        "legend": {
         "tracegroupgap": 0
        },
        "template": {
         "data": {
          "bar": [
           {
            "error_x": {
             "color": "#2a3f5f"
            },
            "error_y": {
             "color": "#2a3f5f"
            },
            "marker": {
             "line": {
              "color": "#E5ECF6",
              "width": 0.5
             },
             "pattern": {
              "fillmode": "overlay",
              "size": 10,
              "solidity": 0.2
             }
            },
            "type": "bar"
           }
          ],
          "barpolar": [
           {
            "marker": {
             "line": {
              "color": "#E5ECF6",
              "width": 0.5
             },
             "pattern": {
              "fillmode": "overlay",
              "size": 10,
              "solidity": 0.2
             }
            },
            "type": "barpolar"
           }
          ],
          "carpet": [
           {
            "aaxis": {
             "endlinecolor": "#2a3f5f",
             "gridcolor": "white",
             "linecolor": "white",
             "minorgridcolor": "white",
             "startlinecolor": "#2a3f5f"
            },
            "baxis": {
             "endlinecolor": "#2a3f5f",
             "gridcolor": "white",
             "linecolor": "white",
             "minorgridcolor": "white",
             "startlinecolor": "#2a3f5f"
            },
            "type": "carpet"
           }
          ],
          "choropleth": [
           {
            "colorbar": {
             "outlinewidth": 0,
             "ticks": ""
            },
            "type": "choropleth"
           }
          ],
          "contour": [
           {
            "colorbar": {
             "outlinewidth": 0,
             "ticks": ""
            },
            "colorscale": [
             [
              0,
              "#0d0887"
             ],
             [
              0.1111111111111111,
              "#46039f"
             ],
             [
              0.2222222222222222,
              "#7201a8"
             ],
             [
              0.3333333333333333,
              "#9c179e"
             ],
             [
              0.4444444444444444,
              "#bd3786"
             ],
             [
              0.5555555555555556,
              "#d8576b"
             ],
             [
              0.6666666666666666,
              "#ed7953"
             ],
             [
              0.7777777777777778,
              "#fb9f3a"
             ],
             [
              0.8888888888888888,
              "#fdca26"
             ],
             [
              1,
              "#f0f921"
             ]
            ],
            "type": "contour"
           }
          ],
          "contourcarpet": [
           {
            "colorbar": {
             "outlinewidth": 0,
             "ticks": ""
            },
            "type": "contourcarpet"
           }
          ],
          "heatmap": [
           {
            "colorbar": {
             "outlinewidth": 0,
             "ticks": ""
            },
            "colorscale": [
             [
              0,
              "#0d0887"
             ],
             [
              0.1111111111111111,
              "#46039f"
             ],
             [
              0.2222222222222222,
              "#7201a8"
             ],
             [
              0.3333333333333333,
              "#9c179e"
             ],
             [
              0.4444444444444444,
              "#bd3786"
             ],
             [
              0.5555555555555556,
              "#d8576b"
             ],
             [
              0.6666666666666666,
              "#ed7953"
             ],
             [
              0.7777777777777778,
              "#fb9f3a"
             ],
             [
              0.8888888888888888,
              "#fdca26"
             ],
             [
              1,
              "#f0f921"
             ]
            ],
            "type": "heatmap"
           }
          ],
          "heatmapgl": [
           {
            "colorbar": {
             "outlinewidth": 0,
             "ticks": ""
            },
            "colorscale": [
             [
              0,
              "#0d0887"
             ],
             [
              0.1111111111111111,
              "#46039f"
             ],
             [
              0.2222222222222222,
              "#7201a8"
             ],
             [
              0.3333333333333333,
              "#9c179e"
             ],
             [
              0.4444444444444444,
              "#bd3786"
             ],
             [
              0.5555555555555556,
              "#d8576b"
             ],
             [
              0.6666666666666666,
              "#ed7953"
             ],
             [
              0.7777777777777778,
              "#fb9f3a"
             ],
             [
              0.8888888888888888,
              "#fdca26"
             ],
             [
              1,
              "#f0f921"
             ]
            ],
            "type": "heatmapgl"
           }
          ],
          "histogram": [
           {
            "marker": {
             "pattern": {
              "fillmode": "overlay",
              "size": 10,
              "solidity": 0.2
             }
            },
            "type": "histogram"
           }
          ],
          "histogram2d": [
           {
            "colorbar": {
             "outlinewidth": 0,
             "ticks": ""
            },
            "colorscale": [
             [
              0,
              "#0d0887"
             ],
             [
              0.1111111111111111,
              "#46039f"
             ],
             [
              0.2222222222222222,
              "#7201a8"
             ],
             [
              0.3333333333333333,
              "#9c179e"
             ],
             [
              0.4444444444444444,
              "#bd3786"
             ],
             [
              0.5555555555555556,
              "#d8576b"
             ],
             [
              0.6666666666666666,
              "#ed7953"
             ],
             [
              0.7777777777777778,
              "#fb9f3a"
             ],
             [
              0.8888888888888888,
              "#fdca26"
             ],
             [
              1,
              "#f0f921"
             ]
            ],
            "type": "histogram2d"
           }
          ],
          "histogram2dcontour": [
           {
            "colorbar": {
             "outlinewidth": 0,
             "ticks": ""
            },
            "colorscale": [
             [
              0,
              "#0d0887"
             ],
             [
              0.1111111111111111,
              "#46039f"
             ],
             [
              0.2222222222222222,
              "#7201a8"
             ],
             [
              0.3333333333333333,
              "#9c179e"
             ],
             [
              0.4444444444444444,
              "#bd3786"
             ],
             [
              0.5555555555555556,
              "#d8576b"
             ],
             [
              0.6666666666666666,
              "#ed7953"
             ],
             [
              0.7777777777777778,
              "#fb9f3a"
             ],
             [
              0.8888888888888888,
              "#fdca26"
             ],
             [
              1,
              "#f0f921"
             ]
            ],
            "type": "histogram2dcontour"
           }
          ],
          "mesh3d": [
           {
            "colorbar": {
             "outlinewidth": 0,
             "ticks": ""
            },
            "type": "mesh3d"
           }
          ],
          "parcoords": [
           {
            "line": {
             "colorbar": {
              "outlinewidth": 0,
              "ticks": ""
             }
            },
            "type": "parcoords"
           }
          ],
          "pie": [
           {
            "automargin": true,
            "type": "pie"
           }
          ],
          "scatter": [
           {
            "fillpattern": {
             "fillmode": "overlay",
             "size": 10,
             "solidity": 0.2
            },
            "type": "scatter"
           }
          ],
          "scatter3d": [
           {
            "line": {
             "colorbar": {
              "outlinewidth": 0,
              "ticks": ""
             }
            },
            "marker": {
             "colorbar": {
              "outlinewidth": 0,
              "ticks": ""
             }
            },
            "type": "scatter3d"
           }
          ],
          "scattercarpet": [
           {
            "marker": {
             "colorbar": {
              "outlinewidth": 0,
              "ticks": ""
             }
            },
            "type": "scattercarpet"
           }
          ],
          "scattergeo": [
           {
            "marker": {
             "colorbar": {
              "outlinewidth": 0,
              "ticks": ""
             }
            },
            "type": "scattergeo"
           }
          ],
          "scattergl": [
           {
            "marker": {
             "colorbar": {
              "outlinewidth": 0,
              "ticks": ""
             }
            },
            "type": "scattergl"
           }
          ],
          "scattermapbox": [
           {
            "marker": {
             "colorbar": {
              "outlinewidth": 0,
              "ticks": ""
             }
            },
            "type": "scattermapbox"
           }
          ],
          "scatterpolar": [
           {
            "marker": {
             "colorbar": {
              "outlinewidth": 0,
              "ticks": ""
             }
            },
            "type": "scatterpolar"
           }
          ],
          "scatterpolargl": [
           {
            "marker": {
             "colorbar": {
              "outlinewidth": 0,
              "ticks": ""
             }
            },
            "type": "scatterpolargl"
           }
          ],
          "scatterternary": [
           {
            "marker": {
             "colorbar": {
              "outlinewidth": 0,
              "ticks": ""
             }
            },
            "type": "scatterternary"
           }
          ],
          "surface": [
           {
            "colorbar": {
             "outlinewidth": 0,
             "ticks": ""
            },
            "colorscale": [
             [
              0,
              "#0d0887"
             ],
             [
              0.1111111111111111,
              "#46039f"
             ],
             [
              0.2222222222222222,
              "#7201a8"
             ],
             [
              0.3333333333333333,
              "#9c179e"
             ],
             [
              0.4444444444444444,
              "#bd3786"
             ],
             [
              0.5555555555555556,
              "#d8576b"
             ],
             [
              0.6666666666666666,
              "#ed7953"
             ],
             [
              0.7777777777777778,
              "#fb9f3a"
             ],
             [
              0.8888888888888888,
              "#fdca26"
             ],
             [
              1,
              "#f0f921"
             ]
            ],
            "type": "surface"
           }
          ],
          "table": [
           {
            "cells": {
             "fill": {
              "color": "#EBF0F8"
             },
             "line": {
              "color": "white"
             }
            },
            "header": {
             "fill": {
              "color": "#C8D4E3"
             },
             "line": {
              "color": "white"
             }
            },
            "type": "table"
           }
          ]
         },
         "layout": {
          "annotationdefaults": {
           "arrowcolor": "#2a3f5f",
           "arrowhead": 0,
           "arrowwidth": 1
          },
          "autotypenumbers": "strict",
          "coloraxis": {
           "colorbar": {
            "outlinewidth": 0,
            "ticks": ""
           }
          },
          "colorscale": {
           "diverging": [
            [
             0,
             "#8e0152"
            ],
            [
             0.1,
             "#c51b7d"
            ],
            [
             0.2,
             "#de77ae"
            ],
            [
             0.3,
             "#f1b6da"
            ],
            [
             0.4,
             "#fde0ef"
            ],
            [
             0.5,
             "#f7f7f7"
            ],
            [
             0.6,
             "#e6f5d0"
            ],
            [
             0.7,
             "#b8e186"
            ],
            [
             0.8,
             "#7fbc41"
            ],
            [
             0.9,
             "#4d9221"
            ],
            [
             1,
             "#276419"
            ]
           ],
           "sequential": [
            [
             0,
             "#0d0887"
            ],
            [
             0.1111111111111111,
             "#46039f"
            ],
            [
             0.2222222222222222,
             "#7201a8"
            ],
            [
             0.3333333333333333,
             "#9c179e"
            ],
            [
             0.4444444444444444,
             "#bd3786"
            ],
            [
             0.5555555555555556,
             "#d8576b"
            ],
            [
             0.6666666666666666,
             "#ed7953"
            ],
            [
             0.7777777777777778,
             "#fb9f3a"
            ],
            [
             0.8888888888888888,
             "#fdca26"
            ],
            [
             1,
             "#f0f921"
            ]
           ],
           "sequentialminus": [
            [
             0,
             "#0d0887"
            ],
            [
             0.1111111111111111,
             "#46039f"
            ],
            [
             0.2222222222222222,
             "#7201a8"
            ],
            [
             0.3333333333333333,
             "#9c179e"
            ],
            [
             0.4444444444444444,
             "#bd3786"
            ],
            [
             0.5555555555555556,
             "#d8576b"
            ],
            [
             0.6666666666666666,
             "#ed7953"
            ],
            [
             0.7777777777777778,
             "#fb9f3a"
            ],
            [
             0.8888888888888888,
             "#fdca26"
            ],
            [
             1,
             "#f0f921"
            ]
           ]
          },
          "colorway": [
           "#636efa",
           "#EF553B",
           "#00cc96",
           "#ab63fa",
           "#FFA15A",
           "#19d3f3",
           "#FF6692",
           "#B6E880",
           "#FF97FF",
           "#FECB52"
          ],
          "font": {
           "color": "#2a3f5f"
          },
          "geo": {
           "bgcolor": "white",
           "lakecolor": "white",
           "landcolor": "#E5ECF6",
           "showlakes": true,
           "showland": true,
           "subunitcolor": "white"
          },
          "hoverlabel": {
           "align": "left"
          },
          "hovermode": "closest",
          "mapbox": {
           "style": "light"
          },
          "paper_bgcolor": "white",
          "plot_bgcolor": "#E5ECF6",
          "polar": {
           "angularaxis": {
            "gridcolor": "white",
            "linecolor": "white",
            "ticks": ""
           },
           "bgcolor": "#E5ECF6",
           "radialaxis": {
            "gridcolor": "white",
            "linecolor": "white",
            "ticks": ""
           }
          },
          "scene": {
           "xaxis": {
            "backgroundcolor": "#E5ECF6",
            "gridcolor": "white",
            "gridwidth": 2,
            "linecolor": "white",
            "showbackground": true,
            "ticks": "",
            "zerolinecolor": "white"
           },
           "yaxis": {
            "backgroundcolor": "#E5ECF6",
            "gridcolor": "white",
            "gridwidth": 2,
            "linecolor": "white",
            "showbackground": true,
            "ticks": "",
            "zerolinecolor": "white"
           },
           "zaxis": {
            "backgroundcolor": "#E5ECF6",
            "gridcolor": "white",
            "gridwidth": 2,
            "linecolor": "white",
            "showbackground": true,
            "ticks": "",
            "zerolinecolor": "white"
           }
          },
          "shapedefaults": {
           "line": {
            "color": "#2a3f5f"
           }
          },
          "ternary": {
           "aaxis": {
            "gridcolor": "white",
            "linecolor": "white",
            "ticks": ""
           },
           "baxis": {
            "gridcolor": "white",
            "linecolor": "white",
            "ticks": ""
           },
           "bgcolor": "#E5ECF6",
           "caxis": {
            "gridcolor": "white",
            "linecolor": "white",
            "ticks": ""
           }
          },
          "title": {
           "x": 0.05
          },
          "xaxis": {
           "automargin": true,
           "gridcolor": "white",
           "linecolor": "white",
           "ticks": "",
           "title": {
            "standoff": 15
           },
           "zerolinecolor": "white",
           "zerolinewidth": 2
          },
          "yaxis": {
           "automargin": true,
           "gridcolor": "white",
           "linecolor": "white",
           "ticks": "",
           "title": {
            "standoff": 15
           },
           "zerolinecolor": "white",
           "zerolinewidth": 2
          }
         }
        },
        "title": {
         "text": "Воронка событий"
        },
        "xaxis": {
         "anchor": "y",
         "domain": [
          0,
          1
         ],
         "title": {
          "text": "%"
         }
        },
        "yaxis": {
         "anchor": "x",
         "domain": [
          0,
          1
         ],
         "title": {
          "text": "Событие"
         }
        }
       }
      },
      "text/html": [
       "<div>                            <div id=\"e5b5e871-bc53-4da8-8c9b-72346ca13377\" class=\"plotly-graph-div\" style=\"height:525px; width:100%;\"></div>            <script type=\"text/javascript\">                require([\"plotly\"], function(Plotly) {                    window.PLOTLYENV=window.PLOTLYENV || {};                                    if (document.getElementById(\"e5b5e871-bc53-4da8-8c9b-72346ca13377\")) {                    Plotly.newPlot(                        \"e5b5e871-bc53-4da8-8c9b-72346ca13377\",                        [{\"hovertemplate\":\"number=%{x}<br>stage=%{y}<extra></extra>\",\"legendgroup\":\"\",\"marker\":{\"color\":\"#636efa\"},\"name\":\"\",\"orientation\":\"h\",\"showlegend\":false,\"x\":[98.5,61.9,81.3,94.8],\"xaxis\":\"x\",\"y\":[\"MainScreenAppear\",\"OffersScreenAppear\",\"CartScreenAppear\",\"PaymentScreenSuccessful\"],\"yaxis\":\"y\",\"type\":\"funnel\"}],                        {\"template\":{\"data\":{\"histogram2dcontour\":[{\"type\":\"histogram2dcontour\",\"colorbar\":{\"outlinewidth\":0,\"ticks\":\"\"},\"colorscale\":[[0.0,\"#0d0887\"],[0.1111111111111111,\"#46039f\"],[0.2222222222222222,\"#7201a8\"],[0.3333333333333333,\"#9c179e\"],[0.4444444444444444,\"#bd3786\"],[0.5555555555555556,\"#d8576b\"],[0.6666666666666666,\"#ed7953\"],[0.7777777777777778,\"#fb9f3a\"],[0.8888888888888888,\"#fdca26\"],[1.0,\"#f0f921\"]]}],\"choropleth\":[{\"type\":\"choropleth\",\"colorbar\":{\"outlinewidth\":0,\"ticks\":\"\"}}],\"histogram2d\":[{\"type\":\"histogram2d\",\"colorbar\":{\"outlinewidth\":0,\"ticks\":\"\"},\"colorscale\":[[0.0,\"#0d0887\"],[0.1111111111111111,\"#46039f\"],[0.2222222222222222,\"#7201a8\"],[0.3333333333333333,\"#9c179e\"],[0.4444444444444444,\"#bd3786\"],[0.5555555555555556,\"#d8576b\"],[0.6666666666666666,\"#ed7953\"],[0.7777777777777778,\"#fb9f3a\"],[0.8888888888888888,\"#fdca26\"],[1.0,\"#f0f921\"]]}],\"heatmap\":[{\"type\":\"heatmap\",\"colorbar\":{\"outlinewidth\":0,\"ticks\":\"\"},\"colorscale\":[[0.0,\"#0d0887\"],[0.1111111111111111,\"#46039f\"],[0.2222222222222222,\"#7201a8\"],[0.3333333333333333,\"#9c179e\"],[0.4444444444444444,\"#bd3786\"],[0.5555555555555556,\"#d8576b\"],[0.6666666666666666,\"#ed7953\"],[0.7777777777777778,\"#fb9f3a\"],[0.8888888888888888,\"#fdca26\"],[1.0,\"#f0f921\"]]}],\"heatmapgl\":[{\"type\":\"heatmapgl\",\"colorbar\":{\"outlinewidth\":0,\"ticks\":\"\"},\"colorscale\":[[0.0,\"#0d0887\"],[0.1111111111111111,\"#46039f\"],[0.2222222222222222,\"#7201a8\"],[0.3333333333333333,\"#9c179e\"],[0.4444444444444444,\"#bd3786\"],[0.5555555555555556,\"#d8576b\"],[0.6666666666666666,\"#ed7953\"],[0.7777777777777778,\"#fb9f3a\"],[0.8888888888888888,\"#fdca26\"],[1.0,\"#f0f921\"]]}],\"contourcarpet\":[{\"type\":\"contourcarpet\",\"colorbar\":{\"outlinewidth\":0,\"ticks\":\"\"}}],\"contour\":[{\"type\":\"contour\",\"colorbar\":{\"outlinewidth\":0,\"ticks\":\"\"},\"colorscale\":[[0.0,\"#0d0887\"],[0.1111111111111111,\"#46039f\"],[0.2222222222222222,\"#7201a8\"],[0.3333333333333333,\"#9c179e\"],[0.4444444444444444,\"#bd3786\"],[0.5555555555555556,\"#d8576b\"],[0.6666666666666666,\"#ed7953\"],[0.7777777777777778,\"#fb9f3a\"],[0.8888888888888888,\"#fdca26\"],[1.0,\"#f0f921\"]]}],\"surface\":[{\"type\":\"surface\",\"colorbar\":{\"outlinewidth\":0,\"ticks\":\"\"},\"colorscale\":[[0.0,\"#0d0887\"],[0.1111111111111111,\"#46039f\"],[0.2222222222222222,\"#7201a8\"],[0.3333333333333333,\"#9c179e\"],[0.4444444444444444,\"#bd3786\"],[0.5555555555555556,\"#d8576b\"],[0.6666666666666666,\"#ed7953\"],[0.7777777777777778,\"#fb9f3a\"],[0.8888888888888888,\"#fdca26\"],[1.0,\"#f0f921\"]]}],\"mesh3d\":[{\"type\":\"mesh3d\",\"colorbar\":{\"outlinewidth\":0,\"ticks\":\"\"}}],\"scatter\":[{\"fillpattern\":{\"fillmode\":\"overlay\",\"size\":10,\"solidity\":0.2},\"type\":\"scatter\"}],\"parcoords\":[{\"type\":\"parcoords\",\"line\":{\"colorbar\":{\"outlinewidth\":0,\"ticks\":\"\"}}}],\"scatterpolargl\":[{\"type\":\"scatterpolargl\",\"marker\":{\"colorbar\":{\"outlinewidth\":0,\"ticks\":\"\"}}}],\"bar\":[{\"error_x\":{\"color\":\"#2a3f5f\"},\"error_y\":{\"color\":\"#2a3f5f\"},\"marker\":{\"line\":{\"color\":\"#E5ECF6\",\"width\":0.5},\"pattern\":{\"fillmode\":\"overlay\",\"size\":10,\"solidity\":0.2}},\"type\":\"bar\"}],\"scattergeo\":[{\"type\":\"scattergeo\",\"marker\":{\"colorbar\":{\"outlinewidth\":0,\"ticks\":\"\"}}}],\"scatterpolar\":[{\"type\":\"scatterpolar\",\"marker\":{\"colorbar\":{\"outlinewidth\":0,\"ticks\":\"\"}}}],\"histogram\":[{\"marker\":{\"pattern\":{\"fillmode\":\"overlay\",\"size\":10,\"solidity\":0.2}},\"type\":\"histogram\"}],\"scattergl\":[{\"type\":\"scattergl\",\"marker\":{\"colorbar\":{\"outlinewidth\":0,\"ticks\":\"\"}}}],\"scatter3d\":[{\"type\":\"scatter3d\",\"line\":{\"colorbar\":{\"outlinewidth\":0,\"ticks\":\"\"}},\"marker\":{\"colorbar\":{\"outlinewidth\":0,\"ticks\":\"\"}}}],\"scattermapbox\":[{\"type\":\"scattermapbox\",\"marker\":{\"colorbar\":{\"outlinewidth\":0,\"ticks\":\"\"}}}],\"scatterternary\":[{\"type\":\"scatterternary\",\"marker\":{\"colorbar\":{\"outlinewidth\":0,\"ticks\":\"\"}}}],\"scattercarpet\":[{\"type\":\"scattercarpet\",\"marker\":{\"colorbar\":{\"outlinewidth\":0,\"ticks\":\"\"}}}],\"carpet\":[{\"aaxis\":{\"endlinecolor\":\"#2a3f5f\",\"gridcolor\":\"white\",\"linecolor\":\"white\",\"minorgridcolor\":\"white\",\"startlinecolor\":\"#2a3f5f\"},\"baxis\":{\"endlinecolor\":\"#2a3f5f\",\"gridcolor\":\"white\",\"linecolor\":\"white\",\"minorgridcolor\":\"white\",\"startlinecolor\":\"#2a3f5f\"},\"type\":\"carpet\"}],\"table\":[{\"cells\":{\"fill\":{\"color\":\"#EBF0F8\"},\"line\":{\"color\":\"white\"}},\"header\":{\"fill\":{\"color\":\"#C8D4E3\"},\"line\":{\"color\":\"white\"}},\"type\":\"table\"}],\"barpolar\":[{\"marker\":{\"line\":{\"color\":\"#E5ECF6\",\"width\":0.5},\"pattern\":{\"fillmode\":\"overlay\",\"size\":10,\"solidity\":0.2}},\"type\":\"barpolar\"}],\"pie\":[{\"automargin\":true,\"type\":\"pie\"}]},\"layout\":{\"autotypenumbers\":\"strict\",\"colorway\":[\"#636efa\",\"#EF553B\",\"#00cc96\",\"#ab63fa\",\"#FFA15A\",\"#19d3f3\",\"#FF6692\",\"#B6E880\",\"#FF97FF\",\"#FECB52\"],\"font\":{\"color\":\"#2a3f5f\"},\"hovermode\":\"closest\",\"hoverlabel\":{\"align\":\"left\"},\"paper_bgcolor\":\"white\",\"plot_bgcolor\":\"#E5ECF6\",\"polar\":{\"bgcolor\":\"#E5ECF6\",\"angularaxis\":{\"gridcolor\":\"white\",\"linecolor\":\"white\",\"ticks\":\"\"},\"radialaxis\":{\"gridcolor\":\"white\",\"linecolor\":\"white\",\"ticks\":\"\"}},\"ternary\":{\"bgcolor\":\"#E5ECF6\",\"aaxis\":{\"gridcolor\":\"white\",\"linecolor\":\"white\",\"ticks\":\"\"},\"baxis\":{\"gridcolor\":\"white\",\"linecolor\":\"white\",\"ticks\":\"\"},\"caxis\":{\"gridcolor\":\"white\",\"linecolor\":\"white\",\"ticks\":\"\"}},\"coloraxis\":{\"colorbar\":{\"outlinewidth\":0,\"ticks\":\"\"}},\"colorscale\":{\"sequential\":[[0.0,\"#0d0887\"],[0.1111111111111111,\"#46039f\"],[0.2222222222222222,\"#7201a8\"],[0.3333333333333333,\"#9c179e\"],[0.4444444444444444,\"#bd3786\"],[0.5555555555555556,\"#d8576b\"],[0.6666666666666666,\"#ed7953\"],[0.7777777777777778,\"#fb9f3a\"],[0.8888888888888888,\"#fdca26\"],[1.0,\"#f0f921\"]],\"sequentialminus\":[[0.0,\"#0d0887\"],[0.1111111111111111,\"#46039f\"],[0.2222222222222222,\"#7201a8\"],[0.3333333333333333,\"#9c179e\"],[0.4444444444444444,\"#bd3786\"],[0.5555555555555556,\"#d8576b\"],[0.6666666666666666,\"#ed7953\"],[0.7777777777777778,\"#fb9f3a\"],[0.8888888888888888,\"#fdca26\"],[1.0,\"#f0f921\"]],\"diverging\":[[0,\"#8e0152\"],[0.1,\"#c51b7d\"],[0.2,\"#de77ae\"],[0.3,\"#f1b6da\"],[0.4,\"#fde0ef\"],[0.5,\"#f7f7f7\"],[0.6,\"#e6f5d0\"],[0.7,\"#b8e186\"],[0.8,\"#7fbc41\"],[0.9,\"#4d9221\"],[1,\"#276419\"]]},\"xaxis\":{\"gridcolor\":\"white\",\"linecolor\":\"white\",\"ticks\":\"\",\"title\":{\"standoff\":15},\"zerolinecolor\":\"white\",\"automargin\":true,\"zerolinewidth\":2},\"yaxis\":{\"gridcolor\":\"white\",\"linecolor\":\"white\",\"ticks\":\"\",\"title\":{\"standoff\":15},\"zerolinecolor\":\"white\",\"automargin\":true,\"zerolinewidth\":2},\"scene\":{\"xaxis\":{\"backgroundcolor\":\"#E5ECF6\",\"gridcolor\":\"white\",\"linecolor\":\"white\",\"showbackground\":true,\"ticks\":\"\",\"zerolinecolor\":\"white\",\"gridwidth\":2},\"yaxis\":{\"backgroundcolor\":\"#E5ECF6\",\"gridcolor\":\"white\",\"linecolor\":\"white\",\"showbackground\":true,\"ticks\":\"\",\"zerolinecolor\":\"white\",\"gridwidth\":2},\"zaxis\":{\"backgroundcolor\":\"#E5ECF6\",\"gridcolor\":\"white\",\"linecolor\":\"white\",\"showbackground\":true,\"ticks\":\"\",\"zerolinecolor\":\"white\",\"gridwidth\":2}},\"shapedefaults\":{\"line\":{\"color\":\"#2a3f5f\"}},\"annotationdefaults\":{\"arrowcolor\":\"#2a3f5f\",\"arrowhead\":0,\"arrowwidth\":1},\"geo\":{\"bgcolor\":\"white\",\"landcolor\":\"#E5ECF6\",\"subunitcolor\":\"white\",\"showland\":true,\"showlakes\":true,\"lakecolor\":\"white\"},\"title\":{\"x\":0.05},\"mapbox\":{\"style\":\"light\"}}},\"xaxis\":{\"anchor\":\"y\",\"domain\":[0.0,1.0],\"title\":{\"text\":\"%\"}},\"yaxis\":{\"anchor\":\"x\",\"domain\":[0.0,1.0],\"title\":{\"text\":\"\\u0421\\u043e\\u0431\\u044b\\u0442\\u0438\\u0435\"}},\"legend\":{\"tracegroupgap\":0},\"title\":{\"text\":\"\\u0412\\u043e\\u0440\\u043e\\u043d\\u043a\\u0430 \\u0441\\u043e\\u0431\\u044b\\u0442\\u0438\\u0439\"}},                        {\"responsive\": true}                    ).then(function(){\n",
       "                            \n",
       "var gd = document.getElementById('e5b5e871-bc53-4da8-8c9b-72346ca13377');\n",
       "var x = new MutationObserver(function (mutations, observer) {{\n",
       "        var display = window.getComputedStyle(gd).display;\n",
       "        if (!display || display === 'none') {{\n",
       "            console.log([gd, 'removed!']);\n",
       "            Plotly.purge(gd);\n",
       "            observer.disconnect();\n",
       "        }}\n",
       "}});\n",
       "\n",
       "// Listen for the removal of the full notebook cells\n",
       "var notebookContainer = gd.closest('#notebook-container');\n",
       "if (notebookContainer) {{\n",
       "    x.observe(notebookContainer, {childList: true});\n",
       "}}\n",
       "\n",
       "// Listen for the clearing of the current output cell\n",
       "var outputEl = gd.closest('.output');\n",
       "if (outputEl) {{\n",
       "    x.observe(outputEl, {childList: true});\n",
       "}}\n",
       "\n",
       "                        })                };                });            </script>        </div>"
      ]
     },
     "metadata": {},
     "output_type": "display_data"
    }
   ],
   "source": [
    "# График воронки продаж:\n",
    "df = dict(\n",
    "    number=user_events['user_next_step'],\n",
    "    stage=user_events['event_name'],  textinfo = '%')\n",
    "fig = px.funnel(df, x='number', y='stage', title=\"Воронка событий\", labels = True)\n",
    "fig.update_xaxes(title_text='%')\n",
    "fig.update_yaxes(title_text='Событие')\n",
    "\n",
    "fig.show()"
   ]
  },
  {
   "cell_type": "markdown",
   "metadata": {},
   "source": [
    "Воронка не равномерная, наглядно видно, что теряем слишком много на этапе OffersScreenAppear."
   ]
  },
  {
   "cell_type": "markdown",
   "metadata": {},
   "source": [
    "### На каком шаге теряем больше всего пользователей?"
   ]
  },
  {
   "cell_type": "markdown",
   "metadata": {},
   "source": [
    "Больше всего пользователей мы теряем на шаге - \"OffersScreenAppear\": около 38% пользователей. "
   ]
  },
  {
   "cell_type": "markdown",
   "metadata": {},
   "source": [
    "Необходимо узнать нашу ЦА, их интересы, провести custdev, узнавать, чтобы они хотели увидеть, что надо улучшить, смотреть путь пользователя, удобство интерфейса, выдвигать гипотезы и проверять их.\n"
   ]
  },
  {
   "cell_type": "markdown",
   "metadata": {},
   "source": [
    "### Какая доля пользователей доходит от первого события до оплаты?"
   ]
  },
  {
   "cell_type": "code",
   "execution_count": 45,
   "metadata": {},
   "outputs": [
    {
     "data": {
      "text/plain": [
       "'От первого события до успешной оплаты доходят 48.0 % пользователей'"
      ]
     },
     "metadata": {},
     "output_type": "display_data"
    }
   ],
   "source": [
    "# Посчитаем долю пользователей от первого шага до последнего:\n",
    "paying_users = round(user_events.loc[3,'user_qty'] / user_events.loc[0,'user_qty'],2)*100\n",
    "\n",
    "display(f'От первого события до успешной оплаты доходят {paying_users} % пользователей')\n"
   ]
  },
  {
   "cell_type": "markdown",
   "metadata": {},
   "source": [
    "## Изучим результаты эксперимента"
   ]
  },
  {
   "cell_type": "markdown",
   "metadata": {},
   "source": [
    "### Сколько пользователей в каждой экспериментальной группе?"
   ]
  },
  {
   "cell_type": "code",
   "execution_count": 46,
   "metadata": {},
   "outputs": [
    {
     "data": {
      "text/html": [
       "<style  type=\"text/css\" >\n",
       "#T_8b0173f8_d628_11ed_930b_448a5b582ad9row0_col1{\n",
       "            background-color:  yellowgreen;\n",
       "        }#T_8b0173f8_d628_11ed_930b_448a5b582ad9row2_col1{\n",
       "            background-color:  coral;\n",
       "        }</style><table id=\"T_8b0173f8_d628_11ed_930b_448a5b582ad9\" ><thead>    <tr>        <th class=\"blank level0\" ></th>        <th class=\"col_heading level0 col0\" >exp_id</th>        <th class=\"col_heading level0 col1\" >user_qty</th>    </tr></thead><tbody>\n",
       "                <tr>\n",
       "                        <th id=\"T_8b0173f8_d628_11ed_930b_448a5b582ad9level0_row0\" class=\"row_heading level0 row0\" >0</th>\n",
       "                        <td id=\"T_8b0173f8_d628_11ed_930b_448a5b582ad9row0_col0\" class=\"data row0 col0\" >248</td>\n",
       "                        <td id=\"T_8b0173f8_d628_11ed_930b_448a5b582ad9row0_col1\" class=\"data row0 col1\" >2537</td>\n",
       "            </tr>\n",
       "            <tr>\n",
       "                        <th id=\"T_8b0173f8_d628_11ed_930b_448a5b582ad9level0_row1\" class=\"row_heading level0 row1\" >1</th>\n",
       "                        <td id=\"T_8b0173f8_d628_11ed_930b_448a5b582ad9row1_col0\" class=\"data row1 col0\" >247</td>\n",
       "                        <td id=\"T_8b0173f8_d628_11ed_930b_448a5b582ad9row1_col1\" class=\"data row1 col1\" >2513</td>\n",
       "            </tr>\n",
       "            <tr>\n",
       "                        <th id=\"T_8b0173f8_d628_11ed_930b_448a5b582ad9level0_row2\" class=\"row_heading level0 row2\" >2</th>\n",
       "                        <td id=\"T_8b0173f8_d628_11ed_930b_448a5b582ad9row2_col0\" class=\"data row2 col0\" >246</td>\n",
       "                        <td id=\"T_8b0173f8_d628_11ed_930b_448a5b582ad9row2_col1\" class=\"data row2 col1\" >2484</td>\n",
       "            </tr>\n",
       "    </tbody></table>"
      ],
      "text/plain": [
       "<pandas.io.formats.style.Styler at 0x1892efd0>"
      ]
     },
     "execution_count": 46,
     "metadata": {},
     "output_type": "execute_result"
    }
   ],
   "source": [
    "# Из шага 3.6 выше выведем группы и количество пользователей в каждой группе:\n",
    "user_sh_new.style.highlight_max(color='yellowgreen', subset=['user_qty']).highlight_min(color='coral', subset=['user_qty'])"
   ]
  },
  {
   "cell_type": "markdown",
   "metadata": {},
   "source": [
    "В контрольных группах A1 и А2 (246 и 247) —  2484 и 2513 пользователей соответственно. В экспериментальной В (248) группе — больше всего пользователей 2537."
   ]
  },
  {
   "cell_type": "markdown",
   "metadata": {},
   "source": [
    "Для удобства дальнешйих расчетов, введем новые переменные для размеров групп:"
   ]
  },
  {
   "cell_type": "code",
   "execution_count": 47,
   "metadata": {},
   "outputs": [],
   "source": [
    "all_users_246 = user_sh_new.loc[2,'user_qty']\n",
    "all_users_247 = user_sh_new.loc[1,'user_qty']\n",
    "all_users_248 = user_sh_new.loc[0,'user_qty']\n",
    "all_users_246_247 = user_sh_new.loc[1,'user_qty']+user_sh_new.loc[2,'user_qty']\n"
   ]
  },
  {
   "cell_type": "code",
   "execution_count": 48,
   "metadata": {
    "scrolled": true
   },
   "outputs": [
    {
     "data": {
      "text/html": [
       "<div>\n",
       "<style scoped>\n",
       "    .dataframe tbody tr th:only-of-type {\n",
       "        vertical-align: middle;\n",
       "    }\n",
       "\n",
       "    .dataframe tbody tr th {\n",
       "        vertical-align: top;\n",
       "    }\n",
       "\n",
       "    .dataframe thead th {\n",
       "        text-align: right;\n",
       "    }\n",
       "</style>\n",
       "<table border=\"1\" class=\"dataframe\">\n",
       "  <thead>\n",
       "    <tr style=\"text-align: right;\">\n",
       "      <th></th>\n",
       "      <th>event_name</th>\n",
       "      <th>246</th>\n",
       "      <th>247</th>\n",
       "      <th>248</th>\n",
       "      <th>all_users_246</th>\n",
       "      <th>all_users_247</th>\n",
       "      <th>all_users_248</th>\n",
       "      <th>all_users_246_247</th>\n",
       "    </tr>\n",
       "  </thead>\n",
       "  <tbody>\n",
       "    <tr>\n",
       "      <th>0</th>\n",
       "      <td>MainScreenAppear</td>\n",
       "      <td>2450</td>\n",
       "      <td>2476</td>\n",
       "      <td>2493</td>\n",
       "      <td>2484</td>\n",
       "      <td>2513</td>\n",
       "      <td>2537</td>\n",
       "      <td>4997</td>\n",
       "    </tr>\n",
       "    <tr>\n",
       "      <th>1</th>\n",
       "      <td>OffersScreenAppear</td>\n",
       "      <td>1542</td>\n",
       "      <td>1520</td>\n",
       "      <td>1531</td>\n",
       "      <td>2484</td>\n",
       "      <td>2513</td>\n",
       "      <td>2537</td>\n",
       "      <td>4997</td>\n",
       "    </tr>\n",
       "    <tr>\n",
       "      <th>2</th>\n",
       "      <td>CartScreenAppear</td>\n",
       "      <td>1266</td>\n",
       "      <td>1238</td>\n",
       "      <td>1230</td>\n",
       "      <td>2484</td>\n",
       "      <td>2513</td>\n",
       "      <td>2537</td>\n",
       "      <td>4997</td>\n",
       "    </tr>\n",
       "    <tr>\n",
       "      <th>3</th>\n",
       "      <td>PaymentScreenSuccessful</td>\n",
       "      <td>1200</td>\n",
       "      <td>1158</td>\n",
       "      <td>1181</td>\n",
       "      <td>2484</td>\n",
       "      <td>2513</td>\n",
       "      <td>2537</td>\n",
       "      <td>4997</td>\n",
       "    </tr>\n",
       "    <tr>\n",
       "      <th>4</th>\n",
       "      <td>Tutorial</td>\n",
       "      <td>278</td>\n",
       "      <td>283</td>\n",
       "      <td>279</td>\n",
       "      <td>2484</td>\n",
       "      <td>2513</td>\n",
       "      <td>2537</td>\n",
       "      <td>4997</td>\n",
       "    </tr>\n",
       "  </tbody>\n",
       "</table>\n",
       "</div>"
      ],
      "text/plain": [
       "                event_name   246   247   248  all_users_246  all_users_247  \\\n",
       "0         MainScreenAppear  2450  2476  2493           2484           2513   \n",
       "1       OffersScreenAppear  1542  1520  1531           2484           2513   \n",
       "2         CartScreenAppear  1266  1238  1230           2484           2513   \n",
       "3  PaymentScreenSuccessful  1200  1158  1181           2484           2513   \n",
       "4                 Tutorial   278   283   279           2484           2513   \n",
       "\n",
       "   all_users_248  all_users_246_247  \n",
       "0           2537               4997  \n",
       "1           2537               4997  \n",
       "2           2537               4997  \n",
       "3           2537               4997  \n",
       "4           2537               4997  "
      ]
     },
     "execution_count": 48,
     "metadata": {},
     "output_type": "execute_result"
    }
   ],
   "source": [
    "# Посмотрим на распределение пользователей в группах по событиям:\n",
    "exp_users = data_new.pivot_table(index='event_name', columns ='exp_id',values = 'user_id', aggfunc = 'nunique')\n",
    "exp_users.columns=['246','247','248']\n",
    "exp_users = exp_users.sort_values('246', ascending=False).reset_index()\n",
    "exp_users['all_users_246'] = all_users_246\n",
    "exp_users['all_users_247'] = all_users_247\n",
    "exp_users['all_users_248'] = all_users_248\n",
    "exp_users['all_users_246_247'] = all_users_246_247\n",
    "exp_users\n"
   ]
  },
  {
   "cell_type": "markdown",
   "metadata": {},
   "source": [
    "Посчитаем доли пользователей, переходящих на следующий шаг воронки для каждой группы:"
   ]
  },
  {
   "cell_type": "code",
   "execution_count": 49,
   "metadata": {
    "scrolled": true
   },
   "outputs": [
    {
     "data": {
      "text/html": [
       "<div>\n",
       "<style scoped>\n",
       "    .dataframe tbody tr th:only-of-type {\n",
       "        vertical-align: middle;\n",
       "    }\n",
       "\n",
       "    .dataframe tbody tr th {\n",
       "        vertical-align: top;\n",
       "    }\n",
       "\n",
       "    .dataframe thead th {\n",
       "        text-align: right;\n",
       "    }\n",
       "</style>\n",
       "<table border=\"1\" class=\"dataframe\">\n",
       "  <thead>\n",
       "    <tr style=\"text-align: right;\">\n",
       "      <th></th>\n",
       "      <th>event_name</th>\n",
       "      <th>246</th>\n",
       "      <th>247</th>\n",
       "      <th>248</th>\n",
       "      <th>all_users_246</th>\n",
       "      <th>all_users_247</th>\n",
       "      <th>all_users_248</th>\n",
       "      <th>all_users_246_247</th>\n",
       "      <th>246_%</th>\n",
       "      <th>247_%</th>\n",
       "      <th>248_%</th>\n",
       "      <th>246_247</th>\n",
       "    </tr>\n",
       "  </thead>\n",
       "  <tbody>\n",
       "    <tr>\n",
       "      <th>0</th>\n",
       "      <td>MainScreenAppear</td>\n",
       "      <td>2450</td>\n",
       "      <td>2476</td>\n",
       "      <td>2493</td>\n",
       "      <td>2484</td>\n",
       "      <td>2513</td>\n",
       "      <td>2537</td>\n",
       "      <td>4997</td>\n",
       "      <td>98.6</td>\n",
       "      <td>98.5</td>\n",
       "      <td>98.3</td>\n",
       "      <td>4926</td>\n",
       "    </tr>\n",
       "    <tr>\n",
       "      <th>1</th>\n",
       "      <td>OffersScreenAppear</td>\n",
       "      <td>1542</td>\n",
       "      <td>1520</td>\n",
       "      <td>1531</td>\n",
       "      <td>2484</td>\n",
       "      <td>2513</td>\n",
       "      <td>2537</td>\n",
       "      <td>4997</td>\n",
       "      <td>62.1</td>\n",
       "      <td>60.5</td>\n",
       "      <td>60.3</td>\n",
       "      <td>3062</td>\n",
       "    </tr>\n",
       "    <tr>\n",
       "      <th>2</th>\n",
       "      <td>CartScreenAppear</td>\n",
       "      <td>1266</td>\n",
       "      <td>1238</td>\n",
       "      <td>1230</td>\n",
       "      <td>2484</td>\n",
       "      <td>2513</td>\n",
       "      <td>2537</td>\n",
       "      <td>4997</td>\n",
       "      <td>51.0</td>\n",
       "      <td>49.3</td>\n",
       "      <td>48.5</td>\n",
       "      <td>2504</td>\n",
       "    </tr>\n",
       "    <tr>\n",
       "      <th>3</th>\n",
       "      <td>PaymentScreenSuccessful</td>\n",
       "      <td>1200</td>\n",
       "      <td>1158</td>\n",
       "      <td>1181</td>\n",
       "      <td>2484</td>\n",
       "      <td>2513</td>\n",
       "      <td>2537</td>\n",
       "      <td>4997</td>\n",
       "      <td>48.3</td>\n",
       "      <td>46.1</td>\n",
       "      <td>46.6</td>\n",
       "      <td>2358</td>\n",
       "    </tr>\n",
       "    <tr>\n",
       "      <th>4</th>\n",
       "      <td>Tutorial</td>\n",
       "      <td>278</td>\n",
       "      <td>283</td>\n",
       "      <td>279</td>\n",
       "      <td>2484</td>\n",
       "      <td>2513</td>\n",
       "      <td>2537</td>\n",
       "      <td>4997</td>\n",
       "      <td>11.2</td>\n",
       "      <td>11.3</td>\n",
       "      <td>11.0</td>\n",
       "      <td>561</td>\n",
       "    </tr>\n",
       "  </tbody>\n",
       "</table>\n",
       "</div>"
      ],
      "text/plain": [
       "                event_name   246   247   248  all_users_246  all_users_247  \\\n",
       "0         MainScreenAppear  2450  2476  2493           2484           2513   \n",
       "1       OffersScreenAppear  1542  1520  1531           2484           2513   \n",
       "2         CartScreenAppear  1266  1238  1230           2484           2513   \n",
       "3  PaymentScreenSuccessful  1200  1158  1181           2484           2513   \n",
       "4                 Tutorial   278   283   279           2484           2513   \n",
       "\n",
       "   all_users_248  all_users_246_247  246_%  247_%  248_%  246_247  \n",
       "0           2537               4997   98.6   98.5   98.3     4926  \n",
       "1           2537               4997   62.1   60.5   60.3     3062  \n",
       "2           2537               4997   51.0   49.3   48.5     2504  \n",
       "3           2537               4997   48.3   46.1   46.6     2358  \n",
       "4           2537               4997   11.2   11.3   11.0      561  "
      ]
     },
     "execution_count": 49,
     "metadata": {},
     "output_type": "execute_result"
    }
   ],
   "source": [
    "exp_users['246_%'] = round(exp_users['246']/all_users_246,3)*100\n",
    "exp_users['247_%'] = round(exp_users['247']/all_users_247,3)*100\n",
    "exp_users['248_%'] = round(exp_users['248']/all_users_248,3)*100\n",
    "exp_users['246_247'] = exp_users['246']+exp_users['247'] # количество пользователей в объединенных группах А1 и А2\n",
    "exp_users"
   ]
  },
  {
   "cell_type": "markdown",
   "metadata": {},
   "source": [
    "### Есть 2 контрольные группы для А/А-эксперимента, чтобы проверить корректность всех механизмов и расчётов. Проверим, находят ли статистические критерии разницу между выборками 246 и 247."
   ]
  },
  {
   "cell_type": "markdown",
   "metadata": {},
   "source": [
    "Сформулируем нулевую гипотезу: между двумя контрольными группами А1 и А2 нет статистически значимого различия.\n",
    "Альтернативная гипотеза состоит в том, что между двумя контрольными группами А1 и А2 статистически значимое различие - есть. \n",
    "Проверять гипотезу будем методом А/В теста - это один из самых популярных и точных способов проверки гипотезы. \n",
    "\n",
    "Уровень статистической значимости α установим равным 0,05. Уровень статистической значимости — это вероятность случайно получить в реальном наблюдении значение, далёкое от предполагаемого в нулевой гипотезе."
   ]
  },
  {
   "cell_type": "code",
   "execution_count": 50,
   "metadata": {},
   "outputs": [
    {
     "data": {
      "text/plain": [
       "'p-значение: '"
      ]
     },
     "metadata": {},
     "output_type": "display_data"
    },
    {
     "data": {
      "text/plain": [
       "0.7570597232046099"
      ]
     },
     "metadata": {},
     "output_type": "display_data"
    },
    {
     "data": {
      "text/plain": [
       "'Не отвергаем нулевую гипотезу, нет оснований считать доли групп разными'"
      ]
     },
     "metadata": {},
     "output_type": "display_data"
    },
    {
     "data": {
      "text/plain": [
       "'p-значение: '"
      ]
     },
     "metadata": {},
     "output_type": "display_data"
    },
    {
     "data": {
      "text/plain": [
       "0.2480954578522181"
      ]
     },
     "metadata": {},
     "output_type": "display_data"
    },
    {
     "data": {
      "text/plain": [
       "'Не отвергаем нулевую гипотезу, нет оснований считать доли групп разными'"
      ]
     },
     "metadata": {},
     "output_type": "display_data"
    },
    {
     "data": {
      "text/plain": [
       "'p-значение: '"
      ]
     },
     "metadata": {},
     "output_type": "display_data"
    },
    {
     "data": {
      "text/plain": [
       "0.22883372237997213"
      ]
     },
     "metadata": {},
     "output_type": "display_data"
    },
    {
     "data": {
      "text/plain": [
       "'Не отвергаем нулевую гипотезу, нет оснований считать доли групп разными'"
      ]
     },
     "metadata": {},
     "output_type": "display_data"
    },
    {
     "data": {
      "text/plain": [
       "'p-значение: '"
      ]
     },
     "metadata": {},
     "output_type": "display_data"
    },
    {
     "data": {
      "text/plain": [
       "0.11456679313141849"
      ]
     },
     "metadata": {},
     "output_type": "display_data"
    },
    {
     "data": {
      "text/plain": [
       "'Не отвергаем нулевую гипотезу, нет оснований считать доли групп разными'"
      ]
     },
     "metadata": {},
     "output_type": "display_data"
    },
    {
     "data": {
      "text/plain": [
       "'p-значение: '"
      ]
     },
     "metadata": {},
     "output_type": "display_data"
    },
    {
     "data": {
      "text/plain": [
       "0.9376996189257114"
      ]
     },
     "metadata": {},
     "output_type": "display_data"
    },
    {
     "data": {
      "text/plain": [
       "'Не отвергаем нулевую гипотезу, нет оснований считать доли групп разными'"
      ]
     },
     "metadata": {},
     "output_type": "display_data"
    }
   ],
   "source": [
    "def stat_test(successes, trying):\n",
    "    # пропорция успехов в первой группе:\n",
    "    p1 = successes[0]/trying[0]\n",
    "# пропорция успехов во второй группе:\n",
    "    p2 = successes[1]/trying[1]\n",
    "# пропорция успехов в комбинированном датасете:\n",
    "    p_combined = (successes[0] + successes[1]) / (trying[0] + trying[1])\n",
    "# разница пропорций в датасетах\n",
    "    difference = p1 - p2\n",
    "    z_value = difference / mth.sqrt(p_combined * (1 - p_combined) * (1/trying[0] + 1/trying[1]))\n",
    "\n",
    "# задаем стандартное нормальное распределение (среднее 0, ст.отклонение 1)\n",
    "    distr = st.norm(0, 1)\n",
    "    p_value = (1 - distr.cdf(abs(z_value))) * 2\n",
    "    display ('p-значение: ', p_value)\n",
    "    if p_value < alpha:\n",
    "        display('Отвергаем нулевую гипотезу: между долями групп есть статистически значимая разница')\n",
    "    else:\n",
    "        display(\n",
    "            'Не отвергаем нулевую гипотезу, нет оснований считать доли групп разными')\n",
    "        \n",
    "alpha = 0.05\n",
    "for idx, event in enumerate(exp_users['event_name']):\n",
    "    successes = np.array([exp_users['246'][idx], exp_users['247'][idx]])\n",
    "    trying = np.array([exp_users['all_users_246'][idx], exp_users['all_users_247'][idx]])\n",
    "    stat_test(successes, trying)\n",
    "\n"
   ]
  },
  {
   "cell_type": "markdown",
   "metadata": {},
   "source": [
    "Cтатистические критерии не находят разницу между выборками 246 и 247, группы собраны корректно."
   ]
  },
  {
   "cell_type": "markdown",
   "metadata": {},
   "source": [
    "### Выберем самое популярное событие. Посчитаем число пользователей, совершивших это событие в каждой из контрольных групп. Посчитаем долю пользователей, совершивших это событие. Проверим, будет ли отличие между группами статистически достоверным. Проделаем то же самое для всех других событий. Можно ли сказать, что разбиение на группы работает корректно?"
   ]
  },
  {
   "cell_type": "markdown",
   "metadata": {},
   "source": [
    "Очевидно, что самое популярное событие это - \"MainScreenAppear\"."
   ]
  },
  {
   "cell_type": "markdown",
   "metadata": {},
   "source": [
    "Число пользователей и доля пользователей, совершивших это событие в каждой из групп:"
   ]
  },
  {
   "cell_type": "code",
   "execution_count": 51,
   "metadata": {},
   "outputs": [
    {
     "data": {
      "text/html": [
       "<div>\n",
       "<style scoped>\n",
       "    .dataframe tbody tr th:only-of-type {\n",
       "        vertical-align: middle;\n",
       "    }\n",
       "\n",
       "    .dataframe tbody tr th {\n",
       "        vertical-align: top;\n",
       "    }\n",
       "\n",
       "    .dataframe thead th {\n",
       "        text-align: right;\n",
       "    }\n",
       "</style>\n",
       "<table border=\"1\" class=\"dataframe\">\n",
       "  <thead>\n",
       "    <tr style=\"text-align: right;\">\n",
       "      <th></th>\n",
       "      <th>event_name</th>\n",
       "      <th>246</th>\n",
       "      <th>247</th>\n",
       "      <th>248</th>\n",
       "      <th>all_users_246</th>\n",
       "      <th>all_users_247</th>\n",
       "      <th>all_users_248</th>\n",
       "      <th>all_users_246_247</th>\n",
       "      <th>246_%</th>\n",
       "      <th>247_%</th>\n",
       "      <th>248_%</th>\n",
       "      <th>246_247</th>\n",
       "    </tr>\n",
       "  </thead>\n",
       "  <tbody>\n",
       "    <tr>\n",
       "      <th>0</th>\n",
       "      <td>MainScreenAppear</td>\n",
       "      <td>2450</td>\n",
       "      <td>2476</td>\n",
       "      <td>2493</td>\n",
       "      <td>2484</td>\n",
       "      <td>2513</td>\n",
       "      <td>2537</td>\n",
       "      <td>4997</td>\n",
       "      <td>98.6</td>\n",
       "      <td>98.5</td>\n",
       "      <td>98.3</td>\n",
       "      <td>4926</td>\n",
       "    </tr>\n",
       "  </tbody>\n",
       "</table>\n",
       "</div>"
      ],
      "text/plain": [
       "         event_name   246   247   248  all_users_246  all_users_247  \\\n",
       "0  MainScreenAppear  2450  2476  2493           2484           2513   \n",
       "\n",
       "   all_users_248  all_users_246_247  246_%  247_%  248_%  246_247  \n",
       "0           2537               4997   98.6   98.5   98.3     4926  "
      ]
     },
     "execution_count": 51,
     "metadata": {},
     "output_type": "execute_result"
    }
   ],
   "source": [
    "exp_users.query('event_name==\"MainScreenAppear\"')"
   ]
  },
  {
   "cell_type": "markdown",
   "metadata": {},
   "source": [
    "Проверим, будет ли различие между группами статистически достоверным. Ранее, мы убедились, что статистически значимого различия между группами А1 и А2 нет. Проверим группы А1 и В, А2 и В, и А1+А2 и В: "
   ]
  },
  {
   "cell_type": "markdown",
   "metadata": {},
   "source": [
    "Сформулируем нулевую гипотезу: между двумя контрольными группами А1 и А2 и эксперементальной группой В нет статистически значимого различия. А также нет статистически значимого различия между суммарной группой А1+А2 и эксперементальной группой В.\n",
    "\n",
    "Сформулируем альтернативнную гипотезу: между двумя контрольными группами А1 и А2 и эксперементальной группой В статистически значимое различие есть. А также есть статистически значимое различие между суммарной группой А1+А2 и эксперементальной группой В. "
   ]
  },
  {
   "cell_type": "markdown",
   "metadata": {},
   "source": [
    "#### Сравнение групп А1 и В:"
   ]
  },
  {
   "cell_type": "code",
   "execution_count": 52,
   "metadata": {},
   "outputs": [
    {
     "data": {
      "text/plain": [
       "'p-значение: '"
      ]
     },
     "metadata": {},
     "output_type": "display_data"
    },
    {
     "data": {
      "text/plain": [
       "0.2949721933554552"
      ]
     },
     "metadata": {},
     "output_type": "display_data"
    },
    {
     "data": {
      "text/plain": [
       "'Не отвергаем нулевую гипотезу, нет оснований считать доли групп разными'"
      ]
     },
     "metadata": {},
     "output_type": "display_data"
    },
    {
     "data": {
      "text/plain": [
       "'p-значение: '"
      ]
     },
     "metadata": {},
     "output_type": "display_data"
    },
    {
     "data": {
      "text/plain": [
       "0.20836205402738917"
      ]
     },
     "metadata": {},
     "output_type": "display_data"
    },
    {
     "data": {
      "text/plain": [
       "'Не отвергаем нулевую гипотезу, нет оснований считать доли групп разными'"
      ]
     },
     "metadata": {},
     "output_type": "display_data"
    },
    {
     "data": {
      "text/plain": [
       "'p-значение: '"
      ]
     },
     "metadata": {},
     "output_type": "display_data"
    },
    {
     "data": {
      "text/plain": [
       "0.07842923237520116"
      ]
     },
     "metadata": {},
     "output_type": "display_data"
    },
    {
     "data": {
      "text/plain": [
       "'Не отвергаем нулевую гипотезу, нет оснований считать доли групп разными'"
      ]
     },
     "metadata": {},
     "output_type": "display_data"
    },
    {
     "data": {
      "text/plain": [
       "'p-значение: '"
      ]
     },
     "metadata": {},
     "output_type": "display_data"
    },
    {
     "data": {
      "text/plain": [
       "0.2122553275697796"
      ]
     },
     "metadata": {},
     "output_type": "display_data"
    },
    {
     "data": {
      "text/plain": [
       "'Не отвергаем нулевую гипотезу, нет оснований считать доли групп разными'"
      ]
     },
     "metadata": {},
     "output_type": "display_data"
    },
    {
     "data": {
      "text/plain": [
       "'p-значение: '"
      ]
     },
     "metadata": {},
     "output_type": "display_data"
    },
    {
     "data": {
      "text/plain": [
       "0.8264294010087645"
      ]
     },
     "metadata": {},
     "output_type": "display_data"
    },
    {
     "data": {
      "text/plain": [
       "'Не отвергаем нулевую гипотезу, нет оснований считать доли групп разными'"
      ]
     },
     "metadata": {},
     "output_type": "display_data"
    }
   ],
   "source": [
    "# используем написанную ранее функцию:\n",
    "\n",
    "for idx, event in enumerate(exp_users['event_name']):\n",
    "    successes = np.array([exp_users['246'][idx], exp_users['248'][idx]])\n",
    "    trying = np.array([exp_users['all_users_246'][idx], exp_users['all_users_248'][idx]])\n",
    "    stat_test(successes, trying)"
   ]
  },
  {
   "cell_type": "markdown",
   "metadata": {},
   "source": [
    "Между группами А1 и В - нет статитстически значимой разницы."
   ]
  },
  {
   "cell_type": "markdown",
   "metadata": {},
   "source": [
    "#### Сравнение групп А2 и В:"
   ]
  },
  {
   "cell_type": "code",
   "execution_count": 53,
   "metadata": {},
   "outputs": [
    {
     "data": {
      "text/plain": [
       "'p-значение: '"
      ]
     },
     "metadata": {},
     "output_type": "display_data"
    },
    {
     "data": {
      "text/plain": [
       "0.4587053616621515"
      ]
     },
     "metadata": {},
     "output_type": "display_data"
    },
    {
     "data": {
      "text/plain": [
       "'Не отвергаем нулевую гипотезу, нет оснований считать доли групп разными'"
      ]
     },
     "metadata": {},
     "output_type": "display_data"
    },
    {
     "data": {
      "text/plain": [
       "'p-значение: '"
      ]
     },
     "metadata": {},
     "output_type": "display_data"
    },
    {
     "data": {
      "text/plain": [
       "0.9197817830592261"
      ]
     },
     "metadata": {},
     "output_type": "display_data"
    },
    {
     "data": {
      "text/plain": [
       "'Не отвергаем нулевую гипотезу, нет оснований считать доли групп разными'"
      ]
     },
     "metadata": {},
     "output_type": "display_data"
    },
    {
     "data": {
      "text/plain": [
       "'p-значение: '"
      ]
     },
     "metadata": {},
     "output_type": "display_data"
    },
    {
     "data": {
      "text/plain": [
       "0.5786197879539783"
      ]
     },
     "metadata": {},
     "output_type": "display_data"
    },
    {
     "data": {
      "text/plain": [
       "'Не отвергаем нулевую гипотезу, нет оснований считать доли групп разными'"
      ]
     },
     "metadata": {},
     "output_type": "display_data"
    },
    {
     "data": {
      "text/plain": [
       "'p-значение: '"
      ]
     },
     "metadata": {},
     "output_type": "display_data"
    },
    {
     "data": {
      "text/plain": [
       "0.7373415053803964"
      ]
     },
     "metadata": {},
     "output_type": "display_data"
    },
    {
     "data": {
      "text/plain": [
       "'Не отвергаем нулевую гипотезу, нет оснований считать доли групп разными'"
      ]
     },
     "metadata": {},
     "output_type": "display_data"
    },
    {
     "data": {
      "text/plain": [
       "'p-значение: '"
      ]
     },
     "metadata": {},
     "output_type": "display_data"
    },
    {
     "data": {
      "text/plain": [
       "0.765323922474501"
      ]
     },
     "metadata": {},
     "output_type": "display_data"
    },
    {
     "data": {
      "text/plain": [
       "'Не отвергаем нулевую гипотезу, нет оснований считать доли групп разными'"
      ]
     },
     "metadata": {},
     "output_type": "display_data"
    }
   ],
   "source": [
    "# используем написанную ранее функцию:\n",
    "\n",
    "for idx, event in enumerate(exp_users['event_name']):\n",
    "    successes = np.array([exp_users['247'][idx], exp_users['248'][idx]])\n",
    "    trying = np.array([exp_users['all_users_247'][idx], exp_users['all_users_248'][idx]])\n",
    "    stat_test(successes, trying)"
   ]
  },
  {
   "cell_type": "markdown",
   "metadata": {},
   "source": [
    "Между группами А2 и В - нет статитстически значимой разницы."
   ]
  },
  {
   "cell_type": "markdown",
   "metadata": {},
   "source": [
    "#### Сравнение групп А1+А2 и В:"
   ]
  },
  {
   "cell_type": "code",
   "execution_count": 54,
   "metadata": {},
   "outputs": [
    {
     "data": {
      "text/plain": [
       "'p-значение: '"
      ]
     },
     "metadata": {},
     "output_type": "display_data"
    },
    {
     "data": {
      "text/plain": [
       "0.29424526837179577"
      ]
     },
     "metadata": {},
     "output_type": "display_data"
    },
    {
     "data": {
      "text/plain": [
       "'Не отвергаем нулевую гипотезу, нет оснований считать доли групп разными'"
      ]
     },
     "metadata": {},
     "output_type": "display_data"
    },
    {
     "data": {
      "text/plain": [
       "'p-значение: '"
      ]
     },
     "metadata": {},
     "output_type": "display_data"
    },
    {
     "data": {
      "text/plain": [
       "0.43425549655188256"
      ]
     },
     "metadata": {},
     "output_type": "display_data"
    },
    {
     "data": {
      "text/plain": [
       "'Не отвергаем нулевую гипотезу, нет оснований считать доли групп разными'"
      ]
     },
     "metadata": {},
     "output_type": "display_data"
    },
    {
     "data": {
      "text/plain": [
       "'p-значение: '"
      ]
     },
     "metadata": {},
     "output_type": "display_data"
    },
    {
     "data": {
      "text/plain": [
       "0.18175875284404386"
      ]
     },
     "metadata": {},
     "output_type": "display_data"
    },
    {
     "data": {
      "text/plain": [
       "'Не отвергаем нулевую гипотезу, нет оснований считать доли групп разными'"
      ]
     },
     "metadata": {},
     "output_type": "display_data"
    },
    {
     "data": {
      "text/plain": [
       "'p-значение: '"
      ]
     },
     "metadata": {},
     "output_type": "display_data"
    },
    {
     "data": {
      "text/plain": [
       "0.6004294282308704"
      ]
     },
     "metadata": {},
     "output_type": "display_data"
    },
    {
     "data": {
      "text/plain": [
       "'Не отвергаем нулевую гипотезу, нет оснований считать доли групп разными'"
      ]
     },
     "metadata": {},
     "output_type": "display_data"
    },
    {
     "data": {
      "text/plain": [
       "'p-значение: '"
      ]
     },
     "metadata": {},
     "output_type": "display_data"
    },
    {
     "data": {
      "text/plain": [
       "0.764862472531507"
      ]
     },
     "metadata": {},
     "output_type": "display_data"
    },
    {
     "data": {
      "text/plain": [
       "'Не отвергаем нулевую гипотезу, нет оснований считать доли групп разными'"
      ]
     },
     "metadata": {},
     "output_type": "display_data"
    }
   ],
   "source": [
    "# используем написанную ранее функцию:\n",
    "\n",
    "for idx, event in enumerate(exp_users['event_name']):\n",
    "    successes = np.array([exp_users['246_247'][idx], exp_users['248'][idx]])\n",
    "    trying = np.array([exp_users['all_users_246_247'][idx], exp_users['all_users_248'][idx]])\n",
    "    stat_test(successes, trying)"
   ]
  },
  {
   "cell_type": "markdown",
   "metadata": {},
   "source": [
    "Между группами A1 + А2 и В - нет статитстически значимой разницы."
   ]
  },
  {
   "cell_type": "markdown",
   "metadata": {},
   "source": [
    "### Выбранный уровень значимости при проверке статистических гипотез. Какой уровень значимости стоит применить? "
   ]
  },
  {
   "cell_type": "markdown",
   "metadata": {},
   "source": [
    "При расчете статистической значимости в различиях группы был принят alpha = 0.05 - критический уровень статистической значимости\n",
    "(если p-value оказывается меньше этого значения - гипотеза отвергается).\n"
   ]
  },
  {
   "cell_type": "markdown",
   "metadata": {},
   "source": [
    "Чтобы снизить вероятность ложнопозитивного результата (отвергнуте нулевые гипотезы из числа верных нулевых гипотез) при множественном тестировании гипотез, применяют разные методы корректировки уровня значимости. Воспользуемся методом  Шидака: "
   ]
  },
  {
   "cell_type": "markdown",
   "metadata": {},
   "source": [
    "Формула для расчета Уровня значимости в каждом из m сравнений:\n",
    "alpha1=alpha2=...=alpha_m=1-(1-alpha)^1/m"
   ]
  },
  {
   "cell_type": "markdown",
   "metadata": {},
   "source": [
    "С учетом того, что у нас 5 событий тестируются 4 раза, в нашем случае m=20. Тогда критический уровень статистической значимости согласно методу Шидака:"
   ]
  },
  {
   "cell_type": "code",
   "execution_count": 55,
   "metadata": {},
   "outputs": [
    {
     "data": {
      "text/plain": [
       "0.0025613787765302876"
      ]
     },
     "execution_count": 55,
     "metadata": {},
     "output_type": "execute_result"
    }
   ],
   "source": [
    "alpha_1 = 1-(1-alpha)**(1/20)\n",
    "alpha_1"
   ]
  },
  {
   "cell_type": "markdown",
   "metadata": {},
   "source": [
    "Применим полученное значение для alpha для сравнения выборок между группами 246 и 247."
   ]
  },
  {
   "cell_type": "code",
   "execution_count": 56,
   "metadata": {},
   "outputs": [
    {
     "data": {
      "text/plain": [
       "'p-значение: '"
      ]
     },
     "metadata": {},
     "output_type": "display_data"
    },
    {
     "data": {
      "text/plain": [
       "0.7570597232046099"
      ]
     },
     "metadata": {},
     "output_type": "display_data"
    },
    {
     "data": {
      "text/plain": [
       "'Не отвергаем нулевую гипотезу, нет оснований считать доли групп разными'"
      ]
     },
     "metadata": {},
     "output_type": "display_data"
    },
    {
     "data": {
      "text/plain": [
       "'p-значение: '"
      ]
     },
     "metadata": {},
     "output_type": "display_data"
    },
    {
     "data": {
      "text/plain": [
       "0.2480954578522181"
      ]
     },
     "metadata": {},
     "output_type": "display_data"
    },
    {
     "data": {
      "text/plain": [
       "'Не отвергаем нулевую гипотезу, нет оснований считать доли групп разными'"
      ]
     },
     "metadata": {},
     "output_type": "display_data"
    },
    {
     "data": {
      "text/plain": [
       "'p-значение: '"
      ]
     },
     "metadata": {},
     "output_type": "display_data"
    },
    {
     "data": {
      "text/plain": [
       "0.22883372237997213"
      ]
     },
     "metadata": {},
     "output_type": "display_data"
    },
    {
     "data": {
      "text/plain": [
       "'Не отвергаем нулевую гипотезу, нет оснований считать доли групп разными'"
      ]
     },
     "metadata": {},
     "output_type": "display_data"
    },
    {
     "data": {
      "text/plain": [
       "'p-значение: '"
      ]
     },
     "metadata": {},
     "output_type": "display_data"
    },
    {
     "data": {
      "text/plain": [
       "0.11456679313141849"
      ]
     },
     "metadata": {},
     "output_type": "display_data"
    },
    {
     "data": {
      "text/plain": [
       "'Не отвергаем нулевую гипотезу, нет оснований считать доли групп разными'"
      ]
     },
     "metadata": {},
     "output_type": "display_data"
    },
    {
     "data": {
      "text/plain": [
       "'p-значение: '"
      ]
     },
     "metadata": {},
     "output_type": "display_data"
    },
    {
     "data": {
      "text/plain": [
       "0.9376996189257114"
      ]
     },
     "metadata": {},
     "output_type": "display_data"
    },
    {
     "data": {
      "text/plain": [
       "'Не отвергаем нулевую гипотезу, нет оснований считать доли групп разными'"
      ]
     },
     "metadata": {},
     "output_type": "display_data"
    }
   ],
   "source": [
    "alpha = alpha_1\n",
    "for idx, event in enumerate(exp_users['event_name']):\n",
    "    successes = np.array([exp_users['246'][idx], exp_users['247'][idx]])\n",
    "    trying = np.array([exp_users['all_users_246'][idx], exp_users['all_users_247'][idx]])\n",
    "    stat_test(successes, trying)"
   ]
  },
  {
   "cell_type": "markdown",
   "metadata": {},
   "source": [
    "Результат сравнения не изменился, статистически значимых различий между группами нет."
   ]
  },
  {
   "cell_type": "markdown",
   "metadata": {},
   "source": [
    "Анализируя результаты сравнения других пар групп - видим, что величина p-value во всех расчетах в разы больше даже первоначального занчения alpha=0,05. Снижая порог статистической значимости мы не повлияем на исход сравнения. Результат будет по-прежнему положительным - Нулевая гипотеза не может быть отвергнута.  "
   ]
  },
  {
   "cell_type": "markdown",
   "metadata": {},
   "source": [
    "# Выводы:"
   ]
  },
  {
   "cell_type": "markdown",
   "metadata": {},
   "source": [
    "Целью работы было определение пользовательского поведения в приложении по покупке продуктов питания. В ходе исследования была изучена воронка продаж. Оказалось, что самым \"популярным\" шагом является появление главного экрана. Было выяснено, что от первого шага до покупки доходят всего 48% пользователей. Больше всего пользователей теряется на шаге с Предложением. При этом, из тех, кто добавил товары в карзину - почти 95% пользователей доходят до конца и производят оплату. Следует обратить внимание на шаг с Предложением и принять меры по снижению количества \"потерянных\" пользователей.\n",
    "\n",
    "Далее была проведена работа по исследованию результатов A/A/B-теста: дизайнеры компании решили поменять шрифты во всем приложении. По результам исследования оказалось, что этого делать не стоит. Большая работа разных специалистов никак не скажется на прибыли компании, так как по статистике результаты в экспеременальных и контрольной группах не различаются. Изменение шрифтов нецелесообразно."
   ]
  }
 ],
 "metadata": {
  "ExecuteTimeLog": [
   {
    "duration": 54,
    "start_time": "2022-10-25T18:05:19.233Z"
   },
   {
    "duration": 1322,
    "start_time": "2022-10-25T18:05:25.329Z"
   },
   {
    "duration": 800,
    "start_time": "2022-10-25T18:05:26.653Z"
   },
   {
    "duration": 97,
    "start_time": "2022-10-25T18:05:46.892Z"
   },
   {
    "duration": 322,
    "start_time": "2022-10-25T18:06:22.759Z"
   },
   {
    "duration": 308,
    "start_time": "2022-10-25T18:06:46.164Z"
   },
   {
    "duration": 50,
    "start_time": "2022-10-25T18:07:18.934Z"
   },
   {
    "duration": 167,
    "start_time": "2022-10-25T18:08:39.327Z"
   },
   {
    "duration": 164,
    "start_time": "2022-10-25T18:09:22.827Z"
   },
   {
    "duration": 163,
    "start_time": "2022-10-25T18:09:35.622Z"
   },
   {
    "duration": 21,
    "start_time": "2022-10-25T18:09:52.949Z"
   },
   {
    "duration": 14,
    "start_time": "2022-10-25T18:25:28.378Z"
   },
   {
    "duration": 15,
    "start_time": "2022-10-25T18:30:28.694Z"
   },
   {
    "duration": 14,
    "start_time": "2022-10-25T18:30:35.784Z"
   },
   {
    "duration": 1142,
    "start_time": "2022-10-25T18:32:36.112Z"
   },
   {
    "duration": 180,
    "start_time": "2022-10-25T18:32:37.256Z"
   },
   {
    "duration": 27,
    "start_time": "2022-10-25T18:32:37.437Z"
   },
   {
    "duration": 13,
    "start_time": "2022-10-25T18:32:37.465Z"
   },
   {
    "duration": 17,
    "start_time": "2022-10-25T18:34:08.517Z"
   },
   {
    "duration": 14,
    "start_time": "2022-10-25T18:34:42.466Z"
   },
   {
    "duration": 72,
    "start_time": "2022-10-25T18:36:00.974Z"
   },
   {
    "duration": 15,
    "start_time": "2022-10-25T18:38:37.401Z"
   },
   {
    "duration": 93,
    "start_time": "2022-10-25T18:40:51.645Z"
   },
   {
    "duration": 133,
    "start_time": "2022-10-25T18:41:03.196Z"
   },
   {
    "duration": 35,
    "start_time": "2022-10-25T18:45:46.242Z"
   },
   {
    "duration": 9,
    "start_time": "2022-10-25T18:45:54.734Z"
   },
   {
    "duration": 12,
    "start_time": "2022-10-25T18:46:29.512Z"
   },
   {
    "duration": 9,
    "start_time": "2022-10-25T18:46:31.233Z"
   },
   {
    "duration": 11,
    "start_time": "2022-10-25T18:47:23.261Z"
   },
   {
    "duration": 17,
    "start_time": "2022-10-25T18:47:29.220Z"
   },
   {
    "duration": 1173,
    "start_time": "2022-10-25T18:47:36.118Z"
   },
   {
    "duration": 193,
    "start_time": "2022-10-25T18:47:37.294Z"
   },
   {
    "duration": 18,
    "start_time": "2022-10-25T18:47:37.489Z"
   },
   {
    "duration": 12,
    "start_time": "2022-10-25T18:47:37.509Z"
   },
   {
    "duration": 37,
    "start_time": "2022-10-25T18:47:37.523Z"
   },
   {
    "duration": 70,
    "start_time": "2022-10-25T18:47:37.561Z"
   },
   {
    "duration": 156,
    "start_time": "2022-10-25T18:47:37.633Z"
   },
   {
    "duration": 814,
    "start_time": "2022-10-25T18:47:37.791Z"
   },
   {
    "duration": 0,
    "start_time": "2022-10-25T18:47:38.607Z"
   },
   {
    "duration": 8,
    "start_time": "2022-10-25T18:47:44.718Z"
   },
   {
    "duration": 10,
    "start_time": "2022-10-25T18:47:46.294Z"
   },
   {
    "duration": 8,
    "start_time": "2022-10-25T18:48:04.239Z"
   },
   {
    "duration": 10,
    "start_time": "2022-10-25T18:48:05.120Z"
   },
   {
    "duration": 13,
    "start_time": "2022-10-25T19:12:59.256Z"
   },
   {
    "duration": 10,
    "start_time": "2022-10-25T19:13:00.043Z"
   },
   {
    "duration": 1030,
    "start_time": "2022-10-25T19:13:12.785Z"
   },
   {
    "duration": 176,
    "start_time": "2022-10-25T19:13:13.817Z"
   },
   {
    "duration": 20,
    "start_time": "2022-10-25T19:13:13.995Z"
   },
   {
    "duration": 12,
    "start_time": "2022-10-25T19:13:14.018Z"
   },
   {
    "duration": 14,
    "start_time": "2022-10-25T19:13:14.053Z"
   },
   {
    "duration": 69,
    "start_time": "2022-10-25T19:13:14.069Z"
   },
   {
    "duration": 151,
    "start_time": "2022-10-25T19:13:14.154Z"
   },
   {
    "duration": 9,
    "start_time": "2022-10-25T19:13:14.306Z"
   },
   {
    "duration": 15,
    "start_time": "2022-10-25T19:13:14.316Z"
   },
   {
    "duration": 780,
    "start_time": "2022-10-25T19:13:14.333Z"
   },
   {
    "duration": 4,
    "start_time": "2022-10-25T19:14:24.354Z"
   },
   {
    "duration": 94,
    "start_time": "2022-10-25T19:14:41.570Z"
   },
   {
    "duration": 10,
    "start_time": "2022-10-25T19:14:50.856Z"
   },
   {
    "duration": 4,
    "start_time": "2022-10-25T19:16:02.186Z"
   },
   {
    "duration": 76,
    "start_time": "2022-10-25T19:16:24.060Z"
   },
   {
    "duration": 79,
    "start_time": "2022-10-25T19:16:33.158Z"
   },
   {
    "duration": 22,
    "start_time": "2022-10-25T19:20:00.267Z"
   },
   {
    "duration": 30,
    "start_time": "2022-10-25T19:20:38.603Z"
   },
   {
    "duration": 18,
    "start_time": "2022-10-25T19:20:45.335Z"
   },
   {
    "duration": 89,
    "start_time": "2022-10-25T19:25:36.021Z"
   },
   {
    "duration": 101,
    "start_time": "2022-10-25T19:29:34.238Z"
   },
   {
    "duration": 1111,
    "start_time": "2022-10-25T19:32:06.904Z"
   },
   {
    "duration": 181,
    "start_time": "2022-10-25T19:32:08.018Z"
   },
   {
    "duration": 21,
    "start_time": "2022-10-25T19:32:08.201Z"
   },
   {
    "duration": 32,
    "start_time": "2022-10-25T19:32:08.224Z"
   },
   {
    "duration": 14,
    "start_time": "2022-10-25T19:32:08.258Z"
   },
   {
    "duration": 85,
    "start_time": "2022-10-25T19:32:08.274Z"
   },
   {
    "duration": 156,
    "start_time": "2022-10-25T19:32:08.361Z"
   },
   {
    "duration": 10,
    "start_time": "2022-10-25T19:32:08.519Z"
   },
   {
    "duration": 24,
    "start_time": "2022-10-25T19:32:08.531Z"
   },
   {
    "duration": 21,
    "start_time": "2022-10-25T19:32:08.557Z"
   },
   {
    "duration": 107,
    "start_time": "2022-10-25T19:32:08.580Z"
   },
   {
    "duration": 19,
    "start_time": "2022-10-25T19:32:08.689Z"
   },
   {
    "duration": 69,
    "start_time": "2022-10-25T19:32:08.710Z"
   },
   {
    "duration": 35,
    "start_time": "2022-10-25T19:33:44.157Z"
   },
   {
    "duration": 73,
    "start_time": "2022-10-25T19:34:15.912Z"
   },
   {
    "duration": 37,
    "start_time": "2022-10-25T19:34:35.748Z"
   },
   {
    "duration": 45,
    "start_time": "2022-10-25T19:34:58.686Z"
   },
   {
    "duration": 130,
    "start_time": "2022-10-25T19:35:28.368Z"
   },
   {
    "duration": 44,
    "start_time": "2022-10-25T19:35:43.984Z"
   },
   {
    "duration": 38,
    "start_time": "2022-10-25T19:36:12.823Z"
   },
   {
    "duration": 41,
    "start_time": "2022-10-25T19:36:25.406Z"
   },
   {
    "duration": 46,
    "start_time": "2022-10-25T19:36:44.698Z"
   },
   {
    "duration": 9,
    "start_time": "2022-10-25T19:39:53.288Z"
   },
   {
    "duration": 139,
    "start_time": "2022-10-25T19:49:18.784Z"
   },
   {
    "duration": 17,
    "start_time": "2022-10-25T19:49:47.246Z"
   },
   {
    "duration": 44,
    "start_time": "2022-10-25T19:51:07.875Z"
   },
   {
    "duration": 40,
    "start_time": "2022-10-25T19:52:27.141Z"
   },
   {
    "duration": 37,
    "start_time": "2022-10-25T19:52:33.597Z"
   },
   {
    "duration": 39,
    "start_time": "2022-10-25T19:53:08.735Z"
   },
   {
    "duration": 49,
    "start_time": "2022-10-25T19:53:45.439Z"
   },
   {
    "duration": 26,
    "start_time": "2022-10-25T20:01:01.082Z"
   },
   {
    "duration": 29,
    "start_time": "2022-10-25T20:01:07.264Z"
   },
   {
    "duration": 25,
    "start_time": "2022-10-25T20:02:27.832Z"
   },
   {
    "duration": 29,
    "start_time": "2022-10-25T20:02:40.608Z"
   },
   {
    "duration": 41,
    "start_time": "2022-10-25T20:02:50.628Z"
   },
   {
    "duration": 27,
    "start_time": "2022-10-25T20:03:30.258Z"
   },
   {
    "duration": 31,
    "start_time": "2022-10-25T20:03:37.409Z"
   },
   {
    "duration": 5,
    "start_time": "2022-10-25T20:04:36.720Z"
   },
   {
    "duration": 46,
    "start_time": "2022-10-25T20:04:56.188Z"
   },
   {
    "duration": 51,
    "start_time": "2022-10-25T20:05:09.199Z"
   },
   {
    "duration": 5,
    "start_time": "2022-10-25T20:06:42.500Z"
   },
   {
    "duration": 32,
    "start_time": "2022-10-25T20:11:27.387Z"
   },
   {
    "duration": 5,
    "start_time": "2022-10-25T20:11:55.173Z"
   },
   {
    "duration": 7,
    "start_time": "2022-10-25T20:12:35.538Z"
   },
   {
    "duration": 6,
    "start_time": "2022-10-25T20:12:46.256Z"
   },
   {
    "duration": 253,
    "start_time": "2022-10-25T20:17:01.168Z"
   },
   {
    "duration": 188,
    "start_time": "2022-10-25T20:17:48.107Z"
   },
   {
    "duration": 220,
    "start_time": "2022-10-25T20:19:18.182Z"
   },
   {
    "duration": 228,
    "start_time": "2022-10-25T20:19:45.221Z"
   },
   {
    "duration": 12,
    "start_time": "2022-10-25T20:33:50.684Z"
   },
   {
    "duration": 11,
    "start_time": "2022-10-25T20:34:00.151Z"
   },
   {
    "duration": 33,
    "start_time": "2022-10-25T20:34:16.509Z"
   },
   {
    "duration": 221,
    "start_time": "2022-10-25T20:34:53.268Z"
   },
   {
    "duration": 9,
    "start_time": "2022-10-25T20:37:03.572Z"
   },
   {
    "duration": 9,
    "start_time": "2022-10-25T20:37:21.317Z"
   },
   {
    "duration": 13,
    "start_time": "2022-10-25T20:38:10.039Z"
   },
   {
    "duration": 9,
    "start_time": "2022-10-25T20:38:23.055Z"
   },
   {
    "duration": 10,
    "start_time": "2022-10-25T20:38:32.546Z"
   },
   {
    "duration": 1021,
    "start_time": "2022-10-25T20:39:08.900Z"
   },
   {
    "duration": 174,
    "start_time": "2022-10-25T20:39:09.923Z"
   },
   {
    "duration": 25,
    "start_time": "2022-10-25T20:39:10.098Z"
   },
   {
    "duration": 12,
    "start_time": "2022-10-25T20:39:10.125Z"
   },
   {
    "duration": 20,
    "start_time": "2022-10-25T20:39:10.154Z"
   },
   {
    "duration": 84,
    "start_time": "2022-10-25T20:39:10.176Z"
   },
   {
    "duration": 144,
    "start_time": "2022-10-25T20:39:10.262Z"
   },
   {
    "duration": 10,
    "start_time": "2022-10-25T20:39:10.408Z"
   },
   {
    "duration": 9,
    "start_time": "2022-10-25T20:39:10.419Z"
   },
   {
    "duration": 27,
    "start_time": "2022-10-25T20:39:10.431Z"
   },
   {
    "duration": 80,
    "start_time": "2022-10-25T20:39:10.460Z"
   },
   {
    "duration": 26,
    "start_time": "2022-10-25T20:39:10.542Z"
   },
   {
    "duration": 112,
    "start_time": "2022-10-25T20:39:10.571Z"
   },
   {
    "duration": 8,
    "start_time": "2022-10-25T20:39:10.685Z"
   },
   {
    "duration": 64,
    "start_time": "2022-10-25T20:39:10.695Z"
   },
   {
    "duration": 42,
    "start_time": "2022-10-25T20:39:10.761Z"
   },
   {
    "duration": 4,
    "start_time": "2022-10-25T20:39:10.805Z"
   },
   {
    "duration": 12,
    "start_time": "2022-10-25T20:39:10.811Z"
   },
   {
    "duration": 14,
    "start_time": "2022-10-25T20:39:10.825Z"
   },
   {
    "duration": 293,
    "start_time": "2022-10-25T20:39:10.855Z"
   },
   {
    "duration": 104,
    "start_time": "2022-10-25T20:39:11.150Z"
   },
   {
    "duration": 12,
    "start_time": "2022-10-25T20:39:38.797Z"
   },
   {
    "duration": 13,
    "start_time": "2022-10-25T20:40:37.850Z"
   },
   {
    "duration": 9,
    "start_time": "2022-10-25T20:43:46.901Z"
   },
   {
    "duration": 9,
    "start_time": "2022-10-25T20:43:57.467Z"
   },
   {
    "duration": 49,
    "start_time": "2022-10-25T20:45:19.136Z"
   },
   {
    "duration": 239,
    "start_time": "2022-10-25T20:45:34.088Z"
   },
   {
    "duration": 30,
    "start_time": "2022-10-25T20:46:14.674Z"
   },
   {
    "duration": 216,
    "start_time": "2022-10-25T20:46:36.357Z"
   },
   {
    "duration": 28,
    "start_time": "2022-10-25T20:46:51.383Z"
   },
   {
    "duration": 61,
    "start_time": "2022-10-25T20:47:09.847Z"
   },
   {
    "duration": 202,
    "start_time": "2022-10-25T20:48:47.681Z"
   },
   {
    "duration": 5,
    "start_time": "2022-10-25T20:49:44.637Z"
   },
   {
    "duration": 11,
    "start_time": "2022-10-25T20:49:54.646Z"
   },
   {
    "duration": 187,
    "start_time": "2022-10-25T20:50:09.797Z"
   },
   {
    "duration": 187,
    "start_time": "2022-10-25T20:50:27.454Z"
   },
   {
    "duration": 9,
    "start_time": "2022-10-25T20:50:54.249Z"
   },
   {
    "duration": 10,
    "start_time": "2022-10-25T20:51:57.206Z"
   },
   {
    "duration": 192,
    "start_time": "2022-10-25T20:53:38.348Z"
   },
   {
    "duration": 46,
    "start_time": "2022-10-25T20:54:49.685Z"
   },
   {
    "duration": 51,
    "start_time": "2022-10-25T20:55:26.482Z"
   },
   {
    "duration": 40,
    "start_time": "2022-10-25T20:55:39.818Z"
   },
   {
    "duration": 24,
    "start_time": "2022-10-25T20:55:49.344Z"
   },
   {
    "duration": 24,
    "start_time": "2022-10-25T20:56:09.306Z"
   },
   {
    "duration": 1129,
    "start_time": "2022-10-25T20:56:21.004Z"
   },
   {
    "duration": 179,
    "start_time": "2022-10-25T20:56:22.136Z"
   },
   {
    "duration": 20,
    "start_time": "2022-10-25T20:56:22.317Z"
   },
   {
    "duration": 24,
    "start_time": "2022-10-25T20:56:22.339Z"
   },
   {
    "duration": 16,
    "start_time": "2022-10-25T20:56:22.366Z"
   },
   {
    "duration": 94,
    "start_time": "2022-10-25T20:56:22.385Z"
   },
   {
    "duration": 151,
    "start_time": "2022-10-25T20:56:22.482Z"
   },
   {
    "duration": 20,
    "start_time": "2022-10-25T20:56:22.635Z"
   },
   {
    "duration": 17,
    "start_time": "2022-10-25T20:56:22.657Z"
   },
   {
    "duration": 8,
    "start_time": "2022-10-25T20:56:22.676Z"
   },
   {
    "duration": 86,
    "start_time": "2022-10-25T20:56:22.686Z"
   },
   {
    "duration": 19,
    "start_time": "2022-10-25T20:56:22.774Z"
   },
   {
    "duration": 114,
    "start_time": "2022-10-25T20:56:22.795Z"
   },
   {
    "duration": 8,
    "start_time": "2022-10-25T20:56:22.911Z"
   },
   {
    "duration": 67,
    "start_time": "2022-10-25T20:56:22.920Z"
   },
   {
    "duration": 40,
    "start_time": "2022-10-25T20:56:22.988Z"
   },
   {
    "duration": 5,
    "start_time": "2022-10-25T20:56:23.029Z"
   },
   {
    "duration": 25,
    "start_time": "2022-10-25T20:56:23.035Z"
   },
   {
    "duration": 13,
    "start_time": "2022-10-25T20:56:23.062Z"
   },
   {
    "duration": 305,
    "start_time": "2022-10-25T20:56:23.077Z"
   },
   {
    "duration": 288,
    "start_time": "2022-10-25T20:56:23.384Z"
   },
   {
    "duration": 62,
    "start_time": "2022-10-25T20:56:53.211Z"
   },
   {
    "duration": 33,
    "start_time": "2022-10-25T20:58:16.498Z"
   },
   {
    "duration": 44,
    "start_time": "2022-10-25T21:00:35.025Z"
   },
   {
    "duration": 56,
    "start_time": "2022-10-25T21:03:29.763Z"
   },
   {
    "duration": 10,
    "start_time": "2022-10-25T21:04:50.310Z"
   },
   {
    "duration": 14,
    "start_time": "2022-10-25T21:09:50.645Z"
   },
   {
    "duration": 47,
    "start_time": "2022-10-25T21:10:40.911Z"
   },
   {
    "duration": 13,
    "start_time": "2022-10-25T21:11:48.103Z"
   },
   {
    "duration": 12,
    "start_time": "2022-10-25T21:13:03.356Z"
   },
   {
    "duration": 46,
    "start_time": "2022-10-25T21:13:29.360Z"
   },
   {
    "duration": 12,
    "start_time": "2022-10-25T21:13:54.863Z"
   },
   {
    "duration": 4,
    "start_time": "2022-10-25T21:17:00.166Z"
   },
   {
    "duration": 5,
    "start_time": "2022-10-25T21:17:17.798Z"
   },
   {
    "duration": 5,
    "start_time": "2022-10-25T21:17:30.411Z"
   },
   {
    "duration": 5,
    "start_time": "2022-10-25T21:17:45.723Z"
   },
   {
    "duration": 47,
    "start_time": "2022-10-25T21:18:10.817Z"
   },
   {
    "duration": 4,
    "start_time": "2022-10-25T21:18:25.264Z"
   },
   {
    "duration": 11,
    "start_time": "2022-10-25T21:19:26.039Z"
   },
   {
    "duration": 9,
    "start_time": "2022-10-25T21:19:33.316Z"
   },
   {
    "duration": 8,
    "start_time": "2022-10-25T21:20:06.994Z"
   },
   {
    "duration": 6,
    "start_time": "2022-10-25T21:20:30.448Z"
   },
   {
    "duration": 52,
    "start_time": "2022-10-25T21:23:11.115Z"
   },
   {
    "duration": 64,
    "start_time": "2022-10-25T21:23:31.718Z"
   },
   {
    "duration": 66,
    "start_time": "2022-10-25T21:23:38.148Z"
   },
   {
    "duration": 59,
    "start_time": "2022-10-25T21:24:38.805Z"
   },
   {
    "duration": 1126,
    "start_time": "2022-10-27T18:50:24.750Z"
   },
   {
    "duration": 481,
    "start_time": "2022-10-27T18:50:25.878Z"
   },
   {
    "duration": 18,
    "start_time": "2022-10-27T18:50:26.361Z"
   },
   {
    "duration": 12,
    "start_time": "2022-10-27T18:50:26.381Z"
   },
   {
    "duration": 17,
    "start_time": "2022-10-27T18:50:26.395Z"
   },
   {
    "duration": 62,
    "start_time": "2022-10-27T18:50:26.414Z"
   },
   {
    "duration": 133,
    "start_time": "2022-10-27T18:50:26.478Z"
   },
   {
    "duration": 13,
    "start_time": "2022-10-27T18:50:26.612Z"
   },
   {
    "duration": 8,
    "start_time": "2022-10-27T18:50:26.626Z"
   },
   {
    "duration": 6,
    "start_time": "2022-10-27T18:50:26.637Z"
   },
   {
    "duration": 89,
    "start_time": "2022-10-27T18:50:26.645Z"
   },
   {
    "duration": 21,
    "start_time": "2022-10-27T18:50:26.736Z"
   },
   {
    "duration": 14,
    "start_time": "2022-10-27T18:50:26.758Z"
   },
   {
    "duration": 110,
    "start_time": "2022-10-27T18:50:26.774Z"
   },
   {
    "duration": 8,
    "start_time": "2022-10-27T18:50:26.886Z"
   },
   {
    "duration": 62,
    "start_time": "2022-10-27T18:50:26.895Z"
   },
   {
    "duration": 32,
    "start_time": "2022-10-27T18:50:26.958Z"
   },
   {
    "duration": 5,
    "start_time": "2022-10-27T18:50:26.991Z"
   },
   {
    "duration": 27,
    "start_time": "2022-10-27T18:50:26.997Z"
   },
   {
    "duration": 8,
    "start_time": "2022-10-27T18:50:27.025Z"
   },
   {
    "duration": 294,
    "start_time": "2022-10-27T18:50:27.035Z"
   },
   {
    "duration": 51,
    "start_time": "2022-10-27T18:50:27.330Z"
   },
   {
    "duration": 12,
    "start_time": "2022-10-27T18:50:27.383Z"
   },
   {
    "duration": 25,
    "start_time": "2022-10-27T18:50:27.396Z"
   },
   {
    "duration": 6,
    "start_time": "2022-10-27T18:50:27.423Z"
   },
   {
    "duration": 75,
    "start_time": "2022-10-27T18:50:27.431Z"
   },
   {
    "duration": 41,
    "start_time": "2022-10-27T19:27:39.971Z"
   },
   {
    "duration": 39,
    "start_time": "2022-10-27T19:31:20.949Z"
   },
   {
    "duration": 75,
    "start_time": "2022-10-27T19:33:15.410Z"
   },
   {
    "duration": 69,
    "start_time": "2022-10-27T19:33:41.693Z"
   },
   {
    "duration": 9,
    "start_time": "2022-10-27T19:43:38.040Z"
   },
   {
    "duration": 5,
    "start_time": "2022-10-27T19:43:58.224Z"
   },
   {
    "duration": 757,
    "start_time": "2022-10-27T19:45:20.748Z"
   },
   {
    "duration": 10,
    "start_time": "2022-10-27T19:45:46.511Z"
   },
   {
    "duration": 14,
    "start_time": "2022-10-27T19:46:51.319Z"
   },
   {
    "duration": 8,
    "start_time": "2022-10-27T19:47:13.216Z"
   },
   {
    "duration": 1031,
    "start_time": "2022-10-27T20:46:19.923Z"
   },
   {
    "duration": 156,
    "start_time": "2022-10-27T20:46:20.956Z"
   },
   {
    "duration": 21,
    "start_time": "2022-10-27T20:46:21.114Z"
   },
   {
    "duration": 11,
    "start_time": "2022-10-27T20:46:21.137Z"
   },
   {
    "duration": 14,
    "start_time": "2022-10-27T20:46:21.151Z"
   },
   {
    "duration": 89,
    "start_time": "2022-10-27T20:46:21.167Z"
   },
   {
    "duration": 127,
    "start_time": "2022-10-27T20:46:21.257Z"
   },
   {
    "duration": 8,
    "start_time": "2022-10-27T20:46:21.386Z"
   },
   {
    "duration": 9,
    "start_time": "2022-10-27T20:46:21.395Z"
   },
   {
    "duration": 14,
    "start_time": "2022-10-27T20:46:21.406Z"
   },
   {
    "duration": 71,
    "start_time": "2022-10-27T20:46:21.421Z"
   },
   {
    "duration": 27,
    "start_time": "2022-10-27T20:46:21.494Z"
   },
   {
    "duration": 11,
    "start_time": "2022-10-27T20:46:21.523Z"
   },
   {
    "duration": 100,
    "start_time": "2022-10-27T20:46:21.536Z"
   },
   {
    "duration": 7,
    "start_time": "2022-10-27T20:46:21.638Z"
   },
   {
    "duration": 47,
    "start_time": "2022-10-27T20:46:21.646Z"
   },
   {
    "duration": 50,
    "start_time": "2022-10-27T20:46:21.694Z"
   },
   {
    "duration": 4,
    "start_time": "2022-10-27T20:46:21.745Z"
   },
   {
    "duration": 6,
    "start_time": "2022-10-27T20:46:21.751Z"
   },
   {
    "duration": 5,
    "start_time": "2022-10-27T20:46:21.758Z"
   },
   {
    "duration": 292,
    "start_time": "2022-10-27T20:46:21.764Z"
   },
   {
    "duration": 46,
    "start_time": "2022-10-27T20:46:22.057Z"
   },
   {
    "duration": 17,
    "start_time": "2022-10-27T20:46:22.105Z"
   },
   {
    "duration": 13,
    "start_time": "2022-10-27T20:46:22.124Z"
   },
   {
    "duration": 6,
    "start_time": "2022-10-27T20:46:22.138Z"
   },
   {
    "duration": 51,
    "start_time": "2022-10-27T20:46:22.145Z"
   },
   {
    "duration": 55,
    "start_time": "2022-10-27T20:46:22.198Z"
   },
   {
    "duration": 84,
    "start_time": "2022-10-27T20:46:22.255Z"
   },
   {
    "duration": 8,
    "start_time": "2022-10-27T20:46:22.341Z"
   },
   {
    "duration": 6,
    "start_time": "2022-10-27T20:47:54.098Z"
   },
   {
    "duration": 10,
    "start_time": "2022-10-27T20:53:06.365Z"
   },
   {
    "duration": 9,
    "start_time": "2022-10-27T20:55:28.758Z"
   },
   {
    "duration": 10,
    "start_time": "2022-10-27T20:56:54.823Z"
   },
   {
    "duration": 11,
    "start_time": "2022-10-27T20:58:04.007Z"
   },
   {
    "duration": 12,
    "start_time": "2022-10-27T20:58:12.943Z"
   },
   {
    "duration": 11,
    "start_time": "2022-10-27T20:58:22.531Z"
   },
   {
    "duration": 5,
    "start_time": "2022-10-27T20:58:50.121Z"
   },
   {
    "duration": 6,
    "start_time": "2022-10-27T21:03:11.153Z"
   },
   {
    "duration": 12,
    "start_time": "2022-10-27T21:03:30.433Z"
   },
   {
    "duration": 11,
    "start_time": "2022-10-27T21:03:43.077Z"
   },
   {
    "duration": 11,
    "start_time": "2022-10-27T21:03:59.718Z"
   },
   {
    "duration": 9,
    "start_time": "2022-10-27T21:04:08.832Z"
   },
   {
    "duration": 10,
    "start_time": "2022-10-27T21:04:15.275Z"
   },
   {
    "duration": 79,
    "start_time": "2022-10-27T21:08:33.484Z"
   },
   {
    "duration": 12,
    "start_time": "2022-10-27T21:08:50.500Z"
   },
   {
    "duration": 1261,
    "start_time": "2022-10-28T12:20:34.765Z"
   },
   {
    "duration": 708,
    "start_time": "2022-10-28T12:20:36.029Z"
   },
   {
    "duration": 21,
    "start_time": "2022-10-28T12:20:36.739Z"
   },
   {
    "duration": 46,
    "start_time": "2022-10-28T12:20:36.762Z"
   },
   {
    "duration": 24,
    "start_time": "2022-10-28T12:20:36.809Z"
   },
   {
    "duration": 63,
    "start_time": "2022-10-28T12:20:36.835Z"
   },
   {
    "duration": 138,
    "start_time": "2022-10-28T12:20:36.900Z"
   },
   {
    "duration": 8,
    "start_time": "2022-10-28T12:20:37.040Z"
   },
   {
    "duration": 11,
    "start_time": "2022-10-28T12:20:37.050Z"
   },
   {
    "duration": 6,
    "start_time": "2022-10-28T12:20:37.064Z"
   },
   {
    "duration": 95,
    "start_time": "2022-10-28T12:20:37.072Z"
   },
   {
    "duration": 18,
    "start_time": "2022-10-28T12:20:37.169Z"
   },
   {
    "duration": 15,
    "start_time": "2022-10-28T12:20:37.189Z"
   },
   {
    "duration": 103,
    "start_time": "2022-10-28T12:20:37.206Z"
   },
   {
    "duration": 6,
    "start_time": "2022-10-28T12:20:37.311Z"
   },
   {
    "duration": 59,
    "start_time": "2022-10-28T12:20:37.319Z"
   },
   {
    "duration": 34,
    "start_time": "2022-10-28T12:20:37.379Z"
   },
   {
    "duration": 20,
    "start_time": "2022-10-28T12:20:37.414Z"
   },
   {
    "duration": 15,
    "start_time": "2022-10-28T12:20:37.436Z"
   },
   {
    "duration": 11,
    "start_time": "2022-10-28T12:20:37.453Z"
   },
   {
    "duration": 283,
    "start_time": "2022-10-28T12:20:37.466Z"
   },
   {
    "duration": 47,
    "start_time": "2022-10-28T12:20:37.751Z"
   },
   {
    "duration": 21,
    "start_time": "2022-10-28T12:20:37.800Z"
   },
   {
    "duration": 27,
    "start_time": "2022-10-28T12:20:37.822Z"
   },
   {
    "duration": 10,
    "start_time": "2022-10-28T12:20:37.850Z"
   },
   {
    "duration": 49,
    "start_time": "2022-10-28T12:20:37.861Z"
   },
   {
    "duration": 36,
    "start_time": "2022-10-28T12:20:37.912Z"
   },
   {
    "duration": 83,
    "start_time": "2022-10-28T12:20:37.951Z"
   },
   {
    "duration": 8,
    "start_time": "2022-10-28T12:20:38.036Z"
   },
   {
    "duration": 11,
    "start_time": "2022-10-28T12:20:38.046Z"
   },
   {
    "duration": 22,
    "start_time": "2022-10-28T12:20:38.058Z"
   },
   {
    "duration": 98,
    "start_time": "2022-10-28T12:24:01.529Z"
   },
   {
    "duration": 16,
    "start_time": "2022-10-28T12:25:08.431Z"
   },
   {
    "duration": 12,
    "start_time": "2022-10-28T12:25:49.895Z"
   },
   {
    "duration": 927,
    "start_time": "2022-10-28T12:29:02.627Z"
   },
   {
    "duration": 12,
    "start_time": "2022-10-28T12:30:13.330Z"
   },
   {
    "duration": 11,
    "start_time": "2022-10-28T12:30:44.914Z"
   },
   {
    "duration": 1002,
    "start_time": "2022-10-28T12:30:56.777Z"
   },
   {
    "duration": 165,
    "start_time": "2022-10-28T12:30:57.781Z"
   },
   {
    "duration": 19,
    "start_time": "2022-10-28T12:30:57.948Z"
   },
   {
    "duration": 10,
    "start_time": "2022-10-28T12:30:57.969Z"
   },
   {
    "duration": 15,
    "start_time": "2022-10-28T12:30:57.981Z"
   },
   {
    "duration": 81,
    "start_time": "2022-10-28T12:30:57.997Z"
   },
   {
    "duration": 137,
    "start_time": "2022-10-28T12:30:58.080Z"
   },
   {
    "duration": 7,
    "start_time": "2022-10-28T12:30:58.219Z"
   },
   {
    "duration": 8,
    "start_time": "2022-10-28T12:30:58.233Z"
   },
   {
    "duration": 7,
    "start_time": "2022-10-28T12:30:58.242Z"
   },
   {
    "duration": 85,
    "start_time": "2022-10-28T12:30:58.250Z"
   },
   {
    "duration": 17,
    "start_time": "2022-10-28T12:30:58.336Z"
   },
   {
    "duration": 11,
    "start_time": "2022-10-28T12:30:58.354Z"
   },
   {
    "duration": 105,
    "start_time": "2022-10-28T12:30:58.367Z"
   },
   {
    "duration": 6,
    "start_time": "2022-10-28T12:30:58.474Z"
   },
   {
    "duration": 59,
    "start_time": "2022-10-28T12:30:58.482Z"
   },
   {
    "duration": 34,
    "start_time": "2022-10-28T12:30:58.542Z"
   },
   {
    "duration": 3,
    "start_time": "2022-10-28T12:30:58.578Z"
   },
   {
    "duration": 6,
    "start_time": "2022-10-28T12:30:58.583Z"
   },
   {
    "duration": 4,
    "start_time": "2022-10-28T12:30:58.590Z"
   },
   {
    "duration": 315,
    "start_time": "2022-10-28T12:30:58.596Z"
   },
   {
    "duration": 55,
    "start_time": "2022-10-28T12:30:58.913Z"
   },
   {
    "duration": 13,
    "start_time": "2022-10-28T12:30:58.970Z"
   },
   {
    "duration": 9,
    "start_time": "2022-10-28T12:30:58.985Z"
   },
   {
    "duration": 6,
    "start_time": "2022-10-28T12:30:58.995Z"
   },
   {
    "duration": 73,
    "start_time": "2022-10-28T12:30:59.003Z"
   },
   {
    "duration": 35,
    "start_time": "2022-10-28T12:30:59.078Z"
   },
   {
    "duration": 91,
    "start_time": "2022-10-28T12:30:59.115Z"
   },
   {
    "duration": 9,
    "start_time": "2022-10-28T12:30:59.207Z"
   },
   {
    "duration": 18,
    "start_time": "2022-10-28T12:30:59.218Z"
   },
   {
    "duration": 14,
    "start_time": "2022-10-28T12:30:59.237Z"
   },
   {
    "duration": 18,
    "start_time": "2022-10-28T12:31:37.971Z"
   },
   {
    "duration": 13,
    "start_time": "2022-10-28T12:50:21.878Z"
   },
   {
    "duration": 96,
    "start_time": "2022-10-28T12:51:20.899Z"
   },
   {
    "duration": 9,
    "start_time": "2022-10-28T12:52:07.422Z"
   },
   {
    "duration": 12,
    "start_time": "2022-10-28T12:52:25.173Z"
   },
   {
    "duration": 11,
    "start_time": "2022-10-28T12:53:36.863Z"
   },
   {
    "duration": 11,
    "start_time": "2022-10-28T12:54:14.946Z"
   },
   {
    "duration": 20,
    "start_time": "2022-10-28T12:55:33.415Z"
   },
   {
    "duration": 17,
    "start_time": "2022-10-28T12:56:24.154Z"
   },
   {
    "duration": 11,
    "start_time": "2022-10-28T12:58:23.742Z"
   },
   {
    "duration": 11,
    "start_time": "2022-10-28T12:58:40.621Z"
   },
   {
    "duration": 12,
    "start_time": "2022-10-28T13:02:33.229Z"
   },
   {
    "duration": 11,
    "start_time": "2022-10-28T13:02:50.979Z"
   },
   {
    "duration": 4,
    "start_time": "2022-10-28T14:10:27.202Z"
   },
   {
    "duration": 4,
    "start_time": "2022-10-28T14:11:26.520Z"
   },
   {
    "duration": 4,
    "start_time": "2022-10-28T14:12:42.576Z"
   },
   {
    "duration": 3,
    "start_time": "2022-10-28T14:17:40.659Z"
   },
   {
    "duration": 7,
    "start_time": "2022-10-28T14:39:06.275Z"
   },
   {
    "duration": 11,
    "start_time": "2022-10-28T14:40:03.177Z"
   },
   {
    "duration": 79,
    "start_time": "2022-10-28T14:49:30.066Z"
   },
   {
    "duration": 11,
    "start_time": "2022-10-28T14:51:17.947Z"
   },
   {
    "duration": 95,
    "start_time": "2022-10-28T14:53:05.472Z"
   },
   {
    "duration": 78,
    "start_time": "2022-10-28T14:53:10.812Z"
   },
   {
    "duration": 81,
    "start_time": "2022-10-28T14:53:33.181Z"
   },
   {
    "duration": 83,
    "start_time": "2022-10-28T14:54:23.319Z"
   },
   {
    "duration": 275,
    "start_time": "2022-10-28T14:55:35.095Z"
   },
   {
    "duration": 241,
    "start_time": "2022-10-28T14:55:48.858Z"
   },
   {
    "duration": 81,
    "start_time": "2022-10-28T14:56:01.879Z"
   },
   {
    "duration": 81,
    "start_time": "2022-10-28T15:02:00.988Z"
   },
   {
    "duration": 80,
    "start_time": "2022-10-28T15:02:09.341Z"
   },
   {
    "duration": 3,
    "start_time": "2022-10-28T15:15:38.190Z"
   },
   {
    "duration": 4,
    "start_time": "2022-10-28T15:15:46.958Z"
   },
   {
    "duration": 2,
    "start_time": "2022-10-28T15:15:53.717Z"
   },
   {
    "duration": 6,
    "start_time": "2022-10-28T15:17:51.740Z"
   },
   {
    "duration": 12,
    "start_time": "2022-10-28T15:18:00.539Z"
   },
   {
    "duration": 14,
    "start_time": "2022-10-28T15:18:15.848Z"
   },
   {
    "duration": 15,
    "start_time": "2022-10-28T15:18:43.848Z"
   },
   {
    "duration": 15,
    "start_time": "2022-10-28T15:19:11.565Z"
   },
   {
    "duration": 15,
    "start_time": "2022-10-28T15:19:47.740Z"
   },
   {
    "duration": 1049,
    "start_time": "2022-10-28T15:20:08.854Z"
   },
   {
    "duration": 172,
    "start_time": "2022-10-28T15:20:09.905Z"
   },
   {
    "duration": 19,
    "start_time": "2022-10-28T15:20:10.079Z"
   },
   {
    "duration": 34,
    "start_time": "2022-10-28T15:20:10.100Z"
   },
   {
    "duration": 15,
    "start_time": "2022-10-28T15:20:10.135Z"
   },
   {
    "duration": 82,
    "start_time": "2022-10-28T15:20:10.151Z"
   },
   {
    "duration": 130,
    "start_time": "2022-10-28T15:20:10.235Z"
   },
   {
    "duration": 8,
    "start_time": "2022-10-28T15:20:10.367Z"
   },
   {
    "duration": 13,
    "start_time": "2022-10-28T15:20:10.376Z"
   },
   {
    "duration": 6,
    "start_time": "2022-10-28T15:20:10.392Z"
   },
   {
    "duration": 91,
    "start_time": "2022-10-28T15:20:10.400Z"
   },
   {
    "duration": 19,
    "start_time": "2022-10-28T15:20:10.493Z"
   },
   {
    "duration": 23,
    "start_time": "2022-10-28T15:20:10.513Z"
   },
   {
    "duration": 97,
    "start_time": "2022-10-28T15:20:10.537Z"
   },
   {
    "duration": 7,
    "start_time": "2022-10-28T15:20:10.636Z"
   },
   {
    "duration": 45,
    "start_time": "2022-10-28T15:20:10.644Z"
   },
   {
    "duration": 53,
    "start_time": "2022-10-28T15:20:10.691Z"
   },
   {
    "duration": 5,
    "start_time": "2022-10-28T15:20:10.745Z"
   },
   {
    "duration": 8,
    "start_time": "2022-10-28T15:20:10.752Z"
   },
   {
    "duration": 7,
    "start_time": "2022-10-28T15:20:10.762Z"
   },
   {
    "duration": 288,
    "start_time": "2022-10-28T15:20:10.771Z"
   },
   {
    "duration": 50,
    "start_time": "2022-10-28T15:20:11.060Z"
   },
   {
    "duration": 26,
    "start_time": "2022-10-28T15:20:11.112Z"
   },
   {
    "duration": 11,
    "start_time": "2022-10-28T15:20:11.140Z"
   },
   {
    "duration": 5,
    "start_time": "2022-10-28T15:20:11.152Z"
   },
   {
    "duration": 49,
    "start_time": "2022-10-28T15:20:11.158Z"
   },
   {
    "duration": 58,
    "start_time": "2022-10-28T15:20:11.209Z"
   },
   {
    "duration": 81,
    "start_time": "2022-10-28T15:20:11.270Z"
   },
   {
    "duration": 8,
    "start_time": "2022-10-28T15:20:11.353Z"
   },
   {
    "duration": 10,
    "start_time": "2022-10-28T15:20:11.363Z"
   },
   {
    "duration": 16,
    "start_time": "2022-10-28T15:20:11.375Z"
   },
   {
    "duration": 4,
    "start_time": "2022-10-28T15:20:11.393Z"
   },
   {
    "duration": 36,
    "start_time": "2022-10-28T15:20:11.398Z"
   },
   {
    "duration": 6,
    "start_time": "2022-10-28T15:20:11.436Z"
   },
   {
    "duration": 95,
    "start_time": "2022-10-28T15:20:11.444Z"
   },
   {
    "duration": 15,
    "start_time": "2022-10-28T15:20:11.540Z"
   },
   {
    "duration": 15,
    "start_time": "2022-10-28T15:22:15.646Z"
   },
   {
    "duration": 1099,
    "start_time": "2022-10-28T15:22:27.706Z"
   },
   {
    "duration": 169,
    "start_time": "2022-10-28T15:22:28.808Z"
   },
   {
    "duration": 20,
    "start_time": "2022-10-28T15:22:28.978Z"
   },
   {
    "duration": 11,
    "start_time": "2022-10-28T15:22:28.999Z"
   },
   {
    "duration": 28,
    "start_time": "2022-10-28T15:22:29.012Z"
   },
   {
    "duration": 62,
    "start_time": "2022-10-28T15:22:29.041Z"
   },
   {
    "duration": 143,
    "start_time": "2022-10-28T15:22:29.104Z"
   },
   {
    "duration": 7,
    "start_time": "2022-10-28T15:22:29.249Z"
   },
   {
    "duration": 11,
    "start_time": "2022-10-28T15:22:29.257Z"
   },
   {
    "duration": 6,
    "start_time": "2022-10-28T15:22:29.269Z"
   },
   {
    "duration": 83,
    "start_time": "2022-10-28T15:22:29.276Z"
   },
   {
    "duration": 19,
    "start_time": "2022-10-28T15:22:29.360Z"
   },
   {
    "duration": 12,
    "start_time": "2022-10-28T15:22:29.381Z"
   },
   {
    "duration": 111,
    "start_time": "2022-10-28T15:22:29.395Z"
   },
   {
    "duration": 7,
    "start_time": "2022-10-28T15:22:29.507Z"
   },
   {
    "duration": 53,
    "start_time": "2022-10-28T15:22:29.516Z"
   },
   {
    "duration": 34,
    "start_time": "2022-10-28T15:22:29.570Z"
   },
   {
    "duration": 4,
    "start_time": "2022-10-28T15:22:29.606Z"
   },
   {
    "duration": 29,
    "start_time": "2022-10-28T15:22:29.612Z"
   },
   {
    "duration": 5,
    "start_time": "2022-10-28T15:22:29.643Z"
   },
   {
    "duration": 305,
    "start_time": "2022-10-28T15:22:29.650Z"
   },
   {
    "duration": 51,
    "start_time": "2022-10-28T15:22:29.957Z"
   },
   {
    "duration": 24,
    "start_time": "2022-10-28T15:22:30.010Z"
   },
   {
    "duration": 9,
    "start_time": "2022-10-28T15:22:30.035Z"
   },
   {
    "duration": 5,
    "start_time": "2022-10-28T15:22:30.045Z"
   },
   {
    "duration": 50,
    "start_time": "2022-10-28T15:22:30.052Z"
   },
   {
    "duration": 60,
    "start_time": "2022-10-28T15:22:30.104Z"
   },
   {
    "duration": 89,
    "start_time": "2022-10-28T15:22:30.166Z"
   },
   {
    "duration": 8,
    "start_time": "2022-10-28T15:22:30.257Z"
   },
   {
    "duration": 46,
    "start_time": "2022-10-28T15:22:30.267Z"
   },
   {
    "duration": 42,
    "start_time": "2022-10-28T15:22:30.315Z"
   },
   {
    "duration": 32,
    "start_time": "2022-10-28T15:22:30.359Z"
   },
   {
    "duration": 43,
    "start_time": "2022-10-28T15:22:30.393Z"
   },
   {
    "duration": 27,
    "start_time": "2022-10-28T15:22:30.438Z"
   },
   {
    "duration": 95,
    "start_time": "2022-10-28T15:22:30.467Z"
   },
   {
    "duration": 14,
    "start_time": "2022-10-28T15:22:30.564Z"
   },
   {
    "duration": 6,
    "start_time": "2022-10-28T15:37:36.640Z"
   },
   {
    "duration": 3,
    "start_time": "2022-10-28T15:45:01.802Z"
   },
   {
    "duration": 14,
    "start_time": "2022-10-28T15:59:40.557Z"
   },
   {
    "duration": 79,
    "start_time": "2022-10-28T16:34:31.029Z"
   },
   {
    "duration": 84,
    "start_time": "2022-10-28T16:34:39.402Z"
   },
   {
    "duration": 15,
    "start_time": "2022-10-28T16:34:54.000Z"
   },
   {
    "duration": 857,
    "start_time": "2022-10-28T16:37:38.995Z"
   },
   {
    "duration": 15,
    "start_time": "2022-10-28T16:38:04.380Z"
   },
   {
    "duration": 3,
    "start_time": "2022-10-28T16:38:25.259Z"
   },
   {
    "duration": 1071,
    "start_time": "2022-10-28T16:38:31.813Z"
   },
   {
    "duration": 172,
    "start_time": "2022-10-28T16:38:32.886Z"
   },
   {
    "duration": 19,
    "start_time": "2022-10-28T16:38:33.060Z"
   },
   {
    "duration": 11,
    "start_time": "2022-10-28T16:38:33.081Z"
   },
   {
    "duration": 14,
    "start_time": "2022-10-28T16:38:33.093Z"
   },
   {
    "duration": 83,
    "start_time": "2022-10-28T16:38:33.108Z"
   },
   {
    "duration": 141,
    "start_time": "2022-10-28T16:38:33.193Z"
   },
   {
    "duration": 8,
    "start_time": "2022-10-28T16:38:33.336Z"
   },
   {
    "duration": 8,
    "start_time": "2022-10-28T16:38:33.345Z"
   },
   {
    "duration": 3,
    "start_time": "2022-10-28T16:38:33.356Z"
   },
   {
    "duration": 93,
    "start_time": "2022-10-28T16:38:33.360Z"
   },
   {
    "duration": 19,
    "start_time": "2022-10-28T16:38:33.454Z"
   },
   {
    "duration": 18,
    "start_time": "2022-10-28T16:38:33.474Z"
   },
   {
    "duration": 102,
    "start_time": "2022-10-28T16:38:33.494Z"
   },
   {
    "duration": 7,
    "start_time": "2022-10-28T16:38:33.597Z"
   },
   {
    "duration": 59,
    "start_time": "2022-10-28T16:38:33.606Z"
   },
   {
    "duration": 33,
    "start_time": "2022-10-28T16:38:33.667Z"
   },
   {
    "duration": 4,
    "start_time": "2022-10-28T16:38:33.702Z"
   },
   {
    "duration": 26,
    "start_time": "2022-10-28T16:38:33.708Z"
   },
   {
    "duration": 5,
    "start_time": "2022-10-28T16:38:33.736Z"
   },
   {
    "duration": 287,
    "start_time": "2022-10-28T16:38:33.743Z"
   },
   {
    "duration": 50,
    "start_time": "2022-10-28T16:38:34.033Z"
   },
   {
    "duration": 13,
    "start_time": "2022-10-28T16:38:34.085Z"
   },
   {
    "duration": 34,
    "start_time": "2022-10-28T16:38:34.100Z"
   },
   {
    "duration": 6,
    "start_time": "2022-10-28T16:38:34.136Z"
   },
   {
    "duration": 58,
    "start_time": "2022-10-28T16:38:34.143Z"
   },
   {
    "duration": 58,
    "start_time": "2022-10-28T16:38:34.203Z"
   },
   {
    "duration": 80,
    "start_time": "2022-10-28T16:38:34.264Z"
   },
   {
    "duration": 9,
    "start_time": "2022-10-28T16:38:34.345Z"
   },
   {
    "duration": 9,
    "start_time": "2022-10-28T16:38:34.356Z"
   },
   {
    "duration": 16,
    "start_time": "2022-10-28T16:38:34.366Z"
   },
   {
    "duration": 4,
    "start_time": "2022-10-28T16:38:34.383Z"
   },
   {
    "duration": 12,
    "start_time": "2022-10-28T16:38:34.389Z"
   },
   {
    "duration": 31,
    "start_time": "2022-10-28T16:38:34.403Z"
   },
   {
    "duration": 84,
    "start_time": "2022-10-28T16:38:34.435Z"
   },
   {
    "duration": 23,
    "start_time": "2022-10-28T16:38:34.521Z"
   },
   {
    "duration": 26,
    "start_time": "2022-10-28T16:38:34.545Z"
   },
   {
    "duration": 30,
    "start_time": "2022-10-28T16:43:28.694Z"
   },
   {
    "duration": 24,
    "start_time": "2022-10-28T16:44:51.584Z"
   },
   {
    "duration": 15,
    "start_time": "2022-10-28T16:57:31.544Z"
   },
   {
    "duration": 16,
    "start_time": "2022-10-28T16:57:43.252Z"
   },
   {
    "duration": 1056,
    "start_time": "2022-10-28T16:58:08.527Z"
   },
   {
    "duration": 195,
    "start_time": "2022-10-28T16:58:09.585Z"
   },
   {
    "duration": 20,
    "start_time": "2022-10-28T16:58:09.782Z"
   },
   {
    "duration": 12,
    "start_time": "2022-10-28T16:58:09.804Z"
   },
   {
    "duration": 28,
    "start_time": "2022-10-28T16:58:09.817Z"
   },
   {
    "duration": 63,
    "start_time": "2022-10-28T16:58:09.847Z"
   },
   {
    "duration": 148,
    "start_time": "2022-10-28T16:58:09.911Z"
   },
   {
    "duration": 8,
    "start_time": "2022-10-28T16:58:10.060Z"
   },
   {
    "duration": 10,
    "start_time": "2022-10-28T16:58:10.070Z"
   },
   {
    "duration": 24,
    "start_time": "2022-10-28T16:58:10.083Z"
   },
   {
    "duration": 77,
    "start_time": "2022-10-28T16:58:10.109Z"
   },
   {
    "duration": 18,
    "start_time": "2022-10-28T16:58:10.188Z"
   },
   {
    "duration": 12,
    "start_time": "2022-10-28T16:58:10.208Z"
   },
   {
    "duration": 87,
    "start_time": "2022-10-28T16:58:10.234Z"
   },
   {
    "duration": 12,
    "start_time": "2022-10-28T16:58:10.322Z"
   },
   {
    "duration": 45,
    "start_time": "2022-10-28T16:58:10.336Z"
   },
   {
    "duration": 51,
    "start_time": "2022-10-28T16:58:10.383Z"
   },
   {
    "duration": 3,
    "start_time": "2022-10-28T16:58:10.436Z"
   },
   {
    "duration": 8,
    "start_time": "2022-10-28T16:58:10.441Z"
   },
   {
    "duration": 7,
    "start_time": "2022-10-28T16:58:10.451Z"
   },
   {
    "duration": 289,
    "start_time": "2022-10-28T16:58:10.460Z"
   },
   {
    "duration": 47,
    "start_time": "2022-10-28T16:58:10.750Z"
   },
   {
    "duration": 14,
    "start_time": "2022-10-28T16:58:10.799Z"
   },
   {
    "duration": 20,
    "start_time": "2022-10-28T16:58:10.832Z"
   },
   {
    "duration": 6,
    "start_time": "2022-10-28T16:58:10.854Z"
   },
   {
    "duration": 49,
    "start_time": "2022-10-28T16:58:10.862Z"
   },
   {
    "duration": 50,
    "start_time": "2022-10-28T16:58:10.913Z"
   },
   {
    "duration": 86,
    "start_time": "2022-10-28T16:58:10.967Z"
   },
   {
    "duration": 9,
    "start_time": "2022-10-28T16:58:11.055Z"
   },
   {
    "duration": 9,
    "start_time": "2022-10-28T16:58:11.066Z"
   },
   {
    "duration": 19,
    "start_time": "2022-10-28T16:58:11.076Z"
   },
   {
    "duration": 4,
    "start_time": "2022-10-28T16:58:11.097Z"
   },
   {
    "duration": 33,
    "start_time": "2022-10-28T16:58:11.102Z"
   },
   {
    "duration": 5,
    "start_time": "2022-10-28T16:58:11.137Z"
   },
   {
    "duration": 96,
    "start_time": "2022-10-28T16:58:11.143Z"
   },
   {
    "duration": 15,
    "start_time": "2022-10-28T16:58:11.241Z"
   },
   {
    "duration": 112,
    "start_time": "2022-10-28T16:58:11.257Z"
   },
   {
    "duration": 31,
    "start_time": "2022-10-28T16:58:48.551Z"
   },
   {
    "duration": 9,
    "start_time": "2022-10-28T17:01:28.584Z"
   },
   {
    "duration": 12,
    "start_time": "2022-10-28T17:01:34.864Z"
   },
   {
    "duration": 6,
    "start_time": "2022-10-28T17:02:08.548Z"
   },
   {
    "duration": 12,
    "start_time": "2022-10-28T17:03:20.750Z"
   },
   {
    "duration": 29,
    "start_time": "2022-10-28T17:14:47.054Z"
   },
   {
    "duration": 26,
    "start_time": "2022-10-28T17:16:04.448Z"
   },
   {
    "duration": 25,
    "start_time": "2022-10-28T17:16:49.142Z"
   },
   {
    "duration": 28,
    "start_time": "2022-10-28T17:17:31.721Z"
   },
   {
    "duration": 50,
    "start_time": "2022-10-28T17:18:04.443Z"
   },
   {
    "duration": 30,
    "start_time": "2022-10-28T17:20:00.301Z"
   },
   {
    "duration": 26,
    "start_time": "2022-10-28T17:20:19.366Z"
   },
   {
    "duration": 27,
    "start_time": "2022-10-28T17:21:05.866Z"
   },
   {
    "duration": 29,
    "start_time": "2022-10-28T17:21:52.556Z"
   },
   {
    "duration": 24,
    "start_time": "2022-10-28T17:22:02.245Z"
   },
   {
    "duration": 23,
    "start_time": "2022-10-28T17:22:10.718Z"
   },
   {
    "duration": 78,
    "start_time": "2022-10-28T17:22:21.522Z"
   },
   {
    "duration": 86,
    "start_time": "2022-10-28T17:26:05.247Z"
   },
   {
    "duration": 4,
    "start_time": "2022-10-28T17:26:10.344Z"
   },
   {
    "duration": 85,
    "start_time": "2022-10-28T17:26:11.061Z"
   },
   {
    "duration": 1025,
    "start_time": "2022-10-28T17:26:22.961Z"
   },
   {
    "duration": 174,
    "start_time": "2022-10-28T17:26:23.988Z"
   },
   {
    "duration": 29,
    "start_time": "2022-10-28T17:26:24.163Z"
   },
   {
    "duration": 10,
    "start_time": "2022-10-28T17:26:24.194Z"
   },
   {
    "duration": 28,
    "start_time": "2022-10-28T17:26:24.206Z"
   },
   {
    "duration": 63,
    "start_time": "2022-10-28T17:26:24.236Z"
   },
   {
    "duration": 140,
    "start_time": "2022-10-28T17:26:24.301Z"
   },
   {
    "duration": 9,
    "start_time": "2022-10-28T17:26:24.442Z"
   },
   {
    "duration": 8,
    "start_time": "2022-10-28T17:26:24.452Z"
   },
   {
    "duration": 4,
    "start_time": "2022-10-28T17:26:24.463Z"
   },
   {
    "duration": 91,
    "start_time": "2022-10-28T17:26:24.468Z"
   },
   {
    "duration": 19,
    "start_time": "2022-10-28T17:26:24.560Z"
   },
   {
    "duration": 12,
    "start_time": "2022-10-28T17:26:24.580Z"
   },
   {
    "duration": 107,
    "start_time": "2022-10-28T17:26:24.594Z"
   },
   {
    "duration": 7,
    "start_time": "2022-10-28T17:26:24.703Z"
   },
   {
    "duration": 56,
    "start_time": "2022-10-28T17:26:24.711Z"
   },
   {
    "duration": 35,
    "start_time": "2022-10-28T17:26:24.768Z"
   },
   {
    "duration": 4,
    "start_time": "2022-10-28T17:26:24.804Z"
   },
   {
    "duration": 24,
    "start_time": "2022-10-28T17:26:24.810Z"
   },
   {
    "duration": 5,
    "start_time": "2022-10-28T17:26:24.836Z"
   },
   {
    "duration": 287,
    "start_time": "2022-10-28T17:26:24.843Z"
   },
   {
    "duration": 50,
    "start_time": "2022-10-28T17:26:25.133Z"
   },
   {
    "duration": 12,
    "start_time": "2022-10-28T17:26:25.185Z"
   },
   {
    "duration": 10,
    "start_time": "2022-10-28T17:26:25.199Z"
   },
   {
    "duration": 25,
    "start_time": "2022-10-28T17:26:25.211Z"
   },
   {
    "duration": 48,
    "start_time": "2022-10-28T17:26:25.238Z"
   },
   {
    "duration": 48,
    "start_time": "2022-10-28T17:26:25.288Z"
   },
   {
    "duration": 70,
    "start_time": "2022-10-28T17:26:25.338Z"
   },
   {
    "duration": 23,
    "start_time": "2022-10-28T17:26:25.410Z"
   },
   {
    "duration": 8,
    "start_time": "2022-10-28T17:26:25.435Z"
   },
   {
    "duration": 20,
    "start_time": "2022-10-28T17:26:25.445Z"
   },
   {
    "duration": 6,
    "start_time": "2022-10-28T17:26:25.467Z"
   },
   {
    "duration": 16,
    "start_time": "2022-10-28T17:26:25.475Z"
   },
   {
    "duration": 4,
    "start_time": "2022-10-28T17:26:25.493Z"
   },
   {
    "duration": 113,
    "start_time": "2022-10-28T17:26:25.499Z"
   },
   {
    "duration": 22,
    "start_time": "2022-10-28T17:26:25.614Z"
   },
   {
    "duration": 24,
    "start_time": "2022-10-28T17:26:25.637Z"
   },
   {
    "duration": 12,
    "start_time": "2022-10-28T17:26:25.662Z"
   },
   {
    "duration": 67,
    "start_time": "2022-10-28T17:26:25.676Z"
   },
   {
    "duration": 22,
    "start_time": "2022-10-28T17:26:25.744Z"
   },
   {
    "duration": 134,
    "start_time": "2022-10-28T17:26:25.767Z"
   },
   {
    "duration": 24,
    "start_time": "2022-10-28T17:27:21.911Z"
   },
   {
    "duration": 1118,
    "start_time": "2022-10-28T17:34:41.045Z"
   },
   {
    "duration": 178,
    "start_time": "2022-10-28T17:34:42.165Z"
   },
   {
    "duration": 19,
    "start_time": "2022-10-28T17:34:42.345Z"
   },
   {
    "duration": 10,
    "start_time": "2022-10-28T17:34:42.366Z"
   },
   {
    "duration": 15,
    "start_time": "2022-10-28T17:34:42.378Z"
   },
   {
    "duration": 90,
    "start_time": "2022-10-28T17:34:42.394Z"
   },
   {
    "duration": 131,
    "start_time": "2022-10-28T17:34:42.486Z"
   },
   {
    "duration": 18,
    "start_time": "2022-10-28T17:34:42.619Z"
   },
   {
    "duration": 7,
    "start_time": "2022-10-28T17:34:42.639Z"
   },
   {
    "duration": 7,
    "start_time": "2022-10-28T17:34:42.648Z"
   },
   {
    "duration": 84,
    "start_time": "2022-10-28T17:34:42.657Z"
   },
   {
    "duration": 19,
    "start_time": "2022-10-28T17:34:42.743Z"
   },
   {
    "duration": 12,
    "start_time": "2022-10-28T17:34:42.763Z"
   },
   {
    "duration": 106,
    "start_time": "2022-10-28T17:34:42.778Z"
   },
   {
    "duration": 7,
    "start_time": "2022-10-28T17:34:42.885Z"
   },
   {
    "duration": 67,
    "start_time": "2022-10-28T17:34:42.894Z"
   },
   {
    "duration": 34,
    "start_time": "2022-10-28T17:34:42.962Z"
   },
   {
    "duration": 4,
    "start_time": "2022-10-28T17:34:42.998Z"
   },
   {
    "duration": 8,
    "start_time": "2022-10-28T17:34:43.003Z"
   },
   {
    "duration": 23,
    "start_time": "2022-10-28T17:34:43.013Z"
   },
   {
    "duration": 277,
    "start_time": "2022-10-28T17:34:43.038Z"
   },
   {
    "duration": 52,
    "start_time": "2022-10-28T17:34:43.317Z"
   },
   {
    "duration": 12,
    "start_time": "2022-10-28T17:34:43.371Z"
   },
   {
    "duration": 11,
    "start_time": "2022-10-28T17:34:43.385Z"
   },
   {
    "duration": 4,
    "start_time": "2022-10-28T17:34:43.398Z"
   },
   {
    "duration": 68,
    "start_time": "2022-10-28T17:34:43.404Z"
   },
   {
    "duration": 35,
    "start_time": "2022-10-28T17:34:43.474Z"
   },
   {
    "duration": 84,
    "start_time": "2022-10-28T17:34:43.511Z"
   },
   {
    "duration": 8,
    "start_time": "2022-10-28T17:34:43.597Z"
   },
   {
    "duration": 16,
    "start_time": "2022-10-28T17:34:43.606Z"
   },
   {
    "duration": 13,
    "start_time": "2022-10-28T17:34:43.633Z"
   },
   {
    "duration": 4,
    "start_time": "2022-10-28T17:34:43.648Z"
   },
   {
    "duration": 14,
    "start_time": "2022-10-28T17:34:43.653Z"
   },
   {
    "duration": 5,
    "start_time": "2022-10-28T17:34:43.669Z"
   },
   {
    "duration": 103,
    "start_time": "2022-10-28T17:34:43.676Z"
   },
   {
    "duration": 15,
    "start_time": "2022-10-28T17:34:43.780Z"
   },
   {
    "duration": 46,
    "start_time": "2022-10-28T17:34:43.796Z"
   },
   {
    "duration": 12,
    "start_time": "2022-10-28T17:34:43.844Z"
   },
   {
    "duration": 22,
    "start_time": "2022-10-28T17:34:43.857Z"
   },
   {
    "duration": 66,
    "start_time": "2022-10-28T17:34:43.881Z"
   },
   {
    "duration": 24,
    "start_time": "2022-10-28T17:34:43.950Z"
   },
   {
    "duration": 41,
    "start_time": "2022-10-28T17:45:00.976Z"
   },
   {
    "duration": 144,
    "start_time": "2022-10-28T17:47:10.338Z"
   },
   {
    "duration": 52,
    "start_time": "2022-10-28T17:47:26.831Z"
   },
   {
    "duration": 232,
    "start_time": "2022-10-28T17:48:16.927Z"
   },
   {
    "duration": 47,
    "start_time": "2022-10-28T17:48:44.395Z"
   },
   {
    "duration": 47,
    "start_time": "2022-10-28T17:48:54.724Z"
   },
   {
    "duration": 52,
    "start_time": "2022-10-28T17:49:01.695Z"
   },
   {
    "duration": 68,
    "start_time": "2022-10-28T17:49:39.983Z"
   },
   {
    "duration": 70,
    "start_time": "2022-10-28T17:49:49.395Z"
   },
   {
    "duration": 64,
    "start_time": "2022-10-28T17:50:32.417Z"
   },
   {
    "duration": 664,
    "start_time": "2022-10-28T17:50:38.981Z"
   },
   {
    "duration": 76,
    "start_time": "2022-10-28T17:51:06.936Z"
   },
   {
    "duration": 67,
    "start_time": "2022-10-28T17:51:31.647Z"
   },
   {
    "duration": 653,
    "start_time": "2022-10-28T17:51:48.425Z"
   },
   {
    "duration": 48,
    "start_time": "2022-10-28T17:52:16.871Z"
   },
   {
    "duration": 44,
    "start_time": "2022-10-28T17:55:26.699Z"
   },
   {
    "duration": 44,
    "start_time": "2022-10-28T17:55:39.165Z"
   },
   {
    "duration": 45,
    "start_time": "2022-10-28T17:56:35.278Z"
   },
   {
    "duration": 44,
    "start_time": "2022-10-28T17:56:54.965Z"
   },
   {
    "duration": 50,
    "start_time": "2022-10-28T18:02:31.643Z"
   },
   {
    "duration": 46,
    "start_time": "2022-10-28T18:03:34.049Z"
   },
   {
    "duration": 21,
    "start_time": "2022-10-28T18:04:16.656Z"
   },
   {
    "duration": 45,
    "start_time": "2022-10-28T18:04:56.417Z"
   },
   {
    "duration": 45,
    "start_time": "2022-10-28T18:06:15.572Z"
   },
   {
    "duration": 14,
    "start_time": "2022-10-28T18:28:02.382Z"
   },
   {
    "duration": 23,
    "start_time": "2022-10-28T20:34:02.971Z"
   },
   {
    "duration": 13,
    "start_time": "2022-10-28T20:34:19.794Z"
   },
   {
    "duration": 22,
    "start_time": "2022-10-28T20:34:26.079Z"
   },
   {
    "duration": 29,
    "start_time": "2022-10-28T20:34:40.810Z"
   },
   {
    "duration": 24,
    "start_time": "2022-10-28T20:34:47.161Z"
   },
   {
    "duration": 1102,
    "start_time": "2022-10-29T19:02:04.269Z"
   },
   {
    "duration": 813,
    "start_time": "2022-10-29T19:02:05.373Z"
   },
   {
    "duration": 17,
    "start_time": "2022-10-29T19:02:06.187Z"
   },
   {
    "duration": 10,
    "start_time": "2022-10-29T19:02:06.205Z"
   },
   {
    "duration": 11,
    "start_time": "2022-10-29T19:02:06.217Z"
   },
   {
    "duration": 57,
    "start_time": "2022-10-29T19:02:06.229Z"
   },
   {
    "duration": 119,
    "start_time": "2022-10-29T19:02:06.288Z"
   },
   {
    "duration": 14,
    "start_time": "2022-10-29T19:02:06.408Z"
   },
   {
    "duration": 7,
    "start_time": "2022-10-29T19:02:06.423Z"
   },
   {
    "duration": 8,
    "start_time": "2022-10-29T19:02:06.431Z"
   },
   {
    "duration": 76,
    "start_time": "2022-10-29T19:02:06.441Z"
   },
   {
    "duration": 17,
    "start_time": "2022-10-29T19:02:06.522Z"
   },
   {
    "duration": 10,
    "start_time": "2022-10-29T19:02:06.541Z"
   },
   {
    "duration": 98,
    "start_time": "2022-10-29T19:02:06.553Z"
   },
   {
    "duration": 6,
    "start_time": "2022-10-29T19:02:06.653Z"
   },
   {
    "duration": 43,
    "start_time": "2022-10-29T19:02:06.660Z"
   },
   {
    "duration": 60,
    "start_time": "2022-10-29T19:02:06.705Z"
   },
   {
    "duration": 30,
    "start_time": "2022-10-29T19:02:06.766Z"
   },
   {
    "duration": 5,
    "start_time": "2022-10-29T19:02:06.798Z"
   },
   {
    "duration": 6,
    "start_time": "2022-10-29T19:02:06.822Z"
   },
   {
    "duration": 9,
    "start_time": "2022-10-29T19:02:06.830Z"
   },
   {
    "duration": 263,
    "start_time": "2022-10-29T19:02:06.840Z"
   },
   {
    "duration": 45,
    "start_time": "2022-10-29T19:02:07.105Z"
   },
   {
    "duration": 10,
    "start_time": "2022-10-29T19:02:07.152Z"
   },
   {
    "duration": 12,
    "start_time": "2022-10-29T19:02:07.163Z"
   },
   {
    "duration": 4,
    "start_time": "2022-10-29T19:02:07.176Z"
   },
   {
    "duration": 65,
    "start_time": "2022-10-29T19:02:07.182Z"
   },
   {
    "duration": 36,
    "start_time": "2022-10-29T19:02:07.248Z"
   },
   {
    "duration": 78,
    "start_time": "2022-10-29T19:02:07.286Z"
   },
   {
    "duration": 9,
    "start_time": "2022-10-29T19:02:07.366Z"
   },
   {
    "duration": 10,
    "start_time": "2022-10-29T19:02:07.377Z"
   },
   {
    "duration": 13,
    "start_time": "2022-10-29T19:02:07.388Z"
   },
   {
    "duration": 19,
    "start_time": "2022-10-29T19:02:07.403Z"
   },
   {
    "duration": 10,
    "start_time": "2022-10-29T19:02:07.423Z"
   },
   {
    "duration": 11,
    "start_time": "2022-10-29T19:02:07.434Z"
   },
   {
    "duration": 88,
    "start_time": "2022-10-29T19:02:07.446Z"
   },
   {
    "duration": 13,
    "start_time": "2022-10-29T19:02:07.536Z"
   },
   {
    "duration": 21,
    "start_time": "2022-10-29T19:02:07.550Z"
   },
   {
    "duration": 11,
    "start_time": "2022-10-29T19:02:07.572Z"
   },
   {
    "duration": 53,
    "start_time": "2022-10-29T19:02:07.584Z"
   },
   {
    "duration": 21,
    "start_time": "2022-10-29T19:02:07.640Z"
   },
   {
    "duration": 68,
    "start_time": "2022-10-29T19:02:07.662Z"
   },
   {
    "duration": 65,
    "start_time": "2022-10-29T19:02:07.732Z"
   },
   {
    "duration": 96,
    "start_time": "2022-10-29T19:57:29.116Z"
   },
   {
    "duration": 4,
    "start_time": "2022-10-29T20:00:10.781Z"
   },
   {
    "duration": 33,
    "start_time": "2022-10-29T20:01:49.171Z"
   },
   {
    "duration": 4,
    "start_time": "2022-10-29T20:02:27.105Z"
   },
   {
    "duration": 22,
    "start_time": "2022-10-29T20:02:35.185Z"
   },
   {
    "duration": 1133,
    "start_time": "2022-10-30T11:40:35.112Z"
   },
   {
    "duration": 196,
    "start_time": "2022-10-30T11:40:36.247Z"
   },
   {
    "duration": 19,
    "start_time": "2022-10-30T11:40:36.444Z"
   },
   {
    "duration": 11,
    "start_time": "2022-10-30T11:40:36.465Z"
   },
   {
    "duration": 32,
    "start_time": "2022-10-30T11:40:36.480Z"
   },
   {
    "duration": 96,
    "start_time": "2022-10-30T11:40:36.514Z"
   },
   {
    "duration": 136,
    "start_time": "2022-10-30T11:40:36.612Z"
   },
   {
    "duration": 7,
    "start_time": "2022-10-30T11:40:36.749Z"
   },
   {
    "duration": 7,
    "start_time": "2022-10-30T11:40:36.758Z"
   },
   {
    "duration": 5,
    "start_time": "2022-10-30T11:40:36.767Z"
   },
   {
    "duration": 88,
    "start_time": "2022-10-30T11:40:36.773Z"
   },
   {
    "duration": 19,
    "start_time": "2022-10-30T11:40:36.862Z"
   },
   {
    "duration": 11,
    "start_time": "2022-10-30T11:40:36.883Z"
   },
   {
    "duration": 88,
    "start_time": "2022-10-30T11:40:36.910Z"
   },
   {
    "duration": 7,
    "start_time": "2022-10-30T11:40:37.008Z"
   },
   {
    "duration": 46,
    "start_time": "2022-10-30T11:40:37.017Z"
   },
   {
    "duration": 70,
    "start_time": "2022-10-30T11:40:37.065Z"
   },
   {
    "duration": 32,
    "start_time": "2022-10-30T11:40:37.136Z"
   },
   {
    "duration": 5,
    "start_time": "2022-10-30T11:40:37.171Z"
   },
   {
    "duration": 11,
    "start_time": "2022-10-30T11:40:37.178Z"
   },
   {
    "duration": 5,
    "start_time": "2022-10-30T11:40:37.210Z"
   },
   {
    "duration": 335,
    "start_time": "2022-10-30T11:40:37.216Z"
   },
   {
    "duration": 56,
    "start_time": "2022-10-30T11:40:37.553Z"
   },
   {
    "duration": 21,
    "start_time": "2022-10-30T11:40:37.611Z"
   },
   {
    "duration": 26,
    "start_time": "2022-10-30T11:40:37.633Z"
   },
   {
    "duration": 8,
    "start_time": "2022-10-30T11:40:37.660Z"
   },
   {
    "duration": 63,
    "start_time": "2022-10-30T11:40:37.670Z"
   },
   {
    "duration": 34,
    "start_time": "2022-10-30T11:40:37.735Z"
   },
   {
    "duration": 91,
    "start_time": "2022-10-30T11:40:37.771Z"
   },
   {
    "duration": 10,
    "start_time": "2022-10-30T11:40:37.864Z"
   },
   {
    "duration": 13,
    "start_time": "2022-10-30T11:40:37.876Z"
   },
   {
    "duration": 24,
    "start_time": "2022-10-30T11:40:37.891Z"
   },
   {
    "duration": 19,
    "start_time": "2022-10-30T11:40:37.917Z"
   },
   {
    "duration": 29,
    "start_time": "2022-10-30T11:40:37.938Z"
   },
   {
    "duration": 20,
    "start_time": "2022-10-30T11:40:37.969Z"
   },
   {
    "duration": 93,
    "start_time": "2022-10-30T11:40:37.991Z"
   },
   {
    "duration": 15,
    "start_time": "2022-10-30T11:40:38.086Z"
   },
   {
    "duration": 32,
    "start_time": "2022-10-30T11:40:38.103Z"
   },
   {
    "duration": 12,
    "start_time": "2022-10-30T11:40:38.136Z"
   },
   {
    "duration": 71,
    "start_time": "2022-10-30T11:40:38.149Z"
   },
   {
    "duration": 25,
    "start_time": "2022-10-30T11:40:38.224Z"
   },
   {
    "duration": 67,
    "start_time": "2022-10-30T11:40:38.250Z"
   },
   {
    "duration": 4,
    "start_time": "2022-10-30T11:40:38.318Z"
   },
   {
    "duration": 22,
    "start_time": "2022-10-30T11:40:38.323Z"
   },
   {
    "duration": 1200,
    "start_time": "2022-10-31T12:43:39.243Z"
   },
   {
    "duration": 663,
    "start_time": "2022-10-31T12:43:40.445Z"
   },
   {
    "duration": 21,
    "start_time": "2022-10-31T12:43:41.109Z"
   },
   {
    "duration": 12,
    "start_time": "2022-10-31T12:43:41.132Z"
   },
   {
    "duration": 13,
    "start_time": "2022-10-31T12:43:41.147Z"
   },
   {
    "duration": 61,
    "start_time": "2022-10-31T12:43:41.178Z"
   },
   {
    "duration": 151,
    "start_time": "2022-10-31T12:43:41.241Z"
   },
   {
    "duration": 8,
    "start_time": "2022-10-31T12:43:41.394Z"
   },
   {
    "duration": 10,
    "start_time": "2022-10-31T12:43:41.405Z"
   },
   {
    "duration": 6,
    "start_time": "2022-10-31T12:43:41.416Z"
   },
   {
    "duration": 104,
    "start_time": "2022-10-31T12:43:41.423Z"
   },
   {
    "duration": 21,
    "start_time": "2022-10-31T12:43:41.529Z"
   },
   {
    "duration": 34,
    "start_time": "2022-10-31T12:43:41.552Z"
   },
   {
    "duration": 124,
    "start_time": "2022-10-31T12:43:41.590Z"
   },
   {
    "duration": 8,
    "start_time": "2022-10-31T12:43:41.716Z"
   },
   {
    "duration": 73,
    "start_time": "2022-10-31T12:43:41.726Z"
   },
   {
    "duration": 53,
    "start_time": "2022-10-31T12:43:41.801Z"
   },
   {
    "duration": 47,
    "start_time": "2022-10-31T12:43:41.856Z"
   },
   {
    "duration": 5,
    "start_time": "2022-10-31T12:43:41.904Z"
   },
   {
    "duration": 8,
    "start_time": "2022-10-31T12:43:41.911Z"
   },
   {
    "duration": 7,
    "start_time": "2022-10-31T12:43:41.921Z"
   },
   {
    "duration": 321,
    "start_time": "2022-10-31T12:43:41.929Z"
   },
   {
    "duration": 53,
    "start_time": "2022-10-31T12:43:42.252Z"
   },
   {
    "duration": 11,
    "start_time": "2022-10-31T12:43:42.307Z"
   },
   {
    "duration": 14,
    "start_time": "2022-10-31T12:43:42.320Z"
   },
   {
    "duration": 10,
    "start_time": "2022-10-31T12:43:42.336Z"
   },
   {
    "duration": 76,
    "start_time": "2022-10-31T12:43:42.347Z"
   },
   {
    "duration": 37,
    "start_time": "2022-10-31T12:43:42.425Z"
   },
   {
    "duration": 90,
    "start_time": "2022-10-31T12:43:42.464Z"
   },
   {
    "duration": 26,
    "start_time": "2022-10-31T12:43:42.555Z"
   },
   {
    "duration": 15,
    "start_time": "2022-10-31T12:43:42.583Z"
   },
   {
    "duration": 17,
    "start_time": "2022-10-31T12:43:42.600Z"
   },
   {
    "duration": 5,
    "start_time": "2022-10-31T12:43:42.618Z"
   },
   {
    "duration": 12,
    "start_time": "2022-10-31T12:43:42.626Z"
   },
   {
    "duration": 10,
    "start_time": "2022-10-31T12:43:42.640Z"
   },
   {
    "duration": 104,
    "start_time": "2022-10-31T12:43:42.678Z"
   },
   {
    "duration": 19,
    "start_time": "2022-10-31T12:43:42.784Z"
   },
   {
    "duration": 32,
    "start_time": "2022-10-31T12:43:42.806Z"
   },
   {
    "duration": 50,
    "start_time": "2022-10-31T12:43:42.840Z"
   },
   {
    "duration": 28,
    "start_time": "2022-10-31T12:43:42.892Z"
   },
   {
    "duration": 73,
    "start_time": "2022-10-31T12:43:42.924Z"
   },
   {
    "duration": 32,
    "start_time": "2022-10-31T12:43:42.999Z"
   },
   {
    "duration": 4,
    "start_time": "2022-10-31T12:43:43.078Z"
   },
   {
    "duration": 34,
    "start_time": "2022-10-31T12:43:43.084Z"
   },
   {
    "duration": 117,
    "start_time": "2022-10-31T12:59:12.007Z"
   },
   {
    "duration": 1172,
    "start_time": "2022-10-31T14:16:37.236Z"
   },
   {
    "duration": 529,
    "start_time": "2022-10-31T14:16:38.410Z"
   },
   {
    "duration": 25,
    "start_time": "2022-10-31T14:16:38.941Z"
   },
   {
    "duration": 24,
    "start_time": "2022-10-31T14:16:38.968Z"
   },
   {
    "duration": 18,
    "start_time": "2022-10-31T14:16:38.994Z"
   },
   {
    "duration": 88,
    "start_time": "2022-10-31T14:16:39.014Z"
   },
   {
    "duration": 144,
    "start_time": "2022-10-31T14:16:39.103Z"
   },
   {
    "duration": 7,
    "start_time": "2022-10-31T14:16:39.249Z"
   },
   {
    "duration": 7,
    "start_time": "2022-10-31T14:16:39.258Z"
   },
   {
    "duration": 6,
    "start_time": "2022-10-31T14:16:39.266Z"
   },
   {
    "duration": 89,
    "start_time": "2022-10-31T14:16:39.273Z"
   },
   {
    "duration": 17,
    "start_time": "2022-10-31T14:16:39.363Z"
   },
   {
    "duration": 12,
    "start_time": "2022-10-31T14:16:39.381Z"
   },
   {
    "duration": 99,
    "start_time": "2022-10-31T14:16:39.395Z"
   },
   {
    "duration": 6,
    "start_time": "2022-10-31T14:16:39.496Z"
   },
   {
    "duration": 56,
    "start_time": "2022-10-31T14:16:39.504Z"
   },
   {
    "duration": 61,
    "start_time": "2022-10-31T14:16:39.562Z"
   },
   {
    "duration": 31,
    "start_time": "2022-10-31T14:16:39.624Z"
   },
   {
    "duration": 4,
    "start_time": "2022-10-31T14:16:39.656Z"
   },
   {
    "duration": 10,
    "start_time": "2022-10-31T14:16:39.661Z"
   },
   {
    "duration": 7,
    "start_time": "2022-10-31T14:16:39.672Z"
   },
   {
    "duration": 285,
    "start_time": "2022-10-31T14:16:39.680Z"
   },
   {
    "duration": 56,
    "start_time": "2022-10-31T14:16:39.967Z"
   },
   {
    "duration": 24,
    "start_time": "2022-10-31T14:16:40.025Z"
   },
   {
    "duration": 26,
    "start_time": "2022-10-31T14:16:40.050Z"
   },
   {
    "duration": 18,
    "start_time": "2022-10-31T14:16:40.077Z"
   },
   {
    "duration": 66,
    "start_time": "2022-10-31T14:16:40.096Z"
   },
   {
    "duration": 38,
    "start_time": "2022-10-31T14:16:40.163Z"
   },
   {
    "duration": 75,
    "start_time": "2022-10-31T14:16:40.203Z"
   },
   {
    "duration": 8,
    "start_time": "2022-10-31T14:16:40.279Z"
   },
   {
    "duration": 43,
    "start_time": "2022-10-31T14:16:40.288Z"
   },
   {
    "duration": 28,
    "start_time": "2022-10-31T14:16:40.332Z"
   },
   {
    "duration": 7,
    "start_time": "2022-10-31T14:16:40.362Z"
   },
   {
    "duration": 27,
    "start_time": "2022-10-31T14:16:40.371Z"
   },
   {
    "duration": 5,
    "start_time": "2022-10-31T14:16:40.400Z"
   },
   {
    "duration": 83,
    "start_time": "2022-10-31T14:16:40.407Z"
   },
   {
    "duration": 14,
    "start_time": "2022-10-31T14:16:40.492Z"
   },
   {
    "duration": 40,
    "start_time": "2022-10-31T14:16:40.508Z"
   },
   {
    "duration": 11,
    "start_time": "2022-10-31T14:16:40.550Z"
   },
   {
    "duration": 63,
    "start_time": "2022-10-31T14:16:40.563Z"
   },
   {
    "duration": 22,
    "start_time": "2022-10-31T14:16:40.629Z"
   },
   {
    "duration": 20,
    "start_time": "2022-10-31T14:16:40.652Z"
   },
   {
    "duration": 3,
    "start_time": "2022-10-31T14:16:40.723Z"
   },
   {
    "duration": 26,
    "start_time": "2022-10-31T14:16:40.728Z"
   },
   {
    "duration": 204,
    "start_time": "2022-10-31T15:00:08.107Z"
   },
   {
    "duration": 399,
    "start_time": "2022-10-31T15:05:26.284Z"
   },
   {
    "duration": 30,
    "start_time": "2022-10-31T15:05:37.175Z"
   },
   {
    "duration": 28,
    "start_time": "2022-10-31T15:06:56.175Z"
   },
   {
    "duration": 30,
    "start_time": "2022-10-31T15:07:58.034Z"
   },
   {
    "duration": 114,
    "start_time": "2022-10-31T15:08:12.355Z"
   },
   {
    "duration": 5,
    "start_time": "2022-10-31T15:11:09.115Z"
   },
   {
    "duration": 85,
    "start_time": "2022-10-31T15:16:45.515Z"
   },
   {
    "duration": 1133,
    "start_time": "2022-10-31T15:16:55.008Z"
   },
   {
    "duration": 161,
    "start_time": "2022-10-31T15:16:56.142Z"
   },
   {
    "duration": 21,
    "start_time": "2022-10-31T15:16:56.305Z"
   },
   {
    "duration": 10,
    "start_time": "2022-10-31T15:16:56.328Z"
   },
   {
    "duration": 13,
    "start_time": "2022-10-31T15:16:56.340Z"
   },
   {
    "duration": 76,
    "start_time": "2022-10-31T15:16:56.354Z"
   },
   {
    "duration": 119,
    "start_time": "2022-10-31T15:16:56.431Z"
   },
   {
    "duration": 7,
    "start_time": "2022-10-31T15:16:56.551Z"
   },
   {
    "duration": 7,
    "start_time": "2022-10-31T15:16:56.560Z"
   },
   {
    "duration": 5,
    "start_time": "2022-10-31T15:16:56.569Z"
   },
   {
    "duration": 92,
    "start_time": "2022-10-31T15:16:56.575Z"
   },
   {
    "duration": 17,
    "start_time": "2022-10-31T15:16:56.668Z"
   },
   {
    "duration": 11,
    "start_time": "2022-10-31T15:16:56.687Z"
   },
   {
    "duration": 99,
    "start_time": "2022-10-31T15:16:56.700Z"
   },
   {
    "duration": 7,
    "start_time": "2022-10-31T15:16:56.800Z"
   },
   {
    "duration": 55,
    "start_time": "2022-10-31T15:16:56.808Z"
   },
   {
    "duration": 44,
    "start_time": "2022-10-31T15:16:56.865Z"
   },
   {
    "duration": 41,
    "start_time": "2022-10-31T15:16:56.911Z"
   },
   {
    "duration": 4,
    "start_time": "2022-10-31T15:16:56.953Z"
   },
   {
    "duration": 144,
    "start_time": "2022-10-31T15:16:56.959Z"
   },
   {
    "duration": 6,
    "start_time": "2022-10-31T15:16:57.104Z"
   },
   {
    "duration": 20,
    "start_time": "2022-10-31T15:16:57.122Z"
   },
   {
    "duration": 19,
    "start_time": "2022-10-31T15:16:57.143Z"
   },
   {
    "duration": 246,
    "start_time": "2022-10-31T15:16:57.164Z"
   },
   {
    "duration": 49,
    "start_time": "2022-10-31T15:16:57.412Z"
   },
   {
    "duration": 13,
    "start_time": "2022-10-31T15:16:57.463Z"
   },
   {
    "duration": 38,
    "start_time": "2022-10-31T15:16:57.477Z"
   },
   {
    "duration": 29,
    "start_time": "2022-10-31T15:16:57.516Z"
   },
   {
    "duration": 75,
    "start_time": "2022-10-31T15:16:57.546Z"
   },
   {
    "duration": 43,
    "start_time": "2022-10-31T15:16:57.623Z"
   },
   {
    "duration": 74,
    "start_time": "2022-10-31T15:16:57.668Z"
   },
   {
    "duration": 8,
    "start_time": "2022-10-31T15:16:57.743Z"
   },
   {
    "duration": 26,
    "start_time": "2022-10-31T15:16:57.752Z"
   },
   {
    "duration": 31,
    "start_time": "2022-10-31T15:16:57.780Z"
   },
   {
    "duration": 19,
    "start_time": "2022-10-31T15:16:57.813Z"
   },
   {
    "duration": 46,
    "start_time": "2022-10-31T15:16:57.833Z"
   },
   {
    "duration": 40,
    "start_time": "2022-10-31T15:16:57.881Z"
   },
   {
    "duration": 103,
    "start_time": "2022-10-31T15:16:57.923Z"
   },
   {
    "duration": 14,
    "start_time": "2022-10-31T15:16:58.028Z"
   },
   {
    "duration": 40,
    "start_time": "2022-10-31T15:16:58.043Z"
   },
   {
    "duration": 28,
    "start_time": "2022-10-31T15:16:58.086Z"
   },
   {
    "duration": 38,
    "start_time": "2022-10-31T15:16:58.122Z"
   },
   {
    "duration": 25,
    "start_time": "2022-10-31T15:16:58.162Z"
   },
   {
    "duration": 26,
    "start_time": "2022-10-31T15:16:58.223Z"
   },
   {
    "duration": 19,
    "start_time": "2022-10-31T15:16:58.250Z"
   },
   {
    "duration": 54,
    "start_time": "2022-10-31T15:16:58.270Z"
   },
   {
    "duration": 1129,
    "start_time": "2022-10-31T15:20:44.303Z"
   },
   {
    "duration": 164,
    "start_time": "2022-10-31T15:20:45.434Z"
   },
   {
    "duration": 30,
    "start_time": "2022-10-31T15:20:45.599Z"
   },
   {
    "duration": 11,
    "start_time": "2022-10-31T15:20:45.631Z"
   },
   {
    "duration": 16,
    "start_time": "2022-10-31T15:20:45.645Z"
   },
   {
    "duration": 87,
    "start_time": "2022-10-31T15:20:45.663Z"
   },
   {
    "duration": 131,
    "start_time": "2022-10-31T15:20:45.751Z"
   },
   {
    "duration": 8,
    "start_time": "2022-10-31T15:20:45.884Z"
   },
   {
    "duration": 9,
    "start_time": "2022-10-31T15:20:45.893Z"
   },
   {
    "duration": 18,
    "start_time": "2022-10-31T15:20:45.904Z"
   },
   {
    "duration": 81,
    "start_time": "2022-10-31T15:20:45.923Z"
   },
   {
    "duration": 20,
    "start_time": "2022-10-31T15:20:46.005Z"
   },
   {
    "duration": 12,
    "start_time": "2022-10-31T15:20:46.026Z"
   },
   {
    "duration": 95,
    "start_time": "2022-10-31T15:20:46.041Z"
   },
   {
    "duration": 7,
    "start_time": "2022-10-31T15:20:46.137Z"
   },
   {
    "duration": 44,
    "start_time": "2022-10-31T15:20:46.145Z"
   },
   {
    "duration": 70,
    "start_time": "2022-10-31T15:20:46.191Z"
   },
   {
    "duration": 32,
    "start_time": "2022-10-31T15:20:46.262Z"
   },
   {
    "duration": 3,
    "start_time": "2022-10-31T15:20:46.296Z"
   },
   {
    "duration": 140,
    "start_time": "2022-10-31T15:20:46.301Z"
   },
   {
    "duration": 4,
    "start_time": "2022-10-31T15:20:46.443Z"
   },
   {
    "duration": 11,
    "start_time": "2022-10-31T15:20:46.449Z"
   },
   {
    "duration": 6,
    "start_time": "2022-10-31T15:20:46.461Z"
   },
   {
    "duration": 257,
    "start_time": "2022-10-31T15:20:46.468Z"
   },
   {
    "duration": 47,
    "start_time": "2022-10-31T15:20:46.727Z"
   },
   {
    "duration": 12,
    "start_time": "2022-10-31T15:20:46.775Z"
   },
   {
    "duration": 13,
    "start_time": "2022-10-31T15:20:46.789Z"
   },
   {
    "duration": 21,
    "start_time": "2022-10-31T15:20:46.804Z"
   },
   {
    "duration": 51,
    "start_time": "2022-10-31T15:20:46.826Z"
   },
   {
    "duration": 54,
    "start_time": "2022-10-31T15:20:46.879Z"
   },
   {
    "duration": 69,
    "start_time": "2022-10-31T15:20:46.935Z"
   },
   {
    "duration": 18,
    "start_time": "2022-10-31T15:20:47.006Z"
   },
   {
    "duration": 11,
    "start_time": "2022-10-31T15:20:47.025Z"
   },
   {
    "duration": 13,
    "start_time": "2022-10-31T15:20:47.037Z"
   },
   {
    "duration": 19,
    "start_time": "2022-10-31T15:20:47.052Z"
   },
   {
    "duration": 28,
    "start_time": "2022-10-31T15:20:47.073Z"
   },
   {
    "duration": 5,
    "start_time": "2022-10-31T15:20:47.103Z"
   },
   {
    "duration": 86,
    "start_time": "2022-10-31T15:20:47.109Z"
   },
   {
    "duration": 14,
    "start_time": "2022-10-31T15:20:47.197Z"
   },
   {
    "duration": 33,
    "start_time": "2022-10-31T15:20:47.213Z"
   },
   {
    "duration": 12,
    "start_time": "2022-10-31T15:20:47.249Z"
   },
   {
    "duration": 69,
    "start_time": "2022-10-31T15:20:47.263Z"
   },
   {
    "duration": 26,
    "start_time": "2022-10-31T15:20:47.333Z"
   },
   {
    "duration": 76,
    "start_time": "2022-10-31T15:20:47.360Z"
   },
   {
    "duration": 4,
    "start_time": "2022-10-31T15:20:47.437Z"
   },
   {
    "duration": 35,
    "start_time": "2022-10-31T15:20:47.442Z"
   },
   {
    "duration": 452,
    "start_time": "2022-10-31T15:25:30.722Z"
   },
   {
    "duration": 138,
    "start_time": "2022-10-31T15:29:26.002Z"
   },
   {
    "duration": 40,
    "start_time": "2022-10-31T15:29:48.762Z"
   },
   {
    "duration": 41,
    "start_time": "2022-10-31T15:31:49.122Z"
   },
   {
    "duration": 38,
    "start_time": "2022-10-31T15:32:13.962Z"
   },
   {
    "duration": 38,
    "start_time": "2022-10-31T15:32:29.254Z"
   },
   {
    "duration": 40,
    "start_time": "2022-10-31T15:33:59.122Z"
   },
   {
    "duration": 5,
    "start_time": "2022-10-31T15:38:45.042Z"
   },
   {
    "duration": 5,
    "start_time": "2022-10-31T15:39:09.462Z"
   },
   {
    "duration": 6,
    "start_time": "2022-10-31T15:39:19.262Z"
   },
   {
    "duration": 5,
    "start_time": "2022-10-31T15:39:26.515Z"
   },
   {
    "duration": 5,
    "start_time": "2022-10-31T15:39:34.482Z"
   },
   {
    "duration": 6,
    "start_time": "2022-10-31T15:40:26.374Z"
   },
   {
    "duration": 6,
    "start_time": "2022-10-31T15:40:48.574Z"
   },
   {
    "duration": 5,
    "start_time": "2022-10-31T15:41:12.542Z"
   },
   {
    "duration": 5,
    "start_time": "2022-10-31T15:41:36.142Z"
   },
   {
    "duration": 5,
    "start_time": "2022-10-31T15:42:01.282Z"
   },
   {
    "duration": 5,
    "start_time": "2022-10-31T15:42:09.742Z"
   },
   {
    "duration": 5,
    "start_time": "2022-10-31T15:42:44.515Z"
   },
   {
    "duration": 1057,
    "start_time": "2022-11-01T11:30:20.950Z"
   },
   {
    "duration": 148,
    "start_time": "2022-11-01T11:30:22.009Z"
   },
   {
    "duration": 17,
    "start_time": "2022-11-01T11:30:22.158Z"
   },
   {
    "duration": 9,
    "start_time": "2022-11-01T11:30:22.177Z"
   },
   {
    "duration": 23,
    "start_time": "2022-11-01T11:30:22.188Z"
   },
   {
    "duration": 58,
    "start_time": "2022-11-01T11:30:22.212Z"
   },
   {
    "duration": 128,
    "start_time": "2022-11-01T11:30:22.272Z"
   },
   {
    "duration": 8,
    "start_time": "2022-11-01T11:30:22.401Z"
   },
   {
    "duration": 9,
    "start_time": "2022-11-01T11:30:22.411Z"
   },
   {
    "duration": 7,
    "start_time": "2022-11-01T11:30:22.421Z"
   },
   {
    "duration": 77,
    "start_time": "2022-11-01T11:30:22.429Z"
   },
   {
    "duration": 17,
    "start_time": "2022-11-01T11:30:22.508Z"
   },
   {
    "duration": 10,
    "start_time": "2022-11-01T11:30:22.526Z"
   },
   {
    "duration": 100,
    "start_time": "2022-11-01T11:30:22.539Z"
   },
   {
    "duration": 6,
    "start_time": "2022-11-01T11:30:22.640Z"
   },
   {
    "duration": 42,
    "start_time": "2022-11-01T11:30:22.648Z"
   },
   {
    "duration": 46,
    "start_time": "2022-11-01T11:30:22.705Z"
   },
   {
    "duration": 30,
    "start_time": "2022-11-01T11:30:22.753Z"
   },
   {
    "duration": 23,
    "start_time": "2022-11-01T11:30:22.784Z"
   },
   {
    "duration": 144,
    "start_time": "2022-11-01T11:30:22.809Z"
   },
   {
    "duration": 5,
    "start_time": "2022-11-01T11:30:22.954Z"
   },
   {
    "duration": 5,
    "start_time": "2022-11-01T11:30:22.960Z"
   },
   {
    "duration": 4,
    "start_time": "2022-11-01T11:30:22.967Z"
   },
   {
    "duration": 259,
    "start_time": "2022-11-01T11:30:22.973Z"
   },
   {
    "duration": 48,
    "start_time": "2022-11-01T11:30:23.233Z"
   },
   {
    "duration": 23,
    "start_time": "2022-11-01T11:30:23.283Z"
   },
   {
    "duration": 8,
    "start_time": "2022-11-01T11:30:23.308Z"
   },
   {
    "duration": 5,
    "start_time": "2022-11-01T11:30:23.318Z"
   },
   {
    "duration": 49,
    "start_time": "2022-11-01T11:30:23.325Z"
   },
   {
    "duration": 58,
    "start_time": "2022-11-01T11:30:23.376Z"
   },
   {
    "duration": 74,
    "start_time": "2022-11-01T11:30:23.436Z"
   },
   {
    "duration": 9,
    "start_time": "2022-11-01T11:30:23.511Z"
   },
   {
    "duration": 8,
    "start_time": "2022-11-01T11:30:23.522Z"
   },
   {
    "duration": 13,
    "start_time": "2022-11-01T11:30:23.532Z"
   },
   {
    "duration": 415,
    "start_time": "2022-11-01T11:30:23.547Z"
   },
   {
    "duration": 3,
    "start_time": "2022-11-01T11:30:23.965Z"
   },
   {
    "duration": 37,
    "start_time": "2022-11-01T11:30:23.970Z"
   },
   {
    "duration": 18,
    "start_time": "2022-11-01T11:30:24.009Z"
   },
   {
    "duration": 109,
    "start_time": "2022-11-01T11:30:24.028Z"
   },
   {
    "duration": 14,
    "start_time": "2022-11-01T11:30:24.138Z"
   },
   {
    "duration": 55,
    "start_time": "2022-11-01T11:30:24.156Z"
   },
   {
    "duration": 13,
    "start_time": "2022-11-01T11:30:24.213Z"
   },
   {
    "duration": 22,
    "start_time": "2022-11-01T11:30:24.227Z"
   },
   {
    "duration": 71,
    "start_time": "2022-11-01T11:30:24.251Z"
   },
   {
    "duration": 25,
    "start_time": "2022-11-01T11:30:24.324Z"
   },
   {
    "duration": 4,
    "start_time": "2022-11-01T11:30:24.350Z"
   },
   {
    "duration": 26,
    "start_time": "2022-11-01T11:30:24.406Z"
   },
   {
    "duration": 62,
    "start_time": "2022-11-01T12:05:45.455Z"
   },
   {
    "duration": 1481,
    "start_time": "2022-11-01T12:05:52.850Z"
   },
   {
    "duration": 721,
    "start_time": "2022-11-01T12:05:54.334Z"
   },
   {
    "duration": 21,
    "start_time": "2022-11-01T12:05:55.057Z"
   },
   {
    "duration": 13,
    "start_time": "2022-11-01T12:05:55.079Z"
   },
   {
    "duration": 14,
    "start_time": "2022-11-01T12:05:55.094Z"
   },
   {
    "duration": 88,
    "start_time": "2022-11-01T12:05:55.110Z"
   },
   {
    "duration": 166,
    "start_time": "2022-11-01T12:05:55.200Z"
   },
   {
    "duration": 10,
    "start_time": "2022-11-01T12:05:55.368Z"
   },
   {
    "duration": 12,
    "start_time": "2022-11-01T12:05:55.380Z"
   },
   {
    "duration": 5,
    "start_time": "2022-11-01T12:05:55.394Z"
   },
   {
    "duration": 103,
    "start_time": "2022-11-01T12:05:55.401Z"
   },
   {
    "duration": 27,
    "start_time": "2022-11-01T12:05:55.506Z"
   },
   {
    "duration": 11,
    "start_time": "2022-11-01T12:05:55.535Z"
   },
   {
    "duration": 111,
    "start_time": "2022-11-01T12:05:55.550Z"
   },
   {
    "duration": 8,
    "start_time": "2022-11-01T12:05:55.662Z"
   },
   {
    "duration": 75,
    "start_time": "2022-11-01T12:05:55.673Z"
   },
   {
    "duration": 64,
    "start_time": "2022-11-01T12:05:55.750Z"
   },
   {
    "duration": 46,
    "start_time": "2022-11-01T12:05:55.816Z"
   },
   {
    "duration": 5,
    "start_time": "2022-11-01T12:05:55.864Z"
   },
   {
    "duration": 178,
    "start_time": "2022-11-01T12:05:55.870Z"
   },
   {
    "duration": 6,
    "start_time": "2022-11-01T12:05:56.050Z"
   },
   {
    "duration": 28,
    "start_time": "2022-11-01T12:05:56.057Z"
   },
   {
    "duration": 11,
    "start_time": "2022-11-01T12:05:56.087Z"
   },
   {
    "duration": 319,
    "start_time": "2022-11-01T12:05:56.101Z"
   },
   {
    "duration": 53,
    "start_time": "2022-11-01T12:05:56.421Z"
   },
   {
    "duration": 13,
    "start_time": "2022-11-01T12:05:56.476Z"
   },
   {
    "duration": 19,
    "start_time": "2022-11-01T12:05:56.491Z"
   },
   {
    "duration": 28,
    "start_time": "2022-11-01T12:05:56.512Z"
   },
   {
    "duration": 60,
    "start_time": "2022-11-01T12:05:56.542Z"
   },
   {
    "duration": 41,
    "start_time": "2022-11-01T12:05:56.603Z"
   },
   {
    "duration": 98,
    "start_time": "2022-11-01T12:05:56.646Z"
   },
   {
    "duration": 13,
    "start_time": "2022-11-01T12:05:56.746Z"
   },
   {
    "duration": 22,
    "start_time": "2022-11-01T12:05:56.761Z"
   },
   {
    "duration": 23,
    "start_time": "2022-11-01T12:05:56.785Z"
   },
   {
    "duration": 118,
    "start_time": "2022-11-01T12:05:56.810Z"
   },
   {
    "duration": 0,
    "start_time": "2022-11-01T12:05:56.931Z"
   },
   {
    "duration": 0,
    "start_time": "2022-11-01T12:05:56.933Z"
   },
   {
    "duration": 0,
    "start_time": "2022-11-01T12:05:56.934Z"
   },
   {
    "duration": 0,
    "start_time": "2022-11-01T12:05:56.935Z"
   },
   {
    "duration": 0,
    "start_time": "2022-11-01T12:05:56.937Z"
   },
   {
    "duration": 0,
    "start_time": "2022-11-01T12:05:56.938Z"
   },
   {
    "duration": 0,
    "start_time": "2022-11-01T12:05:56.939Z"
   },
   {
    "duration": 0,
    "start_time": "2022-11-01T12:05:56.941Z"
   },
   {
    "duration": 0,
    "start_time": "2022-11-01T12:05:56.942Z"
   },
   {
    "duration": 0,
    "start_time": "2022-11-01T12:05:56.944Z"
   },
   {
    "duration": 0,
    "start_time": "2022-11-01T12:05:56.945Z"
   },
   {
    "duration": 0,
    "start_time": "2022-11-01T12:05:56.946Z"
   },
   {
    "duration": 497,
    "start_time": "2022-11-01T12:06:24.657Z"
   },
   {
    "duration": 52,
    "start_time": "2022-11-01T12:06:39.304Z"
   },
   {
    "duration": 64,
    "start_time": "2022-11-01T12:07:28.410Z"
   },
   {
    "duration": 13,
    "start_time": "2022-11-01T12:07:37.532Z"
   },
   {
    "duration": 13,
    "start_time": "2022-11-01T12:07:44.234Z"
   },
   {
    "duration": 18,
    "start_time": "2022-11-01T12:08:10.872Z"
   },
   {
    "duration": 62,
    "start_time": "2022-11-01T12:09:56.724Z"
   },
   {
    "duration": 64,
    "start_time": "2022-11-01T12:10:06.222Z"
   },
   {
    "duration": 62,
    "start_time": "2022-11-01T12:10:10.906Z"
   },
   {
    "duration": 57,
    "start_time": "2022-11-01T12:10:15.566Z"
   },
   {
    "duration": 47,
    "start_time": "2022-11-01T12:15:06.805Z"
   },
   {
    "duration": 54,
    "start_time": "2022-11-01T12:15:33.152Z"
   },
   {
    "duration": 51,
    "start_time": "2022-11-01T12:17:16.665Z"
   },
   {
    "duration": 1143,
    "start_time": "2022-12-12T13:02:34.140Z"
   },
   {
    "duration": 816,
    "start_time": "2022-12-12T13:02:35.285Z"
   },
   {
    "duration": 20,
    "start_time": "2022-12-12T13:02:36.102Z"
   },
   {
    "duration": 25,
    "start_time": "2022-12-12T13:02:36.123Z"
   },
   {
    "duration": 22,
    "start_time": "2022-12-12T13:02:36.150Z"
   },
   {
    "duration": 81,
    "start_time": "2022-12-12T13:02:36.173Z"
   },
   {
    "duration": 115,
    "start_time": "2022-12-12T13:02:36.255Z"
   },
   {
    "duration": 10,
    "start_time": "2022-12-12T13:02:36.372Z"
   },
   {
    "duration": 32,
    "start_time": "2022-12-12T13:02:36.384Z"
   },
   {
    "duration": 32,
    "start_time": "2022-12-12T13:02:36.417Z"
   },
   {
    "duration": 107,
    "start_time": "2022-12-12T13:02:36.451Z"
   },
   {
    "duration": 17,
    "start_time": "2022-12-12T13:02:36.560Z"
   },
   {
    "duration": 36,
    "start_time": "2022-12-12T13:02:36.578Z"
   },
   {
    "duration": 105,
    "start_time": "2022-12-12T13:02:36.617Z"
   },
   {
    "duration": 7,
    "start_time": "2022-12-12T13:02:36.723Z"
   },
   {
    "duration": 72,
    "start_time": "2022-12-12T13:02:36.731Z"
   },
   {
    "duration": 49,
    "start_time": "2022-12-12T13:02:36.805Z"
   },
   {
    "duration": 47,
    "start_time": "2022-12-12T13:02:36.855Z"
   },
   {
    "duration": 16,
    "start_time": "2022-12-12T13:02:36.904Z"
   },
   {
    "duration": 181,
    "start_time": "2022-12-12T13:02:36.922Z"
   },
   {
    "duration": 4,
    "start_time": "2022-12-12T13:02:37.105Z"
   },
   {
    "duration": 46,
    "start_time": "2022-12-12T13:02:37.110Z"
   },
   {
    "duration": 56,
    "start_time": "2022-12-12T13:02:37.158Z"
   },
   {
    "duration": 271,
    "start_time": "2022-12-12T13:02:37.216Z"
   },
   {
    "duration": 48,
    "start_time": "2022-12-12T13:02:37.488Z"
   },
   {
    "duration": 26,
    "start_time": "2022-12-12T13:02:37.537Z"
   },
   {
    "duration": 48,
    "start_time": "2022-12-12T13:02:37.565Z"
   },
   {
    "duration": 33,
    "start_time": "2022-12-12T13:02:37.615Z"
   },
   {
    "duration": 78,
    "start_time": "2022-12-12T13:02:37.649Z"
   },
   {
    "duration": 34,
    "start_time": "2022-12-12T13:02:37.728Z"
   },
   {
    "duration": 76,
    "start_time": "2022-12-12T13:02:37.764Z"
   },
   {
    "duration": 8,
    "start_time": "2022-12-12T13:02:37.841Z"
   },
   {
    "duration": 26,
    "start_time": "2022-12-12T13:02:37.850Z"
   },
   {
    "duration": 40,
    "start_time": "2022-12-12T13:02:37.878Z"
   },
   {
    "duration": 444,
    "start_time": "2022-12-12T13:02:37.920Z"
   },
   {
    "duration": 5,
    "start_time": "2022-12-12T13:02:38.365Z"
   },
   {
    "duration": 53,
    "start_time": "2022-12-12T13:02:38.371Z"
   },
   {
    "duration": 29,
    "start_time": "2022-12-12T13:02:38.426Z"
   },
   {
    "duration": 109,
    "start_time": "2022-12-12T13:02:38.456Z"
   },
   {
    "duration": 14,
    "start_time": "2022-12-12T13:02:38.567Z"
   },
   {
    "duration": 56,
    "start_time": "2022-12-12T13:02:38.584Z"
   },
   {
    "duration": 25,
    "start_time": "2022-12-12T13:02:38.641Z"
   },
   {
    "duration": 83,
    "start_time": "2022-12-12T13:02:38.668Z"
   },
   {
    "duration": 34,
    "start_time": "2022-12-12T13:02:38.753Z"
   },
   {
    "duration": 23,
    "start_time": "2022-12-12T13:02:38.788Z"
   },
   {
    "duration": 6,
    "start_time": "2022-12-12T13:02:38.813Z"
   },
   {
    "duration": 65,
    "start_time": "2022-12-12T13:02:38.821Z"
   },
   {
    "duration": 1247,
    "start_time": "2022-12-14T13:34:38.352Z"
   },
   {
    "duration": 318,
    "start_time": "2022-12-14T13:34:39.601Z"
   },
   {
    "duration": 22,
    "start_time": "2022-12-14T13:34:39.920Z"
   },
   {
    "duration": 15,
    "start_time": "2022-12-14T13:34:39.944Z"
   },
   {
    "duration": 18,
    "start_time": "2022-12-14T13:34:39.962Z"
   },
   {
    "duration": 90,
    "start_time": "2022-12-14T13:34:39.982Z"
   },
   {
    "duration": 147,
    "start_time": "2022-12-14T13:34:40.074Z"
   },
   {
    "duration": 16,
    "start_time": "2022-12-14T13:34:40.223Z"
   },
   {
    "duration": 8,
    "start_time": "2022-12-14T13:34:40.241Z"
   },
   {
    "duration": 7,
    "start_time": "2022-12-14T13:34:40.251Z"
   },
   {
    "duration": 96,
    "start_time": "2022-12-14T13:34:40.260Z"
   },
   {
    "duration": 20,
    "start_time": "2022-12-14T13:34:40.358Z"
   },
   {
    "duration": 20,
    "start_time": "2022-12-14T13:34:40.379Z"
   },
   {
    "duration": 114,
    "start_time": "2022-12-14T13:34:40.402Z"
   },
   {
    "duration": 7,
    "start_time": "2022-12-14T13:34:40.518Z"
   },
   {
    "duration": 57,
    "start_time": "2022-12-14T13:34:40.536Z"
   },
   {
    "duration": 63,
    "start_time": "2022-12-14T13:34:40.595Z"
   },
   {
    "duration": 36,
    "start_time": "2022-12-14T13:34:40.659Z"
   },
   {
    "duration": 4,
    "start_time": "2022-12-14T13:34:40.697Z"
   },
   {
    "duration": 169,
    "start_time": "2022-12-14T13:34:40.703Z"
   },
   {
    "duration": 5,
    "start_time": "2022-12-14T13:34:40.873Z"
   },
   {
    "duration": 13,
    "start_time": "2022-12-14T13:34:40.879Z"
   },
   {
    "duration": 10,
    "start_time": "2022-12-14T13:34:40.894Z"
   },
   {
    "duration": 298,
    "start_time": "2022-12-14T13:34:40.906Z"
   },
   {
    "duration": 58,
    "start_time": "2022-12-14T13:34:41.206Z"
   },
   {
    "duration": 17,
    "start_time": "2022-12-14T13:34:41.265Z"
   },
   {
    "duration": 15,
    "start_time": "2022-12-14T13:34:41.284Z"
   },
   {
    "duration": 6,
    "start_time": "2022-12-14T13:34:41.301Z"
   },
   {
    "duration": 71,
    "start_time": "2022-12-14T13:34:41.309Z"
   },
   {
    "duration": 38,
    "start_time": "2022-12-14T13:34:41.381Z"
   },
   {
    "duration": 75,
    "start_time": "2022-12-14T13:34:41.436Z"
   },
   {
    "duration": 23,
    "start_time": "2022-12-14T13:34:41.512Z"
   },
   {
    "duration": 10,
    "start_time": "2022-12-14T13:34:41.537Z"
   },
   {
    "duration": 28,
    "start_time": "2022-12-14T13:34:41.549Z"
   },
   {
    "duration": 457,
    "start_time": "2022-12-14T13:34:41.578Z"
   },
   {
    "duration": 7,
    "start_time": "2022-12-14T13:34:42.037Z"
   },
   {
    "duration": 45,
    "start_time": "2022-12-14T13:34:42.046Z"
   },
   {
    "duration": 54,
    "start_time": "2022-12-14T13:34:42.093Z"
   },
   {
    "duration": 120,
    "start_time": "2022-12-14T13:34:42.149Z"
   },
   {
    "duration": 17,
    "start_time": "2022-12-14T13:34:42.271Z"
   },
   {
    "duration": 44,
    "start_time": "2022-12-14T13:34:42.303Z"
   },
   {
    "duration": 18,
    "start_time": "2022-12-14T13:34:42.349Z"
   },
   {
    "duration": 80,
    "start_time": "2022-12-14T13:34:42.369Z"
   },
   {
    "duration": 35,
    "start_time": "2022-12-14T13:34:42.451Z"
   },
   {
    "duration": 76,
    "start_time": "2022-12-14T13:34:42.489Z"
   },
   {
    "duration": 7,
    "start_time": "2022-12-14T13:34:42.567Z"
   },
   {
    "duration": 80,
    "start_time": "2022-12-14T13:34:42.576Z"
   },
   {
    "duration": 49,
    "start_time": "2022-12-21T11:33:04.704Z"
   },
   {
    "duration": 1236,
    "start_time": "2022-12-21T11:33:09.503Z"
   },
   {
    "duration": 715,
    "start_time": "2022-12-21T11:33:10.741Z"
   },
   {
    "duration": 23,
    "start_time": "2022-12-21T11:33:11.457Z"
   },
   {
    "duration": 11,
    "start_time": "2022-12-21T11:33:11.482Z"
   },
   {
    "duration": 18,
    "start_time": "2022-12-21T11:33:11.495Z"
   },
   {
    "duration": 93,
    "start_time": "2022-12-21T11:33:11.514Z"
   },
   {
    "duration": 152,
    "start_time": "2022-12-21T11:33:11.608Z"
   },
   {
    "duration": 8,
    "start_time": "2022-12-21T11:33:11.762Z"
   },
   {
    "duration": 9,
    "start_time": "2022-12-21T11:33:11.772Z"
   },
   {
    "duration": 6,
    "start_time": "2022-12-21T11:33:11.783Z"
   },
   {
    "duration": 102,
    "start_time": "2022-12-21T11:33:11.791Z"
   },
   {
    "duration": 20,
    "start_time": "2022-12-21T11:33:11.895Z"
   },
   {
    "duration": 13,
    "start_time": "2022-12-21T11:33:11.917Z"
   },
   {
    "duration": 106,
    "start_time": "2022-12-21T11:33:11.953Z"
   },
   {
    "duration": 8,
    "start_time": "2022-12-21T11:33:12.061Z"
   },
   {
    "duration": 53,
    "start_time": "2022-12-21T11:33:12.070Z"
   },
   {
    "duration": 73,
    "start_time": "2022-12-21T11:33:12.125Z"
   },
   {
    "duration": 52,
    "start_time": "2022-12-21T11:33:12.200Z"
   },
   {
    "duration": 5,
    "start_time": "2022-12-21T11:33:12.253Z"
   },
   {
    "duration": 168,
    "start_time": "2022-12-21T11:33:12.260Z"
   },
   {
    "duration": 5,
    "start_time": "2022-12-21T11:33:12.429Z"
   },
   {
    "duration": 17,
    "start_time": "2022-12-21T11:33:12.436Z"
   },
   {
    "duration": 8,
    "start_time": "2022-12-21T11:33:12.455Z"
   },
   {
    "duration": 305,
    "start_time": "2022-12-21T11:33:12.465Z"
   },
   {
    "duration": 55,
    "start_time": "2022-12-21T11:33:12.773Z"
   },
   {
    "duration": 25,
    "start_time": "2022-12-21T11:33:12.830Z"
   },
   {
    "duration": 12,
    "start_time": "2022-12-21T11:33:12.857Z"
   },
   {
    "duration": 5,
    "start_time": "2022-12-21T11:33:12.871Z"
   },
   {
    "duration": 81,
    "start_time": "2022-12-21T11:33:12.877Z"
   },
   {
    "duration": 39,
    "start_time": "2022-12-21T11:33:12.960Z"
   },
   {
    "duration": 98,
    "start_time": "2022-12-21T11:33:13.001Z"
   },
   {
    "duration": 9,
    "start_time": "2022-12-21T11:33:13.101Z"
   },
   {
    "duration": 10,
    "start_time": "2022-12-21T11:33:13.112Z"
   },
   {
    "duration": 36,
    "start_time": "2022-12-21T11:33:13.123Z"
   },
   {
    "duration": 465,
    "start_time": "2022-12-21T11:33:13.161Z"
   },
   {
    "duration": 5,
    "start_time": "2022-12-21T11:33:13.627Z"
   },
   {
    "duration": 24,
    "start_time": "2022-12-21T11:33:13.634Z"
   },
   {
    "duration": 8,
    "start_time": "2022-12-21T11:33:13.660Z"
   },
   {
    "duration": 147,
    "start_time": "2022-12-21T11:33:13.670Z"
   },
   {
    "duration": 46,
    "start_time": "2022-12-21T11:33:13.819Z"
   },
   {
    "duration": 35,
    "start_time": "2022-12-21T11:33:13.870Z"
   },
   {
    "duration": 56,
    "start_time": "2022-12-21T11:33:13.906Z"
   },
   {
    "duration": 29,
    "start_time": "2022-12-21T11:33:13.964Z"
   },
   {
    "duration": 76,
    "start_time": "2022-12-21T11:33:13.994Z"
   },
   {
    "duration": 25,
    "start_time": "2022-12-21T11:33:14.072Z"
   },
   {
    "duration": 53,
    "start_time": "2022-12-21T11:33:14.099Z"
   },
   {
    "duration": 35,
    "start_time": "2022-12-21T11:33:14.155Z"
   }
  ],
  "kernelspec": {
   "display_name": "Python 3",
   "language": "python",
   "name": "python3"
  },
  "language_info": {
   "codemirror_mode": {
    "name": "ipython",
    "version": 3
   },
   "file_extension": ".py",
   "mimetype": "text/x-python",
   "name": "python",
   "nbconvert_exporter": "python",
   "pygments_lexer": "ipython3",
   "version": "3.7.0"
  },
  "toc": {
   "base_numbering": 1,
   "nav_menu": {},
   "number_sections": true,
   "sideBar": true,
   "skip_h1_title": true,
   "title_cell": "Table of Contents",
   "title_sidebar": "Contents",
   "toc_cell": false,
   "toc_position": {},
   "toc_section_display": true,
   "toc_window_display": false
  }
 },
 "nbformat": 4,
 "nbformat_minor": 2
}
