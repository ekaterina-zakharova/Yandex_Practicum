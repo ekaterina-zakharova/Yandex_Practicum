{
 "cells": [
  {
   "cell_type": "markdown",
   "metadata": {},
   "source": [
    "# Проектная работа "
   ]
  },
  {
   "cell_type": "markdown",
   "metadata": {},
   "source": [
    "# Определение выгодного тарифа для телеком компании"
   ]
  },
  {
   "cell_type": "markdown",
   "metadata": {},
   "source": [
    "## Описание проекта"
   ]
  },
  {
   "cell_type": "markdown",
   "metadata": {},
   "source": [
    "В качестве аналитика компании «Мегалайн» — федерального оператора сотовой связи, необходимо проанализировать тарифные планы компании. Клиентам предлагают два тарифных плана: «Смарт» и «Ультра». Чтобы скорректировать рекламный бюджет, коммерческий департамент хочет понять, какой тариф приносит больше денег.\n",
    "Необходимо сделать предварительный анализ тарифов на небольшой выборке клиентов. В нашем распоряжении данные 500 пользователей «Мегалайна»: кто они, откуда, каким тарифом пользуются, сколько звонков и сообщений каждый отправил за 2018-й год. Нужно проанализировать поведение клиентов и сделать вывод — какой тариф лучше."
   ]
  },
  {
   "cell_type": "markdown",
   "metadata": {},
   "source": [
    "# Описание данных:"
   ]
  },
  {
   "cell_type": "markdown",
   "metadata": {},
   "source": [
    "Таблица **users** — информация о пользователях:\n",
    "- user_id — уникальный идентификатор пользователя\n",
    "- first_name — имя пользователя\n",
    "- last_name — фамилия пользователя\n",
    "- age — возраст пользователя (годы)\n",
    "- reg_date — дата подключения тарифа (день, месяц, год)\n",
    "- churn_date — дата прекращения пользования тарифом (если значение пропущено, значит, тариф ещё действовал на момент выгрузки данных)\n",
    "- city — город проживания пользователя\n",
    "- tarif — название тарифного плана\n",
    "\n",
    "Таблица **calls** — информация о звонках:\n",
    "- id — уникальный номер звонка\n",
    "- call_date — дата звонка\n",
    "- duration — длительность звонка в минутах\n",
    "- user_id — идентификатор пользователя, сделавшего звонок\n",
    "\n",
    "Таблица **messages** — информация о сообщениях:\n",
    "- id — уникальный номер звонка\n",
    "- message_date — дата сообщения\n",
    "- user_id — идентификатор пользователя, отправившего сообщение\n",
    "\n",
    "Таблица **internet** — информация об интернет-сессиях:\n",
    "- id — уникальный номер сессии\n",
    "- mb_used — объём потраченного за сессию интернет-трафика (в мегабайтах)\n",
    "- session_date — дата интернет-сессии\n",
    "- user_id — идентификатор пользователя\n",
    "\n",
    "Таблица **tariffs** — информация о тарифах:\n",
    "- tariff_name — название тарифа\n",
    "- rub_monthly_fee — ежемесячная абонентская плата в рублях\n",
    "- minutes_included — количество минут разговора в месяц, включённых в абонентскую плату\n",
    "- messages_included — количество сообщений в месяц, включённых в абонентскую плату\n",
    "- mb_per_month_included — объём интернет-трафика, включённого в абонентскую плату (в мегабайтах)\n",
    "- rub_per_minute — стоимость минуты разговора сверх тарифного пакета (например, если в тарифе 100 минут разговора в месяц, то со 101 минуты будет взиматься плата)\n",
    "- rub_per_message — стоимость отправки сообщения сверх тарифного пакета\n",
    "- rub_per_gb — стоимость дополнительного гигабайта интернет-трафика сверх тарифного пакета (1 гигабайт = 1024 мегабайта)"
   ]
  },
  {
   "cell_type": "markdown",
   "metadata": {
    "deletable": false,
    "editable": false
   },
   "source": [
    "### Откройте файл с данными и изучите общую информацию"
   ]
  },
  {
   "cell_type": "code",
   "execution_count": 1,
   "metadata": {
    "deletable": false
   },
   "outputs": [],
   "source": [
    "# Импортируем все нужные библиотеки:\n",
    "import pandas as pd\n",
    "import matplotlib.pyplot as plt\n",
    "import numpy as np\n",
    "import seaborn as sns\n",
    "from scipy import stats as st\n",
    "import numpy as np"
   ]
  },
  {
   "cell_type": "markdown",
   "metadata": {
    "deletable": false,
    "editable": false,
    "tags": [
     "start_task"
    ]
   },
   "source": [
    "**Задание 1.** Откройте файл `/datasets/calls.csv`, сохраните датафрейм в переменную `calls`."
   ]
  },
  {
   "cell_type": "code",
   "execution_count": 2,
   "metadata": {
    "deletable": false
   },
   "outputs": [],
   "source": [
    "calls = pd.read_csv(r'E:\\Analytics\\calls.csv')"
   ]
  },
  {
   "cell_type": "markdown",
   "metadata": {
    "deletable": false,
    "editable": false,
    "tags": [
     "start_task"
    ]
   },
   "source": [
    "**Задание 2.** Выведите первые 5 строк датафрейма `calls`."
   ]
  },
  {
   "cell_type": "code",
   "execution_count": 3,
   "metadata": {
    "deletable": false
   },
   "outputs": [
    {
     "data": {
      "text/html": [
       "<div>\n",
       "<style scoped>\n",
       "    .dataframe tbody tr th:only-of-type {\n",
       "        vertical-align: middle;\n",
       "    }\n",
       "\n",
       "    .dataframe tbody tr th {\n",
       "        vertical-align: top;\n",
       "    }\n",
       "\n",
       "    .dataframe thead th {\n",
       "        text-align: right;\n",
       "    }\n",
       "</style>\n",
       "<table border=\"1\" class=\"dataframe\">\n",
       "  <thead>\n",
       "    <tr style=\"text-align: right;\">\n",
       "      <th></th>\n",
       "      <th>id</th>\n",
       "      <th>call_date</th>\n",
       "      <th>duration</th>\n",
       "      <th>user_id</th>\n",
       "    </tr>\n",
       "  </thead>\n",
       "  <tbody>\n",
       "    <tr>\n",
       "      <th>0</th>\n",
       "      <td>1000_0</td>\n",
       "      <td>2018-07-25</td>\n",
       "      <td>0.00</td>\n",
       "      <td>1000</td>\n",
       "    </tr>\n",
       "    <tr>\n",
       "      <th>1</th>\n",
       "      <td>1000_1</td>\n",
       "      <td>2018-08-17</td>\n",
       "      <td>0.00</td>\n",
       "      <td>1000</td>\n",
       "    </tr>\n",
       "    <tr>\n",
       "      <th>2</th>\n",
       "      <td>1000_2</td>\n",
       "      <td>2018-06-11</td>\n",
       "      <td>2.85</td>\n",
       "      <td>1000</td>\n",
       "    </tr>\n",
       "    <tr>\n",
       "      <th>3</th>\n",
       "      <td>1000_3</td>\n",
       "      <td>2018-09-21</td>\n",
       "      <td>13.80</td>\n",
       "      <td>1000</td>\n",
       "    </tr>\n",
       "    <tr>\n",
       "      <th>4</th>\n",
       "      <td>1000_4</td>\n",
       "      <td>2018-12-15</td>\n",
       "      <td>5.18</td>\n",
       "      <td>1000</td>\n",
       "    </tr>\n",
       "  </tbody>\n",
       "</table>\n",
       "</div>"
      ],
      "text/plain": [
       "       id   call_date  duration  user_id\n",
       "0  1000_0  2018-07-25      0.00     1000\n",
       "1  1000_1  2018-08-17      0.00     1000\n",
       "2  1000_2  2018-06-11      2.85     1000\n",
       "3  1000_3  2018-09-21     13.80     1000\n",
       "4  1000_4  2018-12-15      5.18     1000"
      ]
     },
     "execution_count": 3,
     "metadata": {},
     "output_type": "execute_result"
    }
   ],
   "source": [
    "calls.head(5)"
   ]
  },
  {
   "cell_type": "markdown",
   "metadata": {
    "deletable": false,
    "editable": false,
    "tags": [
     "start_task"
    ]
   },
   "source": [
    "**Задание 3.** Выведите основную информацию для датафрейма `calls` с помощью метода `info()`."
   ]
  },
  {
   "cell_type": "code",
   "execution_count": 4,
   "metadata": {
    "deletable": false
   },
   "outputs": [
    {
     "name": "stdout",
     "output_type": "stream",
     "text": [
      "<class 'pandas.core.frame.DataFrame'>\n",
      "RangeIndex: 202607 entries, 0 to 202606\n",
      "Data columns (total 4 columns):\n",
      "id           202607 non-null object\n",
      "call_date    202607 non-null object\n",
      "duration     202607 non-null float64\n",
      "user_id      202607 non-null int64\n",
      "dtypes: float64(1), int64(1), object(2)\n",
      "memory usage: 6.2+ MB\n"
     ]
    }
   ],
   "source": [
    "calls.info()"
   ]
  },
  {
   "cell_type": "markdown",
   "metadata": {
    "deletable": false,
    "editable": false,
    "tags": [
     "start_task"
    ]
   },
   "source": [
    "**Задание 4.** С помощью метода `hist()` выведите гистограмму для столбца с продолжительностью звонков. Подумайте о том, как распределены данные."
   ]
  },
  {
   "cell_type": "code",
   "execution_count": 5,
   "metadata": {
    "deletable": false
   },
   "outputs": [
    {
     "data": {
      "image/png": "[encoded data removed]",
      "text/plain": [
       "<Figure size 432x288 with 1 Axes>"
      ]
     },
     "metadata": {
      "needs_background": "light"
     },
     "output_type": "display_data"
    }
   ],
   "source": [
    "plt.hist(calls['duration'])\n",
    "plt.show()"
   ]
  },
  {
   "cell_type": "markdown",
   "metadata": {
    "deletable": false,
    "editable": false,
    "tags": [
     "start_task"
    ]
   },
   "source": [
    "**Задание 5.** Откройте файл `/datasets/internet.csv`, сохраните датафрейм в переменную `sessions`."
   ]
  },
  {
   "cell_type": "code",
   "execution_count": 6,
   "metadata": {
    "deletable": false
   },
   "outputs": [],
   "source": [
    "sessions = pd.read_csv(r'E:\\Analytics\\internet.csv')"
   ]
  },
  {
   "cell_type": "markdown",
   "metadata": {
    "deletable": false,
    "editable": false,
    "tags": [
     "start_task"
    ]
   },
   "source": [
    "**Задание 6.** Выведите первые 5 строк датафрейма `sessions`."
   ]
  },
  {
   "cell_type": "code",
   "execution_count": 7,
   "metadata": {
    "deletable": false
   },
   "outputs": [
    {
     "data": {
      "text/html": [
       "<div>\n",
       "<style scoped>\n",
       "    .dataframe tbody tr th:only-of-type {\n",
       "        vertical-align: middle;\n",
       "    }\n",
       "\n",
       "    .dataframe tbody tr th {\n",
       "        vertical-align: top;\n",
       "    }\n",
       "\n",
       "    .dataframe thead th {\n",
       "        text-align: right;\n",
       "    }\n",
       "</style>\n",
       "<table border=\"1\" class=\"dataframe\">\n",
       "  <thead>\n",
       "    <tr style=\"text-align: right;\">\n",
       "      <th></th>\n",
       "      <th>Unnamed: 0</th>\n",
       "      <th>id</th>\n",
       "      <th>mb_used</th>\n",
       "      <th>session_date</th>\n",
       "      <th>user_id</th>\n",
       "    </tr>\n",
       "  </thead>\n",
       "  <tbody>\n",
       "    <tr>\n",
       "      <th>0</th>\n",
       "      <td>0</td>\n",
       "      <td>1000_0</td>\n",
       "      <td>112.95</td>\n",
       "      <td>2018-11-25</td>\n",
       "      <td>1000</td>\n",
       "    </tr>\n",
       "    <tr>\n",
       "      <th>1</th>\n",
       "      <td>1</td>\n",
       "      <td>1000_1</td>\n",
       "      <td>1052.81</td>\n",
       "      <td>2018-09-07</td>\n",
       "      <td>1000</td>\n",
       "    </tr>\n",
       "    <tr>\n",
       "      <th>2</th>\n",
       "      <td>2</td>\n",
       "      <td>1000_2</td>\n",
       "      <td>1197.26</td>\n",
       "      <td>2018-06-25</td>\n",
       "      <td>1000</td>\n",
       "    </tr>\n",
       "    <tr>\n",
       "      <th>3</th>\n",
       "      <td>3</td>\n",
       "      <td>1000_3</td>\n",
       "      <td>550.27</td>\n",
       "      <td>2018-08-22</td>\n",
       "      <td>1000</td>\n",
       "    </tr>\n",
       "    <tr>\n",
       "      <th>4</th>\n",
       "      <td>4</td>\n",
       "      <td>1000_4</td>\n",
       "      <td>302.56</td>\n",
       "      <td>2018-09-24</td>\n",
       "      <td>1000</td>\n",
       "    </tr>\n",
       "  </tbody>\n",
       "</table>\n",
       "</div>"
      ],
      "text/plain": [
       "   Unnamed: 0      id  mb_used session_date  user_id\n",
       "0           0  1000_0   112.95   2018-11-25     1000\n",
       "1           1  1000_1  1052.81   2018-09-07     1000\n",
       "2           2  1000_2  1197.26   2018-06-25     1000\n",
       "3           3  1000_3   550.27   2018-08-22     1000\n",
       "4           4  1000_4   302.56   2018-09-24     1000"
      ]
     },
     "execution_count": 7,
     "metadata": {},
     "output_type": "execute_result"
    }
   ],
   "source": [
    "sessions.head(5)"
   ]
  },
  {
   "cell_type": "markdown",
   "metadata": {
    "deletable": false,
    "editable": false,
    "tags": [
     "start_task"
    ]
   },
   "source": [
    "**Задание 7.** Выведите основную информацию для датафрейма sessions с помощью метода `info()`. "
   ]
  },
  {
   "cell_type": "code",
   "execution_count": 8,
   "metadata": {
    "deletable": false
   },
   "outputs": [
    {
     "name": "stdout",
     "output_type": "stream",
     "text": [
      "<class 'pandas.core.frame.DataFrame'>\n",
      "RangeIndex: 149396 entries, 0 to 149395\n",
      "Data columns (total 5 columns):\n",
      "Unnamed: 0      149396 non-null int64\n",
      "id              149396 non-null object\n",
      "mb_used         149396 non-null float64\n",
      "session_date    149396 non-null object\n",
      "user_id         149396 non-null int64\n",
      "dtypes: float64(1), int64(2), object(2)\n",
      "memory usage: 5.7+ MB\n"
     ]
    }
   ],
   "source": [
    "sessions.info()"
   ]
  },
  {
   "cell_type": "markdown",
   "metadata": {
    "deletable": false,
    "editable": false,
    "tags": [
     "start_task"
    ]
   },
   "source": [
    "**Задание 8.** С помощью метода `hist()` выведите гистограмму для столбца с количеством потраченных мегабайт."
   ]
  },
  {
   "cell_type": "code",
   "execution_count": 9,
   "metadata": {
    "deletable": false
   },
   "outputs": [
    {
     "data": {
      "image/png": "[encoded data removed]",
      "text/plain": [
       "<Figure size 432x288 with 1 Axes>"
      ]
     },
     "metadata": {
      "needs_background": "light"
     },
     "output_type": "display_data"
    }
   ],
   "source": [
    "plt.hist(sessions['mb_used'])\n",
    "plt.show()"
   ]
  },
  {
   "cell_type": "markdown",
   "metadata": {
    "deletable": false,
    "editable": false,
    "tags": [
     "start_task"
    ]
   },
   "source": [
    "**Задание 9.** Откройте файл `/datasets/messages.csv`, сохраните датафрейм в переменную `messages`."
   ]
  },
  {
   "cell_type": "code",
   "execution_count": 10,
   "metadata": {
    "deletable": false
   },
   "outputs": [],
   "source": [
    "messages = pd.read_csv(r'E:\\Analytics\\messages.csv')"
   ]
  },
  {
   "cell_type": "markdown",
   "metadata": {
    "deletable": false,
    "editable": false,
    "tags": [
     "start_task"
    ]
   },
   "source": [
    "**Задание 10.** Выведите первые 5 строк датафрейма `messages`."
   ]
  },
  {
   "cell_type": "code",
   "execution_count": 11,
   "metadata": {
    "deletable": false
   },
   "outputs": [
    {
     "data": {
      "text/html": [
       "<div>\n",
       "<style scoped>\n",
       "    .dataframe tbody tr th:only-of-type {\n",
       "        vertical-align: middle;\n",
       "    }\n",
       "\n",
       "    .dataframe tbody tr th {\n",
       "        vertical-align: top;\n",
       "    }\n",
       "\n",
       "    .dataframe thead th {\n",
       "        text-align: right;\n",
       "    }\n",
       "</style>\n",
       "<table border=\"1\" class=\"dataframe\">\n",
       "  <thead>\n",
       "    <tr style=\"text-align: right;\">\n",
       "      <th></th>\n",
       "      <th>id</th>\n",
       "      <th>message_date</th>\n",
       "      <th>user_id</th>\n",
       "    </tr>\n",
       "  </thead>\n",
       "  <tbody>\n",
       "    <tr>\n",
       "      <th>0</th>\n",
       "      <td>1000_0</td>\n",
       "      <td>2018-06-27</td>\n",
       "      <td>1000</td>\n",
       "    </tr>\n",
       "    <tr>\n",
       "      <th>1</th>\n",
       "      <td>1000_1</td>\n",
       "      <td>2018-10-08</td>\n",
       "      <td>1000</td>\n",
       "    </tr>\n",
       "    <tr>\n",
       "      <th>2</th>\n",
       "      <td>1000_2</td>\n",
       "      <td>2018-08-04</td>\n",
       "      <td>1000</td>\n",
       "    </tr>\n",
       "    <tr>\n",
       "      <th>3</th>\n",
       "      <td>1000_3</td>\n",
       "      <td>2018-06-16</td>\n",
       "      <td>1000</td>\n",
       "    </tr>\n",
       "    <tr>\n",
       "      <th>4</th>\n",
       "      <td>1000_4</td>\n",
       "      <td>2018-12-05</td>\n",
       "      <td>1000</td>\n",
       "    </tr>\n",
       "  </tbody>\n",
       "</table>\n",
       "</div>"
      ],
      "text/plain": [
       "       id message_date  user_id\n",
       "0  1000_0   2018-06-27     1000\n",
       "1  1000_1   2018-10-08     1000\n",
       "2  1000_2   2018-08-04     1000\n",
       "3  1000_3   2018-06-16     1000\n",
       "4  1000_4   2018-12-05     1000"
      ]
     },
     "execution_count": 11,
     "metadata": {},
     "output_type": "execute_result"
    }
   ],
   "source": [
    "messages.head(5)"
   ]
  },
  {
   "cell_type": "markdown",
   "metadata": {
    "deletable": false,
    "editable": false,
    "tags": [
     "start_task"
    ]
   },
   "source": [
    "**Задание 11.** Выведите основную информацию для датафрейма `messages` с помощью метода `info()`. "
   ]
  },
  {
   "cell_type": "code",
   "execution_count": 12,
   "metadata": {
    "deletable": false
   },
   "outputs": [
    {
     "name": "stdout",
     "output_type": "stream",
     "text": [
      "<class 'pandas.core.frame.DataFrame'>\n",
      "RangeIndex: 123036 entries, 0 to 123035\n",
      "Data columns (total 3 columns):\n",
      "id              123036 non-null object\n",
      "message_date    123036 non-null object\n",
      "user_id         123036 non-null int64\n",
      "dtypes: int64(1), object(2)\n",
      "memory usage: 2.8+ MB\n"
     ]
    }
   ],
   "source": [
    "messages.info()"
   ]
  },
  {
   "cell_type": "markdown",
   "metadata": {
    "deletable": false,
    "editable": false,
    "tags": [
     "start_task"
    ]
   },
   "source": [
    "**Задание 12.** Откройте файл `/datasets/tariffs.csv`, сохраните датафрейм в переменную `tariffs`."
   ]
  },
  {
   "cell_type": "code",
   "execution_count": 13,
   "metadata": {
    "deletable": false
   },
   "outputs": [],
   "source": [
    "tariffs = pd.read_csv(r'E:\\Analytics\\tariffs.csv')"
   ]
  },
  {
   "cell_type": "markdown",
   "metadata": {
    "deletable": false,
    "editable": false,
    "tags": [
     "start_task"
    ]
   },
   "source": [
    "**Задание 13.** Выведите весь датафрейм `tariffs`."
   ]
  },
  {
   "cell_type": "code",
   "execution_count": 14,
   "metadata": {
    "deletable": false
   },
   "outputs": [
    {
     "data": {
      "text/html": [
       "<div>\n",
       "<style scoped>\n",
       "    .dataframe tbody tr th:only-of-type {\n",
       "        vertical-align: middle;\n",
       "    }\n",
       "\n",
       "    .dataframe tbody tr th {\n",
       "        vertical-align: top;\n",
       "    }\n",
       "\n",
       "    .dataframe thead th {\n",
       "        text-align: right;\n",
       "    }\n",
       "</style>\n",
       "<table border=\"1\" class=\"dataframe\">\n",
       "  <thead>\n",
       "    <tr style=\"text-align: right;\">\n",
       "      <th></th>\n",
       "      <th>messages_included</th>\n",
       "      <th>mb_per_month_included</th>\n",
       "      <th>minutes_included</th>\n",
       "      <th>rub_monthly_fee</th>\n",
       "      <th>rub_per_gb</th>\n",
       "      <th>rub_per_message</th>\n",
       "      <th>rub_per_minute</th>\n",
       "      <th>tariff_name</th>\n",
       "    </tr>\n",
       "  </thead>\n",
       "  <tbody>\n",
       "    <tr>\n",
       "      <th>0</th>\n",
       "      <td>50</td>\n",
       "      <td>15360</td>\n",
       "      <td>500</td>\n",
       "      <td>550</td>\n",
       "      <td>200</td>\n",
       "      <td>3</td>\n",
       "      <td>3</td>\n",
       "      <td>smart</td>\n",
       "    </tr>\n",
       "    <tr>\n",
       "      <th>1</th>\n",
       "      <td>1000</td>\n",
       "      <td>30720</td>\n",
       "      <td>3000</td>\n",
       "      <td>1950</td>\n",
       "      <td>150</td>\n",
       "      <td>1</td>\n",
       "      <td>1</td>\n",
       "      <td>ultra</td>\n",
       "    </tr>\n",
       "  </tbody>\n",
       "</table>\n",
       "</div>"
      ],
      "text/plain": [
       "   messages_included  mb_per_month_included  minutes_included  \\\n",
       "0                 50                  15360               500   \n",
       "1               1000                  30720              3000   \n",
       "\n",
       "   rub_monthly_fee  rub_per_gb  rub_per_message  rub_per_minute tariff_name  \n",
       "0              550         200                3               3       smart  \n",
       "1             1950         150                1               1       ultra  "
      ]
     },
     "execution_count": 14,
     "metadata": {},
     "output_type": "execute_result"
    }
   ],
   "source": [
    "tariffs"
   ]
  },
  {
   "cell_type": "markdown",
   "metadata": {
    "deletable": false,
    "editable": false,
    "tags": [
     "start_task"
    ]
   },
   "source": [
    "**Задание 14.** Выведите основную информацию для датафрейма `tariffs` с помощью метода `info()`."
   ]
  },
  {
   "cell_type": "code",
   "execution_count": 15,
   "metadata": {
    "deletable": false
   },
   "outputs": [
    {
     "name": "stdout",
     "output_type": "stream",
     "text": [
      "<class 'pandas.core.frame.DataFrame'>\n",
      "RangeIndex: 2 entries, 0 to 1\n",
      "Data columns (total 8 columns):\n",
      "messages_included        2 non-null int64\n",
      "mb_per_month_included    2 non-null int64\n",
      "minutes_included         2 non-null int64\n",
      "rub_monthly_fee          2 non-null int64\n",
      "rub_per_gb               2 non-null int64\n",
      "rub_per_message          2 non-null int64\n",
      "rub_per_minute           2 non-null int64\n",
      "tariff_name              2 non-null object\n",
      "dtypes: int64(7), object(1)\n",
      "memory usage: 208.0+ bytes\n"
     ]
    }
   ],
   "source": [
    "tariffs.info()"
   ]
  },
  {
   "cell_type": "markdown",
   "metadata": {
    "deletable": false,
    "editable": false,
    "tags": [
     "start_task"
    ]
   },
   "source": [
    "**Задание 15.** Откройте файл `/datasets/users.csv`, сохраните датафрейм в переменную `users`."
   ]
  },
  {
   "cell_type": "code",
   "execution_count": 16,
   "metadata": {
    "deletable": false
   },
   "outputs": [],
   "source": [
    "users = pd.read_csv(r'E:\\Analytics\\users.csv')"
   ]
  },
  {
   "cell_type": "markdown",
   "metadata": {
    "deletable": false,
    "editable": false,
    "tags": [
     "start_task"
    ]
   },
   "source": [
    "**Задание 16.** Выведите первые 5 строк датафрейма `users`."
   ]
  },
  {
   "cell_type": "code",
   "execution_count": 17,
   "metadata": {
    "deletable": false
   },
   "outputs": [
    {
     "data": {
      "text/html": [
       "<div>\n",
       "<style scoped>\n",
       "    .dataframe tbody tr th:only-of-type {\n",
       "        vertical-align: middle;\n",
       "    }\n",
       "\n",
       "    .dataframe tbody tr th {\n",
       "        vertical-align: top;\n",
       "    }\n",
       "\n",
       "    .dataframe thead th {\n",
       "        text-align: right;\n",
       "    }\n",
       "</style>\n",
       "<table border=\"1\" class=\"dataframe\">\n",
       "  <thead>\n",
       "    <tr style=\"text-align: right;\">\n",
       "      <th></th>\n",
       "      <th>user_id</th>\n",
       "      <th>age</th>\n",
       "      <th>churn_date</th>\n",
       "      <th>city</th>\n",
       "      <th>first_name</th>\n",
       "      <th>last_name</th>\n",
       "      <th>reg_date</th>\n",
       "      <th>tariff</th>\n",
       "    </tr>\n",
       "  </thead>\n",
       "  <tbody>\n",
       "    <tr>\n",
       "      <th>0</th>\n",
       "      <td>1000</td>\n",
       "      <td>52</td>\n",
       "      <td>NaN</td>\n",
       "      <td>Краснодар</td>\n",
       "      <td>Рафаил</td>\n",
       "      <td>Верещагин</td>\n",
       "      <td>2018-05-25</td>\n",
       "      <td>ultra</td>\n",
       "    </tr>\n",
       "    <tr>\n",
       "      <th>1</th>\n",
       "      <td>1001</td>\n",
       "      <td>41</td>\n",
       "      <td>NaN</td>\n",
       "      <td>Москва</td>\n",
       "      <td>Иван</td>\n",
       "      <td>Ежов</td>\n",
       "      <td>2018-11-01</td>\n",
       "      <td>smart</td>\n",
       "    </tr>\n",
       "    <tr>\n",
       "      <th>2</th>\n",
       "      <td>1002</td>\n",
       "      <td>59</td>\n",
       "      <td>NaN</td>\n",
       "      <td>Стерлитамак</td>\n",
       "      <td>Евгений</td>\n",
       "      <td>Абрамович</td>\n",
       "      <td>2018-06-17</td>\n",
       "      <td>smart</td>\n",
       "    </tr>\n",
       "    <tr>\n",
       "      <th>3</th>\n",
       "      <td>1003</td>\n",
       "      <td>23</td>\n",
       "      <td>NaN</td>\n",
       "      <td>Москва</td>\n",
       "      <td>Белла</td>\n",
       "      <td>Белякова</td>\n",
       "      <td>2018-08-17</td>\n",
       "      <td>ultra</td>\n",
       "    </tr>\n",
       "    <tr>\n",
       "      <th>4</th>\n",
       "      <td>1004</td>\n",
       "      <td>68</td>\n",
       "      <td>NaN</td>\n",
       "      <td>Новокузнецк</td>\n",
       "      <td>Татьяна</td>\n",
       "      <td>Авдеенко</td>\n",
       "      <td>2018-05-14</td>\n",
       "      <td>ultra</td>\n",
       "    </tr>\n",
       "  </tbody>\n",
       "</table>\n",
       "</div>"
      ],
      "text/plain": [
       "   user_id  age churn_date         city first_name  last_name    reg_date  \\\n",
       "0     1000   52        NaN    Краснодар     Рафаил  Верещагин  2018-05-25   \n",
       "1     1001   41        NaN       Москва       Иван       Ежов  2018-11-01   \n",
       "2     1002   59        NaN  Стерлитамак    Евгений  Абрамович  2018-06-17   \n",
       "3     1003   23        NaN       Москва      Белла   Белякова  2018-08-17   \n",
       "4     1004   68        NaN  Новокузнецк    Татьяна   Авдеенко  2018-05-14   \n",
       "\n",
       "  tariff  \n",
       "0  ultra  \n",
       "1  smart  \n",
       "2  smart  \n",
       "3  ultra  \n",
       "4  ultra  "
      ]
     },
     "execution_count": 17,
     "metadata": {},
     "output_type": "execute_result"
    }
   ],
   "source": [
    "users.head(5)"
   ]
  },
  {
   "cell_type": "markdown",
   "metadata": {
    "deletable": false,
    "editable": false,
    "tags": [
     "start_task"
    ]
   },
   "source": [
    "**Задание 17.** Выведите основную информацию для датафрейма `users` с помощью метода `info()`."
   ]
  },
  {
   "cell_type": "code",
   "execution_count": 18,
   "metadata": {
    "deletable": false
   },
   "outputs": [
    {
     "name": "stdout",
     "output_type": "stream",
     "text": [
      "<class 'pandas.core.frame.DataFrame'>\n",
      "RangeIndex: 500 entries, 0 to 499\n",
      "Data columns (total 8 columns):\n",
      "user_id       500 non-null int64\n",
      "age           500 non-null int64\n",
      "churn_date    38 non-null object\n",
      "city          500 non-null object\n",
      "first_name    500 non-null object\n",
      "last_name     500 non-null object\n",
      "reg_date      500 non-null object\n",
      "tariff        500 non-null object\n",
      "dtypes: int64(2), object(6)\n",
      "memory usage: 31.3+ KB\n"
     ]
    }
   ],
   "source": [
    "users.info()"
   ]
  },
  {
   "cell_type": "markdown",
   "metadata": {
    "deletable": false,
    "editable": false
   },
   "source": [
    "### Подготовьте данные"
   ]
  },
  {
   "cell_type": "markdown",
   "metadata": {
    "deletable": false,
    "editable": false,
    "tags": [
     "start_task"
    ]
   },
   "source": [
    "**Задание 18.**  Приведите столбцы\n",
    "\n",
    "- `reg_date` из таблицы `users`\n",
    "- `churn_date` из таблицы `users`\n",
    "- `call_date` из таблицы `calls`\n",
    "- `message_date` из таблицы `messages`\n",
    "- `session_date` из таблицы `sessions`\n",
    "\n",
    "к новому типу с помощью метода `to_datetime()`."
   ]
  },
  {
   "cell_type": "code",
   "execution_count": 19,
   "metadata": {
    "deletable": false
   },
   "outputs": [],
   "source": [
    "# обработка столбца reg_date\n",
    "users['reg_date'] = pd.to_datetime(users['reg_date'], format='%Y-%m-%d')\n",
    "# обработка столбца churn_date\n",
    "users['churn_date'] = pd.to_datetime(users['churn_date'], format='%Y-%m-%d')\n",
    "\n",
    "# обработка столбца call_date\n",
    "calls['call_date'] = pd.to_datetime(calls['call_date'], format='%Y-%m-%d')\n",
    "\n",
    "# обработка столбца message_date\n",
    "messages['message_date'] = pd.to_datetime(messages['message_date'], format='%Y-%m-%d')\n",
    "# обработка столбца session_date\n",
    "sessions['session_date'] = pd.to_datetime(sessions['session_date'], format='%Y-%m-%d')"
   ]
  },
  {
   "cell_type": "markdown",
   "metadata": {
    "deletable": false,
    "editable": false,
    "tags": [
     "start_task"
    ]
   },
   "source": [
    "**Задание 19.** В данных вы найдёте звонки с нулевой продолжительностью. Это не ошибка: нулями обозначены пропущенные звонки, поэтому их не нужно удалять.\n",
    "\n",
    "Однако в столбце `duration` датафрейма `calls` значения дробные. Округлите значения столбца `duration` вверх с помощью метода `numpy.ceil()` и приведите столбец `duration` к типу `int`."
   ]
  },
  {
   "cell_type": "code",
   "execution_count": 20,
   "metadata": {
    "deletable": false
   },
   "outputs": [
    {
     "data": {
      "text/plain": [
       "0     0\n",
       "1     0\n",
       "2     3\n",
       "3    14\n",
       "4     6\n",
       "Name: duration, dtype: int32"
      ]
     },
     "execution_count": 20,
     "metadata": {},
     "output_type": "execute_result"
    }
   ],
   "source": [
    "# округление значений столбца duration с помощью np.ceil() и приведение типа к int\n",
    "calls['duration'] = np.ceil(calls['duration']).astype(int)\n",
    "calls['duration'].head()"
   ]
  },
  {
   "cell_type": "markdown",
   "metadata": {
    "deletable": false,
    "editable": false,
    "tags": [
     "start_task"
    ]
   },
   "source": [
    "**Задание 20.** Удалите столбец `Unnamed: 0` из датафрейма `sessions`. Столбец с таким названием возникает, когда данные сохраняют с указанием индекса (`df.to_csv(..., index=column)`). Он сейчас не понадобится."
   ]
  },
  {
   "cell_type": "code",
   "execution_count": 21,
   "metadata": {
    "deletable": false
   },
   "outputs": [
    {
     "data": {
      "text/html": [
       "<div>\n",
       "<style scoped>\n",
       "    .dataframe tbody tr th:only-of-type {\n",
       "        vertical-align: middle;\n",
       "    }\n",
       "\n",
       "    .dataframe tbody tr th {\n",
       "        vertical-align: top;\n",
       "    }\n",
       "\n",
       "    .dataframe thead th {\n",
       "        text-align: right;\n",
       "    }\n",
       "</style>\n",
       "<table border=\"1\" class=\"dataframe\">\n",
       "  <thead>\n",
       "    <tr style=\"text-align: right;\">\n",
       "      <th></th>\n",
       "      <th>id</th>\n",
       "      <th>mb_used</th>\n",
       "      <th>session_date</th>\n",
       "      <th>user_id</th>\n",
       "    </tr>\n",
       "  </thead>\n",
       "  <tbody>\n",
       "    <tr>\n",
       "      <th>0</th>\n",
       "      <td>1000_0</td>\n",
       "      <td>112.95</td>\n",
       "      <td>2018-11-25</td>\n",
       "      <td>1000</td>\n",
       "    </tr>\n",
       "    <tr>\n",
       "      <th>1</th>\n",
       "      <td>1000_1</td>\n",
       "      <td>1052.81</td>\n",
       "      <td>2018-09-07</td>\n",
       "      <td>1000</td>\n",
       "    </tr>\n",
       "    <tr>\n",
       "      <th>2</th>\n",
       "      <td>1000_2</td>\n",
       "      <td>1197.26</td>\n",
       "      <td>2018-06-25</td>\n",
       "      <td>1000</td>\n",
       "    </tr>\n",
       "    <tr>\n",
       "      <th>3</th>\n",
       "      <td>1000_3</td>\n",
       "      <td>550.27</td>\n",
       "      <td>2018-08-22</td>\n",
       "      <td>1000</td>\n",
       "    </tr>\n",
       "    <tr>\n",
       "      <th>4</th>\n",
       "      <td>1000_4</td>\n",
       "      <td>302.56</td>\n",
       "      <td>2018-09-24</td>\n",
       "      <td>1000</td>\n",
       "    </tr>\n",
       "  </tbody>\n",
       "</table>\n",
       "</div>"
      ],
      "text/plain": [
       "       id  mb_used session_date  user_id\n",
       "0  1000_0   112.95   2018-11-25     1000\n",
       "1  1000_1  1052.81   2018-09-07     1000\n",
       "2  1000_2  1197.26   2018-06-25     1000\n",
       "3  1000_3   550.27   2018-08-22     1000\n",
       "4  1000_4   302.56   2018-09-24     1000"
      ]
     },
     "execution_count": 21,
     "metadata": {},
     "output_type": "execute_result"
    }
   ],
   "source": [
    "sessions = sessions.drop(columns='Unnamed: 0') \n",
    "sessions.head(5)"
   ]
  },
  {
   "cell_type": "markdown",
   "metadata": {
    "deletable": false,
    "editable": false,
    "tags": [
     "start_task"
    ]
   },
   "source": [
    "**Задание 21.** Создайте столбец `month` в датафрейме `calls` с номером месяца из столбца `call_date`."
   ]
  },
  {
   "cell_type": "code",
   "execution_count": 22,
   "metadata": {
    "deletable": false
   },
   "outputs": [
    {
     "data": {
      "text/html": [
       "<div>\n",
       "<style scoped>\n",
       "    .dataframe tbody tr th:only-of-type {\n",
       "        vertical-align: middle;\n",
       "    }\n",
       "\n",
       "    .dataframe tbody tr th {\n",
       "        vertical-align: top;\n",
       "    }\n",
       "\n",
       "    .dataframe thead th {\n",
       "        text-align: right;\n",
       "    }\n",
       "</style>\n",
       "<table border=\"1\" class=\"dataframe\">\n",
       "  <thead>\n",
       "    <tr style=\"text-align: right;\">\n",
       "      <th></th>\n",
       "      <th>id</th>\n",
       "      <th>call_date</th>\n",
       "      <th>duration</th>\n",
       "      <th>user_id</th>\n",
       "      <th>month</th>\n",
       "    </tr>\n",
       "  </thead>\n",
       "  <tbody>\n",
       "    <tr>\n",
       "      <th>0</th>\n",
       "      <td>1000_0</td>\n",
       "      <td>2018-07-25</td>\n",
       "      <td>0</td>\n",
       "      <td>1000</td>\n",
       "      <td>7</td>\n",
       "    </tr>\n",
       "    <tr>\n",
       "      <th>1</th>\n",
       "      <td>1000_1</td>\n",
       "      <td>2018-08-17</td>\n",
       "      <td>0</td>\n",
       "      <td>1000</td>\n",
       "      <td>8</td>\n",
       "    </tr>\n",
       "    <tr>\n",
       "      <th>2</th>\n",
       "      <td>1000_2</td>\n",
       "      <td>2018-06-11</td>\n",
       "      <td>3</td>\n",
       "      <td>1000</td>\n",
       "      <td>6</td>\n",
       "    </tr>\n",
       "    <tr>\n",
       "      <th>3</th>\n",
       "      <td>1000_3</td>\n",
       "      <td>2018-09-21</td>\n",
       "      <td>14</td>\n",
       "      <td>1000</td>\n",
       "      <td>9</td>\n",
       "    </tr>\n",
       "    <tr>\n",
       "      <th>4</th>\n",
       "      <td>1000_4</td>\n",
       "      <td>2018-12-15</td>\n",
       "      <td>6</td>\n",
       "      <td>1000</td>\n",
       "      <td>12</td>\n",
       "    </tr>\n",
       "  </tbody>\n",
       "</table>\n",
       "</div>"
      ],
      "text/plain": [
       "       id  call_date  duration  user_id  month\n",
       "0  1000_0 2018-07-25         0     1000      7\n",
       "1  1000_1 2018-08-17         0     1000      8\n",
       "2  1000_2 2018-06-11         3     1000      6\n",
       "3  1000_3 2018-09-21        14     1000      9\n",
       "4  1000_4 2018-12-15         6     1000     12"
      ]
     },
     "execution_count": 22,
     "metadata": {},
     "output_type": "execute_result"
    }
   ],
   "source": [
    "calls['month'] = calls['call_date'].dt.month \n",
    "calls.head(5)"
   ]
  },
  {
   "cell_type": "markdown",
   "metadata": {
    "deletable": false,
    "editable": false,
    "tags": [
     "start_task"
    ]
   },
   "source": [
    "**Задание 22.** Создайте столбец `month` в датафрейме `messages` с номером месяца из столбца `message_date`."
   ]
  },
  {
   "cell_type": "code",
   "execution_count": 23,
   "metadata": {
    "deletable": false
   },
   "outputs": [
    {
     "data": {
      "text/html": [
       "<div>\n",
       "<style scoped>\n",
       "    .dataframe tbody tr th:only-of-type {\n",
       "        vertical-align: middle;\n",
       "    }\n",
       "\n",
       "    .dataframe tbody tr th {\n",
       "        vertical-align: top;\n",
       "    }\n",
       "\n",
       "    .dataframe thead th {\n",
       "        text-align: right;\n",
       "    }\n",
       "</style>\n",
       "<table border=\"1\" class=\"dataframe\">\n",
       "  <thead>\n",
       "    <tr style=\"text-align: right;\">\n",
       "      <th></th>\n",
       "      <th>id</th>\n",
       "      <th>message_date</th>\n",
       "      <th>user_id</th>\n",
       "      <th>month</th>\n",
       "    </tr>\n",
       "  </thead>\n",
       "  <tbody>\n",
       "    <tr>\n",
       "      <th>0</th>\n",
       "      <td>1000_0</td>\n",
       "      <td>2018-06-27</td>\n",
       "      <td>1000</td>\n",
       "      <td>6</td>\n",
       "    </tr>\n",
       "    <tr>\n",
       "      <th>1</th>\n",
       "      <td>1000_1</td>\n",
       "      <td>2018-10-08</td>\n",
       "      <td>1000</td>\n",
       "      <td>10</td>\n",
       "    </tr>\n",
       "    <tr>\n",
       "      <th>2</th>\n",
       "      <td>1000_2</td>\n",
       "      <td>2018-08-04</td>\n",
       "      <td>1000</td>\n",
       "      <td>8</td>\n",
       "    </tr>\n",
       "    <tr>\n",
       "      <th>3</th>\n",
       "      <td>1000_3</td>\n",
       "      <td>2018-06-16</td>\n",
       "      <td>1000</td>\n",
       "      <td>6</td>\n",
       "    </tr>\n",
       "    <tr>\n",
       "      <th>4</th>\n",
       "      <td>1000_4</td>\n",
       "      <td>2018-12-05</td>\n",
       "      <td>1000</td>\n",
       "      <td>12</td>\n",
       "    </tr>\n",
       "  </tbody>\n",
       "</table>\n",
       "</div>"
      ],
      "text/plain": [
       "       id message_date  user_id  month\n",
       "0  1000_0   2018-06-27     1000      6\n",
       "1  1000_1   2018-10-08     1000     10\n",
       "2  1000_2   2018-08-04     1000      8\n",
       "3  1000_3   2018-06-16     1000      6\n",
       "4  1000_4   2018-12-05     1000     12"
      ]
     },
     "execution_count": 23,
     "metadata": {},
     "output_type": "execute_result"
    }
   ],
   "source": [
    "messages['month'] = messages['message_date'].dt.month \n",
    "messages.head(5)"
   ]
  },
  {
   "cell_type": "markdown",
   "metadata": {
    "deletable": false,
    "editable": false,
    "tags": [
     "start_task"
    ]
   },
   "source": [
    "**Задание 23.** Создайте столбец `month` в датафрейме `sessions` с номером месяца из столбца `session_date`."
   ]
  },
  {
   "cell_type": "code",
   "execution_count": 24,
   "metadata": {
    "deletable": false
   },
   "outputs": [
    {
     "data": {
      "text/html": [
       "<div>\n",
       "<style scoped>\n",
       "    .dataframe tbody tr th:only-of-type {\n",
       "        vertical-align: middle;\n",
       "    }\n",
       "\n",
       "    .dataframe tbody tr th {\n",
       "        vertical-align: top;\n",
       "    }\n",
       "\n",
       "    .dataframe thead th {\n",
       "        text-align: right;\n",
       "    }\n",
       "</style>\n",
       "<table border=\"1\" class=\"dataframe\">\n",
       "  <thead>\n",
       "    <tr style=\"text-align: right;\">\n",
       "      <th></th>\n",
       "      <th>id</th>\n",
       "      <th>mb_used</th>\n",
       "      <th>session_date</th>\n",
       "      <th>user_id</th>\n",
       "      <th>month</th>\n",
       "    </tr>\n",
       "  </thead>\n",
       "  <tbody>\n",
       "    <tr>\n",
       "      <th>0</th>\n",
       "      <td>1000_0</td>\n",
       "      <td>112.95</td>\n",
       "      <td>2018-11-25</td>\n",
       "      <td>1000</td>\n",
       "      <td>11</td>\n",
       "    </tr>\n",
       "    <tr>\n",
       "      <th>1</th>\n",
       "      <td>1000_1</td>\n",
       "      <td>1052.81</td>\n",
       "      <td>2018-09-07</td>\n",
       "      <td>1000</td>\n",
       "      <td>9</td>\n",
       "    </tr>\n",
       "    <tr>\n",
       "      <th>2</th>\n",
       "      <td>1000_2</td>\n",
       "      <td>1197.26</td>\n",
       "      <td>2018-06-25</td>\n",
       "      <td>1000</td>\n",
       "      <td>6</td>\n",
       "    </tr>\n",
       "    <tr>\n",
       "      <th>3</th>\n",
       "      <td>1000_3</td>\n",
       "      <td>550.27</td>\n",
       "      <td>2018-08-22</td>\n",
       "      <td>1000</td>\n",
       "      <td>8</td>\n",
       "    </tr>\n",
       "    <tr>\n",
       "      <th>4</th>\n",
       "      <td>1000_4</td>\n",
       "      <td>302.56</td>\n",
       "      <td>2018-09-24</td>\n",
       "      <td>1000</td>\n",
       "      <td>9</td>\n",
       "    </tr>\n",
       "  </tbody>\n",
       "</table>\n",
       "</div>"
      ],
      "text/plain": [
       "       id  mb_used session_date  user_id  month\n",
       "0  1000_0   112.95   2018-11-25     1000     11\n",
       "1  1000_1  1052.81   2018-09-07     1000      9\n",
       "2  1000_2  1197.26   2018-06-25     1000      6\n",
       "3  1000_3   550.27   2018-08-22     1000      8\n",
       "4  1000_4   302.56   2018-09-24     1000      9"
      ]
     },
     "execution_count": 24,
     "metadata": {},
     "output_type": "execute_result"
    }
   ],
   "source": [
    "sessions['month'] = sessions['session_date'].dt.month \n",
    "sessions.head(5)"
   ]
  },
  {
   "cell_type": "markdown",
   "metadata": {
    "deletable": false,
    "editable": false,
    "tags": [
     "start_task"
    ]
   },
   "source": [
    "**Задание 24.** Посчитайте количество сделанных звонков разговора для каждого пользователя по месяцам и сохраните в переменную `calls_per_month`."
   ]
  },
  {
   "cell_type": "code",
   "execution_count": 37,
   "metadata": {
    "deletable": false
   },
   "outputs": [],
   "source": [
    "# подсчёт количества звонков для каждого пользователя по месяцам\n",
    "calls_per_month = pd.pivot_table(calls, index = ['user_id','month'], values = 'duration', aggfunc = 'count')\n",
    "calls_per_month.columns=['calls']"
   ]
  },
  {
   "cell_type": "code",
   "execution_count": 38,
   "metadata": {
    "deletable": false
   },
   "outputs": [
    {
     "data": {
      "text/html": [
       "<div>\n",
       "<style scoped>\n",
       "    .dataframe tbody tr th:only-of-type {\n",
       "        vertical-align: middle;\n",
       "    }\n",
       "\n",
       "    .dataframe tbody tr th {\n",
       "        vertical-align: top;\n",
       "    }\n",
       "\n",
       "    .dataframe thead th {\n",
       "        text-align: right;\n",
       "    }\n",
       "</style>\n",
       "<table border=\"1\" class=\"dataframe\">\n",
       "  <thead>\n",
       "    <tr style=\"text-align: right;\">\n",
       "      <th></th>\n",
       "      <th></th>\n",
       "      <th>calls</th>\n",
       "    </tr>\n",
       "    <tr>\n",
       "      <th>user_id</th>\n",
       "      <th>month</th>\n",
       "      <th></th>\n",
       "    </tr>\n",
       "  </thead>\n",
       "  <tbody>\n",
       "    <tr>\n",
       "      <th rowspan=\"8\" valign=\"top\">1000</th>\n",
       "      <th>5</th>\n",
       "      <td>22</td>\n",
       "    </tr>\n",
       "    <tr>\n",
       "      <th>6</th>\n",
       "      <td>43</td>\n",
       "    </tr>\n",
       "    <tr>\n",
       "      <th>7</th>\n",
       "      <td>47</td>\n",
       "    </tr>\n",
       "    <tr>\n",
       "      <th>8</th>\n",
       "      <td>52</td>\n",
       "    </tr>\n",
       "    <tr>\n",
       "      <th>9</th>\n",
       "      <td>58</td>\n",
       "    </tr>\n",
       "    <tr>\n",
       "      <th>10</th>\n",
       "      <td>57</td>\n",
       "    </tr>\n",
       "    <tr>\n",
       "      <th>11</th>\n",
       "      <td>43</td>\n",
       "    </tr>\n",
       "    <tr>\n",
       "      <th>12</th>\n",
       "      <td>46</td>\n",
       "    </tr>\n",
       "    <tr>\n",
       "      <th rowspan=\"2\" valign=\"top\">1001</th>\n",
       "      <th>11</th>\n",
       "      <td>59</td>\n",
       "    </tr>\n",
       "    <tr>\n",
       "      <th>12</th>\n",
       "      <td>63</td>\n",
       "    </tr>\n",
       "    <tr>\n",
       "      <th rowspan=\"7\" valign=\"top\">1002</th>\n",
       "      <th>6</th>\n",
       "      <td>15</td>\n",
       "    </tr>\n",
       "    <tr>\n",
       "      <th>7</th>\n",
       "      <td>26</td>\n",
       "    </tr>\n",
       "    <tr>\n",
       "      <th>8</th>\n",
       "      <td>42</td>\n",
       "    </tr>\n",
       "    <tr>\n",
       "      <th>9</th>\n",
       "      <td>36</td>\n",
       "    </tr>\n",
       "    <tr>\n",
       "      <th>10</th>\n",
       "      <td>33</td>\n",
       "    </tr>\n",
       "    <tr>\n",
       "      <th>11</th>\n",
       "      <td>32</td>\n",
       "    </tr>\n",
       "    <tr>\n",
       "      <th>12</th>\n",
       "      <td>33</td>\n",
       "    </tr>\n",
       "    <tr>\n",
       "      <th rowspan=\"5\" valign=\"top\">1003</th>\n",
       "      <th>8</th>\n",
       "      <td>55</td>\n",
       "    </tr>\n",
       "    <tr>\n",
       "      <th>9</th>\n",
       "      <td>134</td>\n",
       "    </tr>\n",
       "    <tr>\n",
       "      <th>10</th>\n",
       "      <td>108</td>\n",
       "    </tr>\n",
       "    <tr>\n",
       "      <th>11</th>\n",
       "      <td>115</td>\n",
       "    </tr>\n",
       "    <tr>\n",
       "      <th>12</th>\n",
       "      <td>108</td>\n",
       "    </tr>\n",
       "    <tr>\n",
       "      <th rowspan=\"8\" valign=\"top\">1004</th>\n",
       "      <th>5</th>\n",
       "      <td>9</td>\n",
       "    </tr>\n",
       "    <tr>\n",
       "      <th>6</th>\n",
       "      <td>31</td>\n",
       "    </tr>\n",
       "    <tr>\n",
       "      <th>7</th>\n",
       "      <td>22</td>\n",
       "    </tr>\n",
       "    <tr>\n",
       "      <th>8</th>\n",
       "      <td>19</td>\n",
       "    </tr>\n",
       "    <tr>\n",
       "      <th>9</th>\n",
       "      <td>26</td>\n",
       "    </tr>\n",
       "    <tr>\n",
       "      <th>10</th>\n",
       "      <td>29</td>\n",
       "    </tr>\n",
       "    <tr>\n",
       "      <th>11</th>\n",
       "      <td>19</td>\n",
       "    </tr>\n",
       "    <tr>\n",
       "      <th>12</th>\n",
       "      <td>21</td>\n",
       "    </tr>\n",
       "  </tbody>\n",
       "</table>\n",
       "</div>"
      ],
      "text/plain": [
       "               calls\n",
       "user_id month       \n",
       "1000    5         22\n",
       "        6         43\n",
       "        7         47\n",
       "        8         52\n",
       "        9         58\n",
       "        10        57\n",
       "        11        43\n",
       "        12        46\n",
       "1001    11        59\n",
       "        12        63\n",
       "1002    6         15\n",
       "        7         26\n",
       "        8         42\n",
       "        9         36\n",
       "        10        33\n",
       "        11        32\n",
       "        12        33\n",
       "1003    8         55\n",
       "        9        134\n",
       "        10       108\n",
       "        11       115\n",
       "        12       108\n",
       "1004    5          9\n",
       "        6         31\n",
       "        7         22\n",
       "        8         19\n",
       "        9         26\n",
       "        10        29\n",
       "        11        19\n",
       "        12        21"
      ]
     },
     "execution_count": 38,
     "metadata": {},
     "output_type": "execute_result"
    }
   ],
   "source": [
    "# вывод 30 первых строк на экран\n",
    "calls_per_month.head(30)"
   ]
  },
  {
   "cell_type": "markdown",
   "metadata": {
    "deletable": false,
    "editable": false,
    "tags": [
     "start_task"
    ]
   },
   "source": [
    "**Задание 25.** Посчитайте количество израсходованных минут разговора для каждого пользователя по месяцам и сохраните в переменную `minutes_per_month`. Вам понадобится\n",
    "\n",
    "- сгруппировать датафрейм с информацией о звонках по двум столбцам — с идентификаторами пользователей и номерами месяцев;\n",
    "- после группировки выбрать столбец `duration`\n",
    "- затем применить метод для подсчёта суммы.\n",
    "\n",
    "Выведите первые 30 строчек `minutes_per_month`."
   ]
  },
  {
   "cell_type": "code",
   "execution_count": 59,
   "metadata": {
    "deletable": false
   },
   "outputs": [],
   "source": [
    "# подсчёт израсходованных минут для каждого пользователя по месяцам\n",
    "minutes_per_month = pd.pivot_table(calls, index = ['user_id','month'], values = 'duration', aggfunc = 'sum')\n",
    "minutes_per_month.columns = ['minutes']"
   ]
  },
  {
   "cell_type": "code",
   "execution_count": 60,
   "metadata": {
    "deletable": false
   },
   "outputs": [
    {
     "data": {
      "text/html": [
       "<div>\n",
       "<style scoped>\n",
       "    .dataframe tbody tr th:only-of-type {\n",
       "        vertical-align: middle;\n",
       "    }\n",
       "\n",
       "    .dataframe tbody tr th {\n",
       "        vertical-align: top;\n",
       "    }\n",
       "\n",
       "    .dataframe thead th {\n",
       "        text-align: right;\n",
       "    }\n",
       "</style>\n",
       "<table border=\"1\" class=\"dataframe\">\n",
       "  <thead>\n",
       "    <tr style=\"text-align: right;\">\n",
       "      <th></th>\n",
       "      <th></th>\n",
       "      <th>minutes</th>\n",
       "    </tr>\n",
       "    <tr>\n",
       "      <th>user_id</th>\n",
       "      <th>month</th>\n",
       "      <th></th>\n",
       "    </tr>\n",
       "  </thead>\n",
       "  <tbody>\n",
       "    <tr>\n",
       "      <th rowspan=\"8\" valign=\"top\">1000</th>\n",
       "      <th>5</th>\n",
       "      <td>159</td>\n",
       "    </tr>\n",
       "    <tr>\n",
       "      <th>6</th>\n",
       "      <td>172</td>\n",
       "    </tr>\n",
       "    <tr>\n",
       "      <th>7</th>\n",
       "      <td>340</td>\n",
       "    </tr>\n",
       "    <tr>\n",
       "      <th>8</th>\n",
       "      <td>408</td>\n",
       "    </tr>\n",
       "    <tr>\n",
       "      <th>9</th>\n",
       "      <td>466</td>\n",
       "    </tr>\n",
       "    <tr>\n",
       "      <th>10</th>\n",
       "      <td>350</td>\n",
       "    </tr>\n",
       "    <tr>\n",
       "      <th>11</th>\n",
       "      <td>338</td>\n",
       "    </tr>\n",
       "    <tr>\n",
       "      <th>12</th>\n",
       "      <td>333</td>\n",
       "    </tr>\n",
       "    <tr>\n",
       "      <th rowspan=\"2\" valign=\"top\">1001</th>\n",
       "      <th>11</th>\n",
       "      <td>430</td>\n",
       "    </tr>\n",
       "    <tr>\n",
       "      <th>12</th>\n",
       "      <td>414</td>\n",
       "    </tr>\n",
       "    <tr>\n",
       "      <th rowspan=\"7\" valign=\"top\">1002</th>\n",
       "      <th>6</th>\n",
       "      <td>117</td>\n",
       "    </tr>\n",
       "    <tr>\n",
       "      <th>7</th>\n",
       "      <td>214</td>\n",
       "    </tr>\n",
       "    <tr>\n",
       "      <th>8</th>\n",
       "      <td>289</td>\n",
       "    </tr>\n",
       "    <tr>\n",
       "      <th>9</th>\n",
       "      <td>206</td>\n",
       "    </tr>\n",
       "    <tr>\n",
       "      <th>10</th>\n",
       "      <td>212</td>\n",
       "    </tr>\n",
       "    <tr>\n",
       "      <th>11</th>\n",
       "      <td>243</td>\n",
       "    </tr>\n",
       "    <tr>\n",
       "      <th>12</th>\n",
       "      <td>236</td>\n",
       "    </tr>\n",
       "    <tr>\n",
       "      <th rowspan=\"5\" valign=\"top\">1003</th>\n",
       "      <th>8</th>\n",
       "      <td>380</td>\n",
       "    </tr>\n",
       "    <tr>\n",
       "      <th>9</th>\n",
       "      <td>961</td>\n",
       "    </tr>\n",
       "    <tr>\n",
       "      <th>10</th>\n",
       "      <td>855</td>\n",
       "    </tr>\n",
       "    <tr>\n",
       "      <th>11</th>\n",
       "      <td>824</td>\n",
       "    </tr>\n",
       "    <tr>\n",
       "      <th>12</th>\n",
       "      <td>802</td>\n",
       "    </tr>\n",
       "    <tr>\n",
       "      <th rowspan=\"8\" valign=\"top\">1004</th>\n",
       "      <th>5</th>\n",
       "      <td>35</td>\n",
       "    </tr>\n",
       "    <tr>\n",
       "      <th>6</th>\n",
       "      <td>171</td>\n",
       "    </tr>\n",
       "    <tr>\n",
       "      <th>7</th>\n",
       "      <td>135</td>\n",
       "    </tr>\n",
       "    <tr>\n",
       "      <th>8</th>\n",
       "      <td>137</td>\n",
       "    </tr>\n",
       "    <tr>\n",
       "      <th>9</th>\n",
       "      <td>117</td>\n",
       "    </tr>\n",
       "    <tr>\n",
       "      <th>10</th>\n",
       "      <td>145</td>\n",
       "    </tr>\n",
       "    <tr>\n",
       "      <th>11</th>\n",
       "      <td>117</td>\n",
       "    </tr>\n",
       "    <tr>\n",
       "      <th>12</th>\n",
       "      <td>130</td>\n",
       "    </tr>\n",
       "  </tbody>\n",
       "</table>\n",
       "</div>"
      ],
      "text/plain": [
       "               minutes\n",
       "user_id month         \n",
       "1000    5          159\n",
       "        6          172\n",
       "        7          340\n",
       "        8          408\n",
       "        9          466\n",
       "        10         350\n",
       "        11         338\n",
       "        12         333\n",
       "1001    11         430\n",
       "        12         414\n",
       "1002    6          117\n",
       "        7          214\n",
       "        8          289\n",
       "        9          206\n",
       "        10         212\n",
       "        11         243\n",
       "        12         236\n",
       "1003    8          380\n",
       "        9          961\n",
       "        10         855\n",
       "        11         824\n",
       "        12         802\n",
       "1004    5           35\n",
       "        6          171\n",
       "        7          135\n",
       "        8          137\n",
       "        9          117\n",
       "        10         145\n",
       "        11         117\n",
       "        12         130"
      ]
     },
     "execution_count": 60,
     "metadata": {},
     "output_type": "execute_result"
    }
   ],
   "source": [
    "# вывод первых 30 строк на экран\n",
    "minutes_per_month.head(30)"
   ]
  },
  {
   "cell_type": "markdown",
   "metadata": {
    "deletable": false,
    "editable": false,
    "tags": [
     "start_task"
    ]
   },
   "source": [
    "**Задание 26.** Посчитайте количество отправленных сообщений по месяцам для каждого пользователя и сохраните в переменную `messages_per_month`. Вам понадобится\n",
    "\n",
    "- сгруппировать датафрейм с информацией о сообщениях по двум столбцам — с идентификаторами пользователей и номерами месяцев;\n",
    "- после группировки выбрать столбец `message_date`;\n",
    "- затем применить метод для подсчёта количества.\n",
    "\n",
    "Выведите первые 30 строчек `messages_per_month`."
   ]
  },
  {
   "cell_type": "code",
   "execution_count": 61,
   "metadata": {
    "deletable": false
   },
   "outputs": [],
   "source": [
    "# подсчёт количества отправленных сообщений для каждого пользователя по месяцам\n",
    "messages_per_month = pd.pivot_table(messages, index = ['user_id','month'], values = 'message_date', aggfunc = 'count')\n",
    "messages_per_month.columns = ['messages']"
   ]
  },
  {
   "cell_type": "code",
   "execution_count": 62,
   "metadata": {
    "deletable": false
   },
   "outputs": [
    {
     "data": {
      "text/html": [
       "<div>\n",
       "<style scoped>\n",
       "    .dataframe tbody tr th:only-of-type {\n",
       "        vertical-align: middle;\n",
       "    }\n",
       "\n",
       "    .dataframe tbody tr th {\n",
       "        vertical-align: top;\n",
       "    }\n",
       "\n",
       "    .dataframe thead th {\n",
       "        text-align: right;\n",
       "    }\n",
       "</style>\n",
       "<table border=\"1\" class=\"dataframe\">\n",
       "  <thead>\n",
       "    <tr style=\"text-align: right;\">\n",
       "      <th></th>\n",
       "      <th></th>\n",
       "      <th>messages</th>\n",
       "    </tr>\n",
       "    <tr>\n",
       "      <th>user_id</th>\n",
       "      <th>month</th>\n",
       "      <th></th>\n",
       "    </tr>\n",
       "  </thead>\n",
       "  <tbody>\n",
       "    <tr>\n",
       "      <th rowspan=\"8\" valign=\"top\">1000</th>\n",
       "      <th>5</th>\n",
       "      <td>22</td>\n",
       "    </tr>\n",
       "    <tr>\n",
       "      <th>6</th>\n",
       "      <td>60</td>\n",
       "    </tr>\n",
       "    <tr>\n",
       "      <th>7</th>\n",
       "      <td>75</td>\n",
       "    </tr>\n",
       "    <tr>\n",
       "      <th>8</th>\n",
       "      <td>81</td>\n",
       "    </tr>\n",
       "    <tr>\n",
       "      <th>9</th>\n",
       "      <td>57</td>\n",
       "    </tr>\n",
       "    <tr>\n",
       "      <th>10</th>\n",
       "      <td>73</td>\n",
       "    </tr>\n",
       "    <tr>\n",
       "      <th>11</th>\n",
       "      <td>58</td>\n",
       "    </tr>\n",
       "    <tr>\n",
       "      <th>12</th>\n",
       "      <td>70</td>\n",
       "    </tr>\n",
       "    <tr>\n",
       "      <th rowspan=\"7\" valign=\"top\">1002</th>\n",
       "      <th>6</th>\n",
       "      <td>4</td>\n",
       "    </tr>\n",
       "    <tr>\n",
       "      <th>7</th>\n",
       "      <td>11</td>\n",
       "    </tr>\n",
       "    <tr>\n",
       "      <th>8</th>\n",
       "      <td>13</td>\n",
       "    </tr>\n",
       "    <tr>\n",
       "      <th>9</th>\n",
       "      <td>4</td>\n",
       "    </tr>\n",
       "    <tr>\n",
       "      <th>10</th>\n",
       "      <td>10</td>\n",
       "    </tr>\n",
       "    <tr>\n",
       "      <th>11</th>\n",
       "      <td>16</td>\n",
       "    </tr>\n",
       "    <tr>\n",
       "      <th>12</th>\n",
       "      <td>12</td>\n",
       "    </tr>\n",
       "    <tr>\n",
       "      <th rowspan=\"5\" valign=\"top\">1003</th>\n",
       "      <th>8</th>\n",
       "      <td>37</td>\n",
       "    </tr>\n",
       "    <tr>\n",
       "      <th>9</th>\n",
       "      <td>91</td>\n",
       "    </tr>\n",
       "    <tr>\n",
       "      <th>10</th>\n",
       "      <td>83</td>\n",
       "    </tr>\n",
       "    <tr>\n",
       "      <th>11</th>\n",
       "      <td>94</td>\n",
       "    </tr>\n",
       "    <tr>\n",
       "      <th>12</th>\n",
       "      <td>75</td>\n",
       "    </tr>\n",
       "    <tr>\n",
       "      <th rowspan=\"8\" valign=\"top\">1004</th>\n",
       "      <th>5</th>\n",
       "      <td>95</td>\n",
       "    </tr>\n",
       "    <tr>\n",
       "      <th>6</th>\n",
       "      <td>134</td>\n",
       "    </tr>\n",
       "    <tr>\n",
       "      <th>7</th>\n",
       "      <td>181</td>\n",
       "    </tr>\n",
       "    <tr>\n",
       "      <th>8</th>\n",
       "      <td>151</td>\n",
       "    </tr>\n",
       "    <tr>\n",
       "      <th>9</th>\n",
       "      <td>146</td>\n",
       "    </tr>\n",
       "    <tr>\n",
       "      <th>10</th>\n",
       "      <td>165</td>\n",
       "    </tr>\n",
       "    <tr>\n",
       "      <th>11</th>\n",
       "      <td>158</td>\n",
       "    </tr>\n",
       "    <tr>\n",
       "      <th>12</th>\n",
       "      <td>162</td>\n",
       "    </tr>\n",
       "    <tr>\n",
       "      <th rowspan=\"2\" valign=\"top\">1005</th>\n",
       "      <th>1</th>\n",
       "      <td>7</td>\n",
       "    </tr>\n",
       "    <tr>\n",
       "      <th>2</th>\n",
       "      <td>38</td>\n",
       "    </tr>\n",
       "  </tbody>\n",
       "</table>\n",
       "</div>"
      ],
      "text/plain": [
       "               messages\n",
       "user_id month          \n",
       "1000    5            22\n",
       "        6            60\n",
       "        7            75\n",
       "        8            81\n",
       "        9            57\n",
       "        10           73\n",
       "        11           58\n",
       "        12           70\n",
       "1002    6             4\n",
       "        7            11\n",
       "        8            13\n",
       "        9             4\n",
       "        10           10\n",
       "        11           16\n",
       "        12           12\n",
       "1003    8            37\n",
       "        9            91\n",
       "        10           83\n",
       "        11           94\n",
       "        12           75\n",
       "1004    5            95\n",
       "        6           134\n",
       "        7           181\n",
       "        8           151\n",
       "        9           146\n",
       "        10          165\n",
       "        11          158\n",
       "        12          162\n",
       "1005    1             7\n",
       "        2            38"
      ]
     },
     "execution_count": 62,
     "metadata": {},
     "output_type": "execute_result"
    }
   ],
   "source": [
    "# вывод первых 30 строк на экран\n",
    "messages_per_month.head(30)"
   ]
  },
  {
   "cell_type": "markdown",
   "metadata": {
    "deletable": false,
    "editable": false,
    "tags": [
     "start_task"
    ]
   },
   "source": [
    "**Задание 27.** Посчитайте количество потраченных мегабайт по месяцам для каждого пользователя и сохраните в переменную `sessions_per_month`. Вам понадобится\n",
    "\n",
    "- сгруппировать датафрейм с информацией о сообщениях по двум столбцам — с идентификаторами пользователей и номерами месяцев;\n",
    "- затем применить метод для подсчёта суммы: `.agg({'mb_used': 'sum'})`"
   ]
  },
  {
   "cell_type": "code",
   "execution_count": 63,
   "metadata": {
    "deletable": false
   },
   "outputs": [],
   "source": [
    "# подсчёт потраченных мегабайт для каждого пользователя по месяцам\n",
    "sessions_per_month = pd.pivot_table(sessions, index = ['user_id','month'], values = 'mb_used', aggfunc = 'sum')"
   ]
  },
  {
   "cell_type": "code",
   "execution_count": 64,
   "metadata": {
    "deletable": false
   },
   "outputs": [
    {
     "data": {
      "text/html": [
       "<div>\n",
       "<style scoped>\n",
       "    .dataframe tbody tr th:only-of-type {\n",
       "        vertical-align: middle;\n",
       "    }\n",
       "\n",
       "    .dataframe tbody tr th {\n",
       "        vertical-align: top;\n",
       "    }\n",
       "\n",
       "    .dataframe thead th {\n",
       "        text-align: right;\n",
       "    }\n",
       "</style>\n",
       "<table border=\"1\" class=\"dataframe\">\n",
       "  <thead>\n",
       "    <tr style=\"text-align: right;\">\n",
       "      <th></th>\n",
       "      <th></th>\n",
       "      <th>mb_used</th>\n",
       "    </tr>\n",
       "    <tr>\n",
       "      <th>user_id</th>\n",
       "      <th>month</th>\n",
       "      <th></th>\n",
       "    </tr>\n",
       "  </thead>\n",
       "  <tbody>\n",
       "    <tr>\n",
       "      <th rowspan=\"8\" valign=\"top\">1000</th>\n",
       "      <th>5</th>\n",
       "      <td>2253.49</td>\n",
       "    </tr>\n",
       "    <tr>\n",
       "      <th>6</th>\n",
       "      <td>23233.77</td>\n",
       "    </tr>\n",
       "    <tr>\n",
       "      <th>7</th>\n",
       "      <td>14003.64</td>\n",
       "    </tr>\n",
       "    <tr>\n",
       "      <th>8</th>\n",
       "      <td>14055.93</td>\n",
       "    </tr>\n",
       "    <tr>\n",
       "      <th>9</th>\n",
       "      <td>14568.91</td>\n",
       "    </tr>\n",
       "    <tr>\n",
       "      <th>10</th>\n",
       "      <td>14702.49</td>\n",
       "    </tr>\n",
       "    <tr>\n",
       "      <th>11</th>\n",
       "      <td>14756.47</td>\n",
       "    </tr>\n",
       "    <tr>\n",
       "      <th>12</th>\n",
       "      <td>9817.61</td>\n",
       "    </tr>\n",
       "    <tr>\n",
       "      <th rowspan=\"2\" valign=\"top\">1001</th>\n",
       "      <th>11</th>\n",
       "      <td>18429.34</td>\n",
       "    </tr>\n",
       "    <tr>\n",
       "      <th>12</th>\n",
       "      <td>14036.66</td>\n",
       "    </tr>\n",
       "    <tr>\n",
       "      <th rowspan=\"7\" valign=\"top\">1002</th>\n",
       "      <th>6</th>\n",
       "      <td>10856.82</td>\n",
       "    </tr>\n",
       "    <tr>\n",
       "      <th>7</th>\n",
       "      <td>17580.10</td>\n",
       "    </tr>\n",
       "    <tr>\n",
       "      <th>8</th>\n",
       "      <td>20319.26</td>\n",
       "    </tr>\n",
       "    <tr>\n",
       "      <th>9</th>\n",
       "      <td>16691.08</td>\n",
       "    </tr>\n",
       "    <tr>\n",
       "      <th>10</th>\n",
       "      <td>13888.25</td>\n",
       "    </tr>\n",
       "    <tr>\n",
       "      <th>11</th>\n",
       "      <td>18587.28</td>\n",
       "    </tr>\n",
       "    <tr>\n",
       "      <th>12</th>\n",
       "      <td>18113.73</td>\n",
       "    </tr>\n",
       "    <tr>\n",
       "      <th rowspan=\"5\" valign=\"top\">1003</th>\n",
       "      <th>8</th>\n",
       "      <td>8565.21</td>\n",
       "    </tr>\n",
       "    <tr>\n",
       "      <th>9</th>\n",
       "      <td>12468.87</td>\n",
       "    </tr>\n",
       "    <tr>\n",
       "      <th>10</th>\n",
       "      <td>14768.14</td>\n",
       "    </tr>\n",
       "    <tr>\n",
       "      <th>11</th>\n",
       "      <td>11356.89</td>\n",
       "    </tr>\n",
       "    <tr>\n",
       "      <th>12</th>\n",
       "      <td>10121.53</td>\n",
       "    </tr>\n",
       "    <tr>\n",
       "      <th rowspan=\"8\" valign=\"top\">1004</th>\n",
       "      <th>5</th>\n",
       "      <td>13403.98</td>\n",
       "    </tr>\n",
       "    <tr>\n",
       "      <th>6</th>\n",
       "      <td>17600.02</td>\n",
       "    </tr>\n",
       "    <tr>\n",
       "      <th>7</th>\n",
       "      <td>22229.58</td>\n",
       "    </tr>\n",
       "    <tr>\n",
       "      <th>8</th>\n",
       "      <td>28584.37</td>\n",
       "    </tr>\n",
       "    <tr>\n",
       "      <th>9</th>\n",
       "      <td>15109.03</td>\n",
       "    </tr>\n",
       "    <tr>\n",
       "      <th>10</th>\n",
       "      <td>18475.44</td>\n",
       "    </tr>\n",
       "    <tr>\n",
       "      <th>11</th>\n",
       "      <td>15616.02</td>\n",
       "    </tr>\n",
       "    <tr>\n",
       "      <th>12</th>\n",
       "      <td>18021.04</td>\n",
       "    </tr>\n",
       "  </tbody>\n",
       "</table>\n",
       "</div>"
      ],
      "text/plain": [
       "                mb_used\n",
       "user_id month          \n",
       "1000    5       2253.49\n",
       "        6      23233.77\n",
       "        7      14003.64\n",
       "        8      14055.93\n",
       "        9      14568.91\n",
       "        10     14702.49\n",
       "        11     14756.47\n",
       "        12      9817.61\n",
       "1001    11     18429.34\n",
       "        12     14036.66\n",
       "1002    6      10856.82\n",
       "        7      17580.10\n",
       "        8      20319.26\n",
       "        9      16691.08\n",
       "        10     13888.25\n",
       "        11     18587.28\n",
       "        12     18113.73\n",
       "1003    8       8565.21\n",
       "        9      12468.87\n",
       "        10     14768.14\n",
       "        11     11356.89\n",
       "        12     10121.53\n",
       "1004    5      13403.98\n",
       "        6      17600.02\n",
       "        7      22229.58\n",
       "        8      28584.37\n",
       "        9      15109.03\n",
       "        10     18475.44\n",
       "        11     15616.02\n",
       "        12     18021.04"
      ]
     },
     "execution_count": 64,
     "metadata": {},
     "output_type": "execute_result"
    }
   ],
   "source": [
    "# вывод первых 30 строк на экран\n",
    "sessions_per_month.head(30)"
   ]
  },
  {
   "cell_type": "markdown",
   "metadata": {
    "deletable": false,
    "editable": false
   },
   "source": [
    "### Анализ данных и подсчёт выручки"
   ]
  },
  {
   "cell_type": "markdown",
   "metadata": {
    "deletable": false,
    "editable": false
   },
   "source": [
    "Объединяем все посчитанные выше значения в один датафрейм `user_behavior`.\n",
    "Для каждой пары \"пользователь - месяц\" будут доступны информация о тарифе, количестве звонков, сообщений и потраченных мегабайтах."
   ]
  },
  {
   "cell_type": "code",
   "execution_count": 65,
   "metadata": {
    "deletable": false
   },
   "outputs": [
    {
     "data": {
      "text/plain": [
       "7.6"
      ]
     },
     "execution_count": 65,
     "metadata": {},
     "output_type": "execute_result"
    }
   ],
   "source": [
    "users['churn_date'].count() / users['churn_date'].shape[0] * 100"
   ]
  },
  {
   "cell_type": "markdown",
   "metadata": {
    "deletable": false,
    "editable": false
   },
   "source": [
    "Расторгли договор 7.6% клиентов из датасета"
   ]
  },
  {
   "cell_type": "code",
   "execution_count": 66,
   "metadata": {
    "deletable": false
   },
   "outputs": [
    {
     "data": {
      "text/html": [
       "<div>\n",
       "<style scoped>\n",
       "    .dataframe tbody tr th:only-of-type {\n",
       "        vertical-align: middle;\n",
       "    }\n",
       "\n",
       "    .dataframe tbody tr th {\n",
       "        vertical-align: top;\n",
       "    }\n",
       "\n",
       "    .dataframe thead th {\n",
       "        text-align: right;\n",
       "    }\n",
       "</style>\n",
       "<table border=\"1\" class=\"dataframe\">\n",
       "  <thead>\n",
       "    <tr style=\"text-align: right;\">\n",
       "      <th></th>\n",
       "      <th>user_id</th>\n",
       "      <th>month</th>\n",
       "      <th>calls</th>\n",
       "      <th>messages</th>\n",
       "      <th>mb_used</th>\n",
       "      <th>minutes</th>\n",
       "      <th>age</th>\n",
       "      <th>churn_date</th>\n",
       "      <th>city</th>\n",
       "      <th>first_name</th>\n",
       "      <th>last_name</th>\n",
       "      <th>reg_date</th>\n",
       "      <th>tariff</th>\n",
       "    </tr>\n",
       "  </thead>\n",
       "  <tbody>\n",
       "    <tr>\n",
       "      <th>0</th>\n",
       "      <td>1000</td>\n",
       "      <td>5</td>\n",
       "      <td>22.0</td>\n",
       "      <td>22.0</td>\n",
       "      <td>2253.49</td>\n",
       "      <td>159.0</td>\n",
       "      <td>52</td>\n",
       "      <td>NaT</td>\n",
       "      <td>Краснодар</td>\n",
       "      <td>Рафаил</td>\n",
       "      <td>Верещагин</td>\n",
       "      <td>2018-05-25</td>\n",
       "      <td>ultra</td>\n",
       "    </tr>\n",
       "    <tr>\n",
       "      <th>1</th>\n",
       "      <td>1000</td>\n",
       "      <td>6</td>\n",
       "      <td>43.0</td>\n",
       "      <td>60.0</td>\n",
       "      <td>23233.77</td>\n",
       "      <td>172.0</td>\n",
       "      <td>52</td>\n",
       "      <td>NaT</td>\n",
       "      <td>Краснодар</td>\n",
       "      <td>Рафаил</td>\n",
       "      <td>Верещагин</td>\n",
       "      <td>2018-05-25</td>\n",
       "      <td>ultra</td>\n",
       "    </tr>\n",
       "    <tr>\n",
       "      <th>2</th>\n",
       "      <td>1000</td>\n",
       "      <td>7</td>\n",
       "      <td>47.0</td>\n",
       "      <td>75.0</td>\n",
       "      <td>14003.64</td>\n",
       "      <td>340.0</td>\n",
       "      <td>52</td>\n",
       "      <td>NaT</td>\n",
       "      <td>Краснодар</td>\n",
       "      <td>Рафаил</td>\n",
       "      <td>Верещагин</td>\n",
       "      <td>2018-05-25</td>\n",
       "      <td>ultra</td>\n",
       "    </tr>\n",
       "    <tr>\n",
       "      <th>3</th>\n",
       "      <td>1000</td>\n",
       "      <td>8</td>\n",
       "      <td>52.0</td>\n",
       "      <td>81.0</td>\n",
       "      <td>14055.93</td>\n",
       "      <td>408.0</td>\n",
       "      <td>52</td>\n",
       "      <td>NaT</td>\n",
       "      <td>Краснодар</td>\n",
       "      <td>Рафаил</td>\n",
       "      <td>Верещагин</td>\n",
       "      <td>2018-05-25</td>\n",
       "      <td>ultra</td>\n",
       "    </tr>\n",
       "    <tr>\n",
       "      <th>4</th>\n",
       "      <td>1000</td>\n",
       "      <td>9</td>\n",
       "      <td>58.0</td>\n",
       "      <td>57.0</td>\n",
       "      <td>14568.91</td>\n",
       "      <td>466.0</td>\n",
       "      <td>52</td>\n",
       "      <td>NaT</td>\n",
       "      <td>Краснодар</td>\n",
       "      <td>Рафаил</td>\n",
       "      <td>Верещагин</td>\n",
       "      <td>2018-05-25</td>\n",
       "      <td>ultra</td>\n",
       "    </tr>\n",
       "  </tbody>\n",
       "</table>\n",
       "</div>"
      ],
      "text/plain": [
       "   user_id  month  calls  messages   mb_used  minutes  age churn_date  \\\n",
       "0     1000      5   22.0      22.0   2253.49    159.0   52        NaT   \n",
       "1     1000      6   43.0      60.0  23233.77    172.0   52        NaT   \n",
       "2     1000      7   47.0      75.0  14003.64    340.0   52        NaT   \n",
       "3     1000      8   52.0      81.0  14055.93    408.0   52        NaT   \n",
       "4     1000      9   58.0      57.0  14568.91    466.0   52        NaT   \n",
       "\n",
       "        city first_name  last_name   reg_date tariff  \n",
       "0  Краснодар     Рафаил  Верещагин 2018-05-25  ultra  \n",
       "1  Краснодар     Рафаил  Верещагин 2018-05-25  ultra  \n",
       "2  Краснодар     Рафаил  Верещагин 2018-05-25  ultra  \n",
       "3  Краснодар     Рафаил  Верещагин 2018-05-25  ultra  \n",
       "4  Краснодар     Рафаил  Верещагин 2018-05-25  ultra  "
      ]
     },
     "execution_count": 66,
     "metadata": {},
     "output_type": "execute_result"
    }
   ],
   "source": [
    "user_behavior = calls_per_month\\\n",
    "    .merge(messages_per_month, left_index=True, right_index=True, how='outer')\\\n",
    "    .merge(sessions_per_month, left_index=True, right_index=True, how='outer')\\\n",
    "    .merge(minutes_per_month, left_index=True, right_index=True, how='outer')\\\n",
    "    .reset_index()\\\n",
    "    .merge(users, how='left', left_on='user_id', right_on='user_id')\\\n",
    "\n",
    "user_behavior.head()"
   ]
  },
  {
   "cell_type": "markdown",
   "metadata": {
    "deletable": false,
    "editable": false
   },
   "source": [
    "Проверим пропуски в таблице `user_behavior` после объединения:"
   ]
  },
  {
   "cell_type": "code",
   "execution_count": 67,
   "metadata": {
    "deletable": false
   },
   "outputs": [
    {
     "data": {
      "text/plain": [
       "user_id          0\n",
       "month            0\n",
       "calls           40\n",
       "messages       497\n",
       "mb_used         11\n",
       "minutes         40\n",
       "age              0\n",
       "churn_date    3027\n",
       "city             0\n",
       "first_name       0\n",
       "last_name        0\n",
       "reg_date         0\n",
       "tariff           0\n",
       "dtype: int64"
      ]
     },
     "execution_count": 67,
     "metadata": {},
     "output_type": "execute_result"
    }
   ],
   "source": [
    "user_behavior.isna().sum()"
   ]
  },
  {
   "cell_type": "markdown",
   "metadata": {
    "deletable": false,
    "editable": false
   },
   "source": [
    "Заполним образовавшиеся пропуски в данных:"
   ]
  },
  {
   "cell_type": "code",
   "execution_count": 68,
   "metadata": {
    "deletable": false
   },
   "outputs": [],
   "source": [
    "user_behavior['calls'] = user_behavior['calls'].fillna(0)\n",
    "user_behavior['minutes'] = user_behavior['minutes'].fillna(0)\n",
    "user_behavior['messages'] = user_behavior['messages'].fillna(0)\n",
    "user_behavior['mb_used'] = user_behavior['mb_used'].fillna(0)"
   ]
  },
  {
   "cell_type": "markdown",
   "metadata": {
    "deletable": false,
    "editable": false
   },
   "source": [
    "Присоединяем информацию о тарифах"
   ]
  },
  {
   "cell_type": "code",
   "execution_count": 69,
   "metadata": {
    "deletable": false
   },
   "outputs": [],
   "source": [
    "# переименование столбца tariff_name на более простое tariff\n",
    "\n",
    "tariffs = tariffs.rename(\n",
    "    columns={\n",
    "        'tariff_name': 'tariff'\n",
    "    }\n",
    ")"
   ]
  },
  {
   "cell_type": "code",
   "execution_count": 70,
   "metadata": {
    "deletable": false
   },
   "outputs": [],
   "source": [
    "user_behavior = user_behavior.merge(tariffs, on='tariff')"
   ]
  },
  {
   "cell_type": "markdown",
   "metadata": {
    "deletable": false,
    "editable": false
   },
   "source": [
    "Считаем количество минут разговора, сообщений и мегабайт, превышающих включенные в тариф\n"
   ]
  },
  {
   "cell_type": "code",
   "execution_count": 71,
   "metadata": {
    "deletable": false
   },
   "outputs": [],
   "source": [
    "user_behavior['paid_minutes'] = user_behavior['minutes'] - user_behavior['minutes_included']\n",
    "user_behavior['paid_messages'] = user_behavior['messages'] - user_behavior['messages_included']\n",
    "user_behavior['paid_mb'] = user_behavior['mb_used'] - user_behavior['mb_per_month_included']\n",
    "\n",
    "for col in ['paid_messages', 'paid_minutes', 'paid_mb']:\n",
    "    user_behavior.loc[user_behavior[col] < 0, col] = 0"
   ]
  },
  {
   "cell_type": "markdown",
   "metadata": {
    "deletable": false,
    "editable": false
   },
   "source": [
    "Переводим превышающие тариф мегабайты в гигабайты и сохраняем в столбец `paid_gb`"
   ]
  },
  {
   "cell_type": "code",
   "execution_count": 72,
   "metadata": {
    "deletable": false
   },
   "outputs": [],
   "source": [
    "user_behavior['paid_gb'] = np.ceil(user_behavior['paid_mb'] / 1024).astype(int)"
   ]
  },
  {
   "cell_type": "markdown",
   "metadata": {
    "deletable": false,
    "editable": false
   },
   "source": [
    "Считаем выручку за минуты разговора, сообщения и интернет"
   ]
  },
  {
   "cell_type": "code",
   "execution_count": 73,
   "metadata": {
    "deletable": false
   },
   "outputs": [],
   "source": [
    "user_behavior['cost_minutes'] = user_behavior['paid_minutes'] * user_behavior['rub_per_minute']\n",
    "user_behavior['cost_messages'] = user_behavior['paid_messages'] * user_behavior['rub_per_message']\n",
    "user_behavior['cost_gb'] = user_behavior['paid_gb'] * user_behavior['rub_per_gb']"
   ]
  },
  {
   "cell_type": "markdown",
   "metadata": {
    "deletable": false,
    "editable": false
   },
   "source": [
    "Считаем помесячную выручку с каждого пользователя, она будет храниться в столбец `total_cost`"
   ]
  },
  {
   "cell_type": "code",
   "execution_count": 74,
   "metadata": {
    "deletable": false
   },
   "outputs": [],
   "source": [
    "user_behavior['total_cost'] = \\\n",
    "      user_behavior['rub_monthly_fee']\\\n",
    "    + user_behavior['cost_minutes']\\\n",
    "    + user_behavior['cost_messages']\\\n",
    "    + user_behavior['cost_gb']"
   ]
  },
  {
   "cell_type": "markdown",
   "metadata": {
    "deletable": false,
    "editable": false
   },
   "source": [
    "Датафрейм `stats_df` для каждой пары \"месяц-тариф\" будет хранить основные характеристики"
   ]
  },
  {
   "cell_type": "code",
   "execution_count": 75,
   "metadata": {
    "deletable": false
   },
   "outputs": [
    {
     "data": {
      "text/html": [
       "<div>\n",
       "<style scoped>\n",
       "    .dataframe tbody tr th:only-of-type {\n",
       "        vertical-align: middle;\n",
       "    }\n",
       "\n",
       "    .dataframe tbody tr th {\n",
       "        vertical-align: top;\n",
       "    }\n",
       "\n",
       "    .dataframe thead th {\n",
       "        text-align: right;\n",
       "    }\n",
       "</style>\n",
       "<table border=\"1\" class=\"dataframe\">\n",
       "  <thead>\n",
       "    <tr style=\"text-align: right;\">\n",
       "      <th></th>\n",
       "      <th>month</th>\n",
       "      <th>tariff</th>\n",
       "      <th>calls_mean</th>\n",
       "      <th>sessions_mean</th>\n",
       "      <th>messages_mean</th>\n",
       "      <th>minutes_mean</th>\n",
       "      <th>calls_std</th>\n",
       "      <th>sessions_std</th>\n",
       "      <th>messages_std</th>\n",
       "      <th>minutes_std</th>\n",
       "      <th>calls_median</th>\n",
       "      <th>sessions_median</th>\n",
       "      <th>messages_median</th>\n",
       "      <th>minutes_median</th>\n",
       "    </tr>\n",
       "  </thead>\n",
       "  <tbody>\n",
       "    <tr>\n",
       "      <th>0</th>\n",
       "      <td>1</td>\n",
       "      <td>smart</td>\n",
       "      <td>27.68</td>\n",
       "      <td>8513.72</td>\n",
       "      <td>18.24</td>\n",
       "      <td>203.85</td>\n",
       "      <td>20.81</td>\n",
       "      <td>6444.68</td>\n",
       "      <td>16.20</td>\n",
       "      <td>154.23</td>\n",
       "      <td>20.5</td>\n",
       "      <td>7096.18</td>\n",
       "      <td>15.0</td>\n",
       "      <td>162.5</td>\n",
       "    </tr>\n",
       "    <tr>\n",
       "      <th>1</th>\n",
       "      <td>1</td>\n",
       "      <td>ultra</td>\n",
       "      <td>59.44</td>\n",
       "      <td>13140.68</td>\n",
       "      <td>33.78</td>\n",
       "      <td>428.11</td>\n",
       "      <td>41.64</td>\n",
       "      <td>6865.35</td>\n",
       "      <td>30.67</td>\n",
       "      <td>269.76</td>\n",
       "      <td>51.0</td>\n",
       "      <td>14791.37</td>\n",
       "      <td>32.0</td>\n",
       "      <td>382.0</td>\n",
       "    </tr>\n",
       "    <tr>\n",
       "      <th>2</th>\n",
       "      <td>2</td>\n",
       "      <td>smart</td>\n",
       "      <td>40.19</td>\n",
       "      <td>11597.05</td>\n",
       "      <td>24.09</td>\n",
       "      <td>298.69</td>\n",
       "      <td>25.39</td>\n",
       "      <td>6247.35</td>\n",
       "      <td>21.75</td>\n",
       "      <td>190.82</td>\n",
       "      <td>38.5</td>\n",
       "      <td>12553.71</td>\n",
       "      <td>20.0</td>\n",
       "      <td>258.0</td>\n",
       "    </tr>\n",
       "    <tr>\n",
       "      <th>3</th>\n",
       "      <td>2</td>\n",
       "      <td>ultra</td>\n",
       "      <td>41.54</td>\n",
       "      <td>11775.94</td>\n",
       "      <td>21.96</td>\n",
       "      <td>297.12</td>\n",
       "      <td>40.97</td>\n",
       "      <td>10644.64</td>\n",
       "      <td>26.77</td>\n",
       "      <td>296.51</td>\n",
       "      <td>25.0</td>\n",
       "      <td>7327.12</td>\n",
       "      <td>5.5</td>\n",
       "      <td>168.0</td>\n",
       "    </tr>\n",
       "    <tr>\n",
       "      <th>4</th>\n",
       "      <td>3</td>\n",
       "      <td>smart</td>\n",
       "      <td>54.32</td>\n",
       "      <td>15104.16</td>\n",
       "      <td>31.86</td>\n",
       "      <td>390.05</td>\n",
       "      <td>25.54</td>\n",
       "      <td>5828.24</td>\n",
       "      <td>26.80</td>\n",
       "      <td>191.89</td>\n",
       "      <td>59.0</td>\n",
       "      <td>15670.25</td>\n",
       "      <td>23.0</td>\n",
       "      <td>409.0</td>\n",
       "    </tr>\n",
       "    <tr>\n",
       "      <th>5</th>\n",
       "      <td>3</td>\n",
       "      <td>ultra</td>\n",
       "      <td>67.68</td>\n",
       "      <td>17535.55</td>\n",
       "      <td>32.30</td>\n",
       "      <td>489.65</td>\n",
       "      <td>44.84</td>\n",
       "      <td>10951.79</td>\n",
       "      <td>41.62</td>\n",
       "      <td>333.74</td>\n",
       "      <td>57.0</td>\n",
       "      <td>17495.18</td>\n",
       "      <td>20.0</td>\n",
       "      <td>403.0</td>\n",
       "    </tr>\n",
       "    <tr>\n",
       "      <th>6</th>\n",
       "      <td>4</td>\n",
       "      <td>smart</td>\n",
       "      <td>51.31</td>\n",
       "      <td>13462.18</td>\n",
       "      <td>30.74</td>\n",
       "      <td>367.13</td>\n",
       "      <td>25.70</td>\n",
       "      <td>5698.25</td>\n",
       "      <td>24.54</td>\n",
       "      <td>186.49</td>\n",
       "      <td>52.0</td>\n",
       "      <td>14087.65</td>\n",
       "      <td>28.0</td>\n",
       "      <td>368.5</td>\n",
       "    </tr>\n",
       "    <tr>\n",
       "      <th>7</th>\n",
       "      <td>4</td>\n",
       "      <td>ultra</td>\n",
       "      <td>64.09</td>\n",
       "      <td>16828.13</td>\n",
       "      <td>31.56</td>\n",
       "      <td>458.02</td>\n",
       "      <td>36.27</td>\n",
       "      <td>9718.65</td>\n",
       "      <td>37.51</td>\n",
       "      <td>267.68</td>\n",
       "      <td>61.0</td>\n",
       "      <td>16645.78</td>\n",
       "      <td>17.0</td>\n",
       "      <td>453.0</td>\n",
       "    </tr>\n",
       "    <tr>\n",
       "      <th>8</th>\n",
       "      <td>5</td>\n",
       "      <td>smart</td>\n",
       "      <td>55.24</td>\n",
       "      <td>15805.18</td>\n",
       "      <td>33.77</td>\n",
       "      <td>387.36</td>\n",
       "      <td>25.38</td>\n",
       "      <td>5978.23</td>\n",
       "      <td>27.04</td>\n",
       "      <td>186.60</td>\n",
       "      <td>59.0</td>\n",
       "      <td>16323.94</td>\n",
       "      <td>30.0</td>\n",
       "      <td>433.0</td>\n",
       "    </tr>\n",
       "    <tr>\n",
       "      <th>9</th>\n",
       "      <td>5</td>\n",
       "      <td>ultra</td>\n",
       "      <td>72.51</td>\n",
       "      <td>19363.15</td>\n",
       "      <td>37.85</td>\n",
       "      <td>510.33</td>\n",
       "      <td>41.08</td>\n",
       "      <td>10046.11</td>\n",
       "      <td>40.31</td>\n",
       "      <td>289.60</td>\n",
       "      <td>75.0</td>\n",
       "      <td>18696.43</td>\n",
       "      <td>25.0</td>\n",
       "      <td>519.0</td>\n",
       "    </tr>\n",
       "  </tbody>\n",
       "</table>\n",
       "</div>"
      ],
      "text/plain": [
       "   month tariff  calls_mean  sessions_mean  messages_mean  minutes_mean  \\\n",
       "0      1  smart       27.68        8513.72          18.24        203.85   \n",
       "1      1  ultra       59.44       13140.68          33.78        428.11   \n",
       "2      2  smart       40.19       11597.05          24.09        298.69   \n",
       "3      2  ultra       41.54       11775.94          21.96        297.12   \n",
       "4      3  smart       54.32       15104.16          31.86        390.05   \n",
       "5      3  ultra       67.68       17535.55          32.30        489.65   \n",
       "6      4  smart       51.31       13462.18          30.74        367.13   \n",
       "7      4  ultra       64.09       16828.13          31.56        458.02   \n",
       "8      5  smart       55.24       15805.18          33.77        387.36   \n",
       "9      5  ultra       72.51       19363.15          37.85        510.33   \n",
       "\n",
       "   calls_std  sessions_std  messages_std  minutes_std  calls_median  \\\n",
       "0      20.81       6444.68         16.20       154.23          20.5   \n",
       "1      41.64       6865.35         30.67       269.76          51.0   \n",
       "2      25.39       6247.35         21.75       190.82          38.5   \n",
       "3      40.97      10644.64         26.77       296.51          25.0   \n",
       "4      25.54       5828.24         26.80       191.89          59.0   \n",
       "5      44.84      10951.79         41.62       333.74          57.0   \n",
       "6      25.70       5698.25         24.54       186.49          52.0   \n",
       "7      36.27       9718.65         37.51       267.68          61.0   \n",
       "8      25.38       5978.23         27.04       186.60          59.0   \n",
       "9      41.08      10046.11         40.31       289.60          75.0   \n",
       "\n",
       "   sessions_median  messages_median  minutes_median  \n",
       "0          7096.18             15.0           162.5  \n",
       "1         14791.37             32.0           382.0  \n",
       "2         12553.71             20.0           258.0  \n",
       "3          7327.12              5.5           168.0  \n",
       "4         15670.25             23.0           409.0  \n",
       "5         17495.18             20.0           403.0  \n",
       "6         14087.65             28.0           368.5  \n",
       "7         16645.78             17.0           453.0  \n",
       "8         16323.94             30.0           433.0  \n",
       "9         18696.43             25.0           519.0  "
      ]
     },
     "execution_count": 75,
     "metadata": {},
     "output_type": "execute_result"
    }
   ],
   "source": [
    "# сохранение статистических метрик для каждой пары месяц-тариф\n",
    "# в одной таблице stats_df (среднее значение, стандартное отклонение, медиана)\n",
    "\n",
    "stats_df = user_behavior.pivot_table(\n",
    "            index=['month', 'tariff'],\\\n",
    "            values=['calls', 'minutes', 'messages', 'mb_used'],\\\n",
    "            aggfunc=['mean', 'std', 'median']\\\n",
    ").round(2).reset_index()\n",
    "\n",
    "stats_df.columns=['month', 'tariff', 'calls_mean', 'sessions_mean', 'messages_mean', 'minutes_mean',\n",
    "                                     'calls_std',  'sessions_std', 'messages_std', 'minutes_std', \n",
    "                                     'calls_median', 'sessions_median', 'messages_median',  'minutes_median']\n",
    "\n",
    "stats_df.head(10)"
   ]
  },
  {
   "cell_type": "markdown",
   "metadata": {
    "deletable": false,
    "editable": false
   },
   "source": [
    "Распределение среднего количества звонков по видам тарифов и месяцам"
   ]
  },
  {
   "cell_type": "code",
   "execution_count": 76,
   "metadata": {
    "deletable": false
   },
   "outputs": [
    {
     "data": {
      "image/png": "[encoded data removed]",
      "text/plain": [
       "<Figure size 432x288 with 1 Axes>"
      ]
     },
     "metadata": {
      "needs_background": "light"
     },
     "output_type": "display_data"
    }
   ],
   "source": [
    "ax = sns.barplot(x='month',\n",
    "            y='calls_mean',\n",
    "            hue=\"tariff\",\n",
    "            data=stats_df,\n",
    "            palette=['lightblue', 'blue'])\n",
    "\n",
    "ax.set_title('Распределение количества звонков по видам тарифов и месяцам')\n",
    "ax.set(xlabel='Номер месяца', ylabel='Среднее количество звонков');"
   ]
  },
  {
   "cell_type": "code",
   "execution_count": 77,
   "metadata": {
    "deletable": false
   },
   "outputs": [
    {
     "data": {
      "image/png": "[encoded data removed]",
      "text/plain": [
       "<Figure size 432x288 with 1 Axes>"
      ]
     },
     "metadata": {
      "needs_background": "light"
     },
     "output_type": "display_data"
    }
   ],
   "source": [
    "user_behavior.groupby('tariff')['calls'].plot(kind='hist', bins=35, alpha=0.5)\n",
    "plt.legend(['Smart', 'Ultra'])\n",
    "plt.xlabel('Количество звонков')\n",
    "plt.ylabel('Количество клиентов')\n",
    "plt.show()"
   ]
  },
  {
   "cell_type": "markdown",
   "metadata": {
    "deletable": false,
    "editable": false
   },
   "source": [
    "Распределение средней продолжительности звонков по видам тарифов и месяцам"
   ]
  },
  {
   "cell_type": "code",
   "execution_count": 78,
   "metadata": {
    "deletable": false
   },
   "outputs": [
    {
     "data": {
      "image/png": "[encoded data removed]",
      "text/plain": [
       "<Figure size 432x288 with 1 Axes>"
      ]
     },
     "metadata": {
      "needs_background": "light"
     },
     "output_type": "display_data"
    }
   ],
   "source": [
    "ax = sns.barplot(x='month',\n",
    "            y='minutes_mean',\n",
    "            hue=\"tariff\",\n",
    "            data=stats_df,\n",
    "            palette=['lightblue', 'blue'])\n",
    "\n",
    "ax.set_title('Распределение продолжительности звонков по видам тарифов и месяцам')\n",
    "ax.set(xlabel='Номер месяца', ylabel='Средняя продолжительность звонков');"
   ]
  },
  {
   "cell_type": "code",
   "execution_count": 79,
   "metadata": {
    "deletable": false
   },
   "outputs": [
    {
     "data": {
      "image/png": "[encoded data removed]",
      "text/plain": [
       "<Figure size 432x288 with 1 Axes>"
      ]
     },
     "metadata": {
      "needs_background": "light"
     },
     "output_type": "display_data"
    }
   ],
   "source": [
    "user_behavior[user_behavior['tariff'] =='smart']['minutes'].hist(bins=35, alpha=0.5, color='green')\n",
    "user_behavior[user_behavior['tariff'] =='ultra']['minutes'].hist(bins=35, alpha=0.5, color='blue');"
   ]
  },
  {
   "cell_type": "markdown",
   "metadata": {
    "deletable": false,
    "editable": false
   },
   "source": [
    "Средняя длительность разговоров у абонентов тарифа Ultra больше, чем у абонентов тарифа Smart. В течение года пользователи обоих тарифов увеличивают среднюю продолжительность своих разговоров. Рост средней длительности разговоров у абонентов тарифа Smart равномерный в течение года. Пользователи тарифа Ultra не проявляют подобной линейной стабильности. Стоит отметить, что феврале у абонентов обоих тарифных планов наблюдались самые низкие показатели."
   ]
  },
  {
   "cell_type": "markdown",
   "metadata": {
    "deletable": false,
    "editable": false
   },
   "source": [
    "Распределение среднего количества сообщений по видам тарифов и месяцам"
   ]
  },
  {
   "cell_type": "code",
   "execution_count": 80,
   "metadata": {
    "deletable": false
   },
   "outputs": [
    {
     "data": {
      "image/png": "[encoded data removed]",
      "text/plain": [
       "<Figure size 432x288 with 1 Axes>"
      ]
     },
     "metadata": {
      "needs_background": "light"
     },
     "output_type": "display_data"
    }
   ],
   "source": [
    "ax = sns.barplot(x='month',\n",
    "            y='messages_mean',\n",
    "            hue=\"tariff\",\n",
    "            data=stats_df,\n",
    "            palette=['lightblue', 'blue']\n",
    ")\n",
    "\n",
    "ax.set_title('Распределение количества сообщений по видам тарифов и месяцам')\n",
    "ax.set(xlabel='Номер месяца', ylabel='Среднее количество звонков');"
   ]
  },
  {
   "cell_type": "code",
   "execution_count": 81,
   "metadata": {
    "deletable": false
   },
   "outputs": [
    {
     "data": {
      "image/png": "[encoded data removed]",
      "text/plain": [
       "<Figure size 432x288 with 1 Axes>"
      ]
     },
     "metadata": {
      "needs_background": "light"
     },
     "output_type": "display_data"
    }
   ],
   "source": [
    "user_behavior[user_behavior['tariff'] =='smart']['messages'].hist(bins=35, alpha=0.5, color='green')\n",
    "user_behavior[user_behavior['tariff'] =='ultra']['messages'].hist(bins=35, alpha=0.5, color='blue');"
   ]
  },
  {
   "cell_type": "markdown",
   "metadata": {
    "deletable": false,
    "editable": false
   },
   "source": [
    "В среднем количество сообщений пользователи тарифа Ultra отправляют больше - почти на 20 сообщений больше, чем пользователи тарифа Smart. Количество сообщений в течение года на обоих тарифак растет. Динамика по отправке сообщений схожа с тенденциями по длительности разговоров: в феврале отмечено наименьшее количество сообщений за год и пользователи тарифа Ultra также проявляют нелинейную полодительную динамику."
   ]
  },
  {
   "cell_type": "code",
   "execution_count": 82,
   "metadata": {
    "deletable": false
   },
   "outputs": [
    {
     "data": {
      "image/png": "[encoded data removed]",
      "text/plain": [
       "<Figure size 432x288 with 1 Axes>"
      ]
     },
     "metadata": {
      "needs_background": "light"
     },
     "output_type": "display_data"
    }
   ],
   "source": [
    "ax = sns.barplot(x='month',\n",
    "            y='sessions_mean',\n",
    "            hue=\"tariff\",\n",
    "            data=stats_df,\n",
    "            palette=['lightblue', 'blue']\n",
    ")\n",
    "\n",
    "ax.set_title('Распределение количества потраченного трафика (Мб) по видам тарифов и месяцам')\n",
    "ax.set(xlabel='Номер месяца', ylabel='Среднее количество мегабайт');"
   ]
  },
  {
   "cell_type": "markdown",
   "metadata": {
    "deletable": false,
    "editable": false
   },
   "source": [
    "Сравнение потраченных мегабайт среди пользователей тарифов Smart и Ultra"
   ]
  },
  {
   "cell_type": "code",
   "execution_count": 83,
   "metadata": {
    "deletable": false
   },
   "outputs": [
    {
     "data": {
      "image/png": "[encoded data removed]",
      "text/plain": [
       "<Figure size 432x288 with 1 Axes>"
      ]
     },
     "metadata": {
      "needs_background": "light"
     },
     "output_type": "display_data"
    }
   ],
   "source": [
    "user_behavior[user_behavior['tariff'] =='smart']['mb_used'].hist(bins=35, alpha=0.5, color='green')\n",
    "user_behavior[user_behavior['tariff'] =='ultra']['mb_used'].hist(bins=35, alpha=0.5, color='blue');"
   ]
  },
  {
   "cell_type": "markdown",
   "metadata": {
    "deletable": false,
    "editable": false
   },
   "source": [
    "Меньше всего пользователи использовали интернет в январе, феврале и апреле. Чаще всего абоненты тарифа Smart тратят 15-17 Гб, а абоненты тарифного плана Ultra - 19-21 ГБ."
   ]
  },
  {
   "cell_type": "markdown",
   "metadata": {
    "deletable": false,
    "editable": false
   },
   "source": [
    "### Проверка гипотез"
   ]
  },
  {
   "cell_type": "markdown",
   "metadata": {
    "deletable": false,
    "editable": false,
    "tags": [
     "start_task"
    ]
   },
   "source": [
    "**Задание 28.** Проверка гипотезы: средняя выручка пользователей тарифов «Ультра» и «Смарт» различаются;\n",
    "\n",
    "```\n",
    "H_0: Выручка (total_cost) пользователей \"Ультра\" = выручка (total_cost) пользователей \"Смарт\"`\n",
    "H_a: Выручка (total_cost) пользователей \"Ультра\" ≠ выручка (total_cost) пользователей \"Смарт\"`\n",
    "alpha = 0.05\n",
    "```"
   ]
  },
  {
   "cell_type": "code",
   "execution_count": null,
   "metadata": {
    "deletable": false
   },
   "outputs": [],
   "source": []
  },
  {
   "cell_type": "code",
   "execution_count": 85,
   "metadata": {
    "deletable": false
   },
   "outputs": [
    {
     "name": "stdout",
     "output_type": "stream",
     "text": [
      "4.2606313931076085e-250\n",
      "Отвергаем нулевую гипотезу\n"
     ]
    }
   ],
   "source": [
    "# results = вызов метода для проверки гипотезы\n",
    "results = st.ttest_ind((user_behavior[user_behavior['tariff'] =='smart']['total_cost']),(user_behavior[user_behavior['tariff'] =='ultra']['total_cost']),equal_var=False)\n",
    "# alpha = задайте значение уровня значимости\n",
    "alpha=0.05\n",
    "\n",
    "# вывод значения p-value на экран \n",
    "print(results.pvalue)\n",
    "\n",
    "# условный оператор с выводом строки с ответом\n",
    "\n",
    "if results.pvalue < alpha:\n",
    "    print(\"Отвергаем нулевую гипотезу\")\n",
    "else:\n",
    "    print(\"Не получилось отвергнуть нулевую гипотезу\") "
   ]
  },
  {
   "cell_type": "markdown",
   "metadata": {
    "deletable": false,
    "editable": false,
    "tags": [
     "start_task"
    ]
   },
   "source": [
    "**Задание 29.** Проверка гипотезы: пользователи из Москвы приносят больше выручки, чем пользователи из других городов;\n",
    "\n",
    "```\n",
    "H_0: Выручка (total_cost) пользователей из Москвы = выручка (total_cost) пользователей не из Москвы`\n",
    "H_1: Выручка (total_cost) пользователей из Москвы ≠ выручка (total_cost) пользователей не из Москвы`\n",
    "alpha = 0.05\n",
    "```"
   ]
  },
  {
   "cell_type": "code",
   "execution_count": 87,
   "metadata": {
    "deletable": false
   },
   "outputs": [
    {
     "name": "stdout",
     "output_type": "stream",
     "text": [
      "0.5257376663729298\n",
      "Не получилось отвергнуть нулевую гипотезу\n"
     ]
    }
   ],
   "source": [
    "# results = вызов метода для проверки гипотезы\n",
    "total_cost_moscow = user_behavior[user_behavior['city'] =='Москва']['total_cost']\n",
    "total_cost_nmoscow = user_behavior[user_behavior['city'] !='Москва']['total_cost']\n",
    "\n",
    "alpha=0.05\n",
    "\n",
    "results = st.ttest_ind(total_cost_moscow,total_cost_nmoscow, equal_var=False)\n",
    "\n",
    "# вывод значения p-value на экран \n",
    "\n",
    "\n",
    "print(results.pvalue)\n",
    "\n",
    "# условный оператор с выводом строки с ответом\n",
    "if results.pvalue < alpha:\n",
    "    print(\"Отвергаем нулевую гипотезу\")\n",
    "else:\n",
    "    print(\"Не получилось отвергнуть нулевую гипотезу\") "
   ]
  },
  {
   "cell_type": "markdown",
   "metadata": {},
   "source": [
    "# Вывод:"
   ]
  },
  {
   "cell_type": "markdown",
   "metadata": {},
   "source": [
    "На основании проверенных гипотез можно сделать следующие выводы: \n",
    "- средняя выручка пользователей тарифов «Ультра» и «Смарт» различается;\n",
    "- пользователи из Москвы не приносят больше выручки, чем пользователи из других городов."
   ]
  }
 ],
 "metadata": {
  "ExecuteTimeLog": [
   {
    "duration": 50,
    "start_time": "2022-08-08T15:02:06.777Z"
   },
   {
    "duration": 6,
    "start_time": "2022-08-08T15:02:12.518Z"
   },
   {
    "duration": 394,
    "start_time": "2022-08-08T15:02:15.072Z"
   },
   {
    "duration": 570,
    "start_time": "2022-08-08T15:02:17.480Z"
   },
   {
    "duration": 15,
    "start_time": "2022-08-08T15:02:18.981Z"
   },
   {
    "duration": 36,
    "start_time": "2022-08-08T15:02:42.074Z"
   },
   {
    "duration": 564,
    "start_time": "2022-08-08T15:03:36.992Z"
   },
   {
    "duration": 808,
    "start_time": "2022-08-08T15:06:22.271Z"
   },
   {
    "duration": 10,
    "start_time": "2022-08-08T15:06:54.268Z"
   },
   {
    "duration": 19,
    "start_time": "2022-08-08T15:07:09.103Z"
   },
   {
    "duration": 140,
    "start_time": "2022-08-08T15:08:46.430Z"
   },
   {
    "duration": 390,
    "start_time": "2022-08-08T15:11:30.061Z"
   },
   {
    "duration": 160,
    "start_time": "2022-08-08T15:11:30.452Z"
   },
   {
    "duration": 14,
    "start_time": "2022-08-08T15:11:30.613Z"
   },
   {
    "duration": 33,
    "start_time": "2022-08-08T15:11:30.630Z"
   },
   {
    "duration": 428,
    "start_time": "2022-08-08T15:11:30.665Z"
   },
   {
    "duration": 120,
    "start_time": "2022-08-08T15:11:31.095Z"
   },
   {
    "duration": 9,
    "start_time": "2022-08-08T15:11:31.217Z"
   },
   {
    "duration": 28,
    "start_time": "2022-08-08T15:11:31.227Z"
   },
   {
    "duration": 158,
    "start_time": "2022-08-08T15:11:31.258Z"
   },
   {
    "duration": 2,
    "start_time": "2022-08-08T15:11:31.418Z"
   },
   {
    "duration": 13,
    "start_time": "2022-08-08T15:11:31.422Z"
   },
   {
    "duration": 13,
    "start_time": "2022-08-08T15:11:31.437Z"
   },
   {
    "duration": 25,
    "start_time": "2022-08-08T15:11:31.452Z"
   },
   {
    "duration": 7,
    "start_time": "2022-08-08T15:11:31.478Z"
   },
   {
    "duration": 6,
    "start_time": "2022-08-08T15:11:31.486Z"
   },
   {
    "duration": 11,
    "start_time": "2022-08-08T15:11:31.493Z"
   },
   {
    "duration": 7,
    "start_time": "2022-08-08T15:11:31.506Z"
   },
   {
    "duration": 6,
    "start_time": "2022-08-08T15:11:31.514Z"
   },
   {
    "duration": 7,
    "start_time": "2022-08-08T15:11:31.521Z"
   },
   {
    "duration": 82,
    "start_time": "2022-08-08T15:11:31.530Z"
   },
   {
    "duration": 0,
    "start_time": "2022-08-08T15:11:31.614Z"
   },
   {
    "duration": 0,
    "start_time": "2022-08-08T15:11:31.615Z"
   },
   {
    "duration": 0,
    "start_time": "2022-08-08T15:11:31.616Z"
   },
   {
    "duration": 0,
    "start_time": "2022-08-08T15:11:31.617Z"
   },
   {
    "duration": 0,
    "start_time": "2022-08-08T15:11:31.618Z"
   },
   {
    "duration": 0,
    "start_time": "2022-08-08T15:11:31.619Z"
   },
   {
    "duration": 0,
    "start_time": "2022-08-08T15:11:31.620Z"
   },
   {
    "duration": 0,
    "start_time": "2022-08-08T15:11:31.620Z"
   },
   {
    "duration": 0,
    "start_time": "2022-08-08T15:11:31.621Z"
   },
   {
    "duration": 0,
    "start_time": "2022-08-08T15:11:31.622Z"
   },
   {
    "duration": 0,
    "start_time": "2022-08-08T15:11:31.623Z"
   },
   {
    "duration": 0,
    "start_time": "2022-08-08T15:11:31.624Z"
   },
   {
    "duration": 0,
    "start_time": "2022-08-08T15:11:31.625Z"
   },
   {
    "duration": 0,
    "start_time": "2022-08-08T15:11:31.626Z"
   },
   {
    "duration": 0,
    "start_time": "2022-08-08T15:11:31.627Z"
   },
   {
    "duration": 0,
    "start_time": "2022-08-08T15:11:31.628Z"
   },
   {
    "duration": 0,
    "start_time": "2022-08-08T15:11:31.629Z"
   },
   {
    "duration": 0,
    "start_time": "2022-08-08T15:11:31.630Z"
   },
   {
    "duration": 0,
    "start_time": "2022-08-08T15:11:31.631Z"
   },
   {
    "duration": 0,
    "start_time": "2022-08-08T15:11:31.655Z"
   },
   {
    "duration": 0,
    "start_time": "2022-08-08T15:11:31.657Z"
   },
   {
    "duration": 161,
    "start_time": "2022-08-08T15:12:29.379Z"
   },
   {
    "duration": 9,
    "start_time": "2022-08-08T15:12:59.111Z"
   },
   {
    "duration": 17,
    "start_time": "2022-08-08T15:13:30.233Z"
   },
   {
    "duration": 10,
    "start_time": "2022-08-08T15:14:11.795Z"
   },
   {
    "duration": 60,
    "start_time": "2022-08-08T15:14:21.950Z"
   },
   {
    "duration": 8,
    "start_time": "2022-08-08T15:17:54.175Z"
   },
   {
    "duration": 393,
    "start_time": "2022-08-08T15:18:00.286Z"
   },
   {
    "duration": 177,
    "start_time": "2022-08-08T15:18:00.681Z"
   },
   {
    "duration": 17,
    "start_time": "2022-08-08T15:18:00.861Z"
   },
   {
    "duration": 29,
    "start_time": "2022-08-08T15:18:00.880Z"
   },
   {
    "duration": 389,
    "start_time": "2022-08-08T15:18:00.911Z"
   },
   {
    "duration": 127,
    "start_time": "2022-08-08T15:18:01.302Z"
   },
   {
    "duration": 9,
    "start_time": "2022-08-08T15:18:01.431Z"
   },
   {
    "duration": 45,
    "start_time": "2022-08-08T15:18:01.441Z"
   },
   {
    "duration": 153,
    "start_time": "2022-08-08T15:18:01.487Z"
   },
   {
    "duration": 94,
    "start_time": "2022-08-08T15:18:01.643Z"
   },
   {
    "duration": 7,
    "start_time": "2022-08-08T15:18:01.739Z"
   },
   {
    "duration": 57,
    "start_time": "2022-08-08T15:18:01.747Z"
   },
   {
    "duration": 33,
    "start_time": "2022-08-08T15:18:01.806Z"
   },
   {
    "duration": 74,
    "start_time": "2022-08-08T15:18:01.840Z"
   },
   {
    "duration": 0,
    "start_time": "2022-08-08T15:18:01.916Z"
   },
   {
    "duration": 0,
    "start_time": "2022-08-08T15:18:01.917Z"
   },
   {
    "duration": 0,
    "start_time": "2022-08-08T15:18:01.919Z"
   },
   {
    "duration": 0,
    "start_time": "2022-08-08T15:18:01.920Z"
   },
   {
    "duration": 0,
    "start_time": "2022-08-08T15:18:01.921Z"
   },
   {
    "duration": 0,
    "start_time": "2022-08-08T15:18:01.922Z"
   },
   {
    "duration": 0,
    "start_time": "2022-08-08T15:18:01.923Z"
   },
   {
    "duration": 0,
    "start_time": "2022-08-08T15:18:01.924Z"
   },
   {
    "duration": 0,
    "start_time": "2022-08-08T15:18:01.925Z"
   },
   {
    "duration": 0,
    "start_time": "2022-08-08T15:18:01.926Z"
   },
   {
    "duration": 0,
    "start_time": "2022-08-08T15:18:01.927Z"
   },
   {
    "duration": 0,
    "start_time": "2022-08-08T15:18:01.928Z"
   },
   {
    "duration": 0,
    "start_time": "2022-08-08T15:18:01.929Z"
   },
   {
    "duration": 0,
    "start_time": "2022-08-08T15:18:01.929Z"
   },
   {
    "duration": 0,
    "start_time": "2022-08-08T15:18:01.930Z"
   },
   {
    "duration": 0,
    "start_time": "2022-08-08T15:18:01.931Z"
   },
   {
    "duration": 0,
    "start_time": "2022-08-08T15:18:01.932Z"
   },
   {
    "duration": 0,
    "start_time": "2022-08-08T15:18:01.957Z"
   },
   {
    "duration": 0,
    "start_time": "2022-08-08T15:18:01.958Z"
   },
   {
    "duration": 0,
    "start_time": "2022-08-08T15:18:01.959Z"
   },
   {
    "duration": 0,
    "start_time": "2022-08-08T15:18:01.960Z"
   },
   {
    "duration": 0,
    "start_time": "2022-08-08T15:18:01.961Z"
   },
   {
    "duration": 0,
    "start_time": "2022-08-08T15:18:01.963Z"
   },
   {
    "duration": 0,
    "start_time": "2022-08-08T15:18:01.964Z"
   },
   {
    "duration": 1,
    "start_time": "2022-08-08T15:18:01.964Z"
   },
   {
    "duration": 0,
    "start_time": "2022-08-08T15:18:01.966Z"
   },
   {
    "duration": 0,
    "start_time": "2022-08-08T15:18:01.967Z"
   },
   {
    "duration": 0,
    "start_time": "2022-08-08T15:18:01.968Z"
   },
   {
    "duration": 0,
    "start_time": "2022-08-08T15:18:01.969Z"
   },
   {
    "duration": 0,
    "start_time": "2022-08-08T15:18:01.970Z"
   },
   {
    "duration": 0,
    "start_time": "2022-08-08T15:18:01.971Z"
   },
   {
    "duration": 0,
    "start_time": "2022-08-08T15:18:01.973Z"
   },
   {
    "duration": 7,
    "start_time": "2022-08-08T15:18:13.342Z"
   },
   {
    "duration": 6,
    "start_time": "2022-08-08T15:18:21.541Z"
   },
   {
    "duration": 12,
    "start_time": "2022-08-08T15:18:47.510Z"
   },
   {
    "duration": 390,
    "start_time": "2022-08-08T15:21:27.572Z"
   },
   {
    "duration": 164,
    "start_time": "2022-08-08T15:21:27.964Z"
   },
   {
    "duration": 15,
    "start_time": "2022-08-08T15:21:28.130Z"
   },
   {
    "duration": 37,
    "start_time": "2022-08-08T15:21:28.147Z"
   },
   {
    "duration": 393,
    "start_time": "2022-08-08T15:21:28.185Z"
   },
   {
    "duration": 118,
    "start_time": "2022-08-08T15:21:28.580Z"
   },
   {
    "duration": 8,
    "start_time": "2022-08-08T15:21:28.700Z"
   },
   {
    "duration": 23,
    "start_time": "2022-08-08T15:21:28.709Z"
   },
   {
    "duration": 150,
    "start_time": "2022-08-08T15:21:28.734Z"
   },
   {
    "duration": 88,
    "start_time": "2022-08-08T15:21:28.888Z"
   },
   {
    "duration": 9,
    "start_time": "2022-08-08T15:21:28.978Z"
   },
   {
    "duration": 28,
    "start_time": "2022-08-08T15:21:28.989Z"
   },
   {
    "duration": 27,
    "start_time": "2022-08-08T15:21:29.019Z"
   },
   {
    "duration": 7,
    "start_time": "2022-08-08T15:21:29.047Z"
   },
   {
    "duration": 27,
    "start_time": "2022-08-08T15:21:29.056Z"
   },
   {
    "duration": 6,
    "start_time": "2022-08-08T15:21:29.084Z"
   },
   {
    "duration": 5,
    "start_time": "2022-08-08T15:21:29.091Z"
   },
   {
    "duration": 4,
    "start_time": "2022-08-08T15:21:29.098Z"
   },
   {
    "duration": 5,
    "start_time": "2022-08-08T15:21:29.104Z"
   },
   {
    "duration": 7,
    "start_time": "2022-08-08T15:21:29.110Z"
   },
   {
    "duration": 5,
    "start_time": "2022-08-08T15:21:29.118Z"
   },
   {
    "duration": 4,
    "start_time": "2022-08-08T15:21:29.124Z"
   },
   {
    "duration": 5,
    "start_time": "2022-08-08T15:21:29.129Z"
   },
   {
    "duration": 6,
    "start_time": "2022-08-08T15:21:29.135Z"
   },
   {
    "duration": 2,
    "start_time": "2022-08-08T15:21:29.154Z"
   },
   {
    "duration": 77,
    "start_time": "2022-08-08T15:21:29.158Z"
   },
   {
    "duration": 0,
    "start_time": "2022-08-08T15:21:29.238Z"
   },
   {
    "duration": 0,
    "start_time": "2022-08-08T15:21:29.238Z"
   },
   {
    "duration": 0,
    "start_time": "2022-08-08T15:21:29.240Z"
   },
   {
    "duration": 0,
    "start_time": "2022-08-08T15:21:29.241Z"
   },
   {
    "duration": 0,
    "start_time": "2022-08-08T15:21:29.241Z"
   },
   {
    "duration": 0,
    "start_time": "2022-08-08T15:21:29.242Z"
   },
   {
    "duration": 0,
    "start_time": "2022-08-08T15:21:29.243Z"
   },
   {
    "duration": 0,
    "start_time": "2022-08-08T15:21:29.244Z"
   },
   {
    "duration": 0,
    "start_time": "2022-08-08T15:21:29.245Z"
   },
   {
    "duration": 0,
    "start_time": "2022-08-08T15:21:29.255Z"
   },
   {
    "duration": 0,
    "start_time": "2022-08-08T15:21:29.256Z"
   },
   {
    "duration": 0,
    "start_time": "2022-08-08T15:21:29.257Z"
   },
   {
    "duration": 0,
    "start_time": "2022-08-08T15:21:29.258Z"
   },
   {
    "duration": 0,
    "start_time": "2022-08-08T15:21:29.259Z"
   },
   {
    "duration": 0,
    "start_time": "2022-08-08T15:21:29.260Z"
   },
   {
    "duration": 0,
    "start_time": "2022-08-08T15:21:29.261Z"
   },
   {
    "duration": 0,
    "start_time": "2022-08-08T15:21:29.261Z"
   },
   {
    "duration": 0,
    "start_time": "2022-08-08T15:21:29.263Z"
   },
   {
    "duration": 0,
    "start_time": "2022-08-08T15:21:29.264Z"
   },
   {
    "duration": 0,
    "start_time": "2022-08-08T15:21:29.265Z"
   },
   {
    "duration": 0,
    "start_time": "2022-08-08T15:21:29.266Z"
   },
   {
    "duration": 36,
    "start_time": "2022-08-08T15:23:11.104Z"
   },
   {
    "duration": 13,
    "start_time": "2022-08-08T15:23:40.799Z"
   },
   {
    "duration": 10,
    "start_time": "2022-08-08T15:24:19.486Z"
   },
   {
    "duration": 10,
    "start_time": "2022-08-08T15:24:58.046Z"
   },
   {
    "duration": 412,
    "start_time": "2022-08-08T17:50:56.483Z"
   },
   {
    "duration": 485,
    "start_time": "2022-08-08T17:50:56.897Z"
   },
   {
    "duration": 18,
    "start_time": "2022-08-08T17:50:57.384Z"
   },
   {
    "duration": 45,
    "start_time": "2022-08-08T17:50:57.405Z"
   },
   {
    "duration": 639,
    "start_time": "2022-08-08T17:50:57.452Z"
   },
   {
    "duration": 701,
    "start_time": "2022-08-08T17:50:58.093Z"
   },
   {
    "duration": 13,
    "start_time": "2022-08-08T17:50:58.796Z"
   },
   {
    "duration": 22,
    "start_time": "2022-08-08T17:50:58.811Z"
   },
   {
    "duration": 131,
    "start_time": "2022-08-08T17:50:58.835Z"
   },
   {
    "duration": 142,
    "start_time": "2022-08-08T17:50:58.969Z"
   },
   {
    "duration": 7,
    "start_time": "2022-08-08T17:50:59.113Z"
   },
   {
    "duration": 18,
    "start_time": "2022-08-08T17:50:59.122Z"
   },
   {
    "duration": 52,
    "start_time": "2022-08-08T17:50:59.142Z"
   },
   {
    "duration": 9,
    "start_time": "2022-08-08T17:50:59.196Z"
   },
   {
    "duration": 12,
    "start_time": "2022-08-08T17:50:59.206Z"
   },
   {
    "duration": 64,
    "start_time": "2022-08-08T17:50:59.219Z"
   },
   {
    "duration": 9,
    "start_time": "2022-08-08T17:50:59.284Z"
   },
   {
    "duration": 14,
    "start_time": "2022-08-08T17:50:59.294Z"
   },
   {
    "duration": 3,
    "start_time": "2022-08-08T17:50:59.309Z"
   },
   {
    "duration": 4,
    "start_time": "2022-08-08T17:50:59.314Z"
   },
   {
    "duration": 4,
    "start_time": "2022-08-08T17:50:59.320Z"
   },
   {
    "duration": 5,
    "start_time": "2022-08-08T17:50:59.326Z"
   },
   {
    "duration": 4,
    "start_time": "2022-08-08T17:50:59.334Z"
   },
   {
    "duration": 4,
    "start_time": "2022-08-08T17:50:59.340Z"
   },
   {
    "duration": 4,
    "start_time": "2022-08-08T17:50:59.346Z"
   },
   {
    "duration": 3,
    "start_time": "2022-08-08T17:50:59.352Z"
   },
   {
    "duration": 4,
    "start_time": "2022-08-08T17:50:59.357Z"
   },
   {
    "duration": 3,
    "start_time": "2022-08-08T17:50:59.364Z"
   },
   {
    "duration": 6,
    "start_time": "2022-08-08T17:50:59.369Z"
   },
   {
    "duration": 78,
    "start_time": "2022-08-08T17:50:59.377Z"
   },
   {
    "duration": 0,
    "start_time": "2022-08-08T17:50:59.457Z"
   },
   {
    "duration": 0,
    "start_time": "2022-08-08T17:50:59.458Z"
   },
   {
    "duration": 0,
    "start_time": "2022-08-08T17:50:59.460Z"
   },
   {
    "duration": 0,
    "start_time": "2022-08-08T17:50:59.461Z"
   },
   {
    "duration": 0,
    "start_time": "2022-08-08T17:50:59.462Z"
   },
   {
    "duration": 0,
    "start_time": "2022-08-08T17:50:59.464Z"
   },
   {
    "duration": 0,
    "start_time": "2022-08-08T17:50:59.465Z"
   },
   {
    "duration": 0,
    "start_time": "2022-08-08T17:50:59.466Z"
   },
   {
    "duration": 0,
    "start_time": "2022-08-08T17:50:59.468Z"
   },
   {
    "duration": 0,
    "start_time": "2022-08-08T17:50:59.469Z"
   },
   {
    "duration": 0,
    "start_time": "2022-08-08T17:50:59.470Z"
   },
   {
    "duration": 0,
    "start_time": "2022-08-08T17:50:59.472Z"
   },
   {
    "duration": 0,
    "start_time": "2022-08-08T17:50:59.473Z"
   },
   {
    "duration": 0,
    "start_time": "2022-08-08T17:50:59.474Z"
   },
   {
    "duration": 0,
    "start_time": "2022-08-08T17:50:59.475Z"
   },
   {
    "duration": 0,
    "start_time": "2022-08-08T17:50:59.476Z"
   },
   {
    "duration": 0,
    "start_time": "2022-08-08T17:50:59.478Z"
   },
   {
    "duration": 0,
    "start_time": "2022-08-08T17:50:59.479Z"
   },
   {
    "duration": 0,
    "start_time": "2022-08-08T17:50:59.480Z"
   },
   {
    "duration": 0,
    "start_time": "2022-08-08T17:50:59.482Z"
   },
   {
    "duration": 66,
    "start_time": "2022-08-08T18:10:18.721Z"
   },
   {
    "duration": 10,
    "start_time": "2022-08-08T18:27:01.818Z"
   },
   {
    "duration": 10,
    "start_time": "2022-08-08T18:31:49.878Z"
   },
   {
    "duration": 397,
    "start_time": "2022-08-08T18:33:23.085Z"
   },
   {
    "duration": 153,
    "start_time": "2022-08-08T18:33:23.484Z"
   },
   {
    "duration": 38,
    "start_time": "2022-08-08T18:33:23.639Z"
   },
   {
    "duration": 35,
    "start_time": "2022-08-08T18:33:23.679Z"
   },
   {
    "duration": 402,
    "start_time": "2022-08-08T18:33:23.716Z"
   },
   {
    "duration": 126,
    "start_time": "2022-08-08T18:33:24.120Z"
   },
   {
    "duration": 10,
    "start_time": "2022-08-08T18:33:24.248Z"
   },
   {
    "duration": 21,
    "start_time": "2022-08-08T18:33:24.260Z"
   },
   {
    "duration": 155,
    "start_time": "2022-08-08T18:33:24.283Z"
   },
   {
    "duration": 90,
    "start_time": "2022-08-08T18:33:24.440Z"
   },
   {
    "duration": 7,
    "start_time": "2022-08-08T18:33:24.531Z"
   },
   {
    "duration": 35,
    "start_time": "2022-08-08T18:33:24.539Z"
   },
   {
    "duration": 24,
    "start_time": "2022-08-08T18:33:24.576Z"
   },
   {
    "duration": 9,
    "start_time": "2022-08-08T18:33:24.601Z"
   },
   {
    "duration": 21,
    "start_time": "2022-08-08T18:33:24.612Z"
   },
   {
    "duration": 31,
    "start_time": "2022-08-08T18:33:24.634Z"
   },
   {
    "duration": 11,
    "start_time": "2022-08-08T18:33:24.667Z"
   },
   {
    "duration": 26,
    "start_time": "2022-08-08T18:33:24.680Z"
   },
   {
    "duration": 68,
    "start_time": "2022-08-08T18:33:24.707Z"
   },
   {
    "duration": 9,
    "start_time": "2022-08-08T18:33:24.777Z"
   },
   {
    "duration": 5,
    "start_time": "2022-08-08T18:33:24.787Z"
   },
   {
    "duration": 12,
    "start_time": "2022-08-08T18:33:24.794Z"
   },
   {
    "duration": 15,
    "start_time": "2022-08-08T18:33:24.807Z"
   },
   {
    "duration": 13,
    "start_time": "2022-08-08T18:33:24.824Z"
   },
   {
    "duration": 7,
    "start_time": "2022-08-08T18:33:24.838Z"
   },
   {
    "duration": 11,
    "start_time": "2022-08-08T18:33:24.846Z"
   },
   {
    "duration": 13,
    "start_time": "2022-08-08T18:33:24.859Z"
   },
   {
    "duration": 11,
    "start_time": "2022-08-08T18:33:24.876Z"
   },
   {
    "duration": 14,
    "start_time": "2022-08-08T18:33:24.889Z"
   },
   {
    "duration": 69,
    "start_time": "2022-08-08T18:33:24.905Z"
   },
   {
    "duration": 0,
    "start_time": "2022-08-08T18:33:24.977Z"
   },
   {
    "duration": 0,
    "start_time": "2022-08-08T18:33:24.980Z"
   },
   {
    "duration": 0,
    "start_time": "2022-08-08T18:33:24.981Z"
   },
   {
    "duration": 0,
    "start_time": "2022-08-08T18:33:24.982Z"
   },
   {
    "duration": 0,
    "start_time": "2022-08-08T18:33:24.983Z"
   },
   {
    "duration": 0,
    "start_time": "2022-08-08T18:33:24.984Z"
   },
   {
    "duration": 0,
    "start_time": "2022-08-08T18:33:24.985Z"
   },
   {
    "duration": 0,
    "start_time": "2022-08-08T18:33:24.987Z"
   },
   {
    "duration": 0,
    "start_time": "2022-08-08T18:33:24.988Z"
   },
   {
    "duration": 0,
    "start_time": "2022-08-08T18:33:24.989Z"
   },
   {
    "duration": 0,
    "start_time": "2022-08-08T18:33:24.989Z"
   },
   {
    "duration": 0,
    "start_time": "2022-08-08T18:33:24.990Z"
   },
   {
    "duration": 0,
    "start_time": "2022-08-08T18:33:24.992Z"
   },
   {
    "duration": 0,
    "start_time": "2022-08-08T18:33:24.993Z"
   },
   {
    "duration": 0,
    "start_time": "2022-08-08T18:33:24.994Z"
   },
   {
    "duration": 0,
    "start_time": "2022-08-08T18:33:24.995Z"
   },
   {
    "duration": 0,
    "start_time": "2022-08-08T18:33:24.996Z"
   },
   {
    "duration": 0,
    "start_time": "2022-08-08T18:33:24.997Z"
   },
   {
    "duration": 0,
    "start_time": "2022-08-08T18:33:24.998Z"
   },
   {
    "duration": 0,
    "start_time": "2022-08-08T18:33:24.999Z"
   },
   {
    "duration": 16,
    "start_time": "2022-08-08T18:40:07.381Z"
   },
   {
    "duration": 12,
    "start_time": "2022-08-08T18:40:40.370Z"
   },
   {
    "duration": 14,
    "start_time": "2022-08-08T18:40:52.893Z"
   },
   {
    "duration": 21,
    "start_time": "2022-08-08T18:48:26.232Z"
   },
   {
    "duration": 25,
    "start_time": "2022-08-08T18:48:40.730Z"
   },
   {
    "duration": 26,
    "start_time": "2022-08-08T18:48:54.956Z"
   },
   {
    "duration": 26,
    "start_time": "2022-08-08T18:49:36.351Z"
   },
   {
    "duration": 19,
    "start_time": "2022-08-08T18:50:49.616Z"
   },
   {
    "duration": 23,
    "start_time": "2022-08-08T18:51:47.662Z"
   },
   {
    "duration": 13,
    "start_time": "2022-08-08T18:59:29.271Z"
   },
   {
    "duration": 10,
    "start_time": "2022-08-08T19:00:00.563Z"
   },
   {
    "duration": 29,
    "start_time": "2022-08-08T19:00:13.703Z"
   },
   {
    "duration": 25,
    "start_time": "2022-08-08T19:01:03.048Z"
   },
   {
    "duration": 353,
    "start_time": "2022-08-08T19:02:19.894Z"
   },
   {
    "duration": 142,
    "start_time": "2022-08-08T19:02:20.249Z"
   },
   {
    "duration": 13,
    "start_time": "2022-08-08T19:02:20.393Z"
   },
   {
    "duration": 24,
    "start_time": "2022-08-08T19:02:20.408Z"
   },
   {
    "duration": 360,
    "start_time": "2022-08-08T19:02:20.433Z"
   },
   {
    "duration": 128,
    "start_time": "2022-08-08T19:02:20.795Z"
   },
   {
    "duration": 9,
    "start_time": "2022-08-08T19:02:20.925Z"
   },
   {
    "duration": 30,
    "start_time": "2022-08-08T19:02:20.936Z"
   },
   {
    "duration": 154,
    "start_time": "2022-08-08T19:02:20.968Z"
   },
   {
    "duration": 89,
    "start_time": "2022-08-08T19:02:21.124Z"
   },
   {
    "duration": 8,
    "start_time": "2022-08-08T19:02:21.214Z"
   },
   {
    "duration": 18,
    "start_time": "2022-08-08T19:02:21.224Z"
   },
   {
    "duration": 14,
    "start_time": "2022-08-08T19:02:21.243Z"
   },
   {
    "duration": 10,
    "start_time": "2022-08-08T19:02:21.259Z"
   },
   {
    "duration": 12,
    "start_time": "2022-08-08T19:02:21.271Z"
   },
   {
    "duration": 37,
    "start_time": "2022-08-08T19:02:21.285Z"
   },
   {
    "duration": 10,
    "start_time": "2022-08-08T19:02:21.324Z"
   },
   {
    "duration": 14,
    "start_time": "2022-08-08T19:02:21.335Z"
   },
   {
    "duration": 70,
    "start_time": "2022-08-08T19:02:21.351Z"
   },
   {
    "duration": 8,
    "start_time": "2022-08-08T19:02:21.423Z"
   },
   {
    "duration": 24,
    "start_time": "2022-08-08T19:02:21.432Z"
   },
   {
    "duration": 28,
    "start_time": "2022-08-08T19:02:21.458Z"
   },
   {
    "duration": 17,
    "start_time": "2022-08-08T19:02:21.488Z"
   },
   {
    "duration": 21,
    "start_time": "2022-08-08T19:02:21.506Z"
   },
   {
    "duration": 46,
    "start_time": "2022-08-08T19:02:21.528Z"
   },
   {
    "duration": 2,
    "start_time": "2022-08-08T19:02:21.575Z"
   },
   {
    "duration": 8,
    "start_time": "2022-08-08T19:02:21.579Z"
   },
   {
    "duration": 23,
    "start_time": "2022-08-08T19:02:21.590Z"
   },
   {
    "duration": 15,
    "start_time": "2022-08-08T19:02:21.615Z"
   },
   {
    "duration": 6,
    "start_time": "2022-08-08T19:02:21.631Z"
   },
   {
    "duration": 12,
    "start_time": "2022-08-08T19:02:21.638Z"
   },
   {
    "duration": 6,
    "start_time": "2022-08-08T19:02:21.651Z"
   },
   {
    "duration": 12,
    "start_time": "2022-08-08T19:02:21.658Z"
   },
   {
    "duration": 69,
    "start_time": "2022-08-08T19:02:21.671Z"
   },
   {
    "duration": 0,
    "start_time": "2022-08-08T19:02:21.741Z"
   },
   {
    "duration": 0,
    "start_time": "2022-08-08T19:02:21.742Z"
   },
   {
    "duration": 0,
    "start_time": "2022-08-08T19:02:21.743Z"
   },
   {
    "duration": 0,
    "start_time": "2022-08-08T19:02:21.744Z"
   },
   {
    "duration": 0,
    "start_time": "2022-08-08T19:02:21.745Z"
   },
   {
    "duration": 0,
    "start_time": "2022-08-08T19:02:21.746Z"
   },
   {
    "duration": 0,
    "start_time": "2022-08-08T19:02:21.747Z"
   },
   {
    "duration": 0,
    "start_time": "2022-08-08T19:02:21.748Z"
   },
   {
    "duration": 0,
    "start_time": "2022-08-08T19:02:21.755Z"
   },
   {
    "duration": 0,
    "start_time": "2022-08-08T19:02:21.756Z"
   },
   {
    "duration": 0,
    "start_time": "2022-08-08T19:02:21.757Z"
   },
   {
    "duration": 0,
    "start_time": "2022-08-08T19:02:21.758Z"
   },
   {
    "duration": 0,
    "start_time": "2022-08-08T19:02:21.759Z"
   },
   {
    "duration": 0,
    "start_time": "2022-08-08T19:02:21.760Z"
   },
   {
    "duration": 0,
    "start_time": "2022-08-08T19:02:21.761Z"
   },
   {
    "duration": 0,
    "start_time": "2022-08-08T19:02:21.762Z"
   },
   {
    "duration": 0,
    "start_time": "2022-08-08T19:02:21.762Z"
   },
   {
    "duration": 0,
    "start_time": "2022-08-08T19:02:21.763Z"
   },
   {
    "duration": 0,
    "start_time": "2022-08-08T19:02:21.764Z"
   },
   {
    "duration": 0,
    "start_time": "2022-08-08T19:02:21.765Z"
   },
   {
    "duration": 27,
    "start_time": "2022-08-08T19:10:04.710Z"
   },
   {
    "duration": 7,
    "start_time": "2022-08-08T19:12:28.188Z"
   },
   {
    "duration": 27,
    "start_time": "2022-08-08T19:12:30.365Z"
   },
   {
    "duration": 7,
    "start_time": "2022-08-08T19:12:31.464Z"
   },
   {
    "duration": 9,
    "start_time": "2022-08-08T19:14:57.378Z"
   },
   {
    "duration": 15,
    "start_time": "2022-08-08T19:15:00.388Z"
   },
   {
    "duration": 8,
    "start_time": "2022-08-08T19:15:01.360Z"
   },
   {
    "duration": 17,
    "start_time": "2022-08-08T19:17:34.457Z"
   },
   {
    "duration": 9,
    "start_time": "2022-08-08T19:17:34.933Z"
   },
   {
    "duration": 4,
    "start_time": "2022-08-08T19:18:37.227Z"
   },
   {
    "duration": 31,
    "start_time": "2022-08-08T19:18:39.009Z"
   },
   {
    "duration": 7,
    "start_time": "2022-08-08T19:19:23.813Z"
   },
   {
    "duration": 5,
    "start_time": "2022-08-08T19:19:32.041Z"
   },
   {
    "duration": 3,
    "start_time": "2022-08-08T19:19:55.103Z"
   },
   {
    "duration": 7,
    "start_time": "2022-08-08T19:19:56.002Z"
   },
   {
    "duration": 9,
    "start_time": "2022-08-08T19:21:18.122Z"
   },
   {
    "duration": 4,
    "start_time": "2022-08-08T19:21:56.192Z"
   },
   {
    "duration": 5,
    "start_time": "2022-08-08T19:22:15.575Z"
   },
   {
    "duration": 4,
    "start_time": "2022-08-08T19:22:18.459Z"
   },
   {
    "duration": 44,
    "start_time": "2022-08-08T19:22:32.368Z"
   },
   {
    "duration": 712,
    "start_time": "2022-08-08T19:24:15.566Z"
   },
   {
    "duration": 216,
    "start_time": "2022-08-08T19:25:19.444Z"
   },
   {
    "duration": 277,
    "start_time": "2022-08-08T19:26:15.331Z"
   },
   {
    "duration": 250,
    "start_time": "2022-08-08T19:26:16.376Z"
   },
   {
    "duration": 227,
    "start_time": "2022-08-08T19:27:39.709Z"
   },
   {
    "duration": 174,
    "start_time": "2022-08-08T19:27:40.764Z"
   },
   {
    "duration": 270,
    "start_time": "2022-08-08T19:28:38.633Z"
   },
   {
    "duration": 186,
    "start_time": "2022-08-08T19:28:53.514Z"
   },
   {
    "duration": 22,
    "start_time": "2022-08-08T19:33:00.313Z"
   },
   {
    "duration": 4,
    "start_time": "2022-08-08T19:43:53.841Z"
   },
   {
    "duration": 36,
    "start_time": "2022-08-08T19:46:30.011Z"
   },
   {
    "duration": 3,
    "start_time": "2022-08-08T19:46:34.171Z"
   },
   {
    "duration": 13,
    "start_time": "2022-08-08T19:46:37.854Z"
   },
   {
    "duration": 3,
    "start_time": "2022-08-08T19:47:23.540Z"
   },
   {
    "duration": 11,
    "start_time": "2022-08-08T19:47:24.653Z"
   },
   {
    "duration": 12,
    "start_time": "2022-08-08T19:49:29.383Z"
   },
   {
    "duration": 385,
    "start_time": "2022-08-08T19:50:10.754Z"
   },
   {
    "duration": 142,
    "start_time": "2022-08-08T19:50:11.141Z"
   },
   {
    "duration": 15,
    "start_time": "2022-08-08T19:50:11.285Z"
   },
   {
    "duration": 31,
    "start_time": "2022-08-08T19:50:11.302Z"
   },
   {
    "duration": 349,
    "start_time": "2022-08-08T19:50:11.336Z"
   },
   {
    "duration": 115,
    "start_time": "2022-08-08T19:50:11.687Z"
   },
   {
    "duration": 9,
    "start_time": "2022-08-08T19:50:11.803Z"
   },
   {
    "duration": 22,
    "start_time": "2022-08-08T19:50:11.814Z"
   },
   {
    "duration": 146,
    "start_time": "2022-08-08T19:50:11.838Z"
   },
   {
    "duration": 91,
    "start_time": "2022-08-08T19:50:11.985Z"
   },
   {
    "duration": 8,
    "start_time": "2022-08-08T19:50:12.077Z"
   },
   {
    "duration": 34,
    "start_time": "2022-08-08T19:50:12.086Z"
   },
   {
    "duration": 23,
    "start_time": "2022-08-08T19:50:12.121Z"
   },
   {
    "duration": 10,
    "start_time": "2022-08-08T19:50:12.146Z"
   },
   {
    "duration": 17,
    "start_time": "2022-08-08T19:50:12.158Z"
   },
   {
    "duration": 52,
    "start_time": "2022-08-08T19:50:12.176Z"
   },
   {
    "duration": 9,
    "start_time": "2022-08-08T19:50:12.230Z"
   },
   {
    "duration": 25,
    "start_time": "2022-08-08T19:50:12.241Z"
   },
   {
    "duration": 76,
    "start_time": "2022-08-08T19:50:12.268Z"
   },
   {
    "duration": 8,
    "start_time": "2022-08-08T19:50:12.346Z"
   },
   {
    "duration": 26,
    "start_time": "2022-08-08T19:50:12.355Z"
   },
   {
    "duration": 26,
    "start_time": "2022-08-08T19:50:12.383Z"
   },
   {
    "duration": 19,
    "start_time": "2022-08-08T19:50:12.410Z"
   },
   {
    "duration": 33,
    "start_time": "2022-08-08T19:50:12.430Z"
   },
   {
    "duration": 28,
    "start_time": "2022-08-08T19:50:12.465Z"
   },
   {
    "duration": 2,
    "start_time": "2022-08-08T19:50:12.494Z"
   },
   {
    "duration": 44,
    "start_time": "2022-08-08T19:50:12.497Z"
   },
   {
    "duration": 7,
    "start_time": "2022-08-08T19:50:12.543Z"
   },
   {
    "duration": 26,
    "start_time": "2022-08-08T19:50:12.554Z"
   },
   {
    "duration": 11,
    "start_time": "2022-08-08T19:50:12.581Z"
   },
   {
    "duration": 32,
    "start_time": "2022-08-08T19:50:12.593Z"
   },
   {
    "duration": 8,
    "start_time": "2022-08-08T19:50:12.627Z"
   },
   {
    "duration": 5,
    "start_time": "2022-08-08T19:50:12.637Z"
   },
   {
    "duration": 34,
    "start_time": "2022-08-08T19:50:12.643Z"
   },
   {
    "duration": 6,
    "start_time": "2022-08-08T19:50:12.679Z"
   },
   {
    "duration": 6,
    "start_time": "2022-08-08T19:50:12.687Z"
   },
   {
    "duration": 5,
    "start_time": "2022-08-08T19:50:12.695Z"
   },
   {
    "duration": 10,
    "start_time": "2022-08-08T19:50:12.701Z"
   },
   {
    "duration": 9,
    "start_time": "2022-08-08T19:50:12.712Z"
   },
   {
    "duration": 4,
    "start_time": "2022-08-08T19:50:12.722Z"
   },
   {
    "duration": 7,
    "start_time": "2022-08-08T19:50:12.729Z"
   },
   {
    "duration": 5,
    "start_time": "2022-08-08T19:50:12.755Z"
   },
   {
    "duration": 49,
    "start_time": "2022-08-08T19:50:12.761Z"
   },
   {
    "duration": 757,
    "start_time": "2022-08-08T19:50:12.812Z"
   },
   {
    "duration": 224,
    "start_time": "2022-08-08T19:50:13.571Z"
   },
   {
    "duration": 294,
    "start_time": "2022-08-08T19:50:13.797Z"
   },
   {
    "duration": 269,
    "start_time": "2022-08-08T19:50:14.093Z"
   },
   {
    "duration": 229,
    "start_time": "2022-08-08T19:50:14.363Z"
   },
   {
    "duration": 187,
    "start_time": "2022-08-08T19:50:14.594Z"
   },
   {
    "duration": 295,
    "start_time": "2022-08-08T19:50:14.782Z"
   },
   {
    "duration": 211,
    "start_time": "2022-08-08T19:50:15.079Z"
   },
   {
    "duration": 22,
    "start_time": "2022-08-08T19:50:15.291Z"
   },
   {
    "duration": 5,
    "start_time": "2022-08-08T19:50:15.314Z"
   },
   {
    "duration": 100,
    "start_time": "2022-08-08T19:50:15.321Z"
   },
   {
    "duration": 0,
    "start_time": "2022-08-08T19:50:15.422Z"
   },
   {
    "duration": 3,
    "start_time": "2022-08-08T19:51:22.038Z"
   },
   {
    "duration": 2,
    "start_time": "2022-08-08T19:51:23.011Z"
   },
   {
    "duration": 10,
    "start_time": "2022-08-08T19:51:23.897Z"
   },
   {
    "duration": 9,
    "start_time": "2022-08-08T19:52:01.929Z"
   },
   {
    "duration": 2,
    "start_time": "2022-08-08T19:53:58.812Z"
   },
   {
    "duration": 9,
    "start_time": "2022-08-08T19:53:59.587Z"
   },
   {
    "duration": 8,
    "start_time": "2022-08-08T19:54:37.026Z"
   },
   {
    "duration": 7,
    "start_time": "2022-08-08T20:14:06.411Z"
   },
   {
    "duration": 22,
    "start_time": "2022-08-08T20:15:55.702Z"
   },
   {
    "duration": 2,
    "start_time": "2022-08-08T20:18:18.685Z"
   },
   {
    "duration": 7,
    "start_time": "2022-08-08T20:18:53.252Z"
   },
   {
    "duration": 44,
    "start_time": "2022-08-19T23:06:38.493Z"
   },
   {
    "duration": 409,
    "start_time": "2022-08-19T23:06:47.055Z"
   },
   {
    "duration": 233,
    "start_time": "2022-08-19T23:06:47.465Z"
   },
   {
    "duration": 15,
    "start_time": "2022-08-19T23:06:47.699Z"
   },
   {
    "duration": 51,
    "start_time": "2022-08-19T23:06:47.715Z"
   },
   {
    "duration": 368,
    "start_time": "2022-08-19T23:06:47.767Z"
   },
   {
    "duration": 299,
    "start_time": "2022-08-19T23:06:48.137Z"
   },
   {
    "duration": 10,
    "start_time": "2022-08-19T23:06:48.438Z"
   },
   {
    "duration": 31,
    "start_time": "2022-08-19T23:06:48.449Z"
   },
   {
    "duration": 138,
    "start_time": "2022-08-19T23:06:48.481Z"
   },
   {
    "duration": 641,
    "start_time": "2022-08-19T23:06:48.622Z"
   },
   {
    "duration": 8,
    "start_time": "2022-08-19T23:06:49.264Z"
   },
   {
    "duration": 26,
    "start_time": "2022-08-19T23:06:49.274Z"
   },
   {
    "duration": 58,
    "start_time": "2022-08-19T23:06:49.301Z"
   },
   {
    "duration": 8,
    "start_time": "2022-08-19T23:06:49.361Z"
   },
   {
    "duration": 21,
    "start_time": "2022-08-19T23:06:49.370Z"
   },
   {
    "duration": 65,
    "start_time": "2022-08-19T23:06:49.392Z"
   },
   {
    "duration": 11,
    "start_time": "2022-08-19T23:06:49.458Z"
   },
   {
    "duration": 12,
    "start_time": "2022-08-19T23:06:49.471Z"
   },
   {
    "duration": 73,
    "start_time": "2022-08-19T23:06:49.484Z"
   },
   {
    "duration": 8,
    "start_time": "2022-08-19T23:06:49.559Z"
   },
   {
    "duration": 23,
    "start_time": "2022-08-19T23:06:49.569Z"
   },
   {
    "duration": 25,
    "start_time": "2022-08-19T23:06:49.594Z"
   },
   {
    "duration": 18,
    "start_time": "2022-08-19T23:06:49.621Z"
   },
   {
    "duration": 21,
    "start_time": "2022-08-19T23:06:49.641Z"
   },
   {
    "duration": 28,
    "start_time": "2022-08-19T23:06:49.687Z"
   },
   {
    "duration": 2,
    "start_time": "2022-08-19T23:06:49.717Z"
   },
   {
    "duration": 31,
    "start_time": "2022-08-19T23:06:49.721Z"
   },
   {
    "duration": 8,
    "start_time": "2022-08-19T23:06:49.755Z"
   },
   {
    "duration": 33,
    "start_time": "2022-08-19T23:06:49.764Z"
   },
   {
    "duration": 7,
    "start_time": "2022-08-19T23:06:49.798Z"
   },
   {
    "duration": 23,
    "start_time": "2022-08-19T23:06:49.807Z"
   },
   {
    "duration": 9,
    "start_time": "2022-08-19T23:06:49.831Z"
   },
   {
    "duration": 8,
    "start_time": "2022-08-19T23:06:49.841Z"
   },
   {
    "duration": 50,
    "start_time": "2022-08-19T23:06:49.851Z"
   },
   {
    "duration": 7,
    "start_time": "2022-08-19T23:06:49.903Z"
   },
   {
    "duration": 6,
    "start_time": "2022-08-19T23:06:49.911Z"
   },
   {
    "duration": 5,
    "start_time": "2022-08-19T23:06:49.919Z"
   },
   {
    "duration": 9,
    "start_time": "2022-08-19T23:06:49.926Z"
   },
   {
    "duration": 11,
    "start_time": "2022-08-19T23:06:49.937Z"
   },
   {
    "duration": 4,
    "start_time": "2022-08-19T23:06:49.949Z"
   },
   {
    "duration": 8,
    "start_time": "2022-08-19T23:06:49.954Z"
   },
   {
    "duration": 24,
    "start_time": "2022-08-19T23:06:49.963Z"
   },
   {
    "duration": 55,
    "start_time": "2022-08-19T23:06:49.988Z"
   },
   {
    "duration": 759,
    "start_time": "2022-08-19T23:06:50.045Z"
   },
   {
    "duration": 231,
    "start_time": "2022-08-19T23:06:50.806Z"
   },
   {
    "duration": 296,
    "start_time": "2022-08-19T23:06:51.039Z"
   },
   {
    "duration": 271,
    "start_time": "2022-08-19T23:06:51.336Z"
   },
   {
    "duration": 242,
    "start_time": "2022-08-19T23:06:51.609Z"
   },
   {
    "duration": 196,
    "start_time": "2022-08-19T23:06:51.853Z"
   },
   {
    "duration": 280,
    "start_time": "2022-08-19T23:06:52.051Z"
   },
   {
    "duration": 205,
    "start_time": "2022-08-19T23:06:52.332Z"
   },
   {
    "duration": 3,
    "start_time": "2022-08-19T23:06:52.538Z"
   },
   {
    "duration": 6,
    "start_time": "2022-08-19T23:06:52.542Z"
   },
   {
    "duration": 10,
    "start_time": "2022-08-19T23:06:52.550Z"
   },
   {
    "duration": 7,
    "start_time": "2022-08-19T23:06:52.562Z"
   },
   {
    "duration": 20,
    "start_time": "2022-08-19T23:06:52.570Z"
   },
   {
    "duration": 7,
    "start_time": "2022-08-19T23:06:52.591Z"
   }
  ],
  "kernelspec": {
   "display_name": "Python 3",
   "language": "python",
   "name": "python3"
  },
  "language_info": {
   "codemirror_mode": {
    "name": "ipython",
    "version": 3
   },
   "file_extension": ".py",
   "mimetype": "text/x-python",
   "name": "python",
   "nbconvert_exporter": "python",
   "pygments_lexer": "ipython3",
   "version": "3.7.0"
  },
  "toc": {
   "base_numbering": 1,
   "nav_menu": {},
   "number_sections": true,
   "sideBar": true,
   "skip_h1_title": true,
   "title_cell": "Table of Contents",
   "title_sidebar": "Contents",
   "toc_cell": false,
   "toc_position": {},
   "toc_section_display": true,
   "toc_window_display": false
  }
 },
 "nbformat": 4,
 "nbformat_minor": 2
}
